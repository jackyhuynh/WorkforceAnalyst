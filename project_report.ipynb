{
  "nbformat": 4,
  "nbformat_minor": 0,
  "metadata": {
    "colab": {
      "name": "project_report.ipynb",
      "provenance": [],
      "authorship_tag": "ABX9TyOQ9B/yCzMLX5xYpObHmfAS",
      "include_colab_link": true
    },
    "kernelspec": {
      "name": "python3",
      "display_name": "Python 3"
    },
    "language_info": {
      "name": "python"
    }
  },
  "cells": [
    {
      "cell_type": "markdown",
      "metadata": {
        "id": "view-in-github",
        "colab_type": "text"
      },
      "source": [
        "<a href=\"https://colab.research.google.com/github/jackyhuynh/indeed_jobs_analyst_using_python/blob/main/project_report.ipynb\" target=\"_parent\"><img src=\"https://colab.research.google.com/assets/colab-badge.svg\" alt=\"Open In Colab\"/></a>"
      ]
    },
    {
      "cell_type": "markdown",
      "source": [
        "# Project Report: Indeed Job Recomendation System\n",
        "\n"
      ],
      "metadata": {
        "id": "p9T0Xe_DVzWW"
      }
    },
    {
      "cell_type": "markdown",
      "source": [
        "# Model I:\n",
        "## Summary:\n",
        "Basically, POS Tokenization and Keywords Filtering aims to filter keywords in the resume and match them with tokenized job_description (clean up, tidy, token stored in data lake).  \n",
        "The matching result is stored in another data frame for further advising and career recommendations.\n",
        "\n",
        "## Data Tidy:\n",
        "Tidy Data process in the following steps:\n",
        "- Data Description: quick check of data type, statistic, etc.\n",
        "- Check missing values\n",
        "\n",
        "- Evaluate attributes\n",
        "- Remove unwanted attributes\n",
        "- Fix NA attributes\n",
        "- Tidy Data\n",
        "\n",
        "## NLP Processing:\n",
        "After Data Tidy, and Resume Tidy (Transformation), then NLP will be processed in the following steps:\n",
        "\n",
        "Streamlining the Job Descriptions using NLP Techniques:\n",
        "- Step 1: Part of Speech (POS): tagging the resume with keywords list(which filter from candidate resume)\n",
        "- Step 2: Using the found tags as filter to filter out all the unrelated tags: means words without these below tags will be remove \n",
        "```\n",
        "# In this case the list of tags is\n",
        "include_tags = ['VBN', 'VBD', 'JJ', 'JJS', 'JJR', 'CD', 'NN', 'NNS', 'NNP', 'NNPS'] \n",
        "```\n",
        "\n",
        "\n",
        "\n",
        "Tokenizing the Job Descriptions: parsing the text string into different sections\n",
        "\n",
        "\n",
        "Final Processing of the Keywords and the Job Descriptions\n",
        "Steaming the words: The stemming process allows computer programs to identify the words of the same stem despite their different look (e.g. “models”, and “modeling” both have the same stem of “model”)\n",
        "Lowercasing the words\n"
      ],
      "metadata": {
        "id": "2f8RAdvoWvio"
      }
    },
    {
      "cell_type": "code",
      "execution_count": null,
      "metadata": {
        "id": "RviysrGOVO2H"
      },
      "outputs": [],
      "source": [
        ""
      ]
    }
  ]
}