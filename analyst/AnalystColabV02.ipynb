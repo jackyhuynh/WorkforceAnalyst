{
  "nbformat": 4,
  "nbformat_minor": 0,
  "metadata": {
    "colab": {
      "name": "CS 59000-04I-Group 1.ipynb",
      "provenance": [],
      "collapsed_sections": []
    },
    "kernelspec": {
      "name": "python3",
      "display_name": "Python 3"
    },
    "language_info": {
      "name": "python"
    }
  },
  "cells": [
    {
      "cell_type": "markdown",
      "source": [
        "# Summer 2022 CS 59000-04I AI Software Engr & Application DIS\n",
        "Welcome Students from **Group 1**\n",
        "\n",
        "The dataset to be used at the tasks should be mounted from Google Drive for each student.\n",
        "\n",
        "The datasets are provided as a shared Google Drive folder, if you have not received the link, please inform us.\n",
        "\n",
        "The instructions for mount the Google Drive folder at the Google Colab and to access the data is:\n",
        "\n",
        "https://colab.research.google.com/notebooks/io.ipynb\n",
        "\n",
        "---\n",
        "\n",
        "The dataset available are:\n",
        "\n",
        "\n",
        "*   Job postings\n",
        "*   Resumes\n",
        "\n",
        "---\n",
        "\n",
        "If the share \"datasets\" folder is not showing in Google Colab, follow these instructions to add a shortcut to your drive:\n",
        "\n",
        "https://support.google.com/drive/answer/2375057\n",
        "\n",
        "---\n",
        "\n",
        "**For any follow-up questions/queries:**\n",
        "\n",
        "*   Venkata Inukollu <inukollv@pfw.edu>\n",
        "*   Leandro de Almeida <almel01@pfw.edu>\n",
        "\n",
        "---\n",
        "\n",
        "*Disclaimer: The provided datasets are restrict to be used only during the academic tasks*\n",
        "\n"
      ],
      "metadata": {
        "id": "4uBfhbfsM0D_"
      }
    },
    {
      "cell_type": "markdown",
      "source": [
        "## References:\n",
        "- [Pandas Caculate Statistics/ Summary/ Columns](https://pandas.pydata.org/docs/getting_started/intro_tutorials/06_calculate_statistics.html)"
      ],
      "metadata": {
        "id": "qMLc1iuKUpiR"
      }
    },
    {
      "cell_type": "code",
      "source": [
        "from google.colab import drive\n",
        "drive.mount('/content/drive')"
      ],
      "metadata": {
        "id": "c1CMe0Vb5E1c",
        "colab": {
          "base_uri": "https://localhost:8080/"
        },
        "outputId": "7d4ca032-2493-4d3e-e718-d461f1ccbb0c"
      },
      "execution_count": 1,
      "outputs": [
        {
          "output_type": "stream",
          "name": "stdout",
          "text": [
            "Mounted at /content/drive\n"
          ]
        }
      ]
    },
    {
      "cell_type": "markdown",
      "source": [
        "## Material/References:\n",
        "- [Pandas - Filter row and columns](https://python.plainenglish.io/filtering-rows-and-columns-in-pandas-python-techniques-you-must-know-6cdfc32c614c)\n",
        "- [Pandas - Drop multiple columns](https://pythonexamples.org/pandas-dataframe-delete-column/#5)\n",
        "- [Pandas - Check Pandas data type](https://datascientyst.com/check-dtype-column-columns-pandas-dataframe/#:~:text=%20How%20to%20Check%20the%20Dtype%20of%20Column,Check%20if%20column%20is%20numeric%2C%20dateti...%20More%20)\n",
        "- [Data - Columns Views - Original Data](https://www.kaggle.com/datasets/sobhanmoosavi/us-accidents)\n",
        "- [Pandas - Convert value in columns](https://stackoverflow.com/questions/52317459/python-pandas-convert-single-value-in-object-column)\n",
        "- [Time Ranges/ Time Comparision](https://pythonawesome.com/time-ranges-with-python/)\n",
        "- [Remove columns or Rows in Pandas](https://www.bing.com/search?q=remove+column+from+pandas&cvid=0b68a851c23b4a55abbb755ec28ca2f6&aqs=edge..69i57j0l7j69i64.8187j0j1&pglt=931&FORM=ANNTA1&PC=U531)\n",
        "- [Remove rows with certain citeria in Python Pandas](https://stackoverflow.com/questions/42125131/delete-row-based-on-nulls-in-certain-columns-pandas)\n",
        "- [AI BOOKS](http://aima.cs.berkeley.edu/)\n",
        "- https://towardsdatascience.com/gentle-start-to-natural-language-processing-using-python-6e46c07addf3\n",
        "- https://monkeylearn.com/keyword-extraction/\n",
        "- https://www.justintodata.com/use-nlp-in-python-practical-step-by-step-example/\n",
        "- https://mathdatasimplified.com/\n",
        "- https://www.kdnuggets.com/2019/11/content-based-recommender-using-natural-language-processing-nlp.html (7/28/2022)\n"
      ],
      "metadata": {
        "id": "fkBLmYgVouU6"
      }
    },
    {
      "cell_type": "code",
      "execution_count": 2,
      "metadata": {
        "id": "ZQpM5SHNYzFN"
      },
      "outputs": [],
      "source": [
        "# Data Pre-Processing - Job listing Dataset \n",
        "# Import necessary packages\n",
        "import pandas as pd\n",
        "import numpy as np\n",
        "import seaborn as sns\n",
        "import matplotlib.pyplot as plt\n",
        "import sklearn\n",
        "import json\n",
        "import os\n",
        "import gc # For garbage collection when deal with memory\n"
      ]
    },
    {
      "cell_type": "code",
      "source": [
        "from google.colab import drive\n",
        "drive.mount('/content/drive')"
      ],
      "metadata": {
        "colab": {
          "base_uri": "https://localhost:8080/"
        },
        "id": "JmpLWWDtY8LW",
        "outputId": "3905655e-9679-4941-85fa-0e6e4813fbda"
      },
      "execution_count": 3,
      "outputs": [
        {
          "output_type": "stream",
          "name": "stdout",
          "text": [
            "Drive already mounted at /content/drive; to attempt to forcibly remount, call drive.mount(\"/content/drive\", force_remount=True).\n"
          ]
        }
      ]
    },
    {
      "cell_type": "code",
      "source": [
        "os.getcwd()"
      ],
      "metadata": {
        "colab": {
          "base_uri": "https://localhost:8080/",
          "height": 36
        },
        "id": "AUQv45vigQmv",
        "outputId": "c17b6dd0-ddae-4792-fc24-0f48d8766f34"
      },
      "execution_count": 4,
      "outputs": [
        {
          "output_type": "execute_result",
          "data": {
            "text/plain": [
              "'/content'"
            ],
            "application/vnd.google.colaboratory.intrinsic+json": {
              "type": "string"
            }
          },
          "metadata": {},
          "execution_count": 4
        }
      ]
    },
    {
      "cell_type": "markdown",
      "source": [
        ""
      ],
      "metadata": {
        "id": "07SGj4Y3Ndxh"
      }
    },
    {
      "cell_type": "markdown",
      "source": [
        "## Job Data Analyst\n",
        "\n",
        "- Goal: Top 3 Career choices, success factor (example Salaries growth, location, etc as per AI Attributes)"
      ],
      "metadata": {
        "id": "ZnWenXtoa8wf"
      }
    },
    {
      "cell_type": "markdown",
      "source": [
        "### Read Data:"
      ],
      "metadata": {
        "id": "mFGkPvVTbO3J"
      }
    },
    {
      "cell_type": "code",
      "source": [
        "# FileNames is a list with the names of the csv files contained in the 'dataset' path\n",
        "def get_file_names(path):\n",
        "  filenames = []\n",
        "  for file in os.listdir(path):\n",
        "    if file.endswith('.csv'):\n",
        "      filenames.append(file)\n",
        "  return filenames\n",
        "\n",
        "# function that reads the file from the FileNames list and makes it become a dataFrame\n",
        "def GetFile(fnombre, path):\n",
        "  location = path + fnombre\n",
        "  df = pd.read_csv(location)\n",
        "  return df\n",
        "\n",
        "file_path_job = './drive/MyDrive/datasets/jobposting/'\n",
        "# combine all the data frame as one using list complehesion\n",
        "dfjob = pd.concat([GetFile(file, file_path_job) for file in get_file_names(file_path_job)])"
      ],
      "metadata": {
        "id": "hzAVgrdK6Bzr"
      },
      "execution_count": 5,
      "outputs": []
    },
    {
      "cell_type": "code",
      "source": [
        "dfjob.shape"
      ],
      "metadata": {
        "colab": {
          "base_uri": "https://localhost:8080/"
        },
        "id": "r2ByudorDBNN",
        "outputId": "e87c0abb-534e-489a-9f41-1b111b05b266"
      },
      "execution_count": 6,
      "outputs": [
        {
          "output_type": "execute_result",
          "data": {
            "text/plain": [
              "(300000, 22)"
            ]
          },
          "metadata": {},
          "execution_count": 6
        }
      ]
    },
    {
      "cell_type": "markdown",
      "source": [
        "### Attributes Validation:"
      ],
      "metadata": {
        "id": "RQYyn_QEGs0Z"
      }
    },
    {
      "cell_type": "code",
      "source": [
        "dfjob['salary_formatted'].value_counts()"
      ],
      "metadata": {
        "colab": {
          "base_uri": "https://localhost:8080/"
        },
        "id": "h34fF5qQGF8L",
        "outputId": "d1630a42-f8ff-450e-fac0-531b0f6ead7d"
      },
      "execution_count": 7,
      "outputs": [
        {
          "output_type": "execute_result",
          "data": {
            "text/plain": [
              "$15 an hour                 2136\n",
              "From $15 an hour            1441\n",
              "$15 - $20 an hour           1273\n",
              "$17 an hour                 1246\n",
              "$16 an hour                 1188\n",
              "                            ... \n",
              "$64,000 - $80,000 a year       1\n",
              "$15.00 - $17.64 an hour        1\n",
              "$40 - $75 a day                1\n",
              "$3,092 - $3,762 a month        1\n",
              "$32,176 - $47,316 a year       1\n",
              "Name: salary_formatted, Length: 20577, dtype: int64"
            ]
          },
          "metadata": {},
          "execution_count": 7
        }
      ]
    },
    {
      "cell_type": "code",
      "source": [
        "dfjob['region'].value_counts()\n",
        "# Remove because there are all missing value here"
      ],
      "metadata": {
        "colab": {
          "base_uri": "https://localhost:8080/"
        },
        "id": "jp4a2U44ew43",
        "outputId": "661c7610-9e85-4528-ad47-4c2c516793d2"
      },
      "execution_count": 8,
      "outputs": [
        {
          "output_type": "execute_result",
          "data": {
            "text/plain": [
              "EU          3510\n",
              "AS          2761\n",
              "SA          1863\n",
              "AF           900\n",
              "OC           505\n",
              "Americas      54\n",
              "Name: region, dtype: int64"
            ]
          },
          "metadata": {},
          "execution_count": 8
        }
      ]
    },
    {
      "cell_type": "code",
      "source": [
        "dfjob['qualifications'].value_counts()\n",
        "# Can't remove because need this for further basic qualification\n",
        "# Convert the NAN to 'No requirement'"
      ],
      "metadata": {
        "colab": {
          "base_uri": "https://localhost:8080/"
        },
        "id": "9DlPbx9Be9T6",
        "outputId": "64d09374-3d2e-4f74-97bc-a98d535678c5"
      },
      "execution_count": 9,
      "outputs": [
        {
          "output_type": "execute_result",
          "data": {
            "text/plain": [
              "[\"US work authorization (Required)\"]                                                                                                                2930\n",
              "[\"US work authorization (Preferred)\"]                                                                                                               2089\n",
              "[\"High school or equivalent (Preferred)\"]                                                                                                           2001\n",
              "[\"Driver's License (Required)\"]                                                                                                                      973\n",
              "[\"Bachelor's (Preferred)\"]                                                                                                                           960\n",
              "                                                                                                                                                    ... \n",
              "[\"HVAC Certification (Required)\",\"US work authorization (Required)\",\"Secret (Required)\",\"Associate (Preferred)\"]                                       1\n",
              "[\"Restaurant experience: 4 years (Required)\",\"Day Shift (Preferred)\",\"Night Shift (Preferred)\"]                                                        1\n",
              "[\"IT support: 5 years (Required)\"]                                                                                                                     1\n",
              "[\"Microsoft Excel: 4 years (Preferred)\",\"Tableau: 1 year (Preferred)\",\"Data analytics: 4 years (Preferred)\",\"US work authorization (Preferred)\"]       1\n",
              "[\"UI: 7 years (Preferred)\",\"React: 7 years (Preferred)\",\"Angular: 7 years (Preferred)\",\"JavaScript: 7 years (Preferred)\"]                              1\n",
              "Name: qualifications, Length: 20165, dtype: int64"
            ]
          },
          "metadata": {},
          "execution_count": 9
        }
      ]
    },
    {
      "cell_type": "code",
      "source": [
        "dfjob['benefits'].value_counts()"
      ],
      "metadata": {
        "colab": {
          "base_uri": "https://localhost:8080/"
        },
        "id": "Fw5VgcT0gSaI",
        "outputId": "b6963821-eea8-4537-bf5e-a928bd45bc73"
      },
      "execution_count": 10,
      "outputs": [
        {
          "output_type": "execute_result",
          "data": {
            "text/plain": [
              "[\"Health insurance\"]                                                                                                                                                                                                                                                                5325\n",
              "[\"Flexible schedule\"]                                                                                                                                                                                                                                                               2717\n",
              "[\"401(k)\",\"Dental insurance\",\"Health insurance\",\"Paid time off\",\"Vision insurance\"]                                                                                                                                                                                                 1873\n",
              "[\"Paid time off\"]                                                                                                                                                                                                                                                                    908\n",
              "[\"Dental insurance\",\"Health insurance\",\"Paid time off\",\"Vision insurance\"]                                                                                                                                                                                                           855\n",
              "                                                                                                                                                                                                                                                                                    ... \n",
              "[\"403(b)\",\"403(b) matching\",\"Dental insurance\",\"Flexible spending account\",\"Health insurance\",\"Paid time off\",\"Parental leave\",\"Vision insurance\"]                                                                                                                                     1\n",
              "[\"401(k)\",\"AD&D insurance\",\"Dental insurance\",\"Disability insurance\",\"Employee assistance program\",\"Employee discount\",\"Flexible schedule\",\"Health insurance\",\"Life insurance\",\"Paid time off\",\"Referral program\",\"Tuition reimbursement\",\"Vision insurance\",\"Wellness program\"]       1\n",
              "[\"401(k)\",\"401(k) matching\",\"Flexible schedule\",\"Health insurance\",\"Health savings account\",\"Life insurance\",\"Paid time off\",\"Professional development assistance\",\"Safety equipment provided\",\"Tuition reimbursement\"]                                                                1\n",
              "[\"On-the-job training\",\"Pet insurance\",\"Tools provided\",\"Tuition reimbursement\"]                                                                                                                                                                                                       1\n",
              "[\"401(k)\",\"AD&D insurance\",\"Commuter assistance\",\"Dental insurance\",\"Disability insurance\",\"Employee assistance program\",\"Flexible spending account\",\"Health insurance\",\"Health savings account\",\"Paid time off\",\"Parental leave\",\"Tuition reimbursement\",\"Vision insurance\"]          1\n",
              "Name: benefits, Length: 19372, dtype: int64"
            ]
          },
          "metadata": {},
          "execution_count": 10
        }
      ]
    },
    {
      "cell_type": "code",
      "source": [
        "# Remove src name\n",
        "dfjob['srcname'].isnull().sum()"
      ],
      "metadata": {
        "colab": {
          "base_uri": "https://localhost:8080/"
        },
        "id": "4AlxI9sugxfx",
        "outputId": "6deae9d1-730f-4284-dcbd-4cf493ff2a76"
      },
      "execution_count": 11,
      "outputs": [
        {
          "output_type": "execute_result",
          "data": {
            "text/plain": [
              "193418"
            ]
          },
          "metadata": {},
          "execution_count": 11
        }
      ]
    },
    {
      "cell_type": "code",
      "source": [
        "dfjob['country'].value_counts()"
      ],
      "metadata": {
        "colab": {
          "base_uri": "https://localhost:8080/"
        },
        "id": "ZmKUraMtDE8U",
        "outputId": "524b1416-6dae-4022-85c4-cbef282510df"
      },
      "execution_count": 12,
      "outputs": [
        {
          "output_type": "execute_result",
          "data": {
            "text/plain": [
              "US    300000\n",
              "Name: country, dtype: int64"
            ]
          },
          "metadata": {},
          "execution_count": 12
        }
      ]
    },
    {
      "cell_type": "code",
      "source": [
        "dfjob['country_code'].value_counts()"
      ],
      "metadata": {
        "colab": {
          "base_uri": "https://localhost:8080/"
        },
        "id": "VkiUJVtwdVBi",
        "outputId": "d9b9993b-688d-498d-a9c9-2c909032593c"
      },
      "execution_count": 13,
      "outputs": [
        {
          "output_type": "execute_result",
          "data": {
            "text/plain": [
              "US    282417\n",
              "BR       800\n",
              "GB       681\n",
              "CO       668\n",
              "CA       612\n",
              "       ...  \n",
              "CF         1\n",
              "BY         1\n",
              "ZM         1\n",
              "MD         1\n",
              "UG         1\n",
              "Name: country_code, Length: 166, dtype: int64"
            ]
          },
          "metadata": {},
          "execution_count": 13
        }
      ]
    },
    {
      "cell_type": "code",
      "source": [
        "dfjob['company_name'].value_counts()"
      ],
      "metadata": {
        "colab": {
          "base_uri": "https://localhost:8080/"
        },
        "id": "EMw8WOOITyxP",
        "outputId": "5cb15c10-d45f-4fb3-a2b7-5c39559ed3c0"
      },
      "execution_count": 14,
      "outputs": [
        {
          "output_type": "execute_result",
          "data": {
            "text/plain": [
              "Deloitte                                 3804\n",
              "ASSURANCE Independent Agents             1774\n",
              "Amazon.com Services LLC                  1401\n",
              "Aya Healthcare                           1224\n",
              "Soliant                                  1075\n",
              "                                         ... \n",
              "Ardent Counseling Center                    1\n",
              "Mobile Management llc                       1\n",
              "Duro Electric                               1\n",
              "CareerStaff Unlimited - Nashville, TN       1\n",
              "Sanel Corp                                  1\n",
              "Name: company_name, Length: 97715, dtype: int64"
            ]
          },
          "metadata": {},
          "execution_count": 14
        }
      ]
    },
    {
      "cell_type": "code",
      "source": [
        "dfjob['company_link'].value_counts()"
      ],
      "metadata": {
        "colab": {
          "base_uri": "https://localhost:8080/"
        },
        "id": "z0VKYozlUA9a",
        "outputId": "d8017409-b450-442d-8c1d-246acb7a7c74"
      },
      "execution_count": 15,
      "outputs": [
        {
          "output_type": "execute_result",
          "data": {
            "text/plain": [
              "https://www.indeed.com/cmp/The-Est%C3%A9e-Lauder-Companies-1?campaignid=vjcmpinfo&from=vjcmpinfo&tk=1g54cpcg728qo000&fromjk=00009f127a9e34a7              1\n",
              "https://www.indeed.com/cmp/Holistic-Healing-Collective?campaignid=vjcmpinfo&from=vjcmpinfo&tk=1g54t7pg6pkej800&fromjk=96522f26f3a8fcba                    1\n",
              "https://www.indeed.com/cmp/United-Premier?campaignid=vjcmpinfo&from=vjcmpinfo&tk=1g54t62jeq072800&fromjk=96524389f8fbf9ac                                 1\n",
              "https://www.indeed.com/cmp/Temp-Experts?campaignid=vjcmpinfo&from=vjcmpinfo&tk=1g54t5uj7t48o800&fromjk=965241afe500d938                                   1\n",
              "https://www.indeed.com/cmp/Kum-&-Go?campaignid=vjcmpinfo&from=vjcmpinfo&tk=1g54t6r8lq051800&fromjk=96523fc6ef1ed652                                       1\n",
              "                                                                                                                                                         ..\n",
              "https://www.indeed.com/cmp/Trugreen?campaignid=vjcmpinfo&from=vjcmpinfo&tk=1g54t4ctsj3vu800&fromjk=94750524588fee11                                       1\n",
              "https://www.indeed.com/cmp/Red-Knight-Solutions,-LLC?campaignid=vjcmpinfo&from=vjcmpinfo&tk=1g54t48h6isah800&fromjk=9475094e35b7bc1f                      1\n",
              "https://www.indeed.com/cmp/Bon-Secours?campaignid=vjcmpinfo&from=vjcmpinfo&tk=1g54t48k5i7kk800&fromjk=947510b2566d0887                                    1\n",
              "https://www.indeed.com/cmp/Beaumont-Health?campaignid=vjcmpinfo&from=vjcmpinfo&tk=1g54t4aq5h5i1800&fromjk=947512447005a768                                1\n",
              "https://www.indeed.com/cmp/Disney-Media-and-Entertainment-Distribution?campaignid=vjcmpinfo&from=vjcmpinfo&tk=1g54fb8l5lekk800&fromjk=0710b77c13b3dd2e    1\n",
              "Name: company_link, Length: 286348, dtype: int64"
            ]
          },
          "metadata": {},
          "execution_count": 15
        }
      ]
    },
    {
      "cell_type": "code",
      "source": [
        "dfjob.head()"
      ],
      "metadata": {
        "id": "sLp3DvqpcXH1",
        "colab": {
          "base_uri": "https://localhost:8080/",
          "height": 560
        },
        "outputId": "bc86ef87-6816-42b0-a5ce-ec4603d66c9e"
      },
      "execution_count": 16,
      "outputs": [
        {
          "output_type": "execute_result",
          "data": {
            "text/plain": [
              "              jobid                                         apply_link  \\\n",
              "0  00009f127a9e34a7  https://www.indeed.com/applystart?jk=00009f127...   \n",
              "1  0001783849fce183                                                NaN   \n",
              "2  00027f45e5373e13  https://www.indeed.com/applystart?jk=00027f45e...   \n",
              "3  00028cda307fcffa                                                NaN   \n",
              "4  000002c948819e54  https://www.indeed.com/applystart?jk=000002c94...   \n",
              "\n",
              "                                        company_link  \\\n",
              "0  https://www.indeed.com/cmp/The-Est%C3%A9e-Laud...   \n",
              "1  https://www.indeed.com/cmp/H-A-Mapes,-Inc?camp...   \n",
              "2  https://www.indeed.com/cmp/Accenture?campaigni...   \n",
              "3  https://www.indeed.com/cmp/Techo--bloc?campaig...   \n",
              "4  https://www.indeed.com/cmp/Michael-Page?campai...   \n",
              "\n",
              "                 company_name  company_rating  company_reviews_count country  \\\n",
              "0  The Estée Lauder Companies             4.0                 2214.0      US   \n",
              "1  Harry's Convenience Stores             NaN                    NaN      US   \n",
              "2                   Accenture             4.0                21827.0      US   \n",
              "3                  Techo-Bloc             3.1                  114.0      US   \n",
              "4                Michael Page             3.5                  354.0      US   \n",
              "\n",
              "  country_code                                        current_url  \\\n",
              "0           US  https://www.indeed.com/viewjob?jk=00009f127a9e...   \n",
              "1           LB  https://www.indeed.com/viewjob?jk=0001783849fc...   \n",
              "2           US  https://www.indeed.com/viewjob?jk=00027f45e537...   \n",
              "3           AO  https://www.indeed.com/viewjob?jk=00028cda307f...   \n",
              "4           AU  https://www.indeed.com/viewjob?jk=000002c94881...   \n",
              "\n",
              "    date_posted  ...                                   description_text  \\\n",
              "0   22 days ago  ...  The Treasury Analyst will assist the Treasury ...   \n",
              "1  30+ days ago  ...  At Harry’s the Store Associate / Foodservice A...   \n",
              "2  30+ days ago  ...  ACCENTURE's Flexible Workforce solves clients’...   \n",
              "3  30+ days ago  ...  Company Description\\n  Why We Want You:  Multi...   \n",
              "4  30+ days ago  ...  Working within the New York office the individ...   \n",
              "\n",
              "           domain                                          job_title  \\\n",
              "0  www.indeed.com                 Analyst, Treasury – Banking Retail   \n",
              "1  www.indeed.com  Store Associate/ Food Service Associate - Saco...   \n",
              "2  www.indeed.com                                    Cloud Architect   \n",
              "3  www.indeed.com  Maintenance Technician - $30+/hr Day Shift (El...   \n",
              "4  www.indeed.com                          IT Senior Support Manager   \n",
              "\n",
              "        job_type          location region  salary_formatted  \\\n",
              "0  [\"Full-time\"]     United States    NaN               NaN   \n",
              "1  [\"Part-time\"]       Lebanon, ME     AS  From $14 an hour   \n",
              "2   [\"Contract\"]     United States    NaN               NaN   \n",
              "3  [\"Full-time\"]  Angola, IN 46703     AF  From $30 an hour   \n",
              "4            NaN      Brooklyn, NY     OC               NaN   \n",
              "\n",
              "                                            benefits  \\\n",
              "0                                                NaN   \n",
              "1  [\"401(k)\",\"401(k) matching\",\"Dental insurance\"...   \n",
              "2                                                NaN   \n",
              "3  [\"401(k)\",\"Dental insurance\",\"Disability insur...   \n",
              "4                                                NaN   \n",
              "\n",
              "                                      qualifications  \\\n",
              "0                                                NaN   \n",
              "1  [\"High school or equivalent (Preferred)\",\"US w...   \n",
              "2                                                NaN   \n",
              "3                                                NaN   \n",
              "4                                                NaN   \n",
              "\n",
              "                         srcname  \n",
              "0                            NaN  \n",
              "1                            NaN  \n",
              "2  globalcxaccenture.avature.net  \n",
              "3                            NaN  \n",
              "4            www.michaelpage.com  \n",
              "\n",
              "[5 rows x 22 columns]"
            ],
            "text/html": [
              "\n",
              "  <div id=\"df-e3134126-3afa-427d-bfed-5a8e72a1a147\">\n",
              "    <div class=\"colab-df-container\">\n",
              "      <div>\n",
              "<style scoped>\n",
              "    .dataframe tbody tr th:only-of-type {\n",
              "        vertical-align: middle;\n",
              "    }\n",
              "\n",
              "    .dataframe tbody tr th {\n",
              "        vertical-align: top;\n",
              "    }\n",
              "\n",
              "    .dataframe thead th {\n",
              "        text-align: right;\n",
              "    }\n",
              "</style>\n",
              "<table border=\"1\" class=\"dataframe\">\n",
              "  <thead>\n",
              "    <tr style=\"text-align: right;\">\n",
              "      <th></th>\n",
              "      <th>jobid</th>\n",
              "      <th>apply_link</th>\n",
              "      <th>company_link</th>\n",
              "      <th>company_name</th>\n",
              "      <th>company_rating</th>\n",
              "      <th>company_reviews_count</th>\n",
              "      <th>country</th>\n",
              "      <th>country_code</th>\n",
              "      <th>current_url</th>\n",
              "      <th>date_posted</th>\n",
              "      <th>...</th>\n",
              "      <th>description_text</th>\n",
              "      <th>domain</th>\n",
              "      <th>job_title</th>\n",
              "      <th>job_type</th>\n",
              "      <th>location</th>\n",
              "      <th>region</th>\n",
              "      <th>salary_formatted</th>\n",
              "      <th>benefits</th>\n",
              "      <th>qualifications</th>\n",
              "      <th>srcname</th>\n",
              "    </tr>\n",
              "  </thead>\n",
              "  <tbody>\n",
              "    <tr>\n",
              "      <th>0</th>\n",
              "      <td>00009f127a9e34a7</td>\n",
              "      <td>https://www.indeed.com/applystart?jk=00009f127...</td>\n",
              "      <td>https://www.indeed.com/cmp/The-Est%C3%A9e-Laud...</td>\n",
              "      <td>The Estée Lauder Companies</td>\n",
              "      <td>4.0</td>\n",
              "      <td>2214.0</td>\n",
              "      <td>US</td>\n",
              "      <td>US</td>\n",
              "      <td>https://www.indeed.com/viewjob?jk=00009f127a9e...</td>\n",
              "      <td>22 days ago</td>\n",
              "      <td>...</td>\n",
              "      <td>The Treasury Analyst will assist the Treasury ...</td>\n",
              "      <td>www.indeed.com</td>\n",
              "      <td>Analyst, Treasury – Banking Retail</td>\n",
              "      <td>[\"Full-time\"]</td>\n",
              "      <td>United States</td>\n",
              "      <td>NaN</td>\n",
              "      <td>NaN</td>\n",
              "      <td>NaN</td>\n",
              "      <td>NaN</td>\n",
              "      <td>NaN</td>\n",
              "    </tr>\n",
              "    <tr>\n",
              "      <th>1</th>\n",
              "      <td>0001783849fce183</td>\n",
              "      <td>NaN</td>\n",
              "      <td>https://www.indeed.com/cmp/H-A-Mapes,-Inc?camp...</td>\n",
              "      <td>Harry's Convenience Stores</td>\n",
              "      <td>NaN</td>\n",
              "      <td>NaN</td>\n",
              "      <td>US</td>\n",
              "      <td>LB</td>\n",
              "      <td>https://www.indeed.com/viewjob?jk=0001783849fc...</td>\n",
              "      <td>30+ days ago</td>\n",
              "      <td>...</td>\n",
              "      <td>At Harry’s the Store Associate / Foodservice A...</td>\n",
              "      <td>www.indeed.com</td>\n",
              "      <td>Store Associate/ Food Service Associate - Saco...</td>\n",
              "      <td>[\"Part-time\"]</td>\n",
              "      <td>Lebanon, ME</td>\n",
              "      <td>AS</td>\n",
              "      <td>From $14 an hour</td>\n",
              "      <td>[\"401(k)\",\"401(k) matching\",\"Dental insurance\"...</td>\n",
              "      <td>[\"High school or equivalent (Preferred)\",\"US w...</td>\n",
              "      <td>NaN</td>\n",
              "    </tr>\n",
              "    <tr>\n",
              "      <th>2</th>\n",
              "      <td>00027f45e5373e13</td>\n",
              "      <td>https://www.indeed.com/applystart?jk=00027f45e...</td>\n",
              "      <td>https://www.indeed.com/cmp/Accenture?campaigni...</td>\n",
              "      <td>Accenture</td>\n",
              "      <td>4.0</td>\n",
              "      <td>21827.0</td>\n",
              "      <td>US</td>\n",
              "      <td>US</td>\n",
              "      <td>https://www.indeed.com/viewjob?jk=00027f45e537...</td>\n",
              "      <td>30+ days ago</td>\n",
              "      <td>...</td>\n",
              "      <td>ACCENTURE's Flexible Workforce solves clients’...</td>\n",
              "      <td>www.indeed.com</td>\n",
              "      <td>Cloud Architect</td>\n",
              "      <td>[\"Contract\"]</td>\n",
              "      <td>United States</td>\n",
              "      <td>NaN</td>\n",
              "      <td>NaN</td>\n",
              "      <td>NaN</td>\n",
              "      <td>NaN</td>\n",
              "      <td>globalcxaccenture.avature.net</td>\n",
              "    </tr>\n",
              "    <tr>\n",
              "      <th>3</th>\n",
              "      <td>00028cda307fcffa</td>\n",
              "      <td>NaN</td>\n",
              "      <td>https://www.indeed.com/cmp/Techo--bloc?campaig...</td>\n",
              "      <td>Techo-Bloc</td>\n",
              "      <td>3.1</td>\n",
              "      <td>114.0</td>\n",
              "      <td>US</td>\n",
              "      <td>AO</td>\n",
              "      <td>https://www.indeed.com/viewjob?jk=00028cda307f...</td>\n",
              "      <td>30+ days ago</td>\n",
              "      <td>...</td>\n",
              "      <td>Company Description\\n  Why We Want You:  Multi...</td>\n",
              "      <td>www.indeed.com</td>\n",
              "      <td>Maintenance Technician - $30+/hr Day Shift (El...</td>\n",
              "      <td>[\"Full-time\"]</td>\n",
              "      <td>Angola, IN 46703</td>\n",
              "      <td>AF</td>\n",
              "      <td>From $30 an hour</td>\n",
              "      <td>[\"401(k)\",\"Dental insurance\",\"Disability insur...</td>\n",
              "      <td>NaN</td>\n",
              "      <td>NaN</td>\n",
              "    </tr>\n",
              "    <tr>\n",
              "      <th>4</th>\n",
              "      <td>000002c948819e54</td>\n",
              "      <td>https://www.indeed.com/applystart?jk=000002c94...</td>\n",
              "      <td>https://www.indeed.com/cmp/Michael-Page?campai...</td>\n",
              "      <td>Michael Page</td>\n",
              "      <td>3.5</td>\n",
              "      <td>354.0</td>\n",
              "      <td>US</td>\n",
              "      <td>AU</td>\n",
              "      <td>https://www.indeed.com/viewjob?jk=000002c94881...</td>\n",
              "      <td>30+ days ago</td>\n",
              "      <td>...</td>\n",
              "      <td>Working within the New York office the individ...</td>\n",
              "      <td>www.indeed.com</td>\n",
              "      <td>IT Senior Support Manager</td>\n",
              "      <td>NaN</td>\n",
              "      <td>Brooklyn, NY</td>\n",
              "      <td>OC</td>\n",
              "      <td>NaN</td>\n",
              "      <td>NaN</td>\n",
              "      <td>NaN</td>\n",
              "      <td>www.michaelpage.com</td>\n",
              "    </tr>\n",
              "  </tbody>\n",
              "</table>\n",
              "<p>5 rows × 22 columns</p>\n",
              "</div>\n",
              "      <button class=\"colab-df-convert\" onclick=\"convertToInteractive('df-e3134126-3afa-427d-bfed-5a8e72a1a147')\"\n",
              "              title=\"Convert this dataframe to an interactive table.\"\n",
              "              style=\"display:none;\">\n",
              "        \n",
              "  <svg xmlns=\"http://www.w3.org/2000/svg\" height=\"24px\"viewBox=\"0 0 24 24\"\n",
              "       width=\"24px\">\n",
              "    <path d=\"M0 0h24v24H0V0z\" fill=\"none\"/>\n",
              "    <path d=\"M18.56 5.44l.94 2.06.94-2.06 2.06-.94-2.06-.94-.94-2.06-.94 2.06-2.06.94zm-11 1L8.5 8.5l.94-2.06 2.06-.94-2.06-.94L8.5 2.5l-.94 2.06-2.06.94zm10 10l.94 2.06.94-2.06 2.06-.94-2.06-.94-.94-2.06-.94 2.06-2.06.94z\"/><path d=\"M17.41 7.96l-1.37-1.37c-.4-.4-.92-.59-1.43-.59-.52 0-1.04.2-1.43.59L10.3 9.45l-7.72 7.72c-.78.78-.78 2.05 0 2.83L4 21.41c.39.39.9.59 1.41.59.51 0 1.02-.2 1.41-.59l7.78-7.78 2.81-2.81c.8-.78.8-2.07 0-2.86zM5.41 20L4 18.59l7.72-7.72 1.47 1.35L5.41 20z\"/>\n",
              "  </svg>\n",
              "      </button>\n",
              "      \n",
              "  <style>\n",
              "    .colab-df-container {\n",
              "      display:flex;\n",
              "      flex-wrap:wrap;\n",
              "      gap: 12px;\n",
              "    }\n",
              "\n",
              "    .colab-df-convert {\n",
              "      background-color: #E8F0FE;\n",
              "      border: none;\n",
              "      border-radius: 50%;\n",
              "      cursor: pointer;\n",
              "      display: none;\n",
              "      fill: #1967D2;\n",
              "      height: 32px;\n",
              "      padding: 0 0 0 0;\n",
              "      width: 32px;\n",
              "    }\n",
              "\n",
              "    .colab-df-convert:hover {\n",
              "      background-color: #E2EBFA;\n",
              "      box-shadow: 0px 1px 2px rgba(60, 64, 67, 0.3), 0px 1px 3px 1px rgba(60, 64, 67, 0.15);\n",
              "      fill: #174EA6;\n",
              "    }\n",
              "\n",
              "    [theme=dark] .colab-df-convert {\n",
              "      background-color: #3B4455;\n",
              "      fill: #D2E3FC;\n",
              "    }\n",
              "\n",
              "    [theme=dark] .colab-df-convert:hover {\n",
              "      background-color: #434B5C;\n",
              "      box-shadow: 0px 1px 3px 1px rgba(0, 0, 0, 0.15);\n",
              "      filter: drop-shadow(0px 1px 2px rgba(0, 0, 0, 0.3));\n",
              "      fill: #FFFFFF;\n",
              "    }\n",
              "  </style>\n",
              "\n",
              "      <script>\n",
              "        const buttonEl =\n",
              "          document.querySelector('#df-e3134126-3afa-427d-bfed-5a8e72a1a147 button.colab-df-convert');\n",
              "        buttonEl.style.display =\n",
              "          google.colab.kernel.accessAllowed ? 'block' : 'none';\n",
              "\n",
              "        async function convertToInteractive(key) {\n",
              "          const element = document.querySelector('#df-e3134126-3afa-427d-bfed-5a8e72a1a147');\n",
              "          const dataTable =\n",
              "            await google.colab.kernel.invokeFunction('convertToInteractive',\n",
              "                                                     [key], {});\n",
              "          if (!dataTable) return;\n",
              "\n",
              "          const docLinkHtml = 'Like what you see? Visit the ' +\n",
              "            '<a target=\"_blank\" href=https://colab.research.google.com/notebooks/data_table.ipynb>data table notebook</a>'\n",
              "            + ' to learn more about interactive tables.';\n",
              "          element.innerHTML = '';\n",
              "          dataTable['output_type'] = 'display_data';\n",
              "          await google.colab.output.renderOutput(dataTable, element);\n",
              "          const docLink = document.createElement('div');\n",
              "          docLink.innerHTML = docLinkHtml;\n",
              "          element.appendChild(docLink);\n",
              "        }\n",
              "      </script>\n",
              "    </div>\n",
              "  </div>\n",
              "  "
            ]
          },
          "metadata": {},
          "execution_count": 16
        }
      ]
    },
    {
      "cell_type": "markdown",
      "source": [
        "### Check Missing Values and Clean Up\n",
        "Truc Report:\n",
        "- Data cleaning took me a total of more than 8hrs to looks for the approriate data that need to keep or drop.\n",
        "- All the attributes need to make sense and support the machine learning model\n",
        "- Data that consider biased will be drop\n",
        "- Data that is missing need to fix and transform to meaningful data"
      ],
      "metadata": {
        "id": "ZiJ-TEkOb15m"
      }
    },
    {
      "cell_type": "code",
      "source": [
        "# Set figure size\n",
        "plt.rcParams[\"figure.figsize\"]=13,11\n",
        "sns.set(style='darkgrid')\n",
        "\n",
        "missing_percentage = dfjob.isna().sum().sort_values(ascending=False)/len(dfjob)\n",
        "missing_percentage[missing_percentage!=0].plot(kind='barh')"
      ],
      "metadata": {
        "id": "EbpttxnvP8H6",
        "colab": {
          "base_uri": "https://localhost:8080/",
          "height": 665
        },
        "outputId": "a7fce814-1604-4a70-9d99-12ce650c6516"
      },
      "execution_count": 17,
      "outputs": [
        {
          "output_type": "execute_result",
          "data": {
            "text/plain": [
              "<matplotlib.axes._subplots.AxesSubplot at 0x7fee917e93d0>"
            ]
          },
          "metadata": {},
          "execution_count": 17
        },
        {
          "output_type": "display_data",
          "data": {
            "text/plain": [
              "<Figure size 936x792 with 1 Axes>"
            ],
            "image/png": "[encoded data removed]"
          },
          "metadata": {}
        }
      ]
    },
    {
      "cell_type": "code",
      "source": [
        "list(dfjob.columns)"
      ],
      "metadata": {
        "colab": {
          "base_uri": "https://localhost:8080/"
        },
        "id": "NW6yXeIozPau",
        "outputId": "7527d053-26ef-4546-b1a2-345551f0b87f"
      },
      "execution_count": 18,
      "outputs": [
        {
          "output_type": "execute_result",
          "data": {
            "text/plain": [
              "['jobid',\n",
              " 'apply_link',\n",
              " 'company_link',\n",
              " 'company_name',\n",
              " 'company_rating',\n",
              " 'company_reviews_count',\n",
              " 'country',\n",
              " 'country_code',\n",
              " 'current_url',\n",
              " 'date_posted',\n",
              " 'date_posted_parsed',\n",
              " 'description',\n",
              " 'description_text',\n",
              " 'domain',\n",
              " 'job_title',\n",
              " 'job_type',\n",
              " 'location',\n",
              " 'region',\n",
              " 'salary_formatted',\n",
              " 'benefits',\n",
              " 'qualifications',\n",
              " 'srcname']"
            ]
          },
          "metadata": {},
          "execution_count": 18
        }
      ]
    },
    {
      "cell_type": "code",
      "source": [
        "dfjob.drop(['jobid','apply_link','company_link','country','current_url','date_posted','date_posted_parsed','domain','region','srcname'],axis=1,inplace=True)\n",
        "\n",
        "# Out put will be company name and job title\n",
        "# Remove apply_link because it will not be necessary to have it (we want to analyze the sucessful candidates as well as the current one)\n",
        "# Apply_link can be removed when the job is filled which is a good sign to analyze these job description (apply_link hold no value)\n",
        "\n",
        "# Drop the row where the company name or link is blank:\n",
        "dfjob.dropna(axis=0, how='all',subset=['company_name', 'job_type'], thresh=2, inplace=True) \n",
        "\n",
        "# Change null in qualification to no requirement\n",
        "dfjob['qualifications'] = dfjob['qualifications'].fillna('[\"No requirement\"]')\n",
        "\n",
        "# Change null in benefits to no benefits \n",
        "dfjob['benefits'] = dfjob['benefits'].fillna('[\"No benefits\"]')\n",
        "\n",
        "# Assume all the mssing value in salary_formated is negotiable (50% of the dataset)\n",
        "dfjob['salary_formatted'] = dfjob['salary_formatted'].fillna('Negotiable')\n",
        "\n",
        "# Assume all the missing country is Others\n",
        "dfjob['country_code']=dfjob['country_code'].fillna('Other')\n",
        "\n",
        "# Fill in the rating with 0\n",
        "dfjob['company_rating']=dfjob['company_rating'].fillna(0.0)\n",
        "dfjob['company_reviews_count']=dfjob['company_reviews_count'].fillna(0.0)"
      ],
      "metadata": {
        "id": "9xJVOlVvcxib"
      },
      "execution_count": 19,
      "outputs": []
    },
    {
      "cell_type": "code",
      "source": [
        "dfjob.shape\n",
        "\n",
        "# After clean up and drop, we have a new data set of 265633 row and 12attributes"
      ],
      "metadata": {
        "colab": {
          "base_uri": "https://localhost:8080/"
        },
        "id": "DImuxEgVJ_1T",
        "outputId": "39401589-3bba-4565-f460-6c174eedc6ab"
      },
      "execution_count": 20,
      "outputs": [
        {
          "output_type": "execute_result",
          "data": {
            "text/plain": [
              "(265633, 12)"
            ]
          },
          "metadata": {},
          "execution_count": 20
        }
      ]
    },
    {
      "cell_type": "markdown",
      "source": [
        "### Extended Analyst on the company rating and company review"
      ],
      "metadata": {
        "id": "Z7tItpWiMtKF"
      }
    },
    {
      "cell_type": "code",
      "source": [
        "# Create norating subset that hold the company doesn't has rating\n",
        "norating = dfjob.loc[dfjob['company_rating']==0]\n",
        "\n",
        "# Validate the result\n",
        "norating.head()"
      ],
      "metadata": {
        "id": "e2mpcTqfLSWQ",
        "colab": {
          "base_uri": "https://localhost:8080/",
          "height": 617
        },
        "outputId": "ca9794ef-6cb7-45b6-cd6d-61b6b5b2351e"
      },
      "execution_count": 21,
      "outputs": [
        {
          "output_type": "execute_result",
          "data": {
            "text/plain": [
              "                           company_name  company_rating  \\\n",
              "1            Harry's Convenience Stores             0.0   \n",
              "6       The Michigan Theater Foundation             0.0   \n",
              "11    Facing History and Ourselves, Inc             0.0   \n",
              "16               The Eye Care Institute             0.0   \n",
              "22  Copper Whiskey Bar & Grill, Bozeman             0.0   \n",
              "\n",
              "    company_reviews_count country_code  \\\n",
              "1                     0.0           LB   \n",
              "6                     0.0           US   \n",
              "11                    0.0           US   \n",
              "16                    0.0           US   \n",
              "22                    0.0           US   \n",
              "\n",
              "                                          description  \\\n",
              "1   <p>At Harry’s the Store Associate / Foodservic...   \n",
              "6   <p>The historic Michigan Theater, located in t...   \n",
              "11  <div>\\n <p><b>Position: Director of Developmen...   \n",
              "16  <p><b>Education and Experience: </b></p>\\n<p><...   \n",
              "22  <p><b>Bar Manager: Copper Whiskey Bar & Grill,...   \n",
              "\n",
              "                                     description_text  \\\n",
              "1   At Harry’s the Store Associate / Foodservice A...   \n",
              "6   The historic Michigan Theater, located in the ...   \n",
              "11  Position: Director of Development, Cleveland \\...   \n",
              "16  Education and Experience: Required· Ophthalmic...   \n",
              "22  Bar Manager: Copper Whiskey Bar & Grill, Big S...   \n",
              "\n",
              "                                            job_title       job_type  \\\n",
              "1   Store Associate/ Food Service Associate - Saco...  [\"Part-time\"]   \n",
              "6   Major Gift Officer, The Michigan Theater Found...  [\"Full-time\"]   \n",
              "11                 Director of Development, Cleveland  [\"Full-time\"]   \n",
              "16                              Ophthalmic Technician  [\"Full-time\"]   \n",
              "22                       Bar Manager: Copper, Big Sky  [\"Full-time\"]   \n",
              "\n",
              "                       location          salary_formatted  \\\n",
              "1                   Lebanon, ME          From $14 an hour   \n",
              "6           Ann Arbor, MI 48104  $68,000 - $80,000 a year   \n",
              "11  Cleveland Heights, OH 44118                Negotiable   \n",
              "16         Louisville, KY 40206         $16 - $18 an hour   \n",
              "22              Tahoe Vista, CA       From $60,000 a year   \n",
              "\n",
              "                                             benefits  \\\n",
              "1   [\"401(k)\",\"401(k) matching\",\"Dental insurance\"...   \n",
              "6                                     [\"No benefits\"]   \n",
              "11                                    [\"No benefits\"]   \n",
              "16  [\"Dental insurance\",\"Health insurance\",\"On-the...   \n",
              "22  [\"401(k)\",\"401(k) matching\",\"Dental insurance\"...   \n",
              "\n",
              "                                       qualifications  \n",
              "1   [\"High school or equivalent (Preferred)\",\"US w...  \n",
              "6                           [\"Bachelor's (Required)\"]  \n",
              "11                                 [\"No requirement\"]  \n",
              "16  [\"Ophthalmology: 1 year (Required)\",\"US work a...  \n",
              "22                                 [\"No requirement\"]  "
            ],
            "text/html": [
              "\n",
              "  <div id=\"df-ef9c2a61-dcba-4b3f-9c12-4ebeab4ac084\">\n",
              "    <div class=\"colab-df-container\">\n",
              "      <div>\n",
              "<style scoped>\n",
              "    .dataframe tbody tr th:only-of-type {\n",
              "        vertical-align: middle;\n",
              "    }\n",
              "\n",
              "    .dataframe tbody tr th {\n",
              "        vertical-align: top;\n",
              "    }\n",
              "\n",
              "    .dataframe thead th {\n",
              "        text-align: right;\n",
              "    }\n",
              "</style>\n",
              "<table border=\"1\" class=\"dataframe\">\n",
              "  <thead>\n",
              "    <tr style=\"text-align: right;\">\n",
              "      <th></th>\n",
              "      <th>company_name</th>\n",
              "      <th>company_rating</th>\n",
              "      <th>company_reviews_count</th>\n",
              "      <th>country_code</th>\n",
              "      <th>description</th>\n",
              "      <th>description_text</th>\n",
              "      <th>job_title</th>\n",
              "      <th>job_type</th>\n",
              "      <th>location</th>\n",
              "      <th>salary_formatted</th>\n",
              "      <th>benefits</th>\n",
              "      <th>qualifications</th>\n",
              "    </tr>\n",
              "  </thead>\n",
              "  <tbody>\n",
              "    <tr>\n",
              "      <th>1</th>\n",
              "      <td>Harry's Convenience Stores</td>\n",
              "      <td>0.0</td>\n",
              "      <td>0.0</td>\n",
              "      <td>LB</td>\n",
              "      <td>&lt;p&gt;At Harry’s the Store Associate / Foodservic...</td>\n",
              "      <td>At Harry’s the Store Associate / Foodservice A...</td>\n",
              "      <td>Store Associate/ Food Service Associate - Saco...</td>\n",
              "      <td>[\"Part-time\"]</td>\n",
              "      <td>Lebanon, ME</td>\n",
              "      <td>From $14 an hour</td>\n",
              "      <td>[\"401(k)\",\"401(k) matching\",\"Dental insurance\"...</td>\n",
              "      <td>[\"High school or equivalent (Preferred)\",\"US w...</td>\n",
              "    </tr>\n",
              "    <tr>\n",
              "      <th>6</th>\n",
              "      <td>The Michigan Theater Foundation</td>\n",
              "      <td>0.0</td>\n",
              "      <td>0.0</td>\n",
              "      <td>US</td>\n",
              "      <td>&lt;p&gt;The historic Michigan Theater, located in t...</td>\n",
              "      <td>The historic Michigan Theater, located in the ...</td>\n",
              "      <td>Major Gift Officer, The Michigan Theater Found...</td>\n",
              "      <td>[\"Full-time\"]</td>\n",
              "      <td>Ann Arbor, MI 48104</td>\n",
              "      <td>$68,000 - $80,000 a year</td>\n",
              "      <td>[\"No benefits\"]</td>\n",
              "      <td>[\"Bachelor's (Required)\"]</td>\n",
              "    </tr>\n",
              "    <tr>\n",
              "      <th>11</th>\n",
              "      <td>Facing History and Ourselves, Inc</td>\n",
              "      <td>0.0</td>\n",
              "      <td>0.0</td>\n",
              "      <td>US</td>\n",
              "      <td>&lt;div&gt;\\n &lt;p&gt;&lt;b&gt;Position: Director of Developmen...</td>\n",
              "      <td>Position: Director of Development, Cleveland \\...</td>\n",
              "      <td>Director of Development, Cleveland</td>\n",
              "      <td>[\"Full-time\"]</td>\n",
              "      <td>Cleveland Heights, OH 44118</td>\n",
              "      <td>Negotiable</td>\n",
              "      <td>[\"No benefits\"]</td>\n",
              "      <td>[\"No requirement\"]</td>\n",
              "    </tr>\n",
              "    <tr>\n",
              "      <th>16</th>\n",
              "      <td>The Eye Care Institute</td>\n",
              "      <td>0.0</td>\n",
              "      <td>0.0</td>\n",
              "      <td>US</td>\n",
              "      <td>&lt;p&gt;&lt;b&gt;Education and Experience: &lt;/b&gt;&lt;/p&gt;\\n&lt;p&gt;&lt;...</td>\n",
              "      <td>Education and Experience: Required· Ophthalmic...</td>\n",
              "      <td>Ophthalmic Technician</td>\n",
              "      <td>[\"Full-time\"]</td>\n",
              "      <td>Louisville, KY 40206</td>\n",
              "      <td>$16 - $18 an hour</td>\n",
              "      <td>[\"Dental insurance\",\"Health insurance\",\"On-the...</td>\n",
              "      <td>[\"Ophthalmology: 1 year (Required)\",\"US work a...</td>\n",
              "    </tr>\n",
              "    <tr>\n",
              "      <th>22</th>\n",
              "      <td>Copper Whiskey Bar &amp; Grill, Bozeman</td>\n",
              "      <td>0.0</td>\n",
              "      <td>0.0</td>\n",
              "      <td>US</td>\n",
              "      <td>&lt;p&gt;&lt;b&gt;Bar Manager: Copper Whiskey Bar &amp; Grill,...</td>\n",
              "      <td>Bar Manager: Copper Whiskey Bar &amp; Grill, Big S...</td>\n",
              "      <td>Bar Manager: Copper, Big Sky</td>\n",
              "      <td>[\"Full-time\"]</td>\n",
              "      <td>Tahoe Vista, CA</td>\n",
              "      <td>From $60,000 a year</td>\n",
              "      <td>[\"401(k)\",\"401(k) matching\",\"Dental insurance\"...</td>\n",
              "      <td>[\"No requirement\"]</td>\n",
              "    </tr>\n",
              "  </tbody>\n",
              "</table>\n",
              "</div>\n",
              "      <button class=\"colab-df-convert\" onclick=\"convertToInteractive('df-ef9c2a61-dcba-4b3f-9c12-4ebeab4ac084')\"\n",
              "              title=\"Convert this dataframe to an interactive table.\"\n",
              "              style=\"display:none;\">\n",
              "        \n",
              "  <svg xmlns=\"http://www.w3.org/2000/svg\" height=\"24px\"viewBox=\"0 0 24 24\"\n",
              "       width=\"24px\">\n",
              "    <path d=\"M0 0h24v24H0V0z\" fill=\"none\"/>\n",
              "    <path d=\"M18.56 5.44l.94 2.06.94-2.06 2.06-.94-2.06-.94-.94-2.06-.94 2.06-2.06.94zm-11 1L8.5 8.5l.94-2.06 2.06-.94-2.06-.94L8.5 2.5l-.94 2.06-2.06.94zm10 10l.94 2.06.94-2.06 2.06-.94-2.06-.94-.94-2.06-.94 2.06-2.06.94z\"/><path d=\"M17.41 7.96l-1.37-1.37c-.4-.4-.92-.59-1.43-.59-.52 0-1.04.2-1.43.59L10.3 9.45l-7.72 7.72c-.78.78-.78 2.05 0 2.83L4 21.41c.39.39.9.59 1.41.59.51 0 1.02-.2 1.41-.59l7.78-7.78 2.81-2.81c.8-.78.8-2.07 0-2.86zM5.41 20L4 18.59l7.72-7.72 1.47 1.35L5.41 20z\"/>\n",
              "  </svg>\n",
              "      </button>\n",
              "      \n",
              "  <style>\n",
              "    .colab-df-container {\n",
              "      display:flex;\n",
              "      flex-wrap:wrap;\n",
              "      gap: 12px;\n",
              "    }\n",
              "\n",
              "    .colab-df-convert {\n",
              "      background-color: #E8F0FE;\n",
              "      border: none;\n",
              "      border-radius: 50%;\n",
              "      cursor: pointer;\n",
              "      display: none;\n",
              "      fill: #1967D2;\n",
              "      height: 32px;\n",
              "      padding: 0 0 0 0;\n",
              "      width: 32px;\n",
              "    }\n",
              "\n",
              "    .colab-df-convert:hover {\n",
              "      background-color: #E2EBFA;\n",
              "      box-shadow: 0px 1px 2px rgba(60, 64, 67, 0.3), 0px 1px 3px 1px rgba(60, 64, 67, 0.15);\n",
              "      fill: #174EA6;\n",
              "    }\n",
              "\n",
              "    [theme=dark] .colab-df-convert {\n",
              "      background-color: #3B4455;\n",
              "      fill: #D2E3FC;\n",
              "    }\n",
              "\n",
              "    [theme=dark] .colab-df-convert:hover {\n",
              "      background-color: #434B5C;\n",
              "      box-shadow: 0px 1px 3px 1px rgba(0, 0, 0, 0.15);\n",
              "      filter: drop-shadow(0px 1px 2px rgba(0, 0, 0, 0.3));\n",
              "      fill: #FFFFFF;\n",
              "    }\n",
              "  </style>\n",
              "\n",
              "      <script>\n",
              "        const buttonEl =\n",
              "          document.querySelector('#df-ef9c2a61-dcba-4b3f-9c12-4ebeab4ac084 button.colab-df-convert');\n",
              "        buttonEl.style.display =\n",
              "          google.colab.kernel.accessAllowed ? 'block' : 'none';\n",
              "\n",
              "        async function convertToInteractive(key) {\n",
              "          const element = document.querySelector('#df-ef9c2a61-dcba-4b3f-9c12-4ebeab4ac084');\n",
              "          const dataTable =\n",
              "            await google.colab.kernel.invokeFunction('convertToInteractive',\n",
              "                                                     [key], {});\n",
              "          if (!dataTable) return;\n",
              "\n",
              "          const docLinkHtml = 'Like what you see? Visit the ' +\n",
              "            '<a target=\"_blank\" href=https://colab.research.google.com/notebooks/data_table.ipynb>data table notebook</a>'\n",
              "            + ' to learn more about interactive tables.';\n",
              "          element.innerHTML = '';\n",
              "          dataTable['output_type'] = 'display_data';\n",
              "          await google.colab.output.renderOutput(dataTable, element);\n",
              "          const docLink = document.createElement('div');\n",
              "          docLink.innerHTML = docLinkHtml;\n",
              "          element.appendChild(docLink);\n",
              "        }\n",
              "      </script>\n",
              "    </div>\n",
              "  </div>\n",
              "  "
            ]
          },
          "metadata": {},
          "execution_count": 21
        }
      ]
    },
    {
      "cell_type": "code",
      "source": [
        "# Use value counts to check the name of the company\n",
        "norating['company_name'].value_counts\n",
        "\n",
        "# Turn out all the company in this section only post their job one time"
      ],
      "metadata": {
        "colab": {
          "base_uri": "https://localhost:8080/"
        },
        "id": "Xyzv49aTMVqK",
        "outputId": "3ef98524-b7e1-42bb-b71b-81178ec4429c"
      },
      "execution_count": 22,
      "outputs": [
        {
          "output_type": "execute_result",
          "data": {
            "text/plain": [
              "<bound method IndexOpsMixin.value_counts of 1                    Harry's Convenience Stores\n",
              "6               The Michigan Theater Foundation\n",
              "11            Facing History and Ourselves, Inc\n",
              "16                       The Eye Care Institute\n",
              "22          Copper Whiskey Bar & Grill, Bozeman\n",
              "                          ...                  \n",
              "29981                                   SunStop\n",
              "29982    Ford - Lincoln Veteran Careers Program\n",
              "29988                   Acro Metal Stamping Co.\n",
              "29992                          Messick and Gray\n",
              "29997                                Sanel Corp\n",
              "Name: company_name, Length: 66460, dtype: object>"
            ]
          },
          "metadata": {},
          "execution_count": 22
        }
      ]
    },
    {
      "cell_type": "code",
      "source": [
        "# Validate if there is any rating associate with the number of user\n",
        "sum(norating['company_rating']==norating['company_reviews_count'])"
      ],
      "metadata": {
        "colab": {
          "base_uri": "https://localhost:8080/"
        },
        "id": "JPqYsMtlMCBq",
        "outputId": "80d44aaf-3018-44fa-d55c-f9fe34ebe34e"
      },
      "execution_count": 23,
      "outputs": [
        {
          "output_type": "execute_result",
          "data": {
            "text/plain": [
              "66460"
            ]
          },
          "metadata": {},
          "execution_count": 23
        }
      ]
    },
    {
      "cell_type": "code",
      "source": [
        "# Check the shape of the dataset\n",
        "norating.shape"
      ],
      "metadata": {
        "colab": {
          "base_uri": "https://localhost:8080/"
        },
        "id": "P1jJgi1CMNny",
        "outputId": "8146db3b-adc8-4052-b5b1-41850b16a671"
      },
      "execution_count": 24,
      "outputs": [
        {
          "output_type": "execute_result",
          "data": {
            "text/plain": [
              "(66460, 12)"
            ]
          },
          "metadata": {},
          "execution_count": 24
        }
      ]
    },
    {
      "cell_type": "markdown",
      "source": [
        "**Result: **\n",
        "- Due to all the above analyst, I can conclude the norating consist of the company who only post their job one time. So the change to promote in these company is small due to the amount of jobs posted and rating. There for I will remove the row associate with these company where the change is small and the review is none."
      ],
      "metadata": {
        "id": "e9xSy8QmMR2r"
      }
    },
    {
      "cell_type": "code",
      "source": [
        "## Delete norating since we do not need it\n",
        "del norating\n"
      ],
      "metadata": {
        "id": "JRv9yC4UO0r3"
      },
      "execution_count": 25,
      "outputs": []
    },
    {
      "cell_type": "code",
      "source": [
        "# Drop the row where the company name or link is blank:\n",
        "dfjob = dfjob[(dfjob.company_rating != 0) & (dfjob.company_reviews_count != 0)]"
      ],
      "metadata": {
        "id": "j3bCzn4TPtB0"
      },
      "execution_count": 26,
      "outputs": []
    },
    {
      "cell_type": "code",
      "source": [
        "# [name][title][rating][count] list or string\n",
        "# List of the top 50 we found"
      ],
      "metadata": {
        "id": "frBjCzY_wTaX"
      },
      "execution_count": 27,
      "outputs": []
    },
    {
      "cell_type": "markdown",
      "source": [
        ""
      ],
      "metadata": {
        "id": "vWv3QLZA13-0"
      }
    },
    {
      "cell_type": "code",
      "source": [
        "dfjob.head()"
      ],
      "metadata": {
        "colab": {
          "base_uri": "https://localhost:8080/",
          "height": 582
        },
        "id": "sOpvOrblHGAo",
        "outputId": "14a7639e-ff68-4f9f-87e6-735f25ecb0cf"
      },
      "execution_count": 28,
      "outputs": [
        {
          "output_type": "execute_result",
          "data": {
            "text/plain": [
              "                  company_name  company_rating  company_reviews_count  \\\n",
              "0   The Estée Lauder Companies             4.0                 2214.0   \n",
              "2                    Accenture             4.0                21827.0   \n",
              "3                   Techo-Bloc             3.1                  114.0   \n",
              "7           McMahon Associates             3.8                    8.0   \n",
              "8  Amazon Kuiper Manufacturing             3.5                82832.0   \n",
              "\n",
              "  country_code                                        description  \\\n",
              "0           US  <div>\\n <p>The Treasury Analyst will assist th...   \n",
              "2           US  <div></div>\\n<div>\\n <div>\\n  <div>\\n   <b>ACC...   \n",
              "3           AO  <div>\\n Company Description\\n <p><b><br> Why W...   \n",
              "7           US  <div>\\n <p><b>POSITION SUMMARY:</b></p> \\n <p>...   \n",
              "8           US  <div>\\n <ul>\\n  <li>BS degree or higher in Ele...   \n",
              "\n",
              "                                    description_text  \\\n",
              "0  The Treasury Analyst will assist the Treasury ...   \n",
              "2  ACCENTURE's Flexible Workforce solves clients’...   \n",
              "3  Company Description\\n  Why We Want You:  Multi...   \n",
              "7  POSITION SUMMARY: \\n The Senior Project Engine...   \n",
              "8  BS degree or higher in Electrical or Computer ...   \n",
              "\n",
              "                                           job_title       job_type  \\\n",
              "0                 Analyst, Treasury – Banking Retail  [\"Full-time\"]   \n",
              "2                                    Cloud Architect   [\"Contract\"]   \n",
              "3  Maintenance Technician - $30+/hr Day Shift (El...  [\"Full-time\"]   \n",
              "7  Senior Project Engineer (Transportation - Design)  [\"Full-time\"]   \n",
              "8                        Design Verification Manager  [\"Full-time\"]   \n",
              "\n",
              "              location  salary_formatted  \\\n",
              "0        United States        Negotiable   \n",
              "2        United States        Negotiable   \n",
              "3     Angola, IN 46703  From $30 an hour   \n",
              "7  Camp Hill, PA 17011        Negotiable   \n",
              "8           Austin, TX        Negotiable   \n",
              "\n",
              "                                            benefits      qualifications  \n",
              "0                                    [\"No benefits\"]  [\"No requirement\"]  \n",
              "2                                    [\"No benefits\"]  [\"No requirement\"]  \n",
              "3  [\"401(k)\",\"Dental insurance\",\"Disability insur...  [\"No requirement\"]  \n",
              "7                                    [\"No benefits\"]  [\"No requirement\"]  \n",
              "8                                    [\"No benefits\"]  [\"No requirement\"]  "
            ],
            "text/html": [
              "\n",
              "  <div id=\"df-52621b84-4800-4798-b7bd-b62c5c004b7f\">\n",
              "    <div class=\"colab-df-container\">\n",
              "      <div>\n",
              "<style scoped>\n",
              "    .dataframe tbody tr th:only-of-type {\n",
              "        vertical-align: middle;\n",
              "    }\n",
              "\n",
              "    .dataframe tbody tr th {\n",
              "        vertical-align: top;\n",
              "    }\n",
              "\n",
              "    .dataframe thead th {\n",
              "        text-align: right;\n",
              "    }\n",
              "</style>\n",
              "<table border=\"1\" class=\"dataframe\">\n",
              "  <thead>\n",
              "    <tr style=\"text-align: right;\">\n",
              "      <th></th>\n",
              "      <th>company_name</th>\n",
              "      <th>company_rating</th>\n",
              "      <th>company_reviews_count</th>\n",
              "      <th>country_code</th>\n",
              "      <th>description</th>\n",
              "      <th>description_text</th>\n",
              "      <th>job_title</th>\n",
              "      <th>job_type</th>\n",
              "      <th>location</th>\n",
              "      <th>salary_formatted</th>\n",
              "      <th>benefits</th>\n",
              "      <th>qualifications</th>\n",
              "    </tr>\n",
              "  </thead>\n",
              "  <tbody>\n",
              "    <tr>\n",
              "      <th>0</th>\n",
              "      <td>The Estée Lauder Companies</td>\n",
              "      <td>4.0</td>\n",
              "      <td>2214.0</td>\n",
              "      <td>US</td>\n",
              "      <td>&lt;div&gt;\\n &lt;p&gt;The Treasury Analyst will assist th...</td>\n",
              "      <td>The Treasury Analyst will assist the Treasury ...</td>\n",
              "      <td>Analyst, Treasury – Banking Retail</td>\n",
              "      <td>[\"Full-time\"]</td>\n",
              "      <td>United States</td>\n",
              "      <td>Negotiable</td>\n",
              "      <td>[\"No benefits\"]</td>\n",
              "      <td>[\"No requirement\"]</td>\n",
              "    </tr>\n",
              "    <tr>\n",
              "      <th>2</th>\n",
              "      <td>Accenture</td>\n",
              "      <td>4.0</td>\n",
              "      <td>21827.0</td>\n",
              "      <td>US</td>\n",
              "      <td>&lt;div&gt;&lt;/div&gt;\\n&lt;div&gt;\\n &lt;div&gt;\\n  &lt;div&gt;\\n   &lt;b&gt;ACC...</td>\n",
              "      <td>ACCENTURE's Flexible Workforce solves clients’...</td>\n",
              "      <td>Cloud Architect</td>\n",
              "      <td>[\"Contract\"]</td>\n",
              "      <td>United States</td>\n",
              "      <td>Negotiable</td>\n",
              "      <td>[\"No benefits\"]</td>\n",
              "      <td>[\"No requirement\"]</td>\n",
              "    </tr>\n",
              "    <tr>\n",
              "      <th>3</th>\n",
              "      <td>Techo-Bloc</td>\n",
              "      <td>3.1</td>\n",
              "      <td>114.0</td>\n",
              "      <td>AO</td>\n",
              "      <td>&lt;div&gt;\\n Company Description\\n &lt;p&gt;&lt;b&gt;&lt;br&gt; Why W...</td>\n",
              "      <td>Company Description\\n  Why We Want You:  Multi...</td>\n",
              "      <td>Maintenance Technician - $30+/hr Day Shift (El...</td>\n",
              "      <td>[\"Full-time\"]</td>\n",
              "      <td>Angola, IN 46703</td>\n",
              "      <td>From $30 an hour</td>\n",
              "      <td>[\"401(k)\",\"Dental insurance\",\"Disability insur...</td>\n",
              "      <td>[\"No requirement\"]</td>\n",
              "    </tr>\n",
              "    <tr>\n",
              "      <th>7</th>\n",
              "      <td>McMahon Associates</td>\n",
              "      <td>3.8</td>\n",
              "      <td>8.0</td>\n",
              "      <td>US</td>\n",
              "      <td>&lt;div&gt;\\n &lt;p&gt;&lt;b&gt;POSITION SUMMARY:&lt;/b&gt;&lt;/p&gt; \\n &lt;p&gt;...</td>\n",
              "      <td>POSITION SUMMARY: \\n The Senior Project Engine...</td>\n",
              "      <td>Senior Project Engineer (Transportation - Design)</td>\n",
              "      <td>[\"Full-time\"]</td>\n",
              "      <td>Camp Hill, PA 17011</td>\n",
              "      <td>Negotiable</td>\n",
              "      <td>[\"No benefits\"]</td>\n",
              "      <td>[\"No requirement\"]</td>\n",
              "    </tr>\n",
              "    <tr>\n",
              "      <th>8</th>\n",
              "      <td>Amazon Kuiper Manufacturing</td>\n",
              "      <td>3.5</td>\n",
              "      <td>82832.0</td>\n",
              "      <td>US</td>\n",
              "      <td>&lt;div&gt;\\n &lt;ul&gt;\\n  &lt;li&gt;BS degree or higher in Ele...</td>\n",
              "      <td>BS degree or higher in Electrical or Computer ...</td>\n",
              "      <td>Design Verification Manager</td>\n",
              "      <td>[\"Full-time\"]</td>\n",
              "      <td>Austin, TX</td>\n",
              "      <td>Negotiable</td>\n",
              "      <td>[\"No benefits\"]</td>\n",
              "      <td>[\"No requirement\"]</td>\n",
              "    </tr>\n",
              "  </tbody>\n",
              "</table>\n",
              "</div>\n",
              "      <button class=\"colab-df-convert\" onclick=\"convertToInteractive('df-52621b84-4800-4798-b7bd-b62c5c004b7f')\"\n",
              "              title=\"Convert this dataframe to an interactive table.\"\n",
              "              style=\"display:none;\">\n",
              "        \n",
              "  <svg xmlns=\"http://www.w3.org/2000/svg\" height=\"24px\"viewBox=\"0 0 24 24\"\n",
              "       width=\"24px\">\n",
              "    <path d=\"M0 0h24v24H0V0z\" fill=\"none\"/>\n",
              "    <path d=\"M18.56 5.44l.94 2.06.94-2.06 2.06-.94-2.06-.94-.94-2.06-.94 2.06-2.06.94zm-11 1L8.5 8.5l.94-2.06 2.06-.94-2.06-.94L8.5 2.5l-.94 2.06-2.06.94zm10 10l.94 2.06.94-2.06 2.06-.94-2.06-.94-.94-2.06-.94 2.06-2.06.94z\"/><path d=\"M17.41 7.96l-1.37-1.37c-.4-.4-.92-.59-1.43-.59-.52 0-1.04.2-1.43.59L10.3 9.45l-7.72 7.72c-.78.78-.78 2.05 0 2.83L4 21.41c.39.39.9.59 1.41.59.51 0 1.02-.2 1.41-.59l7.78-7.78 2.81-2.81c.8-.78.8-2.07 0-2.86zM5.41 20L4 18.59l7.72-7.72 1.47 1.35L5.41 20z\"/>\n",
              "  </svg>\n",
              "      </button>\n",
              "      \n",
              "  <style>\n",
              "    .colab-df-container {\n",
              "      display:flex;\n",
              "      flex-wrap:wrap;\n",
              "      gap: 12px;\n",
              "    }\n",
              "\n",
              "    .colab-df-convert {\n",
              "      background-color: #E8F0FE;\n",
              "      border: none;\n",
              "      border-radius: 50%;\n",
              "      cursor: pointer;\n",
              "      display: none;\n",
              "      fill: #1967D2;\n",
              "      height: 32px;\n",
              "      padding: 0 0 0 0;\n",
              "      width: 32px;\n",
              "    }\n",
              "\n",
              "    .colab-df-convert:hover {\n",
              "      background-color: #E2EBFA;\n",
              "      box-shadow: 0px 1px 2px rgba(60, 64, 67, 0.3), 0px 1px 3px 1px rgba(60, 64, 67, 0.15);\n",
              "      fill: #174EA6;\n",
              "    }\n",
              "\n",
              "    [theme=dark] .colab-df-convert {\n",
              "      background-color: #3B4455;\n",
              "      fill: #D2E3FC;\n",
              "    }\n",
              "\n",
              "    [theme=dark] .colab-df-convert:hover {\n",
              "      background-color: #434B5C;\n",
              "      box-shadow: 0px 1px 3px 1px rgba(0, 0, 0, 0.15);\n",
              "      filter: drop-shadow(0px 1px 2px rgba(0, 0, 0, 0.3));\n",
              "      fill: #FFFFFF;\n",
              "    }\n",
              "  </style>\n",
              "\n",
              "      <script>\n",
              "        const buttonEl =\n",
              "          document.querySelector('#df-52621b84-4800-4798-b7bd-b62c5c004b7f button.colab-df-convert');\n",
              "        buttonEl.style.display =\n",
              "          google.colab.kernel.accessAllowed ? 'block' : 'none';\n",
              "\n",
              "        async function convertToInteractive(key) {\n",
              "          const element = document.querySelector('#df-52621b84-4800-4798-b7bd-b62c5c004b7f');\n",
              "          const dataTable =\n",
              "            await google.colab.kernel.invokeFunction('convertToInteractive',\n",
              "                                                     [key], {});\n",
              "          if (!dataTable) return;\n",
              "\n",
              "          const docLinkHtml = 'Like what you see? Visit the ' +\n",
              "            '<a target=\"_blank\" href=https://colab.research.google.com/notebooks/data_table.ipynb>data table notebook</a>'\n",
              "            + ' to learn more about interactive tables.';\n",
              "          element.innerHTML = '';\n",
              "          dataTable['output_type'] = 'display_data';\n",
              "          await google.colab.output.renderOutput(dataTable, element);\n",
              "          const docLink = document.createElement('div');\n",
              "          docLink.innerHTML = docLinkHtml;\n",
              "          element.appendChild(docLink);\n",
              "        }\n",
              "      </script>\n",
              "    </div>\n",
              "  </div>\n",
              "  "
            ]
          },
          "metadata": {},
          "execution_count": 28
        }
      ]
    },
    {
      "cell_type": "code",
      "source": [
        "dfjob.shape"
      ],
      "metadata": {
        "colab": {
          "base_uri": "https://localhost:8080/"
        },
        "id": "3B0QnAhqRrDq",
        "outputId": "21341e06-edc6-4c27-8f0e-0e7689ca6e1f"
      },
      "execution_count": 29,
      "outputs": [
        {
          "output_type": "execute_result",
          "data": {
            "text/plain": [
              "(199173, 12)"
            ]
          },
          "metadata": {},
          "execution_count": 29
        }
      ]
    },
    {
      "cell_type": "markdown",
      "source": [
        ""
      ],
      "metadata": {
        "id": "WVA9DhyH7srm"
      }
    },
    {
      "cell_type": "code",
      "source": [
        "# Open text file resume\n",
        "file1 = open('./drive/MyDrive/resume.txt', 'r')\n",
        "resume_data = []  \n",
        "\n",
        "while True:\n",
        "    # Get next line from file\n",
        "    line = file1.readline()\n",
        "    resume_data.append(line)\n",
        "\n",
        "    # if line is empty or end of file is reached\n",
        "    if not line:\n",
        "        break\n",
        "    \n",
        "file1.close()"
      ],
      "metadata": {
        "id": "xoADzysWSnE9"
      },
      "execution_count": 30,
      "outputs": []
    },
    {
      "cell_type": "code",
      "source": [
        "resume_data"
      ],
      "metadata": {
        "id": "_MWCelg129E5"
      },
      "execution_count": null,
      "outputs": []
    },
    {
      "cell_type": "code",
      "source": [
        "# Clean up the resume\n",
        "import re\n",
        "\n",
        "# Clean up address, school, name, number, take only character in to the new string list\n",
        "for i in range(0,len(resume_data)):\n",
        "    resume_data[i] = re.sub(r'\\[.*?\\]', '', resume_data[i])\n",
        "    word1 = \" \".join(re.findall(\"[a-zA-Z]+\", resume_data[i]))\n",
        "    resume_data[i] = word1\n",
        "\n",
        "# Using the keywords dictionary to hold all the keyword\n",
        "keyword_dict = []\n",
        "\n",
        "for line in resume_data:\n",
        "    li = list(line.split(\" \"))\n",
        "    for string_ in li:\n",
        "        keyword_dict.append(string_.lower()) # Convert the string to lower\n",
        "\n",
        "# Character that does not necessary to the search can be removed\n",
        "remove_characters = ['','a','truc','huynh','through','self','classroom','ide','concepts','founder','manager','online','first','second','are','was','unsatisfied',\n",
        "                     'an','to','on','and','that','this','the','by','in','with','s','of','non','co','my','your','his','her','they','their','he','she','it','under',\n",
        "                     'may','guided','submit','vietnam','cis','any','unsatisfied','services','for','watercraft','specialist','us','recomendation','years','work','team',\n",
        "                     'customer','ensure','supply','work','year','plans','customer','developing','records','technologies','computer','monitoring','building','market',\n",
        "                     'ensures','supply','options','learn','master','recommendation','science','risk','strategize','experienced','create','tracking','stock','students',\n",
        "                     'previous','concerns','structures','budget','next','methods','stakeholders','define','making','profits','achievement','address','routine','installed',\n",
        "                     'visual','higher','coming','teaching','letters','chain','content','trading','cross','headquarters','audiences','increase','warehouse','loss','car',\n",
        "                     'advice','highly','shows','toward','commander','compare','fiscal','directly','instructor','reduced','working','project','monitor','learning',\n",
        "                     'ethical','teach','trade']\n",
        "\n",
        "soft_skill_remove = [\"structure\", \"experience\", \"requirements\", \"worked\", \"years\", \"others\", \"skills\", \"communication\", \"ability\", \"application\", \"program\", \"customers\",\n",
        "                     \"company\", \"information\", \"plan\", \"knowledge\", \"benefit\", \"process\", \"training\", \"developed\", \"assistant\", \"support\", \"schedules\", \"education\", \n",
        "                     \"provided\", \"business\", \"operation\", \"systems\", \"oriented\", \"level\", \"base\", \"strong\", \"procedures\", \"organization\", \"functional\", \"practices\", \n",
        "                     \"reports\", \"office\", \"people\", \"certificate\", \"pay\", \"industries\", \"accountable\", \"staff\", \"associate\", \"full\", \"equipment\", \"technology\", \n",
        "                     \"maintaining\", \"design\", \"record\", \"clients\", \"bachelor\", \"projects\", \"issues\", \"using\", \"relationship\", \"internal\", \"technical\", \"collaborative\", \n",
        "                     \"meet\", \"implementation\", \"sales\", \"background\", \"detail\", \"preparing\", \"lead\", \"build\", \"coordination\", \"monitored\", \"different\", \"software\", \n",
        "                     \"marketing\", \"result\", \"weeks\", \"testing\", \"financial\", \"security\", \"proficient\", \"ensure\", \"decision\", \"improve\", \"engineer\", \"efficiency\", \n",
        "                     \"driving\", \"first\", \"futures\", \"instruction\", \"contracts\", \"strategies\", \"conducted\", \"attention\", \"identified\", \"analytics\", \"evaluated\"]\n",
        "\n",
        "for char in remove_characters:\n",
        "    while(char in keyword_dict) :\n",
        "        keyword_dict.remove(char)\n",
        "\n",
        "for char in soft_skill_remove:\n",
        "    while(char in keyword_dict) :\n",
        "        keyword_dict.remove(char)\n",
        "\n",
        "# remove the repeated word in the dictionary\n",
        "keyword_dict = list(dict.fromkeys(keyword_dict))\n",
        "\n",
        "# Figure out the length of the keyword dictionaries\n",
        "len(keyword_dict)"
      ],
      "metadata": {
        "colab": {
          "base_uri": "https://localhost:8080/"
        },
        "id": "cHRSmsYm7GBC",
        "outputId": "9bea14ae-4d98-425e-fda6-00f3301d7588"
      },
      "execution_count": 31,
      "outputs": [
        {
          "output_type": "execute_result",
          "data": {
            "text/plain": [
              "102"
            ]
          },
          "metadata": {},
          "execution_count": 31
        }
      ]
    },
    {
      "cell_type": "code",
      "source": [
        "def pretty_print(word_list):\n",
        "  index = 1\n",
        "  for word in word_list:\n",
        "    print(word, end=', ')\n",
        "    if index % 10 == 0:\n",
        "      print('')\n",
        "    index += 1"
      ],
      "metadata": {
        "id": "UAOpQ5yMjKxy"
      },
      "execution_count": 32,
      "outputs": []
    },
    {
      "cell_type": "code",
      "source": [
        "# Display list of dictionary\n",
        "pretty_print(keyword_dict)"
      ],
      "metadata": {
        "colab": {
          "base_uri": "https://localhost:8080/"
        },
        "id": "2IxuCUZd8D7c",
        "outputId": "3beb792d-47d3-4174-e65c-e39206e4803e"
      },
      "execution_count": 33,
      "outputs": [
        {
          "output_type": "stream",
          "name": "stdout",
          "text": [
            "stack, developer, management, analyzing, data, scientist, machine, cyber, introduce, python, \n",
            "react, git, docker, web, development, ms, visio, jira, github, slack, \n",
            "html, css, json, bootstrap, r, shiny, server, framework, flask, restful, \n",
            "api, javascript, heroku, paas, lifecycle, agile, methodologies, visualization, dashboard, bi, \n",
            "mining, ml, ai, database, sql, mysql, algorithms, c, java, spring, \n",
            "mvc, net, eclipse, studio, vs, code, anaconda, pycharm, jupiter, notebook, \n",
            "servlet, apache, tomcat, automation, bot, script, hacking, ui, ux, explaining, \n",
            "multitask, virtual, machines, windows, linux, mac, osx, autocad, d, modelling, \n",
            "inventory, planning, forecasting, optimization, logistics, teams, prototype, predict, volatility, analyst, \n",
            "infrastructure, social, media, compared, logistic, vso, army, medals, vessel, lab, \n",
            "coding, research, "
          ]
        }
      ]
    },
    {
      "cell_type": "markdown",
      "source": [
        "## Model 1: Nature Language Processing (NLP) with Parts of Speech (POS) tokenization for Keyword Filtering:\n",
        "Approach will be:\n",
        "- Sampling\n",
        "- POS Token\n",
        "### 1) Sampling\n",
        "\n",
        "The amount of words is too large, I will reduce the data to 10,000 row so that we can see how our model works on the smaller scale (sample is 5% of the data)"
      ],
      "metadata": {
        "id": "aEyAqQ_XG0-I"
      }
    },
    {
      "cell_type": "code",
      "source": [
        "sample_size=10000\n",
        "\n",
        "# Create a sample of 10,000 rows\n",
        "dfjob_s_1 = dfjob.sample(n=sample_size)\n",
        "\n",
        "# Validate the transactions\n",
        "dfjob_s_1.head()"
      ],
      "metadata": {
        "colab": {
          "base_uri": "https://localhost:8080/",
          "height": 582
        },
        "id": "OgDzwFq36TSd",
        "outputId": "bb0eabd7-dd57-42cd-b0a3-0cae77210ff1"
      },
      "execution_count": 34,
      "outputs": [
        {
          "output_type": "execute_result",
          "data": {
            "text/plain": [
              "                                        company_name  company_rating  \\\n",
              "20264                                    Wells Fargo             3.7   \n",
              "23837                                         Jacobs             3.9   \n",
              "20597                  BJ's Restaurant and Brewhouse             3.5   \n",
              "21737  Blue Cross Blue Shield of IL, MT, NM, OK & TX             3.9   \n",
              "5432                                       Ingredion             3.7   \n",
              "\n",
              "       company_reviews_count country_code  \\\n",
              "20264                42353.0           US   \n",
              "23837                 5101.0        Other   \n",
              "20597                 2578.0           US   \n",
              "21737                 1676.0           US   \n",
              "5432                   416.0           US   \n",
              "\n",
              "                                             description  \\\n",
              "20264  <div>\\n At Wells Fargo, we are looking for tal...   \n",
              "23837  <div>\\n <p>Challenging Today. Reinventing Tomo...   \n",
              "20597  <p></p>\\n<div>\\n <p>Open interviews conducted ...   \n",
              "21737  <p></p>\\n<div>\\n <div>\\n  <p><b>Position Summa...   \n",
              "5432   <div>\\n <div>\\n  TITLE: Technical Lead\\n </div...   \n",
              "\n",
              "                                        description_text  \\\n",
              "20264  At Wells Fargo, we are looking for talented pe...   \n",
              "23837  Challenging Today. Reinventing Tomorrow. \\n  W...   \n",
              "20597  Open interviews conducted daily - Walk-ins Wel...   \n",
              "21737  Position Summary: This position in Finance is ...   \n",
              "5432   TITLE: Technical Lead\\n     LOCATION: Cedar Ra...   \n",
              "\n",
              "                              job_title                   job_type  \\\n",
              "20264  Senior Financial Risk Specialist              [\"Full-time\"]   \n",
              "23837             Systems Administrator              [\"Full-time\"]   \n",
              "20597                         Prep Cook  [\"Full-time\",\"Part-time\"]   \n",
              "21737  Internal Ops Budg/Fin Consultant              [\"Full-time\"]   \n",
              "5432                     Technical Lead              [\"Full-time\"]   \n",
              "\n",
              "                     location salary_formatted  \\\n",
              "20264           Charlotte, NC       Negotiable   \n",
              "23837     Chantilly, VA 20153       Negotiable   \n",
              "20597         Tulsa, OK 74133      $15 an hour   \n",
              "21737             Chicago, IL       Negotiable   \n",
              "5432   Cedar Rapids, IA 52404       Negotiable   \n",
              "\n",
              "                                                benefits      qualifications  \n",
              "20264                                    [\"No benefits\"]  [\"No requirement\"]  \n",
              "23837                                    [\"No benefits\"]  [\"No requirement\"]  \n",
              "20597  [\"401(k)\",\"Dental insurance\",\"Health insurance...  [\"No requirement\"]  \n",
              "21737                                    [\"No benefits\"]  [\"No requirement\"]  \n",
              "5432                                     [\"No benefits\"]  [\"No requirement\"]  "
            ],
            "text/html": [
              "\n",
              "  <div id=\"df-54eeedca-70c4-4f46-addd-bee66d34540c\">\n",
              "    <div class=\"colab-df-container\">\n",
              "      <div>\n",
              "<style scoped>\n",
              "    .dataframe tbody tr th:only-of-type {\n",
              "        vertical-align: middle;\n",
              "    }\n",
              "\n",
              "    .dataframe tbody tr th {\n",
              "        vertical-align: top;\n",
              "    }\n",
              "\n",
              "    .dataframe thead th {\n",
              "        text-align: right;\n",
              "    }\n",
              "</style>\n",
              "<table border=\"1\" class=\"dataframe\">\n",
              "  <thead>\n",
              "    <tr style=\"text-align: right;\">\n",
              "      <th></th>\n",
              "      <th>company_name</th>\n",
              "      <th>company_rating</th>\n",
              "      <th>company_reviews_count</th>\n",
              "      <th>country_code</th>\n",
              "      <th>description</th>\n",
              "      <th>description_text</th>\n",
              "      <th>job_title</th>\n",
              "      <th>job_type</th>\n",
              "      <th>location</th>\n",
              "      <th>salary_formatted</th>\n",
              "      <th>benefits</th>\n",
              "      <th>qualifications</th>\n",
              "    </tr>\n",
              "  </thead>\n",
              "  <tbody>\n",
              "    <tr>\n",
              "      <th>20264</th>\n",
              "      <td>Wells Fargo</td>\n",
              "      <td>3.7</td>\n",
              "      <td>42353.0</td>\n",
              "      <td>US</td>\n",
              "      <td>&lt;div&gt;\\n At Wells Fargo, we are looking for tal...</td>\n",
              "      <td>At Wells Fargo, we are looking for talented pe...</td>\n",
              "      <td>Senior Financial Risk Specialist</td>\n",
              "      <td>[\"Full-time\"]</td>\n",
              "      <td>Charlotte, NC</td>\n",
              "      <td>Negotiable</td>\n",
              "      <td>[\"No benefits\"]</td>\n",
              "      <td>[\"No requirement\"]</td>\n",
              "    </tr>\n",
              "    <tr>\n",
              "      <th>23837</th>\n",
              "      <td>Jacobs</td>\n",
              "      <td>3.9</td>\n",
              "      <td>5101.0</td>\n",
              "      <td>Other</td>\n",
              "      <td>&lt;div&gt;\\n &lt;p&gt;Challenging Today. Reinventing Tomo...</td>\n",
              "      <td>Challenging Today. Reinventing Tomorrow. \\n  W...</td>\n",
              "      <td>Systems Administrator</td>\n",
              "      <td>[\"Full-time\"]</td>\n",
              "      <td>Chantilly, VA 20153</td>\n",
              "      <td>Negotiable</td>\n",
              "      <td>[\"No benefits\"]</td>\n",
              "      <td>[\"No requirement\"]</td>\n",
              "    </tr>\n",
              "    <tr>\n",
              "      <th>20597</th>\n",
              "      <td>BJ's Restaurant and Brewhouse</td>\n",
              "      <td>3.5</td>\n",
              "      <td>2578.0</td>\n",
              "      <td>US</td>\n",
              "      <td>&lt;p&gt;&lt;/p&gt;\\n&lt;div&gt;\\n &lt;p&gt;Open interviews conducted ...</td>\n",
              "      <td>Open interviews conducted daily - Walk-ins Wel...</td>\n",
              "      <td>Prep Cook</td>\n",
              "      <td>[\"Full-time\",\"Part-time\"]</td>\n",
              "      <td>Tulsa, OK 74133</td>\n",
              "      <td>$15 an hour</td>\n",
              "      <td>[\"401(k)\",\"Dental insurance\",\"Health insurance...</td>\n",
              "      <td>[\"No requirement\"]</td>\n",
              "    </tr>\n",
              "    <tr>\n",
              "      <th>21737</th>\n",
              "      <td>Blue Cross Blue Shield of IL, MT, NM, OK &amp; TX</td>\n",
              "      <td>3.9</td>\n",
              "      <td>1676.0</td>\n",
              "      <td>US</td>\n",
              "      <td>&lt;p&gt;&lt;/p&gt;\\n&lt;div&gt;\\n &lt;div&gt;\\n  &lt;p&gt;&lt;b&gt;Position Summa...</td>\n",
              "      <td>Position Summary: This position in Finance is ...</td>\n",
              "      <td>Internal Ops Budg/Fin Consultant</td>\n",
              "      <td>[\"Full-time\"]</td>\n",
              "      <td>Chicago, IL</td>\n",
              "      <td>Negotiable</td>\n",
              "      <td>[\"No benefits\"]</td>\n",
              "      <td>[\"No requirement\"]</td>\n",
              "    </tr>\n",
              "    <tr>\n",
              "      <th>5432</th>\n",
              "      <td>Ingredion</td>\n",
              "      <td>3.7</td>\n",
              "      <td>416.0</td>\n",
              "      <td>US</td>\n",
              "      <td>&lt;div&gt;\\n &lt;div&gt;\\n  TITLE: Technical Lead\\n &lt;/div...</td>\n",
              "      <td>TITLE: Technical Lead\\n     LOCATION: Cedar Ra...</td>\n",
              "      <td>Technical Lead</td>\n",
              "      <td>[\"Full-time\"]</td>\n",
              "      <td>Cedar Rapids, IA 52404</td>\n",
              "      <td>Negotiable</td>\n",
              "      <td>[\"No benefits\"]</td>\n",
              "      <td>[\"No requirement\"]</td>\n",
              "    </tr>\n",
              "  </tbody>\n",
              "</table>\n",
              "</div>\n",
              "      <button class=\"colab-df-convert\" onclick=\"convertToInteractive('df-54eeedca-70c4-4f46-addd-bee66d34540c')\"\n",
              "              title=\"Convert this dataframe to an interactive table.\"\n",
              "              style=\"display:none;\">\n",
              "        \n",
              "  <svg xmlns=\"http://www.w3.org/2000/svg\" height=\"24px\"viewBox=\"0 0 24 24\"\n",
              "       width=\"24px\">\n",
              "    <path d=\"M0 0h24v24H0V0z\" fill=\"none\"/>\n",
              "    <path d=\"M18.56 5.44l.94 2.06.94-2.06 2.06-.94-2.06-.94-.94-2.06-.94 2.06-2.06.94zm-11 1L8.5 8.5l.94-2.06 2.06-.94-2.06-.94L8.5 2.5l-.94 2.06-2.06.94zm10 10l.94 2.06.94-2.06 2.06-.94-2.06-.94-.94-2.06-.94 2.06-2.06.94z\"/><path d=\"M17.41 7.96l-1.37-1.37c-.4-.4-.92-.59-1.43-.59-.52 0-1.04.2-1.43.59L10.3 9.45l-7.72 7.72c-.78.78-.78 2.05 0 2.83L4 21.41c.39.39.9.59 1.41.59.51 0 1.02-.2 1.41-.59l7.78-7.78 2.81-2.81c.8-.78.8-2.07 0-2.86zM5.41 20L4 18.59l7.72-7.72 1.47 1.35L5.41 20z\"/>\n",
              "  </svg>\n",
              "      </button>\n",
              "      \n",
              "  <style>\n",
              "    .colab-df-container {\n",
              "      display:flex;\n",
              "      flex-wrap:wrap;\n",
              "      gap: 12px;\n",
              "    }\n",
              "\n",
              "    .colab-df-convert {\n",
              "      background-color: #E8F0FE;\n",
              "      border: none;\n",
              "      border-radius: 50%;\n",
              "      cursor: pointer;\n",
              "      display: none;\n",
              "      fill: #1967D2;\n",
              "      height: 32px;\n",
              "      padding: 0 0 0 0;\n",
              "      width: 32px;\n",
              "    }\n",
              "\n",
              "    .colab-df-convert:hover {\n",
              "      background-color: #E2EBFA;\n",
              "      box-shadow: 0px 1px 2px rgba(60, 64, 67, 0.3), 0px 1px 3px 1px rgba(60, 64, 67, 0.15);\n",
              "      fill: #174EA6;\n",
              "    }\n",
              "\n",
              "    [theme=dark] .colab-df-convert {\n",
              "      background-color: #3B4455;\n",
              "      fill: #D2E3FC;\n",
              "    }\n",
              "\n",
              "    [theme=dark] .colab-df-convert:hover {\n",
              "      background-color: #434B5C;\n",
              "      box-shadow: 0px 1px 3px 1px rgba(0, 0, 0, 0.15);\n",
              "      filter: drop-shadow(0px 1px 2px rgba(0, 0, 0, 0.3));\n",
              "      fill: #FFFFFF;\n",
              "    }\n",
              "  </style>\n",
              "\n",
              "      <script>\n",
              "        const buttonEl =\n",
              "          document.querySelector('#df-54eeedca-70c4-4f46-addd-bee66d34540c button.colab-df-convert');\n",
              "        buttonEl.style.display =\n",
              "          google.colab.kernel.accessAllowed ? 'block' : 'none';\n",
              "\n",
              "        async function convertToInteractive(key) {\n",
              "          const element = document.querySelector('#df-54eeedca-70c4-4f46-addd-bee66d34540c');\n",
              "          const dataTable =\n",
              "            await google.colab.kernel.invokeFunction('convertToInteractive',\n",
              "                                                     [key], {});\n",
              "          if (!dataTable) return;\n",
              "\n",
              "          const docLinkHtml = 'Like what you see? Visit the ' +\n",
              "            '<a target=\"_blank\" href=https://colab.research.google.com/notebooks/data_table.ipynb>data table notebook</a>'\n",
              "            + ' to learn more about interactive tables.';\n",
              "          element.innerHTML = '';\n",
              "          dataTable['output_type'] = 'display_data';\n",
              "          await google.colab.output.renderOutput(dataTable, element);\n",
              "          const docLink = document.createElement('div');\n",
              "          docLink.innerHTML = docLinkHtml;\n",
              "          element.appendChild(docLink);\n",
              "        }\n",
              "      </script>\n",
              "    </div>\n",
              "  </div>\n",
              "  "
            ]
          },
          "metadata": {},
          "execution_count": 34
        }
      ]
    },
    {
      "cell_type": "code",
      "source": [
        ""
      ],
      "metadata": {
        "id": "v40BPT-zBmT4"
      },
      "execution_count": 34,
      "outputs": []
    },
    {
      "cell_type": "code",
      "source": [
        "# Has to import NLTK and download averaged_perceptron_tagger\n",
        "import nltk\n",
        "from nltk import pos_tag\n",
        "from nltk.stem import PorterStemmer\n",
        "from nltk.tokenize import word_tokenize\n",
        "\n",
        "nltk.download('averaged_perceptron_tagger')\n",
        "nltk.download('punkt')"
      ],
      "metadata": {
        "colab": {
          "base_uri": "https://localhost:8080/"
        },
        "id": "EBXwMgqi_Y-Q",
        "outputId": "4fc8ae98-5f61-4d14-819c-311bac0118da"
      },
      "execution_count": 35,
      "outputs": [
        {
          "output_type": "stream",
          "name": "stderr",
          "text": [
            "[nltk_data] Downloading package averaged_perceptron_tagger to\n",
            "[nltk_data]     /root/nltk_data...\n",
            "[nltk_data]   Unzipping taggers/averaged_perceptron_tagger.zip.\n",
            "[nltk_data] Downloading package punkt to /root/nltk_data...\n",
            "[nltk_data]   Unzipping tokenizers/punkt.zip.\n"
          ]
        },
        {
          "output_type": "execute_result",
          "data": {
            "text/plain": [
              "True"
            ]
          },
          "metadata": {},
          "execution_count": 35
        }
      ]
    },
    {
      "cell_type": "code",
      "source": [
        "tags = pos_tag(keyword_dict)\n",
        "\n",
        "tags_list = []\n",
        "for tag in tags:\n",
        "  tags_list.append(tag[1])\n",
        "\n",
        "tags_list = list(dict.fromkeys(tags_list))\n",
        "\n",
        "# Figure out the length of the keyword dictionaries\n",
        "len(tags_list)"
      ],
      "metadata": {
        "colab": {
          "base_uri": "https://localhost:8080/"
        },
        "id": "lge-Kjgqj4V7",
        "outputId": "0fbb1e16-78a9-4e5a-984a-0be2c2f32d79"
      },
      "execution_count": 36,
      "outputs": [
        {
          "output_type": "execute_result",
          "data": {
            "text/plain": [
              "8"
            ]
          },
          "metadata": {},
          "execution_count": 36
        }
      ]
    },
    {
      "cell_type": "code",
      "source": [
        "tags"
      ],
      "metadata": {
        "colab": {
          "base_uri": "https://localhost:8080/"
        },
        "id": "UMzJ5LkFviHV",
        "outputId": "94187924-ad7f-429d-fb91-3bb811081ce8"
      },
      "execution_count": 37,
      "outputs": [
        {
          "output_type": "execute_result",
          "data": {
            "text/plain": [
              "[('stack', 'NN'),\n",
              " ('developer', 'NN'),\n",
              " ('management', 'NN'),\n",
              " ('analyzing', 'VBG'),\n",
              " ('data', 'NNS'),\n",
              " ('scientist', 'NN'),\n",
              " ('machine', 'NN'),\n",
              " ('cyber', 'NN'),\n",
              " ('introduce', 'NN'),\n",
              " ('python', 'NN'),\n",
              " ('react', 'NN'),\n",
              " ('git', 'JJ'),\n",
              " ('docker', 'NN'),\n",
              " ('web', 'NN'),\n",
              " ('development', 'NN'),\n",
              " ('ms', 'NN'),\n",
              " ('visio', 'NN'),\n",
              " ('jira', 'NN'),\n",
              " ('github', 'NN'),\n",
              " ('slack', 'NN'),\n",
              " ('html', 'NN'),\n",
              " ('css', 'NN'),\n",
              " ('json', 'NN'),\n",
              " ('bootstrap', 'NN'),\n",
              " ('r', 'NN'),\n",
              " ('shiny', 'JJ'),\n",
              " ('server', 'NN'),\n",
              " ('framework', 'NN'),\n",
              " ('flask', 'NN'),\n",
              " ('restful', 'JJ'),\n",
              " ('api', 'JJ'),\n",
              " ('javascript', 'NN'),\n",
              " ('heroku', 'NN'),\n",
              " ('paas', 'NN'),\n",
              " ('lifecycle', 'NN'),\n",
              " ('agile', 'IN'),\n",
              " ('methodologies', 'NNS'),\n",
              " ('visualization', 'VBP'),\n",
              " ('dashboard', 'RB'),\n",
              " ('bi', 'IN'),\n",
              " ('mining', 'VBG'),\n",
              " ('ml', 'NN'),\n",
              " ('ai', 'JJ'),\n",
              " ('database', 'NN'),\n",
              " ('sql', 'NN'),\n",
              " ('mysql', 'NN'),\n",
              " ('algorithms', 'IN'),\n",
              " ('c', 'JJ'),\n",
              " ('java', 'NN'),\n",
              " ('spring', 'NN'),\n",
              " ('mvc', 'JJ'),\n",
              " ('net', 'JJ'),\n",
              " ('eclipse', 'NN'),\n",
              " ('studio', 'NN'),\n",
              " ('vs', 'NN'),\n",
              " ('code', 'NN'),\n",
              " ('anaconda', 'IN'),\n",
              " ('pycharm', 'NN'),\n",
              " ('jupiter', 'NN'),\n",
              " ('notebook', 'NN'),\n",
              " ('servlet', 'NN'),\n",
              " ('apache', 'NN'),\n",
              " ('tomcat', 'NN'),\n",
              " ('automation', 'NN'),\n",
              " ('bot', 'IN'),\n",
              " ('script', 'NN'),\n",
              " ('hacking', 'VBG'),\n",
              " ('ui', 'JJ'),\n",
              " ('ux', 'JJ'),\n",
              " ('explaining', 'VBG'),\n",
              " ('multitask', 'JJ'),\n",
              " ('virtual', 'JJ'),\n",
              " ('machines', 'NNS'),\n",
              " ('windows', 'NNS'),\n",
              " ('linux', 'VBP'),\n",
              " ('mac', 'JJ'),\n",
              " ('osx', 'JJ'),\n",
              " ('autocad', 'NN'),\n",
              " ('d', 'NN'),\n",
              " ('modelling', 'VBG'),\n",
              " ('inventory', 'NN'),\n",
              " ('planning', 'VBG'),\n",
              " ('forecasting', 'VBG'),\n",
              " ('optimization', 'NN'),\n",
              " ('logistics', 'NNS'),\n",
              " ('teams', 'VBP'),\n",
              " ('prototype', 'JJ'),\n",
              " ('predict', 'NN'),\n",
              " ('volatility', 'NN'),\n",
              " ('analyst', 'NN'),\n",
              " ('infrastructure', 'NN'),\n",
              " ('social', 'JJ'),\n",
              " ('media', 'NNS'),\n",
              " ('compared', 'VBN'),\n",
              " ('logistic', 'JJ'),\n",
              " ('vso', 'NN'),\n",
              " ('army', 'NN'),\n",
              " ('medals', 'NNS'),\n",
              " ('vessel', 'VBP'),\n",
              " ('lab', 'JJ'),\n",
              " ('coding', 'NN'),\n",
              " ('research', 'NN')]"
            ]
          },
          "metadata": {},
          "execution_count": 37
        }
      ]
    },
    {
      "cell_type": "markdown",
      "source": [
        "### Apply POS tagging"
      ],
      "metadata": {
        "id": "z_amMclQoOvV"
      }
    },
    {
      "cell_type": "code",
      "source": [
        "ps = PorterStemmer()\n",
        "\n",
        "\n",
        "# process the job description.\n",
        "def prepare_job_desc(desc):\n",
        "    # tokenize description.\n",
        "    tokens = word_tokenize(desc)\n",
        "        \n",
        "    # Parts of speech (POS) tag tokens.\n",
        "    token_tag = pos_tag(tokens)\n",
        "    \n",
        "    # Only include some of the POS tags.\n",
        "    include_tags = ['VBN', 'VBD', 'JJ', 'JJS', 'JJR', 'CD', 'NN', 'NNS', 'NNP', 'NNPS']\n",
        "    filtered_tokens = [tok for tok, tag in token_tag if tag in include_tags]\n",
        "    \n",
        "    # stem words.\n",
        "    stemmed_tokens = [ps.stem(tok).lower() for tok in filtered_tokens]\n",
        "    return set(stemmed_tokens)\n",
        "\n",
        "\n",
        "dfjob_s_1['job_description_word_set'] = dfjob_s_1['description_text'].map(prepare_job_desc)\n",
        "\n",
        "# process the keywords\n",
        "tool_keywords_set = set([ps.stem(tok) for tok in keyword_dict]) # stem the keywords (since the job description is also stemmed.)\n",
        "tool_keywords_dict = {ps.stem(tok):tok for tok in keyword_dict} # use this dictionary to revert the stemmed words back to the original."
      ],
      "metadata": {
        "id": "Qhuu9EHJ_8YV"
      },
      "execution_count": null,
      "outputs": []
    },
    {
      "cell_type": "code",
      "source": [
        "tool_keywords_dict"
      ],
      "metadata": {
        "id": "fu6D8KYhtWWg"
      },
      "execution_count": null,
      "outputs": []
    },
    {
      "cell_type": "code",
      "source": [
        "pretty_print(tool_keywords_set)"
      ],
      "metadata": {
        "id": "tfF88TUFGcme"
      },
      "execution_count": null,
      "outputs": []
    },
    {
      "cell_type": "code",
      "source": [
        "tool_list = []\n",
        "\n",
        "msk = dfjob_s_1['country_code'] != '' # just in case you want to filter the data.\n",
        "\n",
        "num_postings = len(dfjob_s_1[msk].index)\n",
        "for i in range(num_postings):\n",
        "    job_desc = dfjob_s_1[msk].iloc[i]['description_text'].lower()\n",
        "    job_desc_set = dfjob_s_1[msk].iloc[i]['job_description_word_set']\n",
        "    \n",
        "    # check if the keywords are in the job description. Look for exact match by token.\n",
        "    tool_words = tool_keywords_set.intersection(job_desc_set)\n",
        "    \n",
        "    # label the job descriptions without any tool keywords.\n",
        "    if len(tool_words) == 0:\n",
        "        tool_list.append('nothing specified')\n",
        "    \n",
        "    tool_list += list(tool_words)"
      ],
      "metadata": {
        "id": "huG4VKdkCQQZ"
      },
      "execution_count": null,
      "outputs": []
    },
    {
      "cell_type": "code",
      "source": [
        "# create the list of tools.\n",
        "df_tool = pd.DataFrame(data={'cnt': tool_list})\n",
        "df_tool = df_tool.replace(tool_keywords_dict)\n",
        "\n",
        "df_tool_top = df_tool['cnt'].value_counts().reset_index().rename(columns={'index': 'tool'}).iloc[:60]\n"
      ],
      "metadata": {
        "id": "SvU7D3WP4Pqk"
      },
      "execution_count": null,
      "outputs": []
    },
    {
      "cell_type": "code",
      "source": [
        "df_tool_top"
      ],
      "metadata": {
        "id": "ZpngjDSSwW-E"
      },
      "execution_count": null,
      "outputs": []
    },
    {
      "cell_type": "code",
      "source": [
        "from plotly import __version__\n",
        "from plotly.offline import download_plotlyjs, init_notebook_mode, plot, iplot\n",
        "import plotly.graph_objs as go\n",
        "\n",
        "# visualize the tools.\n",
        "layout = dict(\n",
        "    title='Top Skill base on Resume',\n",
        "    yaxis=dict(\n",
        "        title='% of job postings',\n",
        "        tickformat=',.0%',\n",
        "    )\n",
        ")\n",
        "\n",
        "fig = go.Figure(layout=layout)\n",
        "fig.add_trace(go.Bar(\n",
        "    x=df_tool_top['tool'],\n",
        "    y=df_tool_top['cnt']/num_postings\n",
        "))\n",
        "\n",
        "iplot(fig)"
      ],
      "metadata": {
        "id": "WpiSKQxl4tJS"
      },
      "execution_count": null,
      "outputs": []
    },
    {
      "cell_type": "code",
      "source": [
        "\n",
        "import plotly.express as px\n",
        "\n",
        "fig = px.bar( x=df_tool_top['tool'],\n",
        "    y=df_tool_top['cnt'])\n",
        "fig.show()"
      ],
      "metadata": {
        "id": "jIAlr-mO4RMI"
      },
      "execution_count": null,
      "outputs": []
    },
    {
      "cell_type": "markdown",
      "source": [
        "### Find most align \n",
        "Using the list just found and find the most "
      ],
      "metadata": {
        "id": "AE93l63Ynepz"
      }
    },
    {
      "cell_type": "code",
      "source": [
        "pretty_print(df_tool_top['tool'])"
      ],
      "metadata": {
        "id": "uQPv_yRMXrQK"
      },
      "execution_count": null,
      "outputs": []
    },
    {
      "cell_type": "code",
      "source": [
        "df_tool_top['grow_percentage'] = df_tool_top['cnt']/sample_size"
      ],
      "metadata": {
        "id": "_4IFVle7YNdL"
      },
      "execution_count": null,
      "outputs": []
    },
    {
      "cell_type": "code",
      "source": [
        "keyword_list_after_clean = list(df_tool_top['tool'])"
      ],
      "metadata": {
        "id": "5TBDO7QZZc5E"
      },
      "execution_count": null,
      "outputs": []
    },
    {
      "cell_type": "code",
      "source": [
        "pretty_print(keyword_list_after_clean)"
      ],
      "metadata": {
        "id": "hpcy_oifjFSi"
      },
      "execution_count": null,
      "outputs": []
    },
    {
      "cell_type": "markdown",
      "source": [
        "**Result:**\n",
        "\n",
        "According to the key word list and the percentage, we can extract many information such as:\n",
        "  - Softskill: teams, management, planning, development\n",
        "  - Hardskill: data, modelling, research, inventory, social, coding, analyzing, machines, optimization, database, visualization, methodologies, automation, virtual, infrastructure, media, lab, web, framework, script, agile, forecasting, server, logistic, lifecycle\n",
        "  - Pogramming languages: Python, r, spring, javascript, scientist, compared, studio, linux, dashboard, bi, jira, prototype, algorithms, ai, react, net, cyber, explaining, visio\n",
        "\n",
        "These are the soft skill, hard skill and programming langages are most in demand. "
      ],
      "metadata": {
        "id": "4K1XiHZ8tpBb"
      }
    },
    {
      "cell_type": "markdown",
      "source": [
        "## Model 2: Bags of Words and Cosine Similarity"
      ],
      "metadata": {
        "id": "UnT0FLGb-zdO"
      }
    },
    {
      "cell_type": "code",
      "source": [
        "sample_size=10000\n",
        "\n",
        "# Create a sample of 10000 rows\n",
        "dfjob_s_2 = dfjob.sample(n=sample_size)\n",
        "\n",
        "# Validate the transactions\n",
        "dfjob_s_2.head()"
      ],
      "metadata": {
        "id": "u07MoRhE5QoA"
      },
      "execution_count": null,
      "outputs": []
    },
    {
      "cell_type": "code",
      "source": [
        "# drop for SVM, Bag of words and cosine similarity\n",
        "dfjob_s_2.drop(['country_code', 'description', 'job_type', 'salary_formatted', 'benefits'],axis=1,inplace=True)"
      ],
      "metadata": {
        "id": "Q7KjX4BULrtV"
      },
      "execution_count": null,
      "outputs": []
    },
    {
      "cell_type": "code",
      "source": [
        "dfjob_s_2.describe(include='all').T"
      ],
      "metadata": {
        "id": "rEFTjWme5uCo"
      },
      "execution_count": null,
      "outputs": []
    },
    {
      "cell_type": "code",
      "source": [
        "ps = PorterStemmer()\n",
        "\n",
        "# process the job description.\n",
        "def prepare_job_desc(desc):\n",
        "    # tokenize description.\n",
        "    tokens = word_tokenize(desc)\n",
        "        \n",
        "    # Parts of speech (POS) tag tokens.\n",
        "    token_tag = pos_tag(tokens)\n",
        "    \n",
        "    # Only include some of the POS tags.\n",
        "    include_tags = ['VBN', 'VBD', 'JJ', 'JJS', 'JJR', 'CD', 'NN', 'NNS', 'NNP', 'NNPS']\n",
        "    filtered_tokens = [tok for tok, tag in token_tag if tag in include_tags]\n",
        "    \n",
        "    # stem words.\n",
        "    stemmed_tokens = [ps.stem(tok).lower() for tok in filtered_tokens]\n",
        "    return set(stemmed_tokens)\n",
        "\n",
        "dfjob_s_2['keywords'] = dfjob_s_2['description_text'].map(prepare_job_desc)"
      ],
      "metadata": {
        "id": "cuPC7JON7abm"
      },
      "execution_count": null,
      "outputs": []
    },
    {
      "cell_type": "code",
      "source": [
        "# Convert the data to list\n",
        "dfjob_s_2['keywords'] = dfjob_s_2['keywords'].apply(list)\n",
        "\n",
        "# Drop the unecessary_columns\n",
        "dfjob_s_2.drop(['description_text'], axis=1, inplace=True)\n",
        "\n",
        "# Merge the first 5 columns to create the company portfolio\n",
        "dfjob_s_2['jobs_all_information'] = dfjob_s_2[dfjob_s_2.columns[0:4]].apply(\n",
        "    lambda x: '|'.join(x.dropna().astype(str)),\n",
        "    axis=1)\n",
        "\n",
        "# remove unecessary attributes\n",
        "dfjob_s_2.drop(['company_name', 'company_rating', 'company_reviews_count', 'job_title', 'location'], axis=1, inplace=True)\n",
        "\n",
        "# Now merge the bag of words together\n",
        "dfjob_s_2['bag_of_words'] = dfjob_s_2[dfjob_s_2.columns[1:2]].apply(\n",
        "    lambda x: ','.join(x.dropna().astype(str)),\n",
        "    axis=1)\n",
        "\n",
        "# Drop the unecessary columns\n",
        "dfjob_s_2.drop(['qualifications','keywords'], axis=1, inplace=True)\n",
        "\n",
        "# convert to string\n",
        "dfjob_s_2['bag_of_words'] = dfjob_s_2['bag_of_words'].apply(str)\n",
        "\n",
        "# filter out unecessary element\n",
        "dfjob_s_2['bag_of_words'] = dfjob_s_2['bag_of_words'].apply(lambda x: x.replace(\"'\",''))\n",
        "dfjob_s_2['bag_of_words'] = dfjob_s_2['bag_of_words'].apply(lambda x: x.replace(\",\",''))\n",
        "\n",
        "# reset index\n",
        "dfjob_s_2 = dfjob_s_2.reset_index(drop=True)"
      ],
      "metadata": {
        "id": "KXR6TXVPilN1"
      },
      "execution_count": null,
      "outputs": []
    },
    {
      "cell_type": "code",
      "source": [
        "dfjob_s_2.head()"
      ],
      "metadata": {
        "id": "qZVU3rip7vsS"
      },
      "execution_count": null,
      "outputs": []
    },
    {
      "cell_type": "code",
      "source": [
        "# Only run 1 to add the value to the \n",
        "# Create the whole string keyword\n",
        "keyword_dict_str = ' '.join([str(elem) for elem in keyword_dict])\n",
        "\n",
        "# Add to the end of the resume\n",
        "dfjob_s_2.loc[len(dfjob_s_2.index)] = ['new_candidates_resume',keyword_dict_str]"
      ],
      "metadata": {
        "id": "n0RxBX6f1tIg"
      },
      "execution_count": null,
      "outputs": []
    },
    {
      "cell_type": "code",
      "source": [
        "# drop if the data is not match\n",
        "# dfjob_s_2 = dfjob_s_2. drop (index=[1000, 1001, 1002, 1003])"
      ],
      "metadata": {
        "id": "lmhlOt321CGP"
      },
      "execution_count": null,
      "outputs": []
    },
    {
      "cell_type": "code",
      "source": [
        "from sklearn.metrics.pairwise import cosine_similarity\n",
        "from sklearn.feature_extraction.text import CountVectorizer\n",
        "\n",
        "# Transform the \n",
        "count = CountVectorizer()\n",
        "count_matrix = count.fit_transform(dfjob_s_2['bag_of_words'])\n",
        "\n",
        "# Create the matrix to compare\n",
        "cosine_sim = cosine_similarity(count_matrix, count_matrix)\n",
        "\n",
        "# create a Series of job titles, so that the series index can match the row and column index of the similarity matrix.\n",
        "indices = pd.Series(dfjob_s_2['jobs_all_information'])\n",
        "\n",
        "# Validate similarity matrix\n",
        "print(cosine_sim)"
      ],
      "metadata": {
        "colab": {
          "base_uri": "https://localhost:8080/"
        },
        "id": "zZZAOIfPjdwv",
        "outputId": "f5f9d415-7797-429c-c6b0-009e974799c5"
      },
      "execution_count": null,
      "outputs": [
        {
          "output_type": "stream",
          "name": "stdout",
          "text": [
            "[[1.         0.17413824 0.22791836 ... 0.19094357 0.21823948 0.00736929]\n",
            " [0.17413824 1.         0.14901977 ... 0.15875666 0.11958351 0.01704924]\n",
            " [0.22791836 0.14901977 1.         ... 0.19246755 0.19054021 0.00679142]\n",
            " ...\n",
            " [0.19094357 0.15875666 0.19246755 ... 1.         0.17847433 0.00817888]\n",
            " [0.21823948 0.11958351 0.19054021 ... 0.17847433 1.         0.04723238]\n",
            " [0.00736929 0.01704924 0.00679142 ... 0.00817888 0.04723238 1.        ]]\n"
          ]
        }
      ]
    },
    {
      "cell_type": "code",
      "source": [
        "def recommend(resume_title, cosine_sim = cosine_sim):\n",
        "    recommended_jobs = []\n",
        "\n",
        "    idx = indices[indices == resume_title].index[0]\n",
        "    score_series = pd.Series(cosine_sim[idx]).sort_values(ascending = False)\n",
        "    top_10_indices = list(score_series.iloc[1:11].index)\n",
        "    \n",
        "    for i in top_10_indices:\n",
        "        recommended_jobs.append(list(dfjob_s_2['jobs_all_information'])[i])\n",
        "        \n",
        "    return recommended_jobs"
      ],
      "metadata": {
        "id": "qkonQJbNk3Ql"
      },
      "execution_count": null,
      "outputs": []
    },
    {
      "cell_type": "code",
      "source": [
        "recommend('new_candidates_resume', cosine_sim = cosine_sim)"
      ],
      "metadata": {
        "colab": {
          "base_uri": "https://localhost:8080/"
        },
        "id": "jXD7G4pmz_tI",
        "outputId": "1bacc04d-3870-49b1-f50d-6742292c907c"
      },
      "execution_count": null,
      "outputs": [
        {
          "output_type": "execute_result",
          "data": {
            "text/plain": [
              "['CACI|3.8|2086.0|Sr. Software Engineer',\n",
              " 'Cella|3.4|16.0|SENIOR REACT FRONT END DEVELOPER',\n",
              " 'Deloitte|4.0|10699.0|Java Developer Senior Consultant',\n",
              " 'MATRIX Resources|4.0|94.0|Java Developer',\n",
              " 'Humanity|4.2|36.0|Sr. Web Developer - Media',\n",
              " 'Capgemini|3.8|8685.0|Senior Java Developer',\n",
              " 'Intermex Wire Transfer|3.5|46.0|Lead Software Engineer',\n",
              " 'Chenega Corporation|3.6|669.0|Software Developer – JavaScript',\n",
              " 'Wipro Limited|3.8|15348.0|Sales Engineer',\n",
              " 'Tesla|3.4|5148.0|Software QA Engineer – Vision Automation (Reno)']"
            ]
          },
          "metadata": {},
          "execution_count": 88
        }
      ]
    },
    {
      "cell_type": "markdown",
      "source": [
        "## Support Functions"
      ],
      "metadata": {
        "id": "wpJRfuTmPUzi"
      }
    },
    {
      "cell_type": "code",
      "source": [
        "# Garage collections\n",
        "gc.collect()"
      ],
      "metadata": {
        "id": "gN68Wi3NPGWd"
      },
      "execution_count": null,
      "outputs": []
    }
  ]
}