{
  "nbformat": 4,
  "nbformat_minor": 0,
  "metadata": {
    "colab": {
      "name": "script1.ipynb",
      "provenance": [],
      "collapsed_sections": [
        "RQYyn_QEGs0Z",
        "4tXHSjo5q8Up"
      ],
      "mount_file_id": "1JTyHjjMiVMXHhH5y17elV89NERrIkSUN",
      "authorship_tag": "ABX9TyN1REbEVYPfFLsauhEfjtGz",
      "include_colab_link": true
    },
    "kernelspec": {
      "name": "python3",
      "display_name": "Python 3"
    },
    "language_info": {
      "name": "python"
    }
  },
  "cells": [
    {
      "cell_type": "markdown",
      "metadata": {
        "id": "view-in-github",
        "colab_type": "text"
      },
      "source": [
        "<a href=\"https://colab.research.google.com/github/jackyhuynh/data_mining_using_python/blob/main/script1.ipynb\" target=\"_parent\"><img src=\"https://colab.research.google.com/assets/colab-badge.svg\" alt=\"Open In Colab\"/></a>"
      ]
    },
    {
      "cell_type": "markdown",
      "source": [
        "## Truc huynh\n",
        "\n",
        "### Material:\n",
        "- [Pandas - Filter row and columns](https://python.plainenglish.io/filtering-rows-and-columns-in-pandas-python-techniques-you-must-know-6cdfc32c614c)\n",
        "- [Pandas - Drop multiple columns](https://pythonexamples.org/pandas-dataframe-delete-column/#5)\n",
        "- [Pandas - Check Pandas data type](https://datascientyst.com/check-dtype-column-columns-pandas-dataframe/#:~:text=%20How%20to%20Check%20the%20Dtype%20of%20Column,Check%20if%20column%20is%20numeric%2C%20dateti...%20More%20)\n",
        "- [Data - Columns Views - Original Data](https://www.kaggle.com/datasets/sobhanmoosavi/us-accidents)\n",
        "- [Pandas - Convert value in columns](https://stackoverflow.com/questions/52317459/python-pandas-convert-single-value-in-object-column)\n",
        "- [Time Ranges/ Time Comparision](https://pythonawesome.com/time-ranges-with-python/)\n",
        "- [Remove columns or Rows in Pandas](https://www.bing.com/search?q=remove+column+from+pandas&cvid=0b68a851c23b4a55abbb755ec28ca2f6&aqs=edge..69i57j0l7j69i64.8187j0j1&pglt=931&FORM=ANNTA1&PC=U531)\n",
        "- [Remove rows with certain citeria in Python Pandas](https://stackoverflow.com/questions/42125131/delete-row-based-on-nulls-in-certain-columns-pandas)\n",
        "- [AI BOOKS](http://aima.cs.berkeley.edu/)\n",
        "- https://towardsdatascience.com/gentle-start-to-natural-language-processing-using-python-6e46c07addf3\n",
        "- https://monkeylearn.com/keyword-extraction/\n",
        "- https://www.justintodata.com/use-nlp-in-python-practical-step-by-step-example/\n",
        "- https://mathdatasimplified.com/"
      ],
      "metadata": {
        "id": "jB6k1S9eSu4X"
      }
    },
    {
      "cell_type": "code",
      "execution_count": 151,
      "metadata": {
        "id": "ZQpM5SHNYzFN"
      },
      "outputs": [],
      "source": [
        "# Data Pre-Processing - Job listing Dataset \n",
        "# Import necessary packages\n",
        "import pandas as pd\n",
        "import numpy as np\n",
        "import seaborn as sns\n",
        "import matplotlib.pyplot as plt\n",
        "import sklearn\n",
        "import json\n",
        "import os\n",
        "import gc # For garbage collection when deal with memory\n"
      ]
    },
    {
      "cell_type": "code",
      "source": [
        "from google.colab import drive\n",
        "drive.mount('/content/drive')"
      ],
      "metadata": {
        "colab": {
          "base_uri": "https://localhost:8080/",
          "height": 0
        },
        "id": "JmpLWWDtY8LW",
        "outputId": "273d06e2-58b8-4b34-a9da-e0d7abce944d"
      },
      "execution_count": 152,
      "outputs": [
        {
          "output_type": "stream",
          "name": "stdout",
          "text": [
            "Drive already mounted at /content/drive; to attempt to forcibly remount, call drive.mount(\"/content/drive\", force_remount=True).\n"
          ]
        }
      ]
    },
    {
      "cell_type": "code",
      "source": [
        "os.getcwd()"
      ],
      "metadata": {
        "colab": {
          "base_uri": "https://localhost:8080/",
          "height": 36
        },
        "id": "AUQv45vigQmv",
        "outputId": "3f5258c0-51d8-4fc9-d483-d0dcaf112124"
      },
      "execution_count": 153,
      "outputs": [
        {
          "output_type": "execute_result",
          "data": {
            "text/plain": [
              "'/content'"
            ],
            "application/vnd.google.colaboratory.intrinsic+json": {
              "type": "string"
            }
          },
          "metadata": {},
          "execution_count": 153
        }
      ]
    },
    {
      "cell_type": "markdown",
      "source": [
        "# Goal: Top 3 Career choices, success factor (example Salaries growth, location, etc as per AI Attributes)"
      ],
      "metadata": {
        "id": "07SGj4Y3Ndxh"
      }
    },
    {
      "cell_type": "markdown",
      "source": [
        "## Job Data Analyst"
      ],
      "metadata": {
        "id": "ZnWenXtoa8wf"
      }
    },
    {
      "cell_type": "markdown",
      "source": [
        "### Read Data:"
      ],
      "metadata": {
        "id": "mFGkPvVTbO3J"
      }
    },
    {
      "cell_type": "code",
      "source": [
        "# FileNames is a list with the names of the csv files contained in the 'dataset' path\n",
        "def get_file_names(path):\n",
        "  filenames = []\n",
        "  for file in os.listdir(path):\n",
        "    if file.endswith('.csv'):\n",
        "      filenames.append(file)\n",
        "  return filenames\n",
        "\n",
        "# function that reads the file from the FileNames list and makes it become a dataFrame\n",
        "def GetFile(fnombre, path):\n",
        "  location = path + fnombre\n",
        "  df = pd.read_csv(location)\n",
        "  return df\n",
        "\n",
        "file_path_job = './drive/MyDrive/datasets/jobposting/'\n",
        "# combine all the data frame as one using list complehesion\n",
        "dfjob = pd.concat([GetFile(file, file_path_job) for file in get_file_names(file_path_job)])"
      ],
      "metadata": {
        "id": "hzAVgrdK6Bzr"
      },
      "execution_count": 154,
      "outputs": []
    },
    {
      "cell_type": "code",
      "source": [
        "dfjob.shape"
      ],
      "metadata": {
        "colab": {
          "base_uri": "https://localhost:8080/",
          "height": 0
        },
        "id": "r2ByudorDBNN",
        "outputId": "053d1b46-095c-46b8-f7d0-ade6e1adbb6b"
      },
      "execution_count": 155,
      "outputs": [
        {
          "output_type": "execute_result",
          "data": {
            "text/plain": [
              "(300000, 22)"
            ]
          },
          "metadata": {},
          "execution_count": 155
        }
      ]
    },
    {
      "cell_type": "markdown",
      "source": [
        "### Attributes Validation:"
      ],
      "metadata": {
        "id": "RQYyn_QEGs0Z"
      }
    },
    {
      "cell_type": "code",
      "source": [
        "dfjob['salary_formatted'].value_counts()"
      ],
      "metadata": {
        "colab": {
          "base_uri": "https://localhost:8080/",
          "height": 0
        },
        "id": "h34fF5qQGF8L",
        "outputId": "850b9094-e312-4d52-a765-3eb7f8f75a52"
      },
      "execution_count": 156,
      "outputs": [
        {
          "output_type": "execute_result",
          "data": {
            "text/plain": [
              "$15 an hour                 2136\n",
              "From $15 an hour            1441\n",
              "$15 - $20 an hour           1273\n",
              "$17 an hour                 1246\n",
              "$16 an hour                 1188\n",
              "                            ... \n",
              "$64,000 - $80,000 a year       1\n",
              "$15.00 - $17.64 an hour        1\n",
              "$40 - $75 a day                1\n",
              "$3,092 - $3,762 a month        1\n",
              "$32,176 - $47,316 a year       1\n",
              "Name: salary_formatted, Length: 20577, dtype: int64"
            ]
          },
          "metadata": {},
          "execution_count": 156
        }
      ]
    },
    {
      "cell_type": "code",
      "source": [
        "dfjob['region'].value_counts()\n",
        "# Remove because there are all missing value here"
      ],
      "metadata": {
        "colab": {
          "base_uri": "https://localhost:8080/",
          "height": 0
        },
        "id": "jp4a2U44ew43",
        "outputId": "25cdc6bc-c70e-474c-a5b9-09b57ddbdc81"
      },
      "execution_count": 157,
      "outputs": [
        {
          "output_type": "execute_result",
          "data": {
            "text/plain": [
              "EU          3510\n",
              "AS          2761\n",
              "SA          1863\n",
              "AF           900\n",
              "OC           505\n",
              "Americas      54\n",
              "Name: region, dtype: int64"
            ]
          },
          "metadata": {},
          "execution_count": 157
        }
      ]
    },
    {
      "cell_type": "code",
      "source": [
        "dfjob['qualifications'].value_counts()\n",
        "# Can't remove because need this for further basic qualification\n",
        "# Convert the NAN to 'No requirement'"
      ],
      "metadata": {
        "colab": {
          "base_uri": "https://localhost:8080/",
          "height": 0
        },
        "id": "9DlPbx9Be9T6",
        "outputId": "a0be4684-2d02-4e83-bc06-4444458bea9d"
      },
      "execution_count": 158,
      "outputs": [
        {
          "output_type": "execute_result",
          "data": {
            "text/plain": [
              "[\"US work authorization (Required)\"]                                                                                                                2930\n",
              "[\"US work authorization (Preferred)\"]                                                                                                               2089\n",
              "[\"High school or equivalent (Preferred)\"]                                                                                                           2001\n",
              "[\"Driver's License (Required)\"]                                                                                                                      973\n",
              "[\"Bachelor's (Preferred)\"]                                                                                                                           960\n",
              "                                                                                                                                                    ... \n",
              "[\"HVAC Certification (Required)\",\"US work authorization (Required)\",\"Secret (Required)\",\"Associate (Preferred)\"]                                       1\n",
              "[\"Restaurant experience: 4 years (Required)\",\"Day Shift (Preferred)\",\"Night Shift (Preferred)\"]                                                        1\n",
              "[\"IT support: 5 years (Required)\"]                                                                                                                     1\n",
              "[\"Microsoft Excel: 4 years (Preferred)\",\"Tableau: 1 year (Preferred)\",\"Data analytics: 4 years (Preferred)\",\"US work authorization (Preferred)\"]       1\n",
              "[\"UI: 7 years (Preferred)\",\"React: 7 years (Preferred)\",\"Angular: 7 years (Preferred)\",\"JavaScript: 7 years (Preferred)\"]                              1\n",
              "Name: qualifications, Length: 20165, dtype: int64"
            ]
          },
          "metadata": {},
          "execution_count": 158
        }
      ]
    },
    {
      "cell_type": "code",
      "source": [
        "dfjob['benefits'].value_counts()"
      ],
      "metadata": {
        "colab": {
          "base_uri": "https://localhost:8080/",
          "height": 0
        },
        "id": "Fw5VgcT0gSaI",
        "outputId": "23c4efae-d003-4de5-a3a9-d091e75294f4"
      },
      "execution_count": 159,
      "outputs": [
        {
          "output_type": "execute_result",
          "data": {
            "text/plain": [
              "[\"Health insurance\"]                                                                                                                                                                                                                                                                5325\n",
              "[\"Flexible schedule\"]                                                                                                                                                                                                                                                               2717\n",
              "[\"401(k)\",\"Dental insurance\",\"Health insurance\",\"Paid time off\",\"Vision insurance\"]                                                                                                                                                                                                 1873\n",
              "[\"Paid time off\"]                                                                                                                                                                                                                                                                    908\n",
              "[\"Dental insurance\",\"Health insurance\",\"Paid time off\",\"Vision insurance\"]                                                                                                                                                                                                           855\n",
              "                                                                                                                                                                                                                                                                                    ... \n",
              "[\"403(b)\",\"403(b) matching\",\"Dental insurance\",\"Flexible spending account\",\"Health insurance\",\"Paid time off\",\"Parental leave\",\"Vision insurance\"]                                                                                                                                     1\n",
              "[\"401(k)\",\"AD&D insurance\",\"Dental insurance\",\"Disability insurance\",\"Employee assistance program\",\"Employee discount\",\"Flexible schedule\",\"Health insurance\",\"Life insurance\",\"Paid time off\",\"Referral program\",\"Tuition reimbursement\",\"Vision insurance\",\"Wellness program\"]       1\n",
              "[\"401(k)\",\"401(k) matching\",\"Flexible schedule\",\"Health insurance\",\"Health savings account\",\"Life insurance\",\"Paid time off\",\"Professional development assistance\",\"Safety equipment provided\",\"Tuition reimbursement\"]                                                                1\n",
              "[\"On-the-job training\",\"Pet insurance\",\"Tools provided\",\"Tuition reimbursement\"]                                                                                                                                                                                                       1\n",
              "[\"401(k)\",\"AD&D insurance\",\"Commuter assistance\",\"Dental insurance\",\"Disability insurance\",\"Employee assistance program\",\"Flexible spending account\",\"Health insurance\",\"Health savings account\",\"Paid time off\",\"Parental leave\",\"Tuition reimbursement\",\"Vision insurance\"]          1\n",
              "Name: benefits, Length: 19372, dtype: int64"
            ]
          },
          "metadata": {},
          "execution_count": 159
        }
      ]
    },
    {
      "cell_type": "code",
      "source": [
        "# Remove src name\n",
        "dfjob['srcname'].isnull().sum()"
      ],
      "metadata": {
        "colab": {
          "base_uri": "https://localhost:8080/",
          "height": 0
        },
        "id": "4AlxI9sugxfx",
        "outputId": "b319e1aa-7f0b-4753-ba25-5e2e40b6a53d"
      },
      "execution_count": 160,
      "outputs": [
        {
          "output_type": "execute_result",
          "data": {
            "text/plain": [
              "193418"
            ]
          },
          "metadata": {},
          "execution_count": 160
        }
      ]
    },
    {
      "cell_type": "code",
      "source": [
        "dfjob['country'].value_counts()"
      ],
      "metadata": {
        "colab": {
          "base_uri": "https://localhost:8080/",
          "height": 0
        },
        "id": "ZmKUraMtDE8U",
        "outputId": "b4d6d98e-be2a-450b-e0a3-0ea53532355b"
      },
      "execution_count": 161,
      "outputs": [
        {
          "output_type": "execute_result",
          "data": {
            "text/plain": [
              "US    300000\n",
              "Name: country, dtype: int64"
            ]
          },
          "metadata": {},
          "execution_count": 161
        }
      ]
    },
    {
      "cell_type": "code",
      "source": [
        "dfjob['country_code'].value_counts()"
      ],
      "metadata": {
        "colab": {
          "base_uri": "https://localhost:8080/",
          "height": 0
        },
        "id": "VkiUJVtwdVBi",
        "outputId": "e6acfa33-c687-4274-b0e0-8a21563a0efe"
      },
      "execution_count": 162,
      "outputs": [
        {
          "output_type": "execute_result",
          "data": {
            "text/plain": [
              "US    282417\n",
              "BR       800\n",
              "GB       681\n",
              "CO       668\n",
              "CA       612\n",
              "       ...  \n",
              "CF         1\n",
              "BY         1\n",
              "ZM         1\n",
              "MD         1\n",
              "UG         1\n",
              "Name: country_code, Length: 166, dtype: int64"
            ]
          },
          "metadata": {},
          "execution_count": 162
        }
      ]
    },
    {
      "cell_type": "code",
      "source": [
        "dfjob['company_name'].value_counts()"
      ],
      "metadata": {
        "colab": {
          "base_uri": "https://localhost:8080/",
          "height": 0
        },
        "id": "EMw8WOOITyxP",
        "outputId": "3f824d86-77f9-42a8-ed85-d125f7168ada"
      },
      "execution_count": 163,
      "outputs": [
        {
          "output_type": "execute_result",
          "data": {
            "text/plain": [
              "Deloitte                                 3804\n",
              "ASSURANCE Independent Agents             1774\n",
              "Amazon.com Services LLC                  1401\n",
              "Aya Healthcare                           1224\n",
              "Soliant                                  1075\n",
              "                                         ... \n",
              "Ardent Counseling Center                    1\n",
              "Mobile Management llc                       1\n",
              "Duro Electric                               1\n",
              "CareerStaff Unlimited - Nashville, TN       1\n",
              "Sanel Corp                                  1\n",
              "Name: company_name, Length: 97715, dtype: int64"
            ]
          },
          "metadata": {},
          "execution_count": 163
        }
      ]
    },
    {
      "cell_type": "code",
      "source": [
        "dfjob['company_link'].value_counts()"
      ],
      "metadata": {
        "colab": {
          "base_uri": "https://localhost:8080/",
          "height": 0
        },
        "id": "z0VKYozlUA9a",
        "outputId": "d00cfd7f-6b7c-44a2-e7b5-fe44723bfb35"
      },
      "execution_count": 164,
      "outputs": [
        {
          "output_type": "execute_result",
          "data": {
            "text/plain": [
              "https://www.indeed.com/cmp/The-Est%C3%A9e-Lauder-Companies-1?campaignid=vjcmpinfo&from=vjcmpinfo&tk=1g54cpcg728qo000&fromjk=00009f127a9e34a7              1\n",
              "https://www.indeed.com/cmp/Holistic-Healing-Collective?campaignid=vjcmpinfo&from=vjcmpinfo&tk=1g54t7pg6pkej800&fromjk=96522f26f3a8fcba                    1\n",
              "https://www.indeed.com/cmp/United-Premier?campaignid=vjcmpinfo&from=vjcmpinfo&tk=1g54t62jeq072800&fromjk=96524389f8fbf9ac                                 1\n",
              "https://www.indeed.com/cmp/Temp-Experts?campaignid=vjcmpinfo&from=vjcmpinfo&tk=1g54t5uj7t48o800&fromjk=965241afe500d938                                   1\n",
              "https://www.indeed.com/cmp/Kum-&-Go?campaignid=vjcmpinfo&from=vjcmpinfo&tk=1g54t6r8lq051800&fromjk=96523fc6ef1ed652                                       1\n",
              "                                                                                                                                                         ..\n",
              "https://www.indeed.com/cmp/Trugreen?campaignid=vjcmpinfo&from=vjcmpinfo&tk=1g54t4ctsj3vu800&fromjk=94750524588fee11                                       1\n",
              "https://www.indeed.com/cmp/Red-Knight-Solutions,-LLC?campaignid=vjcmpinfo&from=vjcmpinfo&tk=1g54t48h6isah800&fromjk=9475094e35b7bc1f                      1\n",
              "https://www.indeed.com/cmp/Bon-Secours?campaignid=vjcmpinfo&from=vjcmpinfo&tk=1g54t48k5i7kk800&fromjk=947510b2566d0887                                    1\n",
              "https://www.indeed.com/cmp/Beaumont-Health?campaignid=vjcmpinfo&from=vjcmpinfo&tk=1g54t4aq5h5i1800&fromjk=947512447005a768                                1\n",
              "https://www.indeed.com/cmp/Disney-Media-and-Entertainment-Distribution?campaignid=vjcmpinfo&from=vjcmpinfo&tk=1g54fb8l5lekk800&fromjk=0710b77c13b3dd2e    1\n",
              "Name: company_link, Length: 286348, dtype: int64"
            ]
          },
          "metadata": {},
          "execution_count": 164
        }
      ]
    },
    {
      "cell_type": "code",
      "source": [
        "dfjob.head()"
      ],
      "metadata": {
        "colab": {
          "base_uri": "https://localhost:8080/",
          "height": 0
        },
        "id": "sLp3DvqpcXH1",
        "outputId": "3a2bccc5-e5ab-44c9-9de1-08921ce4d904"
      },
      "execution_count": 165,
      "outputs": [
        {
          "output_type": "execute_result",
          "data": {
            "text/plain": [
              "              jobid                                         apply_link  \\\n",
              "0  00009f127a9e34a7  https://www.indeed.com/applystart?jk=00009f127...   \n",
              "1  0001783849fce183                                                NaN   \n",
              "2  00027f45e5373e13  https://www.indeed.com/applystart?jk=00027f45e...   \n",
              "3  00028cda307fcffa                                                NaN   \n",
              "4  000002c948819e54  https://www.indeed.com/applystart?jk=000002c94...   \n",
              "\n",
              "                                        company_link  \\\n",
              "0  https://www.indeed.com/cmp/The-Est%C3%A9e-Laud...   \n",
              "1  https://www.indeed.com/cmp/H-A-Mapes,-Inc?camp...   \n",
              "2  https://www.indeed.com/cmp/Accenture?campaigni...   \n",
              "3  https://www.indeed.com/cmp/Techo--bloc?campaig...   \n",
              "4  https://www.indeed.com/cmp/Michael-Page?campai...   \n",
              "\n",
              "                 company_name  company_rating  company_reviews_count country  \\\n",
              "0  The Estée Lauder Companies             4.0                 2214.0      US   \n",
              "1  Harry's Convenience Stores             NaN                    NaN      US   \n",
              "2                   Accenture             4.0                21827.0      US   \n",
              "3                  Techo-Bloc             3.1                  114.0      US   \n",
              "4                Michael Page             3.5                  354.0      US   \n",
              "\n",
              "  country_code                                        current_url  \\\n",
              "0           US  https://www.indeed.com/viewjob?jk=00009f127a9e...   \n",
              "1           LB  https://www.indeed.com/viewjob?jk=0001783849fc...   \n",
              "2           US  https://www.indeed.com/viewjob?jk=00027f45e537...   \n",
              "3           AO  https://www.indeed.com/viewjob?jk=00028cda307f...   \n",
              "4           AU  https://www.indeed.com/viewjob?jk=000002c94881...   \n",
              "\n",
              "    date_posted  ...                                   description_text  \\\n",
              "0   22 days ago  ...  The Treasury Analyst will assist the Treasury ...   \n",
              "1  30+ days ago  ...  At Harry’s the Store Associate / Foodservice A...   \n",
              "2  30+ days ago  ...  ACCENTURE's Flexible Workforce solves clients’...   \n",
              "3  30+ days ago  ...  Company Description\\n  Why We Want You:  Multi...   \n",
              "4  30+ days ago  ...  Working within the New York office the individ...   \n",
              "\n",
              "           domain                                          job_title  \\\n",
              "0  www.indeed.com                 Analyst, Treasury – Banking Retail   \n",
              "1  www.indeed.com  Store Associate/ Food Service Associate - Saco...   \n",
              "2  www.indeed.com                                    Cloud Architect   \n",
              "3  www.indeed.com  Maintenance Technician - $30+/hr Day Shift (El...   \n",
              "4  www.indeed.com                          IT Senior Support Manager   \n",
              "\n",
              "        job_type          location region  salary_formatted  \\\n",
              "0  [\"Full-time\"]     United States    NaN               NaN   \n",
              "1  [\"Part-time\"]       Lebanon, ME     AS  From $14 an hour   \n",
              "2   [\"Contract\"]     United States    NaN               NaN   \n",
              "3  [\"Full-time\"]  Angola, IN 46703     AF  From $30 an hour   \n",
              "4            NaN      Brooklyn, NY     OC               NaN   \n",
              "\n",
              "                                            benefits  \\\n",
              "0                                                NaN   \n",
              "1  [\"401(k)\",\"401(k) matching\",\"Dental insurance\"...   \n",
              "2                                                NaN   \n",
              "3  [\"401(k)\",\"Dental insurance\",\"Disability insur...   \n",
              "4                                                NaN   \n",
              "\n",
              "                                      qualifications  \\\n",
              "0                                                NaN   \n",
              "1  [\"High school or equivalent (Preferred)\",\"US w...   \n",
              "2                                                NaN   \n",
              "3                                                NaN   \n",
              "4                                                NaN   \n",
              "\n",
              "                         srcname  \n",
              "0                            NaN  \n",
              "1                            NaN  \n",
              "2  globalcxaccenture.avature.net  \n",
              "3                            NaN  \n",
              "4            www.michaelpage.com  \n",
              "\n",
              "[5 rows x 22 columns]"
            ],
            "text/html": [
              "\n",
              "  <div id=\"df-a032c887-b413-4383-9094-2b5f45f8aac8\">\n",
              "    <div class=\"colab-df-container\">\n",
              "      <div>\n",
              "<style scoped>\n",
              "    .dataframe tbody tr th:only-of-type {\n",
              "        vertical-align: middle;\n",
              "    }\n",
              "\n",
              "    .dataframe tbody tr th {\n",
              "        vertical-align: top;\n",
              "    }\n",
              "\n",
              "    .dataframe thead th {\n",
              "        text-align: right;\n",
              "    }\n",
              "</style>\n",
              "<table border=\"1\" class=\"dataframe\">\n",
              "  <thead>\n",
              "    <tr style=\"text-align: right;\">\n",
              "      <th></th>\n",
              "      <th>jobid</th>\n",
              "      <th>apply_link</th>\n",
              "      <th>company_link</th>\n",
              "      <th>company_name</th>\n",
              "      <th>company_rating</th>\n",
              "      <th>company_reviews_count</th>\n",
              "      <th>country</th>\n",
              "      <th>country_code</th>\n",
              "      <th>current_url</th>\n",
              "      <th>date_posted</th>\n",
              "      <th>...</th>\n",
              "      <th>description_text</th>\n",
              "      <th>domain</th>\n",
              "      <th>job_title</th>\n",
              "      <th>job_type</th>\n",
              "      <th>location</th>\n",
              "      <th>region</th>\n",
              "      <th>salary_formatted</th>\n",
              "      <th>benefits</th>\n",
              "      <th>qualifications</th>\n",
              "      <th>srcname</th>\n",
              "    </tr>\n",
              "  </thead>\n",
              "  <tbody>\n",
              "    <tr>\n",
              "      <th>0</th>\n",
              "      <td>00009f127a9e34a7</td>\n",
              "      <td>https://www.indeed.com/applystart?jk=00009f127...</td>\n",
              "      <td>https://www.indeed.com/cmp/The-Est%C3%A9e-Laud...</td>\n",
              "      <td>The Estée Lauder Companies</td>\n",
              "      <td>4.0</td>\n",
              "      <td>2214.0</td>\n",
              "      <td>US</td>\n",
              "      <td>US</td>\n",
              "      <td>https://www.indeed.com/viewjob?jk=00009f127a9e...</td>\n",
              "      <td>22 days ago</td>\n",
              "      <td>...</td>\n",
              "      <td>The Treasury Analyst will assist the Treasury ...</td>\n",
              "      <td>www.indeed.com</td>\n",
              "      <td>Analyst, Treasury – Banking Retail</td>\n",
              "      <td>[\"Full-time\"]</td>\n",
              "      <td>United States</td>\n",
              "      <td>NaN</td>\n",
              "      <td>NaN</td>\n",
              "      <td>NaN</td>\n",
              "      <td>NaN</td>\n",
              "      <td>NaN</td>\n",
              "    </tr>\n",
              "    <tr>\n",
              "      <th>1</th>\n",
              "      <td>0001783849fce183</td>\n",
              "      <td>NaN</td>\n",
              "      <td>https://www.indeed.com/cmp/H-A-Mapes,-Inc?camp...</td>\n",
              "      <td>Harry's Convenience Stores</td>\n",
              "      <td>NaN</td>\n",
              "      <td>NaN</td>\n",
              "      <td>US</td>\n",
              "      <td>LB</td>\n",
              "      <td>https://www.indeed.com/viewjob?jk=0001783849fc...</td>\n",
              "      <td>30+ days ago</td>\n",
              "      <td>...</td>\n",
              "      <td>At Harry’s the Store Associate / Foodservice A...</td>\n",
              "      <td>www.indeed.com</td>\n",
              "      <td>Store Associate/ Food Service Associate - Saco...</td>\n",
              "      <td>[\"Part-time\"]</td>\n",
              "      <td>Lebanon, ME</td>\n",
              "      <td>AS</td>\n",
              "      <td>From $14 an hour</td>\n",
              "      <td>[\"401(k)\",\"401(k) matching\",\"Dental insurance\"...</td>\n",
              "      <td>[\"High school or equivalent (Preferred)\",\"US w...</td>\n",
              "      <td>NaN</td>\n",
              "    </tr>\n",
              "    <tr>\n",
              "      <th>2</th>\n",
              "      <td>00027f45e5373e13</td>\n",
              "      <td>https://www.indeed.com/applystart?jk=00027f45e...</td>\n",
              "      <td>https://www.indeed.com/cmp/Accenture?campaigni...</td>\n",
              "      <td>Accenture</td>\n",
              "      <td>4.0</td>\n",
              "      <td>21827.0</td>\n",
              "      <td>US</td>\n",
              "      <td>US</td>\n",
              "      <td>https://www.indeed.com/viewjob?jk=00027f45e537...</td>\n",
              "      <td>30+ days ago</td>\n",
              "      <td>...</td>\n",
              "      <td>ACCENTURE's Flexible Workforce solves clients’...</td>\n",
              "      <td>www.indeed.com</td>\n",
              "      <td>Cloud Architect</td>\n",
              "      <td>[\"Contract\"]</td>\n",
              "      <td>United States</td>\n",
              "      <td>NaN</td>\n",
              "      <td>NaN</td>\n",
              "      <td>NaN</td>\n",
              "      <td>NaN</td>\n",
              "      <td>globalcxaccenture.avature.net</td>\n",
              "    </tr>\n",
              "    <tr>\n",
              "      <th>3</th>\n",
              "      <td>00028cda307fcffa</td>\n",
              "      <td>NaN</td>\n",
              "      <td>https://www.indeed.com/cmp/Techo--bloc?campaig...</td>\n",
              "      <td>Techo-Bloc</td>\n",
              "      <td>3.1</td>\n",
              "      <td>114.0</td>\n",
              "      <td>US</td>\n",
              "      <td>AO</td>\n",
              "      <td>https://www.indeed.com/viewjob?jk=00028cda307f...</td>\n",
              "      <td>30+ days ago</td>\n",
              "      <td>...</td>\n",
              "      <td>Company Description\\n  Why We Want You:  Multi...</td>\n",
              "      <td>www.indeed.com</td>\n",
              "      <td>Maintenance Technician - $30+/hr Day Shift (El...</td>\n",
              "      <td>[\"Full-time\"]</td>\n",
              "      <td>Angola, IN 46703</td>\n",
              "      <td>AF</td>\n",
              "      <td>From $30 an hour</td>\n",
              "      <td>[\"401(k)\",\"Dental insurance\",\"Disability insur...</td>\n",
              "      <td>NaN</td>\n",
              "      <td>NaN</td>\n",
              "    </tr>\n",
              "    <tr>\n",
              "      <th>4</th>\n",
              "      <td>000002c948819e54</td>\n",
              "      <td>https://www.indeed.com/applystart?jk=000002c94...</td>\n",
              "      <td>https://www.indeed.com/cmp/Michael-Page?campai...</td>\n",
              "      <td>Michael Page</td>\n",
              "      <td>3.5</td>\n",
              "      <td>354.0</td>\n",
              "      <td>US</td>\n",
              "      <td>AU</td>\n",
              "      <td>https://www.indeed.com/viewjob?jk=000002c94881...</td>\n",
              "      <td>30+ days ago</td>\n",
              "      <td>...</td>\n",
              "      <td>Working within the New York office the individ...</td>\n",
              "      <td>www.indeed.com</td>\n",
              "      <td>IT Senior Support Manager</td>\n",
              "      <td>NaN</td>\n",
              "      <td>Brooklyn, NY</td>\n",
              "      <td>OC</td>\n",
              "      <td>NaN</td>\n",
              "      <td>NaN</td>\n",
              "      <td>NaN</td>\n",
              "      <td>www.michaelpage.com</td>\n",
              "    </tr>\n",
              "  </tbody>\n",
              "</table>\n",
              "<p>5 rows × 22 columns</p>\n",
              "</div>\n",
              "      <button class=\"colab-df-convert\" onclick=\"convertToInteractive('df-a032c887-b413-4383-9094-2b5f45f8aac8')\"\n",
              "              title=\"Convert this dataframe to an interactive table.\"\n",
              "              style=\"display:none;\">\n",
              "        \n",
              "  <svg xmlns=\"http://www.w3.org/2000/svg\" height=\"24px\"viewBox=\"0 0 24 24\"\n",
              "       width=\"24px\">\n",
              "    <path d=\"M0 0h24v24H0V0z\" fill=\"none\"/>\n",
              "    <path d=\"M18.56 5.44l.94 2.06.94-2.06 2.06-.94-2.06-.94-.94-2.06-.94 2.06-2.06.94zm-11 1L8.5 8.5l.94-2.06 2.06-.94-2.06-.94L8.5 2.5l-.94 2.06-2.06.94zm10 10l.94 2.06.94-2.06 2.06-.94-2.06-.94-.94-2.06-.94 2.06-2.06.94z\"/><path d=\"M17.41 7.96l-1.37-1.37c-.4-.4-.92-.59-1.43-.59-.52 0-1.04.2-1.43.59L10.3 9.45l-7.72 7.72c-.78.78-.78 2.05 0 2.83L4 21.41c.39.39.9.59 1.41.59.51 0 1.02-.2 1.41-.59l7.78-7.78 2.81-2.81c.8-.78.8-2.07 0-2.86zM5.41 20L4 18.59l7.72-7.72 1.47 1.35L5.41 20z\"/>\n",
              "  </svg>\n",
              "      </button>\n",
              "      \n",
              "  <style>\n",
              "    .colab-df-container {\n",
              "      display:flex;\n",
              "      flex-wrap:wrap;\n",
              "      gap: 12px;\n",
              "    }\n",
              "\n",
              "    .colab-df-convert {\n",
              "      background-color: #E8F0FE;\n",
              "      border: none;\n",
              "      border-radius: 50%;\n",
              "      cursor: pointer;\n",
              "      display: none;\n",
              "      fill: #1967D2;\n",
              "      height: 32px;\n",
              "      padding: 0 0 0 0;\n",
              "      width: 32px;\n",
              "    }\n",
              "\n",
              "    .colab-df-convert:hover {\n",
              "      background-color: #E2EBFA;\n",
              "      box-shadow: 0px 1px 2px rgba(60, 64, 67, 0.3), 0px 1px 3px 1px rgba(60, 64, 67, 0.15);\n",
              "      fill: #174EA6;\n",
              "    }\n",
              "\n",
              "    [theme=dark] .colab-df-convert {\n",
              "      background-color: #3B4455;\n",
              "      fill: #D2E3FC;\n",
              "    }\n",
              "\n",
              "    [theme=dark] .colab-df-convert:hover {\n",
              "      background-color: #434B5C;\n",
              "      box-shadow: 0px 1px 3px 1px rgba(0, 0, 0, 0.15);\n",
              "      filter: drop-shadow(0px 1px 2px rgba(0, 0, 0, 0.3));\n",
              "      fill: #FFFFFF;\n",
              "    }\n",
              "  </style>\n",
              "\n",
              "      <script>\n",
              "        const buttonEl =\n",
              "          document.querySelector('#df-a032c887-b413-4383-9094-2b5f45f8aac8 button.colab-df-convert');\n",
              "        buttonEl.style.display =\n",
              "          google.colab.kernel.accessAllowed ? 'block' : 'none';\n",
              "\n",
              "        async function convertToInteractive(key) {\n",
              "          const element = document.querySelector('#df-a032c887-b413-4383-9094-2b5f45f8aac8');\n",
              "          const dataTable =\n",
              "            await google.colab.kernel.invokeFunction('convertToInteractive',\n",
              "                                                     [key], {});\n",
              "          if (!dataTable) return;\n",
              "\n",
              "          const docLinkHtml = 'Like what you see? Visit the ' +\n",
              "            '<a target=\"_blank\" href=https://colab.research.google.com/notebooks/data_table.ipynb>data table notebook</a>'\n",
              "            + ' to learn more about interactive tables.';\n",
              "          element.innerHTML = '';\n",
              "          dataTable['output_type'] = 'display_data';\n",
              "          await google.colab.output.renderOutput(dataTable, element);\n",
              "          const docLink = document.createElement('div');\n",
              "          docLink.innerHTML = docLinkHtml;\n",
              "          element.appendChild(docLink);\n",
              "        }\n",
              "      </script>\n",
              "    </div>\n",
              "  </div>\n",
              "  "
            ]
          },
          "metadata": {},
          "execution_count": 165
        }
      ]
    },
    {
      "cell_type": "markdown",
      "source": [
        "### Check Missing Values and Clean Up\n",
        "Truc Report:\n",
        "- Data cleaning took me a total of more than 8hrs to looks for the approriate data that need to keep or drop.\n",
        "- All the attributes need to make sense and support the machine learning model\n",
        "- Data that consider biased will be drop\n",
        "- Data that is missing need to fix and transform to meaningful data"
      ],
      "metadata": {
        "id": "ZiJ-TEkOb15m"
      }
    },
    {
      "cell_type": "code",
      "source": [
        "# Set figure size\n",
        "plt.rcParams[\"figure.figsize\"]=13,11\n",
        "sns.set(style='darkgrid')\n",
        "\n",
        "missing_percentage = dfjob.isna().sum().sort_values(ascending=False)/len(dfjob)\n",
        "missing_percentage[missing_percentage!=0].plot(kind='barh')"
      ],
      "metadata": {
        "id": "EbpttxnvP8H6",
        "colab": {
          "base_uri": "https://localhost:8080/",
          "height": 665
        },
        "outputId": "39e94f0f-50cb-4705-9b8e-097479b4f3b0"
      },
      "execution_count": 166,
      "outputs": [
        {
          "output_type": "execute_result",
          "data": {
            "text/plain": [
              "<matplotlib.axes._subplots.AxesSubplot at 0x7fb6b2c71a50>"
            ]
          },
          "metadata": {},
          "execution_count": 166
        },
        {
          "output_type": "display_data",
          "data": {
            "text/plain": [
              "<Figure size 936x792 with 1 Axes>"
            ],
            "image/png": "[encoded data removed]"
          },
          "metadata": {}
        }
      ]
    },
    {
      "cell_type": "code",
      "source": [
        "list(dfjob.columns)"
      ],
      "metadata": {
        "colab": {
          "base_uri": "https://localhost:8080/",
          "height": 0
        },
        "id": "NW6yXeIozPau",
        "outputId": "de9cee0d-9973-4974-b4e6-867a2acb6dc8"
      },
      "execution_count": 167,
      "outputs": [
        {
          "output_type": "execute_result",
          "data": {
            "text/plain": [
              "['jobid',\n",
              " 'apply_link',\n",
              " 'company_link',\n",
              " 'company_name',\n",
              " 'company_rating',\n",
              " 'company_reviews_count',\n",
              " 'country',\n",
              " 'country_code',\n",
              " 'current_url',\n",
              " 'date_posted',\n",
              " 'date_posted_parsed',\n",
              " 'description',\n",
              " 'description_text',\n",
              " 'domain',\n",
              " 'job_title',\n",
              " 'job_type',\n",
              " 'location',\n",
              " 'region',\n",
              " 'salary_formatted',\n",
              " 'benefits',\n",
              " 'qualifications',\n",
              " 'srcname']"
            ]
          },
          "metadata": {},
          "execution_count": 167
        }
      ]
    },
    {
      "cell_type": "code",
      "source": [
        "dfjob.drop(['jobid','apply_link','company_link','country','current_url','date_posted','date_posted_parsed','domain','region','srcname'],axis=1,inplace=True)\n",
        "\n",
        "# Out put will be company name and job title\n",
        "# Remove apply_link because it will not be necessary to have it (we want to analyze the sucessful candidates as well as the current one)\n",
        "# Apply_link can be removed when the job is filled which is a good sign to analyze these job description (apply_link hold no value)\n",
        "\n",
        "# Drop the row where the company name or link is blank:\n",
        "dfjob.dropna(axis=0, how='all',subset=['company_name', 'job_type'], thresh=2, inplace=True) \n",
        "\n",
        "# Change null in qualification to no requirement\n",
        "dfjob['qualifications'] = dfjob['qualifications'].fillna('[\"No requirement\"]')\n",
        "\n",
        "# Change null in benefits to no benefits \n",
        "dfjob['benefits'] = dfjob['benefits'].fillna('[\"No benefits\"]')\n",
        "\n",
        "# Assume all the mssing value in salary_formated is negotiable (50% of the dataset)\n",
        "dfjob['salary_formatted'] = dfjob['salary_formatted'].fillna('Negotiable')\n",
        "\n",
        "# Assume all the missing country is Others\n",
        "dfjob['country_code']=dfjob['country_code'].fillna('Other')\n",
        "\n",
        "# Fill in the rating with 0\n",
        "dfjob['company_rating']=dfjob['company_rating'].fillna(0.0)\n",
        "dfjob['company_reviews_count']=dfjob['company_reviews_count'].fillna(0.0)"
      ],
      "metadata": {
        "id": "9xJVOlVvcxib"
      },
      "execution_count": 168,
      "outputs": []
    },
    {
      "cell_type": "code",
      "source": [
        "dfjob.shape\n",
        "\n",
        "# After clean up and drop, we have a new data set of 265633 row and 12attributes"
      ],
      "metadata": {
        "colab": {
          "base_uri": "https://localhost:8080/",
          "height": 0
        },
        "id": "DImuxEgVJ_1T",
        "outputId": "68ed85de-e499-4c0b-c7fa-1c40801cc0a9"
      },
      "execution_count": 169,
      "outputs": [
        {
          "output_type": "execute_result",
          "data": {
            "text/plain": [
              "(265633, 12)"
            ]
          },
          "metadata": {},
          "execution_count": 169
        }
      ]
    },
    {
      "cell_type": "markdown",
      "source": [
        "### Extended Analyst on the company rating and company review"
      ],
      "metadata": {
        "id": "Z7tItpWiMtKF"
      }
    },
    {
      "cell_type": "code",
      "source": [
        "# Create norating subset that hold the company doesn't has rating\n",
        "norating = dfjob.loc[dfjob['company_rating']==0]"
      ],
      "metadata": {
        "id": "e2mpcTqfLSWQ"
      },
      "execution_count": 170,
      "outputs": []
    },
    {
      "cell_type": "code",
      "source": [
        "# Validate the result\n",
        "norating.head()"
      ],
      "metadata": {
        "colab": {
          "base_uri": "https://localhost:8080/",
          "height": 617
        },
        "id": "FqpwWvazM8pb",
        "outputId": "e73225c7-0bf0-4e5a-aaa3-1dc4b0227492"
      },
      "execution_count": 171,
      "outputs": [
        {
          "output_type": "execute_result",
          "data": {
            "text/plain": [
              "                           company_name  company_rating  \\\n",
              "1            Harry's Convenience Stores             0.0   \n",
              "6       The Michigan Theater Foundation             0.0   \n",
              "11    Facing History and Ourselves, Inc             0.0   \n",
              "16               The Eye Care Institute             0.0   \n",
              "22  Copper Whiskey Bar & Grill, Bozeman             0.0   \n",
              "\n",
              "    company_reviews_count country_code  \\\n",
              "1                     0.0           LB   \n",
              "6                     0.0           US   \n",
              "11                    0.0           US   \n",
              "16                    0.0           US   \n",
              "22                    0.0           US   \n",
              "\n",
              "                                          description  \\\n",
              "1   <p>At Harry’s the Store Associate / Foodservic...   \n",
              "6   <p>The historic Michigan Theater, located in t...   \n",
              "11  <div>\\n <p><b>Position: Director of Developmen...   \n",
              "16  <p><b>Education and Experience: </b></p>\\n<p><...   \n",
              "22  <p><b>Bar Manager: Copper Whiskey Bar & Grill,...   \n",
              "\n",
              "                                     description_text  \\\n",
              "1   At Harry’s the Store Associate / Foodservice A...   \n",
              "6   The historic Michigan Theater, located in the ...   \n",
              "11  Position: Director of Development, Cleveland \\...   \n",
              "16  Education and Experience: Required· Ophthalmic...   \n",
              "22  Bar Manager: Copper Whiskey Bar & Grill, Big S...   \n",
              "\n",
              "                                            job_title       job_type  \\\n",
              "1   Store Associate/ Food Service Associate - Saco...  [\"Part-time\"]   \n",
              "6   Major Gift Officer, The Michigan Theater Found...  [\"Full-time\"]   \n",
              "11                 Director of Development, Cleveland  [\"Full-time\"]   \n",
              "16                              Ophthalmic Technician  [\"Full-time\"]   \n",
              "22                       Bar Manager: Copper, Big Sky  [\"Full-time\"]   \n",
              "\n",
              "                       location          salary_formatted  \\\n",
              "1                   Lebanon, ME          From $14 an hour   \n",
              "6           Ann Arbor, MI 48104  $68,000 - $80,000 a year   \n",
              "11  Cleveland Heights, OH 44118                Negotiable   \n",
              "16         Louisville, KY 40206         $16 - $18 an hour   \n",
              "22              Tahoe Vista, CA       From $60,000 a year   \n",
              "\n",
              "                                             benefits  \\\n",
              "1   [\"401(k)\",\"401(k) matching\",\"Dental insurance\"...   \n",
              "6                                     [\"No benefits\"]   \n",
              "11                                    [\"No benefits\"]   \n",
              "16  [\"Dental insurance\",\"Health insurance\",\"On-the...   \n",
              "22  [\"401(k)\",\"401(k) matching\",\"Dental insurance\"...   \n",
              "\n",
              "                                       qualifications  \n",
              "1   [\"High school or equivalent (Preferred)\",\"US w...  \n",
              "6                           [\"Bachelor's (Required)\"]  \n",
              "11                                 [\"No requirement\"]  \n",
              "16  [\"Ophthalmology: 1 year (Required)\",\"US work a...  \n",
              "22                                 [\"No requirement\"]  "
            ],
            "text/html": [
              "\n",
              "  <div id=\"df-6917c5ad-bd8f-495a-83dc-88476f106080\">\n",
              "    <div class=\"colab-df-container\">\n",
              "      <div>\n",
              "<style scoped>\n",
              "    .dataframe tbody tr th:only-of-type {\n",
              "        vertical-align: middle;\n",
              "    }\n",
              "\n",
              "    .dataframe tbody tr th {\n",
              "        vertical-align: top;\n",
              "    }\n",
              "\n",
              "    .dataframe thead th {\n",
              "        text-align: right;\n",
              "    }\n",
              "</style>\n",
              "<table border=\"1\" class=\"dataframe\">\n",
              "  <thead>\n",
              "    <tr style=\"text-align: right;\">\n",
              "      <th></th>\n",
              "      <th>company_name</th>\n",
              "      <th>company_rating</th>\n",
              "      <th>company_reviews_count</th>\n",
              "      <th>country_code</th>\n",
              "      <th>description</th>\n",
              "      <th>description_text</th>\n",
              "      <th>job_title</th>\n",
              "      <th>job_type</th>\n",
              "      <th>location</th>\n",
              "      <th>salary_formatted</th>\n",
              "      <th>benefits</th>\n",
              "      <th>qualifications</th>\n",
              "    </tr>\n",
              "  </thead>\n",
              "  <tbody>\n",
              "    <tr>\n",
              "      <th>1</th>\n",
              "      <td>Harry's Convenience Stores</td>\n",
              "      <td>0.0</td>\n",
              "      <td>0.0</td>\n",
              "      <td>LB</td>\n",
              "      <td>&lt;p&gt;At Harry’s the Store Associate / Foodservic...</td>\n",
              "      <td>At Harry’s the Store Associate / Foodservice A...</td>\n",
              "      <td>Store Associate/ Food Service Associate - Saco...</td>\n",
              "      <td>[\"Part-time\"]</td>\n",
              "      <td>Lebanon, ME</td>\n",
              "      <td>From $14 an hour</td>\n",
              "      <td>[\"401(k)\",\"401(k) matching\",\"Dental insurance\"...</td>\n",
              "      <td>[\"High school or equivalent (Preferred)\",\"US w...</td>\n",
              "    </tr>\n",
              "    <tr>\n",
              "      <th>6</th>\n",
              "      <td>The Michigan Theater Foundation</td>\n",
              "      <td>0.0</td>\n",
              "      <td>0.0</td>\n",
              "      <td>US</td>\n",
              "      <td>&lt;p&gt;The historic Michigan Theater, located in t...</td>\n",
              "      <td>The historic Michigan Theater, located in the ...</td>\n",
              "      <td>Major Gift Officer, The Michigan Theater Found...</td>\n",
              "      <td>[\"Full-time\"]</td>\n",
              "      <td>Ann Arbor, MI 48104</td>\n",
              "      <td>$68,000 - $80,000 a year</td>\n",
              "      <td>[\"No benefits\"]</td>\n",
              "      <td>[\"Bachelor's (Required)\"]</td>\n",
              "    </tr>\n",
              "    <tr>\n",
              "      <th>11</th>\n",
              "      <td>Facing History and Ourselves, Inc</td>\n",
              "      <td>0.0</td>\n",
              "      <td>0.0</td>\n",
              "      <td>US</td>\n",
              "      <td>&lt;div&gt;\\n &lt;p&gt;&lt;b&gt;Position: Director of Developmen...</td>\n",
              "      <td>Position: Director of Development, Cleveland \\...</td>\n",
              "      <td>Director of Development, Cleveland</td>\n",
              "      <td>[\"Full-time\"]</td>\n",
              "      <td>Cleveland Heights, OH 44118</td>\n",
              "      <td>Negotiable</td>\n",
              "      <td>[\"No benefits\"]</td>\n",
              "      <td>[\"No requirement\"]</td>\n",
              "    </tr>\n",
              "    <tr>\n",
              "      <th>16</th>\n",
              "      <td>The Eye Care Institute</td>\n",
              "      <td>0.0</td>\n",
              "      <td>0.0</td>\n",
              "      <td>US</td>\n",
              "      <td>&lt;p&gt;&lt;b&gt;Education and Experience: &lt;/b&gt;&lt;/p&gt;\\n&lt;p&gt;&lt;...</td>\n",
              "      <td>Education and Experience: Required· Ophthalmic...</td>\n",
              "      <td>Ophthalmic Technician</td>\n",
              "      <td>[\"Full-time\"]</td>\n",
              "      <td>Louisville, KY 40206</td>\n",
              "      <td>$16 - $18 an hour</td>\n",
              "      <td>[\"Dental insurance\",\"Health insurance\",\"On-the...</td>\n",
              "      <td>[\"Ophthalmology: 1 year (Required)\",\"US work a...</td>\n",
              "    </tr>\n",
              "    <tr>\n",
              "      <th>22</th>\n",
              "      <td>Copper Whiskey Bar &amp; Grill, Bozeman</td>\n",
              "      <td>0.0</td>\n",
              "      <td>0.0</td>\n",
              "      <td>US</td>\n",
              "      <td>&lt;p&gt;&lt;b&gt;Bar Manager: Copper Whiskey Bar &amp; Grill,...</td>\n",
              "      <td>Bar Manager: Copper Whiskey Bar &amp; Grill, Big S...</td>\n",
              "      <td>Bar Manager: Copper, Big Sky</td>\n",
              "      <td>[\"Full-time\"]</td>\n",
              "      <td>Tahoe Vista, CA</td>\n",
              "      <td>From $60,000 a year</td>\n",
              "      <td>[\"401(k)\",\"401(k) matching\",\"Dental insurance\"...</td>\n",
              "      <td>[\"No requirement\"]</td>\n",
              "    </tr>\n",
              "  </tbody>\n",
              "</table>\n",
              "</div>\n",
              "      <button class=\"colab-df-convert\" onclick=\"convertToInteractive('df-6917c5ad-bd8f-495a-83dc-88476f106080')\"\n",
              "              title=\"Convert this dataframe to an interactive table.\"\n",
              "              style=\"display:none;\">\n",
              "        \n",
              "  <svg xmlns=\"http://www.w3.org/2000/svg\" height=\"24px\"viewBox=\"0 0 24 24\"\n",
              "       width=\"24px\">\n",
              "    <path d=\"M0 0h24v24H0V0z\" fill=\"none\"/>\n",
              "    <path d=\"M18.56 5.44l.94 2.06.94-2.06 2.06-.94-2.06-.94-.94-2.06-.94 2.06-2.06.94zm-11 1L8.5 8.5l.94-2.06 2.06-.94-2.06-.94L8.5 2.5l-.94 2.06-2.06.94zm10 10l.94 2.06.94-2.06 2.06-.94-2.06-.94-.94-2.06-.94 2.06-2.06.94z\"/><path d=\"M17.41 7.96l-1.37-1.37c-.4-.4-.92-.59-1.43-.59-.52 0-1.04.2-1.43.59L10.3 9.45l-7.72 7.72c-.78.78-.78 2.05 0 2.83L4 21.41c.39.39.9.59 1.41.59.51 0 1.02-.2 1.41-.59l7.78-7.78 2.81-2.81c.8-.78.8-2.07 0-2.86zM5.41 20L4 18.59l7.72-7.72 1.47 1.35L5.41 20z\"/>\n",
              "  </svg>\n",
              "      </button>\n",
              "      \n",
              "  <style>\n",
              "    .colab-df-container {\n",
              "      display:flex;\n",
              "      flex-wrap:wrap;\n",
              "      gap: 12px;\n",
              "    }\n",
              "\n",
              "    .colab-df-convert {\n",
              "      background-color: #E8F0FE;\n",
              "      border: none;\n",
              "      border-radius: 50%;\n",
              "      cursor: pointer;\n",
              "      display: none;\n",
              "      fill: #1967D2;\n",
              "      height: 32px;\n",
              "      padding: 0 0 0 0;\n",
              "      width: 32px;\n",
              "    }\n",
              "\n",
              "    .colab-df-convert:hover {\n",
              "      background-color: #E2EBFA;\n",
              "      box-shadow: 0px 1px 2px rgba(60, 64, 67, 0.3), 0px 1px 3px 1px rgba(60, 64, 67, 0.15);\n",
              "      fill: #174EA6;\n",
              "    }\n",
              "\n",
              "    [theme=dark] .colab-df-convert {\n",
              "      background-color: #3B4455;\n",
              "      fill: #D2E3FC;\n",
              "    }\n",
              "\n",
              "    [theme=dark] .colab-df-convert:hover {\n",
              "      background-color: #434B5C;\n",
              "      box-shadow: 0px 1px 3px 1px rgba(0, 0, 0, 0.15);\n",
              "      filter: drop-shadow(0px 1px 2px rgba(0, 0, 0, 0.3));\n",
              "      fill: #FFFFFF;\n",
              "    }\n",
              "  </style>\n",
              "\n",
              "      <script>\n",
              "        const buttonEl =\n",
              "          document.querySelector('#df-6917c5ad-bd8f-495a-83dc-88476f106080 button.colab-df-convert');\n",
              "        buttonEl.style.display =\n",
              "          google.colab.kernel.accessAllowed ? 'block' : 'none';\n",
              "\n",
              "        async function convertToInteractive(key) {\n",
              "          const element = document.querySelector('#df-6917c5ad-bd8f-495a-83dc-88476f106080');\n",
              "          const dataTable =\n",
              "            await google.colab.kernel.invokeFunction('convertToInteractive',\n",
              "                                                     [key], {});\n",
              "          if (!dataTable) return;\n",
              "\n",
              "          const docLinkHtml = 'Like what you see? Visit the ' +\n",
              "            '<a target=\"_blank\" href=https://colab.research.google.com/notebooks/data_table.ipynb>data table notebook</a>'\n",
              "            + ' to learn more about interactive tables.';\n",
              "          element.innerHTML = '';\n",
              "          dataTable['output_type'] = 'display_data';\n",
              "          await google.colab.output.renderOutput(dataTable, element);\n",
              "          const docLink = document.createElement('div');\n",
              "          docLink.innerHTML = docLinkHtml;\n",
              "          element.appendChild(docLink);\n",
              "        }\n",
              "      </script>\n",
              "    </div>\n",
              "  </div>\n",
              "  "
            ]
          },
          "metadata": {},
          "execution_count": 171
        }
      ]
    },
    {
      "cell_type": "code",
      "source": [
        "# Use value counts to check the name of the company\n",
        "norating['company_name'].value_counts\n",
        "\n",
        "# Turn out all the company in this section only post their job one time"
      ],
      "metadata": {
        "colab": {
          "base_uri": "https://localhost:8080/",
          "height": 0
        },
        "id": "Xyzv49aTMVqK",
        "outputId": "3a91c9ea-f5ad-4b7c-d38c-d31315e0868f"
      },
      "execution_count": 172,
      "outputs": [
        {
          "output_type": "execute_result",
          "data": {
            "text/plain": [
              "<bound method IndexOpsMixin.value_counts of 1                    Harry's Convenience Stores\n",
              "6               The Michigan Theater Foundation\n",
              "11            Facing History and Ourselves, Inc\n",
              "16                       The Eye Care Institute\n",
              "22          Copper Whiskey Bar & Grill, Bozeman\n",
              "                          ...                  \n",
              "29981                                   SunStop\n",
              "29982    Ford - Lincoln Veteran Careers Program\n",
              "29988                   Acro Metal Stamping Co.\n",
              "29992                          Messick and Gray\n",
              "29997                                Sanel Corp\n",
              "Name: company_name, Length: 66460, dtype: object>"
            ]
          },
          "metadata": {},
          "execution_count": 172
        }
      ]
    },
    {
      "cell_type": "code",
      "source": [
        "# Validate if there is any rating associate with the number of user\n",
        "sum(norating['company_rating']==norating['company_reviews_count'])"
      ],
      "metadata": {
        "colab": {
          "base_uri": "https://localhost:8080/",
          "height": 0
        },
        "id": "JPqYsMtlMCBq",
        "outputId": "fbe89fde-7b55-40f6-c6b2-16d3d35eb578"
      },
      "execution_count": 173,
      "outputs": [
        {
          "output_type": "execute_result",
          "data": {
            "text/plain": [
              "66460"
            ]
          },
          "metadata": {},
          "execution_count": 173
        }
      ]
    },
    {
      "cell_type": "code",
      "source": [
        "# Check the shape of the dataset\n",
        "norating.shape"
      ],
      "metadata": {
        "colab": {
          "base_uri": "https://localhost:8080/",
          "height": 0
        },
        "id": "P1jJgi1CMNny",
        "outputId": "8228fba1-b3a6-42dd-a457-e0417a9a473d"
      },
      "execution_count": 174,
      "outputs": [
        {
          "output_type": "execute_result",
          "data": {
            "text/plain": [
              "(66460, 12)"
            ]
          },
          "metadata": {},
          "execution_count": 174
        }
      ]
    },
    {
      "cell_type": "markdown",
      "source": [
        "**Result: **\n",
        "- Due to all the above analyst, I can conclude the norating consist of the company who only post their job one time. So the change to promote in these company is small due to the amount of jobs posted and rating. There for I will remove the row associate with these company where the change is small and the review is none."
      ],
      "metadata": {
        "id": "e9xSy8QmMR2r"
      }
    },
    {
      "cell_type": "code",
      "source": [
        "## Delete norating since we do not need it\n",
        "del norating\n"
      ],
      "metadata": {
        "id": "JRv9yC4UO0r3"
      },
      "execution_count": 175,
      "outputs": []
    },
    {
      "cell_type": "code",
      "source": [
        "# Drop the row where the company name or link is blank:\n",
        "dfjob = dfjob[(dfjob.company_rating != 0) & (dfjob.company_reviews_count != 0)]"
      ],
      "metadata": {
        "id": "j3bCzn4TPtB0"
      },
      "execution_count": 176,
      "outputs": []
    },
    {
      "cell_type": "markdown",
      "source": [
        ""
      ],
      "metadata": {
        "id": "vWv3QLZA13-0"
      }
    },
    {
      "cell_type": "code",
      "source": [
        "dfjob.head()"
      ],
      "metadata": {
        "colab": {
          "base_uri": "https://localhost:8080/",
          "height": 582
        },
        "id": "sOpvOrblHGAo",
        "outputId": "33d994a3-b8e5-4c25-ec1c-bf27242f5b72"
      },
      "execution_count": 177,
      "outputs": [
        {
          "output_type": "execute_result",
          "data": {
            "text/plain": [
              "                  company_name  company_rating  company_reviews_count  \\\n",
              "0   The Estée Lauder Companies             4.0                 2214.0   \n",
              "2                    Accenture             4.0                21827.0   \n",
              "3                   Techo-Bloc             3.1                  114.0   \n",
              "7           McMahon Associates             3.8                    8.0   \n",
              "8  Amazon Kuiper Manufacturing             3.5                82832.0   \n",
              "\n",
              "  country_code                                        description  \\\n",
              "0           US  <div>\\n <p>The Treasury Analyst will assist th...   \n",
              "2           US  <div></div>\\n<div>\\n <div>\\n  <div>\\n   <b>ACC...   \n",
              "3           AO  <div>\\n Company Description\\n <p><b><br> Why W...   \n",
              "7           US  <div>\\n <p><b>POSITION SUMMARY:</b></p> \\n <p>...   \n",
              "8           US  <div>\\n <ul>\\n  <li>BS degree or higher in Ele...   \n",
              "\n",
              "                                    description_text  \\\n",
              "0  The Treasury Analyst will assist the Treasury ...   \n",
              "2  ACCENTURE's Flexible Workforce solves clients’...   \n",
              "3  Company Description\\n  Why We Want You:  Multi...   \n",
              "7  POSITION SUMMARY: \\n The Senior Project Engine...   \n",
              "8  BS degree or higher in Electrical or Computer ...   \n",
              "\n",
              "                                           job_title       job_type  \\\n",
              "0                 Analyst, Treasury – Banking Retail  [\"Full-time\"]   \n",
              "2                                    Cloud Architect   [\"Contract\"]   \n",
              "3  Maintenance Technician - $30+/hr Day Shift (El...  [\"Full-time\"]   \n",
              "7  Senior Project Engineer (Transportation - Design)  [\"Full-time\"]   \n",
              "8                        Design Verification Manager  [\"Full-time\"]   \n",
              "\n",
              "              location  salary_formatted  \\\n",
              "0        United States        Negotiable   \n",
              "2        United States        Negotiable   \n",
              "3     Angola, IN 46703  From $30 an hour   \n",
              "7  Camp Hill, PA 17011        Negotiable   \n",
              "8           Austin, TX        Negotiable   \n",
              "\n",
              "                                            benefits      qualifications  \n",
              "0                                    [\"No benefits\"]  [\"No requirement\"]  \n",
              "2                                    [\"No benefits\"]  [\"No requirement\"]  \n",
              "3  [\"401(k)\",\"Dental insurance\",\"Disability insur...  [\"No requirement\"]  \n",
              "7                                    [\"No benefits\"]  [\"No requirement\"]  \n",
              "8                                    [\"No benefits\"]  [\"No requirement\"]  "
            ],
            "text/html": [
              "\n",
              "  <div id=\"df-80248b2a-a90b-44be-89bd-edf631d1c630\">\n",
              "    <div class=\"colab-df-container\">\n",
              "      <div>\n",
              "<style scoped>\n",
              "    .dataframe tbody tr th:only-of-type {\n",
              "        vertical-align: middle;\n",
              "    }\n",
              "\n",
              "    .dataframe tbody tr th {\n",
              "        vertical-align: top;\n",
              "    }\n",
              "\n",
              "    .dataframe thead th {\n",
              "        text-align: right;\n",
              "    }\n",
              "</style>\n",
              "<table border=\"1\" class=\"dataframe\">\n",
              "  <thead>\n",
              "    <tr style=\"text-align: right;\">\n",
              "      <th></th>\n",
              "      <th>company_name</th>\n",
              "      <th>company_rating</th>\n",
              "      <th>company_reviews_count</th>\n",
              "      <th>country_code</th>\n",
              "      <th>description</th>\n",
              "      <th>description_text</th>\n",
              "      <th>job_title</th>\n",
              "      <th>job_type</th>\n",
              "      <th>location</th>\n",
              "      <th>salary_formatted</th>\n",
              "      <th>benefits</th>\n",
              "      <th>qualifications</th>\n",
              "    </tr>\n",
              "  </thead>\n",
              "  <tbody>\n",
              "    <tr>\n",
              "      <th>0</th>\n",
              "      <td>The Estée Lauder Companies</td>\n",
              "      <td>4.0</td>\n",
              "      <td>2214.0</td>\n",
              "      <td>US</td>\n",
              "      <td>&lt;div&gt;\\n &lt;p&gt;The Treasury Analyst will assist th...</td>\n",
              "      <td>The Treasury Analyst will assist the Treasury ...</td>\n",
              "      <td>Analyst, Treasury – Banking Retail</td>\n",
              "      <td>[\"Full-time\"]</td>\n",
              "      <td>United States</td>\n",
              "      <td>Negotiable</td>\n",
              "      <td>[\"No benefits\"]</td>\n",
              "      <td>[\"No requirement\"]</td>\n",
              "    </tr>\n",
              "    <tr>\n",
              "      <th>2</th>\n",
              "      <td>Accenture</td>\n",
              "      <td>4.0</td>\n",
              "      <td>21827.0</td>\n",
              "      <td>US</td>\n",
              "      <td>&lt;div&gt;&lt;/div&gt;\\n&lt;div&gt;\\n &lt;div&gt;\\n  &lt;div&gt;\\n   &lt;b&gt;ACC...</td>\n",
              "      <td>ACCENTURE's Flexible Workforce solves clients’...</td>\n",
              "      <td>Cloud Architect</td>\n",
              "      <td>[\"Contract\"]</td>\n",
              "      <td>United States</td>\n",
              "      <td>Negotiable</td>\n",
              "      <td>[\"No benefits\"]</td>\n",
              "      <td>[\"No requirement\"]</td>\n",
              "    </tr>\n",
              "    <tr>\n",
              "      <th>3</th>\n",
              "      <td>Techo-Bloc</td>\n",
              "      <td>3.1</td>\n",
              "      <td>114.0</td>\n",
              "      <td>AO</td>\n",
              "      <td>&lt;div&gt;\\n Company Description\\n &lt;p&gt;&lt;b&gt;&lt;br&gt; Why W...</td>\n",
              "      <td>Company Description\\n  Why We Want You:  Multi...</td>\n",
              "      <td>Maintenance Technician - $30+/hr Day Shift (El...</td>\n",
              "      <td>[\"Full-time\"]</td>\n",
              "      <td>Angola, IN 46703</td>\n",
              "      <td>From $30 an hour</td>\n",
              "      <td>[\"401(k)\",\"Dental insurance\",\"Disability insur...</td>\n",
              "      <td>[\"No requirement\"]</td>\n",
              "    </tr>\n",
              "    <tr>\n",
              "      <th>7</th>\n",
              "      <td>McMahon Associates</td>\n",
              "      <td>3.8</td>\n",
              "      <td>8.0</td>\n",
              "      <td>US</td>\n",
              "      <td>&lt;div&gt;\\n &lt;p&gt;&lt;b&gt;POSITION SUMMARY:&lt;/b&gt;&lt;/p&gt; \\n &lt;p&gt;...</td>\n",
              "      <td>POSITION SUMMARY: \\n The Senior Project Engine...</td>\n",
              "      <td>Senior Project Engineer (Transportation - Design)</td>\n",
              "      <td>[\"Full-time\"]</td>\n",
              "      <td>Camp Hill, PA 17011</td>\n",
              "      <td>Negotiable</td>\n",
              "      <td>[\"No benefits\"]</td>\n",
              "      <td>[\"No requirement\"]</td>\n",
              "    </tr>\n",
              "    <tr>\n",
              "      <th>8</th>\n",
              "      <td>Amazon Kuiper Manufacturing</td>\n",
              "      <td>3.5</td>\n",
              "      <td>82832.0</td>\n",
              "      <td>US</td>\n",
              "      <td>&lt;div&gt;\\n &lt;ul&gt;\\n  &lt;li&gt;BS degree or higher in Ele...</td>\n",
              "      <td>BS degree or higher in Electrical or Computer ...</td>\n",
              "      <td>Design Verification Manager</td>\n",
              "      <td>[\"Full-time\"]</td>\n",
              "      <td>Austin, TX</td>\n",
              "      <td>Negotiable</td>\n",
              "      <td>[\"No benefits\"]</td>\n",
              "      <td>[\"No requirement\"]</td>\n",
              "    </tr>\n",
              "  </tbody>\n",
              "</table>\n",
              "</div>\n",
              "      <button class=\"colab-df-convert\" onclick=\"convertToInteractive('df-80248b2a-a90b-44be-89bd-edf631d1c630')\"\n",
              "              title=\"Convert this dataframe to an interactive table.\"\n",
              "              style=\"display:none;\">\n",
              "        \n",
              "  <svg xmlns=\"http://www.w3.org/2000/svg\" height=\"24px\"viewBox=\"0 0 24 24\"\n",
              "       width=\"24px\">\n",
              "    <path d=\"M0 0h24v24H0V0z\" fill=\"none\"/>\n",
              "    <path d=\"M18.56 5.44l.94 2.06.94-2.06 2.06-.94-2.06-.94-.94-2.06-.94 2.06-2.06.94zm-11 1L8.5 8.5l.94-2.06 2.06-.94-2.06-.94L8.5 2.5l-.94 2.06-2.06.94zm10 10l.94 2.06.94-2.06 2.06-.94-2.06-.94-.94-2.06-.94 2.06-2.06.94z\"/><path d=\"M17.41 7.96l-1.37-1.37c-.4-.4-.92-.59-1.43-.59-.52 0-1.04.2-1.43.59L10.3 9.45l-7.72 7.72c-.78.78-.78 2.05 0 2.83L4 21.41c.39.39.9.59 1.41.59.51 0 1.02-.2 1.41-.59l7.78-7.78 2.81-2.81c.8-.78.8-2.07 0-2.86zM5.41 20L4 18.59l7.72-7.72 1.47 1.35L5.41 20z\"/>\n",
              "  </svg>\n",
              "      </button>\n",
              "      \n",
              "  <style>\n",
              "    .colab-df-container {\n",
              "      display:flex;\n",
              "      flex-wrap:wrap;\n",
              "      gap: 12px;\n",
              "    }\n",
              "\n",
              "    .colab-df-convert {\n",
              "      background-color: #E8F0FE;\n",
              "      border: none;\n",
              "      border-radius: 50%;\n",
              "      cursor: pointer;\n",
              "      display: none;\n",
              "      fill: #1967D2;\n",
              "      height: 32px;\n",
              "      padding: 0 0 0 0;\n",
              "      width: 32px;\n",
              "    }\n",
              "\n",
              "    .colab-df-convert:hover {\n",
              "      background-color: #E2EBFA;\n",
              "      box-shadow: 0px 1px 2px rgba(60, 64, 67, 0.3), 0px 1px 3px 1px rgba(60, 64, 67, 0.15);\n",
              "      fill: #174EA6;\n",
              "    }\n",
              "\n",
              "    [theme=dark] .colab-df-convert {\n",
              "      background-color: #3B4455;\n",
              "      fill: #D2E3FC;\n",
              "    }\n",
              "\n",
              "    [theme=dark] .colab-df-convert:hover {\n",
              "      background-color: #434B5C;\n",
              "      box-shadow: 0px 1px 3px 1px rgba(0, 0, 0, 0.15);\n",
              "      filter: drop-shadow(0px 1px 2px rgba(0, 0, 0, 0.3));\n",
              "      fill: #FFFFFF;\n",
              "    }\n",
              "  </style>\n",
              "\n",
              "      <script>\n",
              "        const buttonEl =\n",
              "          document.querySelector('#df-80248b2a-a90b-44be-89bd-edf631d1c630 button.colab-df-convert');\n",
              "        buttonEl.style.display =\n",
              "          google.colab.kernel.accessAllowed ? 'block' : 'none';\n",
              "\n",
              "        async function convertToInteractive(key) {\n",
              "          const element = document.querySelector('#df-80248b2a-a90b-44be-89bd-edf631d1c630');\n",
              "          const dataTable =\n",
              "            await google.colab.kernel.invokeFunction('convertToInteractive',\n",
              "                                                     [key], {});\n",
              "          if (!dataTable) return;\n",
              "\n",
              "          const docLinkHtml = 'Like what you see? Visit the ' +\n",
              "            '<a target=\"_blank\" href=https://colab.research.google.com/notebooks/data_table.ipynb>data table notebook</a>'\n",
              "            + ' to learn more about interactive tables.';\n",
              "          element.innerHTML = '';\n",
              "          dataTable['output_type'] = 'display_data';\n",
              "          await google.colab.output.renderOutput(dataTable, element);\n",
              "          const docLink = document.createElement('div');\n",
              "          docLink.innerHTML = docLinkHtml;\n",
              "          element.appendChild(docLink);\n",
              "        }\n",
              "      </script>\n",
              "    </div>\n",
              "  </div>\n",
              "  "
            ]
          },
          "metadata": {},
          "execution_count": 177
        }
      ]
    },
    {
      "cell_type": "code",
      "source": [
        "dfjob.shape"
      ],
      "metadata": {
        "colab": {
          "base_uri": "https://localhost:8080/",
          "height": 0
        },
        "id": "3B0QnAhqRrDq",
        "outputId": "697abba0-4af8-4a7c-85ba-781f2ad0fef3"
      },
      "execution_count": 178,
      "outputs": [
        {
          "output_type": "execute_result",
          "data": {
            "text/plain": [
              "(199173, 12)"
            ]
          },
          "metadata": {},
          "execution_count": 178
        }
      ]
    },
    {
      "cell_type": "markdown",
      "source": [
        ""
      ],
      "metadata": {
        "id": "WVA9DhyH7srm"
      }
    },
    {
      "cell_type": "code",
      "source": [
        "# Open text file resume\n",
        "file1 = open('./drive/MyDrive/resume.txt', 'r')\n",
        "resume_data = []  \n",
        "\n",
        "while True:\n",
        "    # Get next line from file\n",
        "    line = file1.readline()\n",
        "    resume_data.append(line)\n",
        "\n",
        "    # if line is empty or end of file is reached\n",
        "    if not line:\n",
        "        break\n",
        "    \n",
        "file1.close()"
      ],
      "metadata": {
        "id": "xoADzysWSnE9"
      },
      "execution_count": 179,
      "outputs": []
    },
    {
      "cell_type": "code",
      "source": [
        "# Clean up the resume\n",
        "import re\n",
        "\n",
        "# Clean up address, school, name, number, take only character in to the new string list\n",
        "for i in range(0,len(resume_data)):\n",
        "    resume_data[i] = re.sub(r'\\[.*?\\]', '', resume_data[i])\n",
        "    word1 = \" \".join(re.findall(\"[a-zA-Z]+\", resume_data[i]))\n",
        "    resume_data[i] = word1\n",
        "\n",
        "# Using the keywords dictionary to hold all the keyword\n",
        "keyword_dict = []\n",
        "\n",
        "for line in resume_data:\n",
        "    li = list(line.split(\" \"))\n",
        "    for string_ in li:\n",
        "        keyword_dict.append(string_.lower()) # Convert the string to lower\n",
        "\n",
        "# Character that does not necessary to the search can be removed\n",
        "remove_characters = ['','a','truc','huynh','through','self','classroom','ide','concepts','founder','manager','online','first','second','are','was','unsatisfied',\n",
        "                     'an','to','on','and','that','this','the','by','in','with','s','of','non','co','my','your','his','her','they','their','he','she','it','under',\n",
        "                     'may','guided','submit','vietnam','cis','any','unsatisfied','services','for','watercraft','specialist','us','recomendation','years','work','team',\n",
        "                     'customer','ensure','supply','work','year','plans','customer','developing','records','technologies','computer','monitoring','building','market',\n",
        "                     'ensures','supply','options','learn','master','recommendation','science','risk','strategize','experienced','create','tracking','stock','students',\n",
        "                     'previous','concerns','structures','budget','next','methods','stakeholders','define','making','profits','achievement','address','routine','installed',\n",
        "                     'visual','higher','coming','teaching','letters','chain','content','trading','cross','headquarters','audiences','increase','warehouse','loss','car',\n",
        "                     'advice','highly','shows','toward','commander','compare','fiscal','directly','instructor','reduced','working','project','monitor','learning',\n",
        "                     'ethical','teach','trade']\n",
        "\n",
        "soft_skill_remove = [\"structure\", \"experience\", \"requirements\", \"worked\", \"years\", \"others\", \"skills\", \"communication\", \"ability\", \"application\", \"program\", \"customers\",\n",
        "                     \"company\", \"information\", \"plan\", \"knowledge\", \"benefit\", \"process\", \"training\", \"developed\", \"assistant\", \"support\", \"schedules\", \"education\", \n",
        "                     \"provided\", \"business\", \"operation\", \"systems\", \"oriented\", \"level\", \"base\", \"strong\", \"procedures\", \"organization\", \"functional\", \"practices\", \n",
        "                     \"reports\", \"office\", \"people\", \"certificate\", \"pay\", \"industries\", \"accountable\", \"staff\", \"associate\", \"full\", \"equipment\", \"technology\", \n",
        "                     \"maintaining\", \"design\", \"record\", \"clients\", \"bachelor\", \"projects\", \"issues\", \"using\", \"relationship\", \"internal\", \"technical\", \"collaborative\", \n",
        "                     \"meet\", \"implementation\", \"sales\", \"background\", \"detail\", \"preparing\", \"lead\", \"build\", \"coordination\", \"monitored\", \"different\", \"software\", \n",
        "                     \"marketing\", \"result\", \"weeks\", \"testing\", \"financial\", \"security\", \"proficient\", \"ensure\", \"decision\", \"improve\", \"engineer\", \"efficiency\", \n",
        "                     \"driving\", \"first\", \"futures\", \"instruction\", \"contracts\", \"strategies\", \"conducted\", \"attention\", \"identified\", \"analytics\", \"evaluated\"]\n",
        "\n",
        "for char in remove_characters:\n",
        "    while(char in keyword_dict) :\n",
        "        keyword_dict.remove(char)\n",
        "\n",
        "for char in soft_skill_remove:\n",
        "    while(char in keyword_dict) :\n",
        "        keyword_dict.remove(char)\n",
        "\n",
        "# remove the repeated word in the dictionary\n",
        "keyword_dict = list(dict.fromkeys(keyword_dict))\n",
        "\n",
        "# Figure out the length of the keyword dictionaries\n",
        "len(keyword_dict)"
      ],
      "metadata": {
        "colab": {
          "base_uri": "https://localhost:8080/",
          "height": 0
        },
        "id": "cHRSmsYm7GBC",
        "outputId": "a1432464-09a5-4cb6-bcdf-6be667faeb95"
      },
      "execution_count": 180,
      "outputs": [
        {
          "output_type": "execute_result",
          "data": {
            "text/plain": [
              "102"
            ]
          },
          "metadata": {},
          "execution_count": 180
        }
      ]
    },
    {
      "cell_type": "code",
      "source": [
        "def pretty_print(word_list):\n",
        "  index = 1\n",
        "  for word in word_list:\n",
        "    print(word, end=', ')\n",
        "    if index % 10 == 0:\n",
        "      print('')\n",
        "    index += 1"
      ],
      "metadata": {
        "id": "UAOpQ5yMjKxy"
      },
      "execution_count": 181,
      "outputs": []
    },
    {
      "cell_type": "code",
      "source": [
        "# Display list of dictionary\n",
        "pretty_print(keyword_dict)"
      ],
      "metadata": {
        "colab": {
          "base_uri": "https://localhost:8080/",
          "height": 0
        },
        "id": "2IxuCUZd8D7c",
        "outputId": "d2200a2e-3d64-437a-be64-1be83fbd36dc"
      },
      "execution_count": 182,
      "outputs": [
        {
          "output_type": "stream",
          "name": "stdout",
          "text": [
            "stack, developer, management, analyzing, data, scientist, machine, cyber, introduce, python, \n",
            "react, git, docker, web, development, ms, visio, jira, github, slack, \n",
            "html, css, json, bootstrap, r, shiny, server, framework, flask, restful, \n",
            "api, javascript, heroku, paas, lifecycle, agile, methodologies, visualization, dashboard, bi, \n",
            "mining, ml, ai, database, sql, mysql, algorithms, c, java, spring, \n",
            "mvc, net, eclipse, studio, vs, code, anaconda, pycharm, jupiter, notebook, \n",
            "servlet, apache, tomcat, automation, bot, script, hacking, ui, ux, explaining, \n",
            "multitask, virtual, machines, windows, linux, mac, osx, autocad, d, modelling, \n",
            "inventory, planning, forecasting, optimization, logistics, teams, prototype, predict, volatility, analyst, \n",
            "infrastructure, social, media, compared, logistic, vso, army, medals, vessel, lab, \n",
            "coding, research, "
          ]
        }
      ]
    },
    {
      "cell_type": "markdown",
      "source": [
        "### Other dictionary for references"
      ],
      "metadata": {
        "id": "4tXHSjo5q8Up"
      }
    },
    {
      "cell_type": "code",
      "source": [
        "# # got these keywords by looking at some examples and using existing knowledge.\n",
        "# tool_keywords1 = ['python', 'pytorch', 'sql', 'mxnet', 'mlflow', 'einstein', 'theano', 'pyspark', 'solr', 'mahout', \n",
        "#  'cassandra', 'aws', 'powerpoint', 'spark', 'pig', 'sas', 'java', 'nosql', 'docker', 'salesforce', 'scala', 'r',\n",
        "#  'c', 'c++', 'net', 'tableau', 'pandas', 'scikitlearn', 'sklearn', 'matlab', 'scala', 'keras', 'tensorflow', 'clojure',\n",
        "#  'caffe', 'scipy', 'numpy', 'matplotlib', 'vba', 'spss', 'linux', 'azure', 'cloud', 'gcp', 'mongodb', 'mysql', 'oracle', \n",
        "#  'redshift', 'snowflake', 'kafka', 'javascript', 'qlik', 'jupyter', 'perl', 'bigquery', 'unix', 'react',\n",
        "#  'scikit', 'powerbi', 's3', 'ec2', 'lambda', 'ssrs', 'kubernetes', 'hana', 'spacy', 'tf', 'django', 'sagemaker',\n",
        "#  'seaborn', 'mllib', 'github', 'git', 'elasticsearch', 'splunk', 'airflow', 'looker', 'rapidminer', 'birt', 'pentaho', \n",
        "#  'jquery', 'nodejs', 'd3', 'plotly', 'bokeh', 'xgboost', 'rstudio', 'shiny', 'dash', 'h20', 'h2o', 'hadoop', 'mapreduce', \n",
        "#  'hive', 'cognos', 'angular', 'nltk', 'flask', 'node', 'firebase', 'bigtable', 'rust', 'php', 'cntk', 'lightgbm', \n",
        "#  'kubeflow', 'rpython', 'unixlinux', 'postgressql', 'postgresql', 'postgres', 'hbase', 'dask', 'ruby', 'julia', 'tensor',\n",
        "# # added r packages doesn't seem to impact the result\n",
        "#  'dplyr','ggplot2','esquisse','bioconductor','shiny','lubridate','knitr','mlr','quanteda','dt','rcrawler','caret','rmarkdown',\n",
        "#  'leaflet','janitor','ggvis','plotly','rcharts','rbokeh','broom','stringr','magrittr','slidify','rvest',\n",
        "#  'rmysql','rsqlite','prophet','glmnet','text2vec','snowballc','quantmod','rstan','swirl','datasciencer']\n",
        "\n",
        "# # another set of keywords that are longer than one word.\n",
        "# tool_keywords2 = set(['amazon web services', 'google cloud', 'sql server'])\n",
        "\n",
        "# # hard skills/knowledge required.\n",
        "# skill_keywords1 = set(['statistics', 'cleansing', 'chatbot', 'cleaning', 'blockchain', 'causality', 'correlation', 'bandit', 'anomaly', 'kpi',\n",
        "#  'dashboard', 'geospatial', 'ocr', 'econometrics', 'pca', 'gis', 'svm', 'svd', 'tuning', 'hyperparameter', 'hypothesis',\n",
        "#  'salesforcecom', 'segmentation', 'biostatistics', 'unsupervised', 'supervised', 'exploratory',\n",
        "#  'recommender', 'recommendations', 'research', 'sequencing', 'probability', 'reinforcement', 'graph', 'bioinformatics',\n",
        "#  'chi', 'knn', 'outlier', 'etl', 'normalization', 'classification', 'optimizing', 'prediction', 'forecasting',\n",
        "#  'clustering', 'cluster', 'optimization', 'visualization', 'nlp', 'c#',\n",
        "#  'regression', 'logistic', 'nn', 'cnn', 'glm',\n",
        "#  'rnn', 'lstm', 'gbm', 'boosting', 'recurrent', 'convolutional', 'bayesian',\n",
        "#  'bayes'])\n",
        "\n",
        "# # another set of keywords that are longer than one word.\n",
        "# skill_keywords2 = set(['random forest', 'natural language processing', 'machine learning', 'decision tree', 'deep learning', 'experimental design',\n",
        "#  'time series', 'nearest neighbors', 'neural network', 'support vector machine', 'computer vision', 'machine vision', 'dimensionality reduction', \n",
        "#  'text analytics', 'power bi', 'a/b testing', 'ab testing', 'chat bot', 'data mining'])\n",
        "\n",
        "# degree_dict = {'bs': 1, 'bachelor': 1, 'undergraduate': 1, \n",
        "#                'master': 2, 'graduate': 2, 'mba': 2.5, \n",
        "#                'phd': 3, 'ph.d': 3, 'ba': 1, 'ma': 2,\n",
        "#                'postdoctoral': 4, 'postdoc': 4, 'doctorate': 3}\n",
        "\n",
        "\n",
        "# degree_dict2 = {'advanced degree': 2, 'ms or': 2, 'ms degree': 2, '4 year degree': 1, 'bs/': 1, 'ba/': 1,\n",
        "#                 '4-year degree': 1, 'b.s.': 1, 'm.s.': 2, 'm.s': 2, 'b.s': 1, 'phd/': 3, 'ph.d.': 3, 'ms/': 2,\n",
        "#                 'm.s/': 2, 'm.s./': 2, 'msc/': 2, 'master/': 2, 'master\\'s/': 2, 'bachelor\\s/': 1}\n",
        "# degree_keywords2 = set(degree_dict2.keys())"
      ],
      "metadata": {
        "id": "C3DXYX0o7Nh8"
      },
      "execution_count": 183,
      "outputs": []
    },
    {
      "cell_type": "markdown",
      "source": [
        "### Sampling\n",
        "\n",
        "The amount of words is too large, I will reduce the data to 10,000 row so that we can see how our model works on the smaller scale (sample is 5% of the data)"
      ],
      "metadata": {
        "id": "aEyAqQ_XG0-I"
      }
    },
    {
      "cell_type": "code",
      "source": [
        "sample_size=10000\n",
        "\n",
        "# Create a sample of 10,000 rows\n",
        "dfjob_s = dfjob.sample(n=sample_size)\n",
        "\n",
        "# Validate the transactions\n",
        "dfjob_s.head()"
      ],
      "metadata": {
        "colab": {
          "base_uri": "https://localhost:8080/",
          "height": 582
        },
        "id": "OgDzwFq36TSd",
        "outputId": "fd7bbc90-5b17-4958-f112-061ab20625de"
      },
      "execution_count": 184,
      "outputs": [
        {
          "output_type": "execute_result",
          "data": {
            "text/plain": [
              "                              company_name  company_rating  \\\n",
              "3260                           Visionworks             3.3   \n",
              "9864                     Fulton County, GA             3.6   \n",
              "11828  Westminster-Canterbury of Lynchburg             3.7   \n",
              "4364                       Bank of America             3.8   \n",
              "23949                       Bay Pointe Inn             3.3   \n",
              "\n",
              "       company_reviews_count country_code  \\\n",
              "3260                  1334.0           US   \n",
              "9864                   221.0           US   \n",
              "11828                    3.0           US   \n",
              "4364                 31272.0           US   \n",
              "23949                   10.0           US   \n",
              "\n",
              "                                             description  \\\n",
              "3260   <p>Summary: Sell eyewear products and services...   \n",
              "9864   <p></p>\\n<div>\\n <div>\\n  <div>\\n   <div>\\n   ...   \n",
              "11828  <div>\\n Description: \\n <p> Full-time position...   \n",
              "4364   <div>\\n <p><b>Job Description:</b></p>\\n <p></...   \n",
              "23949  <p>We are looking for a Dishwasher to join our...   \n",
              "\n",
              "                                        description_text  \\\n",
              "3260   Summary: Sell eyewear products and services ut...   \n",
              "9864   UNCLASSIFIED POSITION           CURRENT VACANC...   \n",
              "11828  Description: \\n  Full-time position available ...   \n",
              "4364   Job Description:   Manages diverse administrat...   \n",
              "23949  We are looking for a Dishwasher to join our ki...   \n",
              "\n",
              "                                            job_title  \\\n",
              "3260                        Optician/Retail Associate   \n",
              "9864                  CHIEF CLERK/COURT ADMINISTRATOR   \n",
              "11828  Care Partner Certified Nurse Aide (CNA) - Days   \n",
              "4364                         Business Support Manager   \n",
              "23949                                      Dishwasher   \n",
              "\n",
              "                        job_type               location   salary_formatted  \\\n",
              "3260               [\"Part-time\"]         Bend, OR 97701  $13 - $17 an hour   \n",
              "9864               [\"Full-time\"]      Fulton County, GA         Negotiable   \n",
              "11828              [\"Full-time\"]    Lynchburg, VA 24501         Negotiable   \n",
              "4364               [\"Full-time\"]       Newark, DE 19711         Negotiable   \n",
              "23949  [\"Full-time\",\"Part-time\"]  Shelbyville, MI 49344        $12 an hour   \n",
              "\n",
              "                                                benefits  \\\n",
              "3260                                     [\"No benefits\"]   \n",
              "9864   [\"Bereavement leave\",\"Disability insurance\",\"H...   \n",
              "11828                                    [\"No benefits\"]   \n",
              "4364                                     [\"No benefits\"]   \n",
              "23949                                    [\"No benefits\"]   \n",
              "\n",
              "                      qualifications  \n",
              "3260   [\"Sales: 1 year (Preferred)\"]  \n",
              "9864              [\"No requirement\"]  \n",
              "11828             [\"No requirement\"]  \n",
              "4364              [\"No requirement\"]  \n",
              "23949             [\"No requirement\"]  "
            ],
            "text/html": [
              "\n",
              "  <div id=\"df-37fce5b2-757d-4850-9a26-a5cd6e147452\">\n",
              "    <div class=\"colab-df-container\">\n",
              "      <div>\n",
              "<style scoped>\n",
              "    .dataframe tbody tr th:only-of-type {\n",
              "        vertical-align: middle;\n",
              "    }\n",
              "\n",
              "    .dataframe tbody tr th {\n",
              "        vertical-align: top;\n",
              "    }\n",
              "\n",
              "    .dataframe thead th {\n",
              "        text-align: right;\n",
              "    }\n",
              "</style>\n",
              "<table border=\"1\" class=\"dataframe\">\n",
              "  <thead>\n",
              "    <tr style=\"text-align: right;\">\n",
              "      <th></th>\n",
              "      <th>company_name</th>\n",
              "      <th>company_rating</th>\n",
              "      <th>company_reviews_count</th>\n",
              "      <th>country_code</th>\n",
              "      <th>description</th>\n",
              "      <th>description_text</th>\n",
              "      <th>job_title</th>\n",
              "      <th>job_type</th>\n",
              "      <th>location</th>\n",
              "      <th>salary_formatted</th>\n",
              "      <th>benefits</th>\n",
              "      <th>qualifications</th>\n",
              "    </tr>\n",
              "  </thead>\n",
              "  <tbody>\n",
              "    <tr>\n",
              "      <th>3260</th>\n",
              "      <td>Visionworks</td>\n",
              "      <td>3.3</td>\n",
              "      <td>1334.0</td>\n",
              "      <td>US</td>\n",
              "      <td>&lt;p&gt;Summary: Sell eyewear products and services...</td>\n",
              "      <td>Summary: Sell eyewear products and services ut...</td>\n",
              "      <td>Optician/Retail Associate</td>\n",
              "      <td>[\"Part-time\"]</td>\n",
              "      <td>Bend, OR 97701</td>\n",
              "      <td>$13 - $17 an hour</td>\n",
              "      <td>[\"No benefits\"]</td>\n",
              "      <td>[\"Sales: 1 year (Preferred)\"]</td>\n",
              "    </tr>\n",
              "    <tr>\n",
              "      <th>9864</th>\n",
              "      <td>Fulton County, GA</td>\n",
              "      <td>3.6</td>\n",
              "      <td>221.0</td>\n",
              "      <td>US</td>\n",
              "      <td>&lt;p&gt;&lt;/p&gt;\\n&lt;div&gt;\\n &lt;div&gt;\\n  &lt;div&gt;\\n   &lt;div&gt;\\n   ...</td>\n",
              "      <td>UNCLASSIFIED POSITION           CURRENT VACANC...</td>\n",
              "      <td>CHIEF CLERK/COURT ADMINISTRATOR</td>\n",
              "      <td>[\"Full-time\"]</td>\n",
              "      <td>Fulton County, GA</td>\n",
              "      <td>Negotiable</td>\n",
              "      <td>[\"Bereavement leave\",\"Disability insurance\",\"H...</td>\n",
              "      <td>[\"No requirement\"]</td>\n",
              "    </tr>\n",
              "    <tr>\n",
              "      <th>11828</th>\n",
              "      <td>Westminster-Canterbury of Lynchburg</td>\n",
              "      <td>3.7</td>\n",
              "      <td>3.0</td>\n",
              "      <td>US</td>\n",
              "      <td>&lt;div&gt;\\n Description: \\n &lt;p&gt; Full-time position...</td>\n",
              "      <td>Description: \\n  Full-time position available ...</td>\n",
              "      <td>Care Partner Certified Nurse Aide (CNA) - Days</td>\n",
              "      <td>[\"Full-time\"]</td>\n",
              "      <td>Lynchburg, VA 24501</td>\n",
              "      <td>Negotiable</td>\n",
              "      <td>[\"No benefits\"]</td>\n",
              "      <td>[\"No requirement\"]</td>\n",
              "    </tr>\n",
              "    <tr>\n",
              "      <th>4364</th>\n",
              "      <td>Bank of America</td>\n",
              "      <td>3.8</td>\n",
              "      <td>31272.0</td>\n",
              "      <td>US</td>\n",
              "      <td>&lt;div&gt;\\n &lt;p&gt;&lt;b&gt;Job Description:&lt;/b&gt;&lt;/p&gt;\\n &lt;p&gt;&lt;/...</td>\n",
              "      <td>Job Description:   Manages diverse administrat...</td>\n",
              "      <td>Business Support Manager</td>\n",
              "      <td>[\"Full-time\"]</td>\n",
              "      <td>Newark, DE 19711</td>\n",
              "      <td>Negotiable</td>\n",
              "      <td>[\"No benefits\"]</td>\n",
              "      <td>[\"No requirement\"]</td>\n",
              "    </tr>\n",
              "    <tr>\n",
              "      <th>23949</th>\n",
              "      <td>Bay Pointe Inn</td>\n",
              "      <td>3.3</td>\n",
              "      <td>10.0</td>\n",
              "      <td>US</td>\n",
              "      <td>&lt;p&gt;We are looking for a Dishwasher to join our...</td>\n",
              "      <td>We are looking for a Dishwasher to join our ki...</td>\n",
              "      <td>Dishwasher</td>\n",
              "      <td>[\"Full-time\",\"Part-time\"]</td>\n",
              "      <td>Shelbyville, MI 49344</td>\n",
              "      <td>$12 an hour</td>\n",
              "      <td>[\"No benefits\"]</td>\n",
              "      <td>[\"No requirement\"]</td>\n",
              "    </tr>\n",
              "  </tbody>\n",
              "</table>\n",
              "</div>\n",
              "      <button class=\"colab-df-convert\" onclick=\"convertToInteractive('df-37fce5b2-757d-4850-9a26-a5cd6e147452')\"\n",
              "              title=\"Convert this dataframe to an interactive table.\"\n",
              "              style=\"display:none;\">\n",
              "        \n",
              "  <svg xmlns=\"http://www.w3.org/2000/svg\" height=\"24px\"viewBox=\"0 0 24 24\"\n",
              "       width=\"24px\">\n",
              "    <path d=\"M0 0h24v24H0V0z\" fill=\"none\"/>\n",
              "    <path d=\"M18.56 5.44l.94 2.06.94-2.06 2.06-.94-2.06-.94-.94-2.06-.94 2.06-2.06.94zm-11 1L8.5 8.5l.94-2.06 2.06-.94-2.06-.94L8.5 2.5l-.94 2.06-2.06.94zm10 10l.94 2.06.94-2.06 2.06-.94-2.06-.94-.94-2.06-.94 2.06-2.06.94z\"/><path d=\"M17.41 7.96l-1.37-1.37c-.4-.4-.92-.59-1.43-.59-.52 0-1.04.2-1.43.59L10.3 9.45l-7.72 7.72c-.78.78-.78 2.05 0 2.83L4 21.41c.39.39.9.59 1.41.59.51 0 1.02-.2 1.41-.59l7.78-7.78 2.81-2.81c.8-.78.8-2.07 0-2.86zM5.41 20L4 18.59l7.72-7.72 1.47 1.35L5.41 20z\"/>\n",
              "  </svg>\n",
              "      </button>\n",
              "      \n",
              "  <style>\n",
              "    .colab-df-container {\n",
              "      display:flex;\n",
              "      flex-wrap:wrap;\n",
              "      gap: 12px;\n",
              "    }\n",
              "\n",
              "    .colab-df-convert {\n",
              "      background-color: #E8F0FE;\n",
              "      border: none;\n",
              "      border-radius: 50%;\n",
              "      cursor: pointer;\n",
              "      display: none;\n",
              "      fill: #1967D2;\n",
              "      height: 32px;\n",
              "      padding: 0 0 0 0;\n",
              "      width: 32px;\n",
              "    }\n",
              "\n",
              "    .colab-df-convert:hover {\n",
              "      background-color: #E2EBFA;\n",
              "      box-shadow: 0px 1px 2px rgba(60, 64, 67, 0.3), 0px 1px 3px 1px rgba(60, 64, 67, 0.15);\n",
              "      fill: #174EA6;\n",
              "    }\n",
              "\n",
              "    [theme=dark] .colab-df-convert {\n",
              "      background-color: #3B4455;\n",
              "      fill: #D2E3FC;\n",
              "    }\n",
              "\n",
              "    [theme=dark] .colab-df-convert:hover {\n",
              "      background-color: #434B5C;\n",
              "      box-shadow: 0px 1px 3px 1px rgba(0, 0, 0, 0.15);\n",
              "      filter: drop-shadow(0px 1px 2px rgba(0, 0, 0, 0.3));\n",
              "      fill: #FFFFFF;\n",
              "    }\n",
              "  </style>\n",
              "\n",
              "      <script>\n",
              "        const buttonEl =\n",
              "          document.querySelector('#df-37fce5b2-757d-4850-9a26-a5cd6e147452 button.colab-df-convert');\n",
              "        buttonEl.style.display =\n",
              "          google.colab.kernel.accessAllowed ? 'block' : 'none';\n",
              "\n",
              "        async function convertToInteractive(key) {\n",
              "          const element = document.querySelector('#df-37fce5b2-757d-4850-9a26-a5cd6e147452');\n",
              "          const dataTable =\n",
              "            await google.colab.kernel.invokeFunction('convertToInteractive',\n",
              "                                                     [key], {});\n",
              "          if (!dataTable) return;\n",
              "\n",
              "          const docLinkHtml = 'Like what you see? Visit the ' +\n",
              "            '<a target=\"_blank\" href=https://colab.research.google.com/notebooks/data_table.ipynb>data table notebook</a>'\n",
              "            + ' to learn more about interactive tables.';\n",
              "          element.innerHTML = '';\n",
              "          dataTable['output_type'] = 'display_data';\n",
              "          await google.colab.output.renderOutput(dataTable, element);\n",
              "          const docLink = document.createElement('div');\n",
              "          docLink.innerHTML = docLinkHtml;\n",
              "          element.appendChild(docLink);\n",
              "        }\n",
              "      </script>\n",
              "    </div>\n",
              "  </div>\n",
              "  "
            ]
          },
          "metadata": {},
          "execution_count": 184
        }
      ]
    },
    {
      "cell_type": "code",
      "source": [
        ""
      ],
      "metadata": {
        "id": "v40BPT-zBmT4"
      },
      "execution_count": 184,
      "outputs": []
    },
    {
      "cell_type": "code",
      "source": [
        "# Has to import NLTK and download averaged_perceptron_tagger\n",
        "import nltk\n",
        "from nltk import pos_tag\n",
        "from nltk.stem import PorterStemmer\n",
        "from nltk.tokenize import word_tokenize\n",
        "\n",
        "nltk.download('averaged_perceptron_tagger')\n",
        "nltk.download('punkt')"
      ],
      "metadata": {
        "colab": {
          "base_uri": "https://localhost:8080/",
          "height": 0
        },
        "id": "EBXwMgqi_Y-Q",
        "outputId": "3833ddc3-3a71-4588-b4ff-cd20d8cedf1b"
      },
      "execution_count": 185,
      "outputs": [
        {
          "output_type": "stream",
          "name": "stderr",
          "text": [
            "[nltk_data] Downloading package averaged_perceptron_tagger to\n",
            "[nltk_data]     /root/nltk_data...\n",
            "[nltk_data]   Package averaged_perceptron_tagger is already up-to-\n",
            "[nltk_data]       date!\n",
            "[nltk_data] Downloading package punkt to /root/nltk_data...\n",
            "[nltk_data]   Package punkt is already up-to-date!\n"
          ]
        },
        {
          "output_type": "execute_result",
          "data": {
            "text/plain": [
              "True"
            ]
          },
          "metadata": {},
          "execution_count": 185
        }
      ]
    },
    {
      "cell_type": "code",
      "source": [
        "tags = pos_tag(keyword_dict)"
      ],
      "metadata": {
        "id": "EDS5Klb4-esj"
      },
      "execution_count": 186,
      "outputs": []
    },
    {
      "cell_type": "code",
      "source": [
        "tags_list = []\n",
        "for tag in tags:\n",
        "  tags_list.append(tag[1])\n",
        "\n",
        "tags_list = list(dict.fromkeys(tags_list))\n",
        "\n",
        "# Figure out the length of the keyword dictionaries\n",
        "len(tags_list)"
      ],
      "metadata": {
        "colab": {
          "base_uri": "https://localhost:8080/",
          "height": 0
        },
        "id": "lge-Kjgqj4V7",
        "outputId": "32396617-4d72-421a-8ec9-ab137ad787b5"
      },
      "execution_count": 187,
      "outputs": [
        {
          "output_type": "execute_result",
          "data": {
            "text/plain": [
              "8"
            ]
          },
          "metadata": {},
          "execution_count": 187
        }
      ]
    },
    {
      "cell_type": "code",
      "source": [
        "tags_list"
      ],
      "metadata": {
        "colab": {
          "base_uri": "https://localhost:8080/",
          "height": 0
        },
        "id": "RsO5AwYslbaY",
        "outputId": "380f7004-5844-420a-ab83-5f145f8c4981"
      },
      "execution_count": 188,
      "outputs": [
        {
          "output_type": "execute_result",
          "data": {
            "text/plain": [
              "['NN', 'VBG', 'NNS', 'JJ', 'IN', 'VBP', 'RB', 'VBN']"
            ]
          },
          "metadata": {},
          "execution_count": 188
        }
      ]
    },
    {
      "cell_type": "code",
      "source": [
        "dfjob_s.shape"
      ],
      "metadata": {
        "colab": {
          "base_uri": "https://localhost:8080/",
          "height": 0
        },
        "id": "h1aLoKSDoAtR",
        "outputId": "48947a04-3fad-4586-d34f-37e9a68569ab"
      },
      "execution_count": 189,
      "outputs": [
        {
          "output_type": "execute_result",
          "data": {
            "text/plain": [
              "(10000, 12)"
            ]
          },
          "metadata": {},
          "execution_count": 189
        }
      ]
    },
    {
      "cell_type": "markdown",
      "source": [
        "### Apply POS tagging"
      ],
      "metadata": {
        "id": "z_amMclQoOvV"
      }
    },
    {
      "cell_type": "code",
      "source": [
        "ps = PorterStemmer()\n",
        "\n",
        "\n",
        "# process the job description.\n",
        "def prepare_job_desc(desc):\n",
        "    # tokenize description.\n",
        "    tokens = word_tokenize(desc)\n",
        "        \n",
        "    # Parts of speech (POS) tag tokens.\n",
        "    token_tag = pos_tag(tokens)\n",
        "    \n",
        "    # Only include some of the POS tags.\n",
        "    include_tags = ['VBN', 'VBD', 'JJ', 'JJS', 'JJR', 'CD', 'NN', 'NNS', 'NNP', 'NNPS']\n",
        "    filtered_tokens = [tok for tok, tag in token_tag if tag in include_tags]\n",
        "    \n",
        "    # stem words.\n",
        "    stemmed_tokens = [ps.stem(tok).lower() for tok in filtered_tokens]\n",
        "    return set(stemmed_tokens)\n",
        "\n",
        "\n",
        "dfjob_s['job_description_word_set'] = dfjob_s['description_text'].map(prepare_job_desc)\n",
        "\n",
        "# process the keywords\n",
        "tool_keywords_set = set([ps.stem(tok) for tok in keyword_dict]) # stem the keywords (since the job description is also stemmed.)\n",
        "tool_keywords_dict = {ps.stem(tok):tok for tok in keyword_dict} # use this dictionary to revert the stemmed words back to the original."
      ],
      "metadata": {
        "id": "Qhuu9EHJ_8YV"
      },
      "execution_count": 201,
      "outputs": []
    },
    {
      "cell_type": "code",
      "source": [
        "pretty_print(tool_keywords_set)"
      ],
      "metadata": {
        "colab": {
          "base_uri": "https://localhost:8080/",
          "height": 0
        },
        "id": "tfF88TUFGcme",
        "outputId": "748a9a2c-72f7-4912-f730-38f645d3f1f2"
      },
      "execution_count": 202,
      "outputs": [
        {
          "output_type": "stream",
          "name": "stdout",
          "text": [
            "web, methodolog, agil, mvc, html, manag, code, slack, rest, databas, \n",
            "github, heroku, compar, team, social, ms, analyst, data, dashboard, scientist, \n",
            "predict, hack, medal, linux, git, bootstrap, research, armi, vs, script, \n",
            "virtual, model, react, media, apach, vessel, d, framework, mine, window, \n",
            "json, multitask, java, volatil, tomcat, shini, python, javascript, visual, servlet, \n",
            "algorithm, jira, ml, logist, css, spring, machin, lifecycl, explain, paa, \n",
            "forecast, r, pycharm, introduc, docker, osx, visio, studio, cyber, api, \n",
            "ui, develop, bot, mysql, mac, stack, sql, autocad, bi, flask, \n",
            "prototyp, lab, infrastructur, net, autom, analyz, eclips, notebook, anaconda, ux, \n",
            "ai, plan, optim, c, inventori, server, vso, jupit, "
          ]
        }
      ]
    },
    {
      "cell_type": "code",
      "source": [
        "tool_list = []\n",
        "\n",
        "msk = dfjob_s['country_code'] != '' # just in case you want to filter the data.\n",
        "\n",
        "num_postings = len(dfjob_s[msk].index)\n",
        "for i in range(num_postings):\n",
        "    job_desc = dfjob_s[msk].iloc[i]['description_text'].lower()\n",
        "    job_desc_set = dfjob_s[msk].iloc[i]['job_description_word_set']\n",
        "    \n",
        "    # check if the keywords are in the job description. Look for exact match by token.\n",
        "    tool_words = tool_keywords_set.intersection(job_desc_set)\n",
        "    \n",
        "    # label the job descriptions without any tool keywords.\n",
        "    if len(tool_words) == 0:\n",
        "        tool_list.append('nothing specified')\n",
        "    \n",
        "    tool_list += list(tool_words)"
      ],
      "metadata": {
        "id": "huG4VKdkCQQZ"
      },
      "execution_count": 203,
      "outputs": []
    },
    {
      "cell_type": "code",
      "source": [
        "# create the list of tools.\n",
        "df_tool = pd.DataFrame(data={'cnt': tool_list})\n",
        "df_tool = df_tool.replace(tool_keywords_dict)\n",
        "\n",
        "df_tool_top = df_tool['cnt'].value_counts().reset_index().rename(columns={'index': 'tool'}).iloc[:50]\n"
      ],
      "metadata": {
        "id": "SvU7D3WP4Pqk"
      },
      "execution_count": 204,
      "outputs": []
    },
    {
      "cell_type": "code",
      "source": [
        "from plotly import __version__\n",
        "from plotly.offline import download_plotlyjs, init_notebook_mode, plot, iplot\n",
        "import plotly.graph_objs as go\n",
        "\n",
        "# visualize the tools.\n",
        "layout = dict(\n",
        "    title='Top Skill base on Resume',\n",
        "    yaxis=dict(\n",
        "        title='% of job postings',\n",
        "        tickformat=',.0%',\n",
        "    )\n",
        ")\n",
        "\n",
        "fig = go.Figure(layout=layout)\n",
        "fig.add_trace(go.Bar(\n",
        "    x=df_tool_top['tool'],\n",
        "    y=df_tool_top['cnt']/num_postings\n",
        "))\n",
        "\n",
        "iplot(fig)"
      ],
      "metadata": {
        "colab": {
          "base_uri": "https://localhost:8080/",
          "height": 542
        },
        "id": "WpiSKQxl4tJS",
        "outputId": "1709c4ea-250e-4c1c-f0f0-7e19c70e4432"
      },
      "execution_count": 205,
      "outputs": [
        {
          "output_type": "display_data",
          "data": {
            "text/html": [
              "<html>\n",
              "<head><meta charset=\"utf-8\" /></head>\n",
              "<body>\n",
              "    <div>            <script src=\"https://cdnjs.cloudflare.com/ajax/libs/mathjax/2.7.5/MathJax.js?config=TeX-AMS-MML_SVG\"></script><script type=\"text/javascript\">if (window.MathJax) {MathJax.Hub.Config({SVG: {font: \"STIX-Web\"}});}</script>                <script type=\"text/javascript\">window.PlotlyConfig = {MathJaxConfig: 'local'};</script>\n",
              "        <script src=\"https://cdn.plot.ly/plotly-2.8.3.min.js\"></script>                <div id=\"b90002a8-853d-41f5-b84e-cc614e4c10f2\" class=\"plotly-graph-div\" style=\"height:525px; width:100%;\"></div>            <script type=\"text/javascript\">                                    window.PLOTLYENV=window.PLOTLYENV || {};                                    if (document.getElementById(\"b90002a8-853d-41f5-b84e-cc614e4c10f2\")) {                    Plotly.newPlot(                        \"b90002a8-853d-41f5-b84e-cc614e4c10f2\",                        [{\"x\":[\"teams\",\"management\",\"planning\",\"development\",\"data\",\"research\",\"coding\",\"social\",\"modelling\",\"inventory\",\"analyzing\",\"machines\",\"database\",\"optimization\",\"automation\",\"ms\",\"nothing specified\",\"agile\",\"visualization\",\"methodologies\",\"c\",\"infrastructure\",\"d\",\"lab\",\"web\",\"virtual\",\"analyst\",\"framework\",\"media\",\"windows\",\"server\",\"lifecycle\",\"logistic\",\"sql\",\"java\",\"python\",\"forecasting\",\"script\",\"restful\",\"api\",\"r\",\"stack\",\"compared\",\"predict\",\"spring\",\"scientist\",\"javascript\",\"linux\",\"dashboard\",\"prototype\"],\"y\":[0.7024,0.5813,0.4827,0.4316,0.254,0.1258,0.1178,0.1177,0.1176,0.1085,0.0618,0.0599,0.0596,0.0554,0.0545,0.0538,0.0497,0.0489,0.0461,0.046,0.0455,0.0455,0.0437,0.0431,0.0418,0.0411,0.0403,0.04,0.0398,0.037,0.0342,0.0261,0.0258,0.0255,0.0249,0.0247,0.0237,0.022,0.0213,0.0181,0.0175,0.0171,0.0168,0.0147,0.0145,0.0138,0.0134,0.0121,0.0102,0.0102],\"type\":\"bar\"}],                        {\"template\":{\"data\":{\"barpolar\":[{\"marker\":{\"line\":{\"color\":\"#E5ECF6\",\"width\":0.5},\"pattern\":{\"fillmode\":\"overlay\",\"size\":10,\"solidity\":0.2}},\"type\":\"barpolar\"}],\"bar\":[{\"error_x\":{\"color\":\"#2a3f5f\"},\"error_y\":{\"color\":\"#2a3f5f\"},\"marker\":{\"line\":{\"color\":\"#E5ECF6\",\"width\":0.5},\"pattern\":{\"fillmode\":\"overlay\",\"size\":10,\"solidity\":0.2}},\"type\":\"bar\"}],\"carpet\":[{\"aaxis\":{\"endlinecolor\":\"#2a3f5f\",\"gridcolor\":\"white\",\"linecolor\":\"white\",\"minorgridcolor\":\"white\",\"startlinecolor\":\"#2a3f5f\"},\"baxis\":{\"endlinecolor\":\"#2a3f5f\",\"gridcolor\":\"white\",\"linecolor\":\"white\",\"minorgridcolor\":\"white\",\"startlinecolor\":\"#2a3f5f\"},\"type\":\"carpet\"}],\"choropleth\":[{\"colorbar\":{\"outlinewidth\":0,\"ticks\":\"\"},\"type\":\"choropleth\"}],\"contourcarpet\":[{\"colorbar\":{\"outlinewidth\":0,\"ticks\":\"\"},\"type\":\"contourcarpet\"}],\"contour\":[{\"colorbar\":{\"outlinewidth\":0,\"ticks\":\"\"},\"colorscale\":[[0.0,\"#0d0887\"],[0.1111111111111111,\"#46039f\"],[0.2222222222222222,\"#7201a8\"],[0.3333333333333333,\"#9c179e\"],[0.4444444444444444,\"#bd3786\"],[0.5555555555555556,\"#d8576b\"],[0.6666666666666666,\"#ed7953\"],[0.7777777777777778,\"#fb9f3a\"],[0.8888888888888888,\"#fdca26\"],[1.0,\"#f0f921\"]],\"type\":\"contour\"}],\"heatmapgl\":[{\"colorbar\":{\"outlinewidth\":0,\"ticks\":\"\"},\"colorscale\":[[0.0,\"#0d0887\"],[0.1111111111111111,\"#46039f\"],[0.2222222222222222,\"#7201a8\"],[0.3333333333333333,\"#9c179e\"],[0.4444444444444444,\"#bd3786\"],[0.5555555555555556,\"#d8576b\"],[0.6666666666666666,\"#ed7953\"],[0.7777777777777778,\"#fb9f3a\"],[0.8888888888888888,\"#fdca26\"],[1.0,\"#f0f921\"]],\"type\":\"heatmapgl\"}],\"heatmap\":[{\"colorbar\":{\"outlinewidth\":0,\"ticks\":\"\"},\"colorscale\":[[0.0,\"#0d0887\"],[0.1111111111111111,\"#46039f\"],[0.2222222222222222,\"#7201a8\"],[0.3333333333333333,\"#9c179e\"],[0.4444444444444444,\"#bd3786\"],[0.5555555555555556,\"#d8576b\"],[0.6666666666666666,\"#ed7953\"],[0.7777777777777778,\"#fb9f3a\"],[0.8888888888888888,\"#fdca26\"],[1.0,\"#f0f921\"]],\"type\":\"heatmap\"}],\"histogram2dcontour\":[{\"colorbar\":{\"outlinewidth\":0,\"ticks\":\"\"},\"colorscale\":[[0.0,\"#0d0887\"],[0.1111111111111111,\"#46039f\"],[0.2222222222222222,\"#7201a8\"],[0.3333333333333333,\"#9c179e\"],[0.4444444444444444,\"#bd3786\"],[0.5555555555555556,\"#d8576b\"],[0.6666666666666666,\"#ed7953\"],[0.7777777777777778,\"#fb9f3a\"],[0.8888888888888888,\"#fdca26\"],[1.0,\"#f0f921\"]],\"type\":\"histogram2dcontour\"}],\"histogram2d\":[{\"colorbar\":{\"outlinewidth\":0,\"ticks\":\"\"},\"colorscale\":[[0.0,\"#0d0887\"],[0.1111111111111111,\"#46039f\"],[0.2222222222222222,\"#7201a8\"],[0.3333333333333333,\"#9c179e\"],[0.4444444444444444,\"#bd3786\"],[0.5555555555555556,\"#d8576b\"],[0.6666666666666666,\"#ed7953\"],[0.7777777777777778,\"#fb9f3a\"],[0.8888888888888888,\"#fdca26\"],[1.0,\"#f0f921\"]],\"type\":\"histogram2d\"}],\"histogram\":[{\"marker\":{\"pattern\":{\"fillmode\":\"overlay\",\"size\":10,\"solidity\":0.2}},\"type\":\"histogram\"}],\"mesh3d\":[{\"colorbar\":{\"outlinewidth\":0,\"ticks\":\"\"},\"type\":\"mesh3d\"}],\"parcoords\":[{\"line\":{\"colorbar\":{\"outlinewidth\":0,\"ticks\":\"\"}},\"type\":\"parcoords\"}],\"pie\":[{\"automargin\":true,\"type\":\"pie\"}],\"scatter3d\":[{\"line\":{\"colorbar\":{\"outlinewidth\":0,\"ticks\":\"\"}},\"marker\":{\"colorbar\":{\"outlinewidth\":0,\"ticks\":\"\"}},\"type\":\"scatter3d\"}],\"scattercarpet\":[{\"marker\":{\"colorbar\":{\"outlinewidth\":0,\"ticks\":\"\"}},\"type\":\"scattercarpet\"}],\"scattergeo\":[{\"marker\":{\"colorbar\":{\"outlinewidth\":0,\"ticks\":\"\"}},\"type\":\"scattergeo\"}],\"scattergl\":[{\"marker\":{\"colorbar\":{\"outlinewidth\":0,\"ticks\":\"\"}},\"type\":\"scattergl\"}],\"scattermapbox\":[{\"marker\":{\"colorbar\":{\"outlinewidth\":0,\"ticks\":\"\"}},\"type\":\"scattermapbox\"}],\"scatterpolargl\":[{\"marker\":{\"colorbar\":{\"outlinewidth\":0,\"ticks\":\"\"}},\"type\":\"scatterpolargl\"}],\"scatterpolar\":[{\"marker\":{\"colorbar\":{\"outlinewidth\":0,\"ticks\":\"\"}},\"type\":\"scatterpolar\"}],\"scatter\":[{\"marker\":{\"colorbar\":{\"outlinewidth\":0,\"ticks\":\"\"}},\"type\":\"scatter\"}],\"scatterternary\":[{\"marker\":{\"colorbar\":{\"outlinewidth\":0,\"ticks\":\"\"}},\"type\":\"scatterternary\"}],\"surface\":[{\"colorbar\":{\"outlinewidth\":0,\"ticks\":\"\"},\"colorscale\":[[0.0,\"#0d0887\"],[0.1111111111111111,\"#46039f\"],[0.2222222222222222,\"#7201a8\"],[0.3333333333333333,\"#9c179e\"],[0.4444444444444444,\"#bd3786\"],[0.5555555555555556,\"#d8576b\"],[0.6666666666666666,\"#ed7953\"],[0.7777777777777778,\"#fb9f3a\"],[0.8888888888888888,\"#fdca26\"],[1.0,\"#f0f921\"]],\"type\":\"surface\"}],\"table\":[{\"cells\":{\"fill\":{\"color\":\"#EBF0F8\"},\"line\":{\"color\":\"white\"}},\"header\":{\"fill\":{\"color\":\"#C8D4E3\"},\"line\":{\"color\":\"white\"}},\"type\":\"table\"}]},\"layout\":{\"annotationdefaults\":{\"arrowcolor\":\"#2a3f5f\",\"arrowhead\":0,\"arrowwidth\":1},\"autotypenumbers\":\"strict\",\"coloraxis\":{\"colorbar\":{\"outlinewidth\":0,\"ticks\":\"\"}},\"colorscale\":{\"diverging\":[[0,\"#8e0152\"],[0.1,\"#c51b7d\"],[0.2,\"#de77ae\"],[0.3,\"#f1b6da\"],[0.4,\"#fde0ef\"],[0.5,\"#f7f7f7\"],[0.6,\"#e6f5d0\"],[0.7,\"#b8e186\"],[0.8,\"#7fbc41\"],[0.9,\"#4d9221\"],[1,\"#276419\"]],\"sequential\":[[0.0,\"#0d0887\"],[0.1111111111111111,\"#46039f\"],[0.2222222222222222,\"#7201a8\"],[0.3333333333333333,\"#9c179e\"],[0.4444444444444444,\"#bd3786\"],[0.5555555555555556,\"#d8576b\"],[0.6666666666666666,\"#ed7953\"],[0.7777777777777778,\"#fb9f3a\"],[0.8888888888888888,\"#fdca26\"],[1.0,\"#f0f921\"]],\"sequentialminus\":[[0.0,\"#0d0887\"],[0.1111111111111111,\"#46039f\"],[0.2222222222222222,\"#7201a8\"],[0.3333333333333333,\"#9c179e\"],[0.4444444444444444,\"#bd3786\"],[0.5555555555555556,\"#d8576b\"],[0.6666666666666666,\"#ed7953\"],[0.7777777777777778,\"#fb9f3a\"],[0.8888888888888888,\"#fdca26\"],[1.0,\"#f0f921\"]]},\"colorway\":[\"#636efa\",\"#EF553B\",\"#00cc96\",\"#ab63fa\",\"#FFA15A\",\"#19d3f3\",\"#FF6692\",\"#B6E880\",\"#FF97FF\",\"#FECB52\"],\"font\":{\"color\":\"#2a3f5f\"},\"geo\":{\"bgcolor\":\"white\",\"lakecolor\":\"white\",\"landcolor\":\"#E5ECF6\",\"showlakes\":true,\"showland\":true,\"subunitcolor\":\"white\"},\"hoverlabel\":{\"align\":\"left\"},\"hovermode\":\"closest\",\"mapbox\":{\"style\":\"light\"},\"paper_bgcolor\":\"white\",\"plot_bgcolor\":\"#E5ECF6\",\"polar\":{\"angularaxis\":{\"gridcolor\":\"white\",\"linecolor\":\"white\",\"ticks\":\"\"},\"bgcolor\":\"#E5ECF6\",\"radialaxis\":{\"gridcolor\":\"white\",\"linecolor\":\"white\",\"ticks\":\"\"}},\"scene\":{\"xaxis\":{\"backgroundcolor\":\"#E5ECF6\",\"gridcolor\":\"white\",\"gridwidth\":2,\"linecolor\":\"white\",\"showbackground\":true,\"ticks\":\"\",\"zerolinecolor\":\"white\"},\"yaxis\":{\"backgroundcolor\":\"#E5ECF6\",\"gridcolor\":\"white\",\"gridwidth\":2,\"linecolor\":\"white\",\"showbackground\":true,\"ticks\":\"\",\"zerolinecolor\":\"white\"},\"zaxis\":{\"backgroundcolor\":\"#E5ECF6\",\"gridcolor\":\"white\",\"gridwidth\":2,\"linecolor\":\"white\",\"showbackground\":true,\"ticks\":\"\",\"zerolinecolor\":\"white\"}},\"shapedefaults\":{\"line\":{\"color\":\"#2a3f5f\"}},\"ternary\":{\"aaxis\":{\"gridcolor\":\"white\",\"linecolor\":\"white\",\"ticks\":\"\"},\"baxis\":{\"gridcolor\":\"white\",\"linecolor\":\"white\",\"ticks\":\"\"},\"bgcolor\":\"#E5ECF6\",\"caxis\":{\"gridcolor\":\"white\",\"linecolor\":\"white\",\"ticks\":\"\"}},\"title\":{\"x\":0.05},\"xaxis\":{\"automargin\":true,\"gridcolor\":\"white\",\"linecolor\":\"white\",\"ticks\":\"\",\"title\":{\"standoff\":15},\"zerolinecolor\":\"white\",\"zerolinewidth\":2},\"yaxis\":{\"automargin\":true,\"gridcolor\":\"white\",\"linecolor\":\"white\",\"ticks\":\"\",\"title\":{\"standoff\":15},\"zerolinecolor\":\"white\",\"zerolinewidth\":2}}},\"title\":{\"text\":\"Top Skill base on Resume\"},\"yaxis\":{\"tickformat\":\",.0%\",\"title\":{\"text\":\"% of job postings\"}}},                        {\"responsive\": true}                    ).then(function(){\n",
              "                            \n",
              "var gd = document.getElementById('b90002a8-853d-41f5-b84e-cc614e4c10f2');\n",
              "var x = new MutationObserver(function (mutations, observer) {{\n",
              "        var display = window.getComputedStyle(gd).display;\n",
              "        if (!display || display === 'none') {{\n",
              "            console.log([gd, 'removed!']);\n",
              "            Plotly.purge(gd);\n",
              "            observer.disconnect();\n",
              "        }}\n",
              "}});\n",
              "\n",
              "// Listen for the removal of the full notebook cells\n",
              "var notebookContainer = gd.closest('#notebook-container');\n",
              "if (notebookContainer) {{\n",
              "    x.observe(notebookContainer, {childList: true});\n",
              "}}\n",
              "\n",
              "// Listen for the clearing of the current output cell\n",
              "var outputEl = gd.closest('.output');\n",
              "if (outputEl) {{\n",
              "    x.observe(outputEl, {childList: true});\n",
              "}}\n",
              "\n",
              "                        })                };                            </script>        </div>\n",
              "</body>\n",
              "</html>"
            ]
          },
          "metadata": {}
        }
      ]
    },
    {
      "cell_type": "markdown",
      "source": [
        "### Find most align \n",
        "Using the list just found and find the most "
      ],
      "metadata": {
        "id": "AE93l63Ynepz"
      }
    },
    {
      "cell_type": "code",
      "source": [
        "pretty_print(df_tool_top['tool'])"
      ],
      "metadata": {
        "colab": {
          "base_uri": "https://localhost:8080/",
          "height": 0
        },
        "id": "uQPv_yRMXrQK",
        "outputId": "170b6942-2789-4003-c401-26353d1eb452"
      },
      "execution_count": 206,
      "outputs": [
        {
          "output_type": "stream",
          "name": "stdout",
          "text": [
            "teams, management, planning, development, data, research, coding, social, modelling, inventory, \n",
            "analyzing, machines, database, optimization, automation, ms, nothing specified, agile, visualization, methodologies, \n",
            "c, infrastructure, d, lab, web, virtual, analyst, framework, media, windows, \n",
            "server, lifecycle, logistic, sql, java, python, forecasting, script, restful, api, \n",
            "r, stack, compared, predict, spring, scientist, javascript, linux, dashboard, prototype, \n"
          ]
        }
      ]
    },
    {
      "cell_type": "code",
      "source": [
        "df_tool_top['grow_percentage'] = df_tool_top['cnt']/sample_size"
      ],
      "metadata": {
        "id": "_4IFVle7YNdL"
      },
      "execution_count": 207,
      "outputs": []
    },
    {
      "cell_type": "code",
      "source": [
        "df_tool_top"
      ],
      "metadata": {
        "colab": {
          "base_uri": "https://localhost:8080/",
          "height": 1617
        },
        "id": "L_QuF7G4ZHIc",
        "outputId": "7350fb04-6c77-437a-b166-6d3a4975ab21"
      },
      "execution_count": 208,
      "outputs": [
        {
          "output_type": "execute_result",
          "data": {
            "text/plain": [
              "                 tool   cnt  grow_percentage\n",
              "0               teams  7024           0.7024\n",
              "1          management  5813           0.5813\n",
              "2            planning  4827           0.4827\n",
              "3         development  4316           0.4316\n",
              "4                data  2540           0.2540\n",
              "5            research  1258           0.1258\n",
              "6              coding  1178           0.1178\n",
              "7              social  1177           0.1177\n",
              "8           modelling  1176           0.1176\n",
              "9           inventory  1085           0.1085\n",
              "10          analyzing   618           0.0618\n",
              "11           machines   599           0.0599\n",
              "12           database   596           0.0596\n",
              "13       optimization   554           0.0554\n",
              "14         automation   545           0.0545\n",
              "15                 ms   538           0.0538\n",
              "16  nothing specified   497           0.0497\n",
              "17              agile   489           0.0489\n",
              "18      visualization   461           0.0461\n",
              "19      methodologies   460           0.0460\n",
              "20                  c   455           0.0455\n",
              "21     infrastructure   455           0.0455\n",
              "22                  d   437           0.0437\n",
              "23                lab   431           0.0431\n",
              "24                web   418           0.0418\n",
              "25            virtual   411           0.0411\n",
              "26            analyst   403           0.0403\n",
              "27          framework   400           0.0400\n",
              "28              media   398           0.0398\n",
              "29            windows   370           0.0370\n",
              "30             server   342           0.0342\n",
              "31          lifecycle   261           0.0261\n",
              "32           logistic   258           0.0258\n",
              "33                sql   255           0.0255\n",
              "34               java   249           0.0249\n",
              "35             python   247           0.0247\n",
              "36        forecasting   237           0.0237\n",
              "37             script   220           0.0220\n",
              "38            restful   213           0.0213\n",
              "39                api   181           0.0181\n",
              "40                  r   175           0.0175\n",
              "41              stack   171           0.0171\n",
              "42           compared   168           0.0168\n",
              "43            predict   147           0.0147\n",
              "44             spring   145           0.0145\n",
              "45          scientist   138           0.0138\n",
              "46         javascript   134           0.0134\n",
              "47              linux   121           0.0121\n",
              "48          dashboard   102           0.0102\n",
              "49          prototype   102           0.0102"
            ],
            "text/html": [
              "\n",
              "  <div id=\"df-3c9351bd-db46-4026-8cdc-83b02e9bd1b4\">\n",
              "    <div class=\"colab-df-container\">\n",
              "      <div>\n",
              "<style scoped>\n",
              "    .dataframe tbody tr th:only-of-type {\n",
              "        vertical-align: middle;\n",
              "    }\n",
              "\n",
              "    .dataframe tbody tr th {\n",
              "        vertical-align: top;\n",
              "    }\n",
              "\n",
              "    .dataframe thead th {\n",
              "        text-align: right;\n",
              "    }\n",
              "</style>\n",
              "<table border=\"1\" class=\"dataframe\">\n",
              "  <thead>\n",
              "    <tr style=\"text-align: right;\">\n",
              "      <th></th>\n",
              "      <th>tool</th>\n",
              "      <th>cnt</th>\n",
              "      <th>grow_percentage</th>\n",
              "    </tr>\n",
              "  </thead>\n",
              "  <tbody>\n",
              "    <tr>\n",
              "      <th>0</th>\n",
              "      <td>teams</td>\n",
              "      <td>7024</td>\n",
              "      <td>0.7024</td>\n",
              "    </tr>\n",
              "    <tr>\n",
              "      <th>1</th>\n",
              "      <td>management</td>\n",
              "      <td>5813</td>\n",
              "      <td>0.5813</td>\n",
              "    </tr>\n",
              "    <tr>\n",
              "      <th>2</th>\n",
              "      <td>planning</td>\n",
              "      <td>4827</td>\n",
              "      <td>0.4827</td>\n",
              "    </tr>\n",
              "    <tr>\n",
              "      <th>3</th>\n",
              "      <td>development</td>\n",
              "      <td>4316</td>\n",
              "      <td>0.4316</td>\n",
              "    </tr>\n",
              "    <tr>\n",
              "      <th>4</th>\n",
              "      <td>data</td>\n",
              "      <td>2540</td>\n",
              "      <td>0.2540</td>\n",
              "    </tr>\n",
              "    <tr>\n",
              "      <th>5</th>\n",
              "      <td>research</td>\n",
              "      <td>1258</td>\n",
              "      <td>0.1258</td>\n",
              "    </tr>\n",
              "    <tr>\n",
              "      <th>6</th>\n",
              "      <td>coding</td>\n",
              "      <td>1178</td>\n",
              "      <td>0.1178</td>\n",
              "    </tr>\n",
              "    <tr>\n",
              "      <th>7</th>\n",
              "      <td>social</td>\n",
              "      <td>1177</td>\n",
              "      <td>0.1177</td>\n",
              "    </tr>\n",
              "    <tr>\n",
              "      <th>8</th>\n",
              "      <td>modelling</td>\n",
              "      <td>1176</td>\n",
              "      <td>0.1176</td>\n",
              "    </tr>\n",
              "    <tr>\n",
              "      <th>9</th>\n",
              "      <td>inventory</td>\n",
              "      <td>1085</td>\n",
              "      <td>0.1085</td>\n",
              "    </tr>\n",
              "    <tr>\n",
              "      <th>10</th>\n",
              "      <td>analyzing</td>\n",
              "      <td>618</td>\n",
              "      <td>0.0618</td>\n",
              "    </tr>\n",
              "    <tr>\n",
              "      <th>11</th>\n",
              "      <td>machines</td>\n",
              "      <td>599</td>\n",
              "      <td>0.0599</td>\n",
              "    </tr>\n",
              "    <tr>\n",
              "      <th>12</th>\n",
              "      <td>database</td>\n",
              "      <td>596</td>\n",
              "      <td>0.0596</td>\n",
              "    </tr>\n",
              "    <tr>\n",
              "      <th>13</th>\n",
              "      <td>optimization</td>\n",
              "      <td>554</td>\n",
              "      <td>0.0554</td>\n",
              "    </tr>\n",
              "    <tr>\n",
              "      <th>14</th>\n",
              "      <td>automation</td>\n",
              "      <td>545</td>\n",
              "      <td>0.0545</td>\n",
              "    </tr>\n",
              "    <tr>\n",
              "      <th>15</th>\n",
              "      <td>ms</td>\n",
              "      <td>538</td>\n",
              "      <td>0.0538</td>\n",
              "    </tr>\n",
              "    <tr>\n",
              "      <th>16</th>\n",
              "      <td>nothing specified</td>\n",
              "      <td>497</td>\n",
              "      <td>0.0497</td>\n",
              "    </tr>\n",
              "    <tr>\n",
              "      <th>17</th>\n",
              "      <td>agile</td>\n",
              "      <td>489</td>\n",
              "      <td>0.0489</td>\n",
              "    </tr>\n",
              "    <tr>\n",
              "      <th>18</th>\n",
              "      <td>visualization</td>\n",
              "      <td>461</td>\n",
              "      <td>0.0461</td>\n",
              "    </tr>\n",
              "    <tr>\n",
              "      <th>19</th>\n",
              "      <td>methodologies</td>\n",
              "      <td>460</td>\n",
              "      <td>0.0460</td>\n",
              "    </tr>\n",
              "    <tr>\n",
              "      <th>20</th>\n",
              "      <td>c</td>\n",
              "      <td>455</td>\n",
              "      <td>0.0455</td>\n",
              "    </tr>\n",
              "    <tr>\n",
              "      <th>21</th>\n",
              "      <td>infrastructure</td>\n",
              "      <td>455</td>\n",
              "      <td>0.0455</td>\n",
              "    </tr>\n",
              "    <tr>\n",
              "      <th>22</th>\n",
              "      <td>d</td>\n",
              "      <td>437</td>\n",
              "      <td>0.0437</td>\n",
              "    </tr>\n",
              "    <tr>\n",
              "      <th>23</th>\n",
              "      <td>lab</td>\n",
              "      <td>431</td>\n",
              "      <td>0.0431</td>\n",
              "    </tr>\n",
              "    <tr>\n",
              "      <th>24</th>\n",
              "      <td>web</td>\n",
              "      <td>418</td>\n",
              "      <td>0.0418</td>\n",
              "    </tr>\n",
              "    <tr>\n",
              "      <th>25</th>\n",
              "      <td>virtual</td>\n",
              "      <td>411</td>\n",
              "      <td>0.0411</td>\n",
              "    </tr>\n",
              "    <tr>\n",
              "      <th>26</th>\n",
              "      <td>analyst</td>\n",
              "      <td>403</td>\n",
              "      <td>0.0403</td>\n",
              "    </tr>\n",
              "    <tr>\n",
              "      <th>27</th>\n",
              "      <td>framework</td>\n",
              "      <td>400</td>\n",
              "      <td>0.0400</td>\n",
              "    </tr>\n",
              "    <tr>\n",
              "      <th>28</th>\n",
              "      <td>media</td>\n",
              "      <td>398</td>\n",
              "      <td>0.0398</td>\n",
              "    </tr>\n",
              "    <tr>\n",
              "      <th>29</th>\n",
              "      <td>windows</td>\n",
              "      <td>370</td>\n",
              "      <td>0.0370</td>\n",
              "    </tr>\n",
              "    <tr>\n",
              "      <th>30</th>\n",
              "      <td>server</td>\n",
              "      <td>342</td>\n",
              "      <td>0.0342</td>\n",
              "    </tr>\n",
              "    <tr>\n",
              "      <th>31</th>\n",
              "      <td>lifecycle</td>\n",
              "      <td>261</td>\n",
              "      <td>0.0261</td>\n",
              "    </tr>\n",
              "    <tr>\n",
              "      <th>32</th>\n",
              "      <td>logistic</td>\n",
              "      <td>258</td>\n",
              "      <td>0.0258</td>\n",
              "    </tr>\n",
              "    <tr>\n",
              "      <th>33</th>\n",
              "      <td>sql</td>\n",
              "      <td>255</td>\n",
              "      <td>0.0255</td>\n",
              "    </tr>\n",
              "    <tr>\n",
              "      <th>34</th>\n",
              "      <td>java</td>\n",
              "      <td>249</td>\n",
              "      <td>0.0249</td>\n",
              "    </tr>\n",
              "    <tr>\n",
              "      <th>35</th>\n",
              "      <td>python</td>\n",
              "      <td>247</td>\n",
              "      <td>0.0247</td>\n",
              "    </tr>\n",
              "    <tr>\n",
              "      <th>36</th>\n",
              "      <td>forecasting</td>\n",
              "      <td>237</td>\n",
              "      <td>0.0237</td>\n",
              "    </tr>\n",
              "    <tr>\n",
              "      <th>37</th>\n",
              "      <td>script</td>\n",
              "      <td>220</td>\n",
              "      <td>0.0220</td>\n",
              "    </tr>\n",
              "    <tr>\n",
              "      <th>38</th>\n",
              "      <td>restful</td>\n",
              "      <td>213</td>\n",
              "      <td>0.0213</td>\n",
              "    </tr>\n",
              "    <tr>\n",
              "      <th>39</th>\n",
              "      <td>api</td>\n",
              "      <td>181</td>\n",
              "      <td>0.0181</td>\n",
              "    </tr>\n",
              "    <tr>\n",
              "      <th>40</th>\n",
              "      <td>r</td>\n",
              "      <td>175</td>\n",
              "      <td>0.0175</td>\n",
              "    </tr>\n",
              "    <tr>\n",
              "      <th>41</th>\n",
              "      <td>stack</td>\n",
              "      <td>171</td>\n",
              "      <td>0.0171</td>\n",
              "    </tr>\n",
              "    <tr>\n",
              "      <th>42</th>\n",
              "      <td>compared</td>\n",
              "      <td>168</td>\n",
              "      <td>0.0168</td>\n",
              "    </tr>\n",
              "    <tr>\n",
              "      <th>43</th>\n",
              "      <td>predict</td>\n",
              "      <td>147</td>\n",
              "      <td>0.0147</td>\n",
              "    </tr>\n",
              "    <tr>\n",
              "      <th>44</th>\n",
              "      <td>spring</td>\n",
              "      <td>145</td>\n",
              "      <td>0.0145</td>\n",
              "    </tr>\n",
              "    <tr>\n",
              "      <th>45</th>\n",
              "      <td>scientist</td>\n",
              "      <td>138</td>\n",
              "      <td>0.0138</td>\n",
              "    </tr>\n",
              "    <tr>\n",
              "      <th>46</th>\n",
              "      <td>javascript</td>\n",
              "      <td>134</td>\n",
              "      <td>0.0134</td>\n",
              "    </tr>\n",
              "    <tr>\n",
              "      <th>47</th>\n",
              "      <td>linux</td>\n",
              "      <td>121</td>\n",
              "      <td>0.0121</td>\n",
              "    </tr>\n",
              "    <tr>\n",
              "      <th>48</th>\n",
              "      <td>dashboard</td>\n",
              "      <td>102</td>\n",
              "      <td>0.0102</td>\n",
              "    </tr>\n",
              "    <tr>\n",
              "      <th>49</th>\n",
              "      <td>prototype</td>\n",
              "      <td>102</td>\n",
              "      <td>0.0102</td>\n",
              "    </tr>\n",
              "  </tbody>\n",
              "</table>\n",
              "</div>\n",
              "      <button class=\"colab-df-convert\" onclick=\"convertToInteractive('df-3c9351bd-db46-4026-8cdc-83b02e9bd1b4')\"\n",
              "              title=\"Convert this dataframe to an interactive table.\"\n",
              "              style=\"display:none;\">\n",
              "        \n",
              "  <svg xmlns=\"http://www.w3.org/2000/svg\" height=\"24px\"viewBox=\"0 0 24 24\"\n",
              "       width=\"24px\">\n",
              "    <path d=\"M0 0h24v24H0V0z\" fill=\"none\"/>\n",
              "    <path d=\"M18.56 5.44l.94 2.06.94-2.06 2.06-.94-2.06-.94-.94-2.06-.94 2.06-2.06.94zm-11 1L8.5 8.5l.94-2.06 2.06-.94-2.06-.94L8.5 2.5l-.94 2.06-2.06.94zm10 10l.94 2.06.94-2.06 2.06-.94-2.06-.94-.94-2.06-.94 2.06-2.06.94z\"/><path d=\"M17.41 7.96l-1.37-1.37c-.4-.4-.92-.59-1.43-.59-.52 0-1.04.2-1.43.59L10.3 9.45l-7.72 7.72c-.78.78-.78 2.05 0 2.83L4 21.41c.39.39.9.59 1.41.59.51 0 1.02-.2 1.41-.59l7.78-7.78 2.81-2.81c.8-.78.8-2.07 0-2.86zM5.41 20L4 18.59l7.72-7.72 1.47 1.35L5.41 20z\"/>\n",
              "  </svg>\n",
              "      </button>\n",
              "      \n",
              "  <style>\n",
              "    .colab-df-container {\n",
              "      display:flex;\n",
              "      flex-wrap:wrap;\n",
              "      gap: 12px;\n",
              "    }\n",
              "\n",
              "    .colab-df-convert {\n",
              "      background-color: #E8F0FE;\n",
              "      border: none;\n",
              "      border-radius: 50%;\n",
              "      cursor: pointer;\n",
              "      display: none;\n",
              "      fill: #1967D2;\n",
              "      height: 32px;\n",
              "      padding: 0 0 0 0;\n",
              "      width: 32px;\n",
              "    }\n",
              "\n",
              "    .colab-df-convert:hover {\n",
              "      background-color: #E2EBFA;\n",
              "      box-shadow: 0px 1px 2px rgba(60, 64, 67, 0.3), 0px 1px 3px 1px rgba(60, 64, 67, 0.15);\n",
              "      fill: #174EA6;\n",
              "    }\n",
              "\n",
              "    [theme=dark] .colab-df-convert {\n",
              "      background-color: #3B4455;\n",
              "      fill: #D2E3FC;\n",
              "    }\n",
              "\n",
              "    [theme=dark] .colab-df-convert:hover {\n",
              "      background-color: #434B5C;\n",
              "      box-shadow: 0px 1px 3px 1px rgba(0, 0, 0, 0.15);\n",
              "      filter: drop-shadow(0px 1px 2px rgba(0, 0, 0, 0.3));\n",
              "      fill: #FFFFFF;\n",
              "    }\n",
              "  </style>\n",
              "\n",
              "      <script>\n",
              "        const buttonEl =\n",
              "          document.querySelector('#df-3c9351bd-db46-4026-8cdc-83b02e9bd1b4 button.colab-df-convert');\n",
              "        buttonEl.style.display =\n",
              "          google.colab.kernel.accessAllowed ? 'block' : 'none';\n",
              "\n",
              "        async function convertToInteractive(key) {\n",
              "          const element = document.querySelector('#df-3c9351bd-db46-4026-8cdc-83b02e9bd1b4');\n",
              "          const dataTable =\n",
              "            await google.colab.kernel.invokeFunction('convertToInteractive',\n",
              "                                                     [key], {});\n",
              "          if (!dataTable) return;\n",
              "\n",
              "          const docLinkHtml = 'Like what you see? Visit the ' +\n",
              "            '<a target=\"_blank\" href=https://colab.research.google.com/notebooks/data_table.ipynb>data table notebook</a>'\n",
              "            + ' to learn more about interactive tables.';\n",
              "          element.innerHTML = '';\n",
              "          dataTable['output_type'] = 'display_data';\n",
              "          await google.colab.output.renderOutput(dataTable, element);\n",
              "          const docLink = document.createElement('div');\n",
              "          docLink.innerHTML = docLinkHtml;\n",
              "          element.appendChild(docLink);\n",
              "        }\n",
              "      </script>\n",
              "    </div>\n",
              "  </div>\n",
              "  "
            ]
          },
          "metadata": {},
          "execution_count": 208
        }
      ]
    },
    {
      "cell_type": "code",
      "source": [
        "keyword_list_after_clean = list(df_tool_top['tool'])"
      ],
      "metadata": {
        "id": "5TBDO7QZZc5E"
      },
      "execution_count": 209,
      "outputs": []
    },
    {
      "cell_type": "code",
      "source": [
        "pretty_print(keyword_list_after_clean)"
      ],
      "metadata": {
        "colab": {
          "base_uri": "https://localhost:8080/",
          "height": 0
        },
        "id": "hpcy_oifjFSi",
        "outputId": "f0982cc9-0bf1-493e-da48-59185d46ec2f"
      },
      "execution_count": 210,
      "outputs": [
        {
          "output_type": "stream",
          "name": "stdout",
          "text": [
            "teams, management, planning, development, data, research, coding, social, modelling, inventory, \n",
            "analyzing, machines, database, optimization, automation, ms, nothing specified, agile, visualization, methodologies, \n",
            "c, infrastructure, d, lab, web, virtual, analyst, framework, media, windows, \n",
            "server, lifecycle, logistic, sql, java, python, forecasting, script, restful, api, \n",
            "r, stack, compared, predict, spring, scientist, javascript, linux, dashboard, prototype, \n"
          ]
        }
      ]
    },
    {
      "cell_type": "markdown",
      "source": [
        "## Support Functions"
      ],
      "metadata": {
        "id": "wpJRfuTmPUzi"
      }
    },
    {
      "cell_type": "code",
      "source": [
        "# Garage collections\n",
        "gc.collect()"
      ],
      "metadata": {
        "colab": {
          "base_uri": "https://localhost:8080/",
          "height": 0
        },
        "id": "gN68Wi3NPGWd",
        "outputId": "3bc9ce2a-7ac1-4353-8479-e7c8bcfc777f"
      },
      "execution_count": 211,
      "outputs": [
        {
          "output_type": "execute_result",
          "data": {
            "text/plain": [
              "1248"
            ]
          },
          "metadata": {},
          "execution_count": 211
        }
      ]
    }
  ]
}