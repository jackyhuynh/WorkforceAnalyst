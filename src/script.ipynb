{
 "cells": [
  {
   "cell_type": "markdown",
   "metadata": {},
   "source": [
    "## Truc huynh References\n",
    "\n",
    "### Material:\n",
    "- [Pandas - Filter row and columns](https://python.plainenglish.io/filtering-rows-and-columns-in-pandas-python-techniques-you-must-know-6cdfc32c614c)\n",
    "- [Pandas - Drop multiple columns](https://pythonexamples.org/pandas-dataframe-delete-column/#5)\n",
    "- [Pandas - Check Pandas data type](https://datascientyst.com/check-dtype-column-columns-pandas-dataframe/#:~:text=%20How%20to%20Check%20the%20Dtype%20of%20Column,Check%20if%20column%20is%20numeric%2C%20dateti...%20More%20)\n",
    "- [Data - Columns Views - Original Data](https://www.kaggle.com/datasets/sobhanmoosavi/us-accidents)\n",
    "- [Pandas - Convert value in columns](https://stackoverflow.com/questions/52317459/python-pandas-convert-single-value-in-object-column)\n",
    "- [Time Ranges/ Time Comparision](https://pythonawesome.com/time-ranges-with-python/)\n",
    "- [AI BOOKS](http://aima.cs.berkeley.edu/)"
   ]
  },
  {
   "cell_type": "markdown",
   "metadata": {},
   "source": [
    "## 1. Approach\n",
    "\n",
    "- Check Nature processing Languages algorithm and approach\n",
    "- Clean data & Tidy them\n",
    "- Check for variable\n",
    "- Check for keywords"
   ]
  },
  {
   "cell_type": "code",
   "execution_count": 1,
   "metadata": {
    "collapsed": true
   },
   "outputs": [],
   "source": [
    "import pandas as pd\n",
    "import numpy as np\n",
    "import seaborn as sns\n",
    "import matplotlib.pyplot as plt\n",
    "import sklearn\n",
    "import json"
   ]
  },
  {
   "cell_type": "markdown",
   "metadata": {},
   "source": [
    "## 2. Exploratory Data Analysis (EDA)\n",
    "\n",
    "1. Decide if feature selection is needed.\n",
    "    * Do you have hihgly correlated features?\n",
    "2. Decide if you have non-scalar attributes.\n",
    "3. What type of supervised learning is this?\n",
    "    * Binary Classification\n",
    "    * Multi-class classification?\n",
    "    * Ordinal classification [Tricky]\n",
    "        * Do you want to change this into regression or binarize into binary classification?\n",
    "    * Regression\n",
    "4. If doing classification\n",
    "    1. Decide whether you class variable makes sense.\n",
    "    2. Figure out what your class balance is\n",
    "5. Histogram the features\n",
    "    * Good if distribution is highly skewed\n",
    "6. Vizualize using reduced dimensions\n",
    "    * PCA, MVD\n",
    "    * T-SNE"
   ]
  },
  {
   "cell_type": "code",
   "execution_count": 2,
   "metadata": {
    "collapsed": true
   },
   "outputs": [],
   "source": [
    "df = pd.read_csv(\"./data.csv\")"
   ]
  },
  {
   "cell_type": "code",
   "execution_count": 3,
   "metadata": {},
   "outputs": [
    {
     "data": {
      "text/plain": [
       "(30, 20)"
      ]
     },
     "execution_count": 3,
     "metadata": {},
     "output_type": "execute_result"
    }
   ],
   "source": [
    "df.shape"
   ]
  },
  {
   "cell_type": "code",
   "execution_count": 4,
   "metadata": {},
   "outputs": [
    {
     "data": {
      "text/html": [
       "<div>\n",
       "<style>\n",
       "    .dataframe thead tr:only-child th {\n",
       "        text-align: right;\n",
       "    }\n",
       "\n",
       "    .dataframe thead th {\n",
       "        text-align: left;\n",
       "    }\n",
       "\n",
       "    .dataframe tbody tr th {\n",
       "        vertical-align: top;\n",
       "    }\n",
       "</style>\n",
       "<table border=\"1\" class=\"dataframe\">\n",
       "  <thead>\n",
       "    <tr style=\"text-align: right;\">\n",
       "      <th></th>\n",
       "      <th>#</th>\n",
       "      <th>jobid</th>\n",
       "      <th>country</th>\n",
       "      <th>country_code</th>\n",
       "      <th>current_url</th>\n",
       "      <th>date_posted</th>\n",
       "      <th>description</th>\n",
       "      <th>description_text</th>\n",
       "      <th>domain</th>\n",
       "      <th>job_title</th>\n",
       "      <th>location</th>\n",
       "      <th>region</th>\n",
       "      <th>company_link</th>\n",
       "      <th>company_name</th>\n",
       "      <th>job_type</th>\n",
       "      <th>company_rating</th>\n",
       "      <th>company_reviews_count</th>\n",
       "      <th>apply_link</th>\n",
       "      <th>date_posted_parsed</th>\n",
       "      <th>salary_formatted</th>\n",
       "    </tr>\n",
       "  </thead>\n",
       "  <tbody>\n",
       "    <tr>\n",
       "      <th>0</th>\n",
       "      <td>1</td>\n",
       "      <td>00009f127a9e34a7</td>\n",
       "      <td>US</td>\n",
       "      <td>US</td>\n",
       "      <td>https://www.indeed.com/viewjob?jk=00009f127a9e...</td>\n",
       "      <td>22 days ago</td>\n",
       "      <td>&lt;div&gt;\\n &lt;p&gt;The Treasury Analyst will assist th...</td>\n",
       "      <td>The Treasury Analyst will assist the Treasury ...</td>\n",
       "      <td>www.indeed.com</td>\n",
       "      <td>Analyst, Treasury – Banking Retail</td>\n",
       "      <td>United States</td>\n",
       "      <td>NaN</td>\n",
       "      <td>https://www.indeed.com/cmp/The-Est%C3%A9e-Laud...</td>\n",
       "      <td>The Estée Lauder Companies</td>\n",
       "      <td>Full-time</td>\n",
       "      <td>4.0</td>\n",
       "      <td>2214.0</td>\n",
       "      <td>https://www.indeed.com/applystart?jk=00009f127...</td>\n",
       "      <td>2022-05-18T14:09:47.585Z</td>\n",
       "      <td>null</td>\n",
       "    </tr>\n",
       "    <tr>\n",
       "      <th>1</th>\n",
       "      <td>2</td>\n",
       "      <td>0001783849fce183</td>\n",
       "      <td>US</td>\n",
       "      <td>LB</td>\n",
       "      <td>https://www.indeed.com/viewjob?jk=0001783849fc...</td>\n",
       "      <td>30+ days ago</td>\n",
       "      <td>&lt;p&gt;At Harry’s the Store Associate / Foodservic...</td>\n",
       "      <td>At Harry’s the Store Associate / Foodservice A...</td>\n",
       "      <td>www.indeed.com</td>\n",
       "      <td>Store Associate/ Food Service Associate - Saco...</td>\n",
       "      <td>Lebanon, ME</td>\n",
       "      <td>AS</td>\n",
       "      <td>https://www.indeed.com/cmp/H-A-Mapes,-Inc?camp...</td>\n",
       "      <td>Harry's Convenience Stores</td>\n",
       "      <td>Part-time</td>\n",
       "      <td>NaN</td>\n",
       "      <td>NaN</td>\n",
       "      <td>NaN</td>\n",
       "      <td>NaN</td>\n",
       "      <td>From $14 an hour</td>\n",
       "    </tr>\n",
       "    <tr>\n",
       "      <th>2</th>\n",
       "      <td>3</td>\n",
       "      <td>00027f45e5373e13</td>\n",
       "      <td>US</td>\n",
       "      <td>US</td>\n",
       "      <td>https://www.indeed.com/viewjob?jk=00027f45e537...</td>\n",
       "      <td>30+ days ago</td>\n",
       "      <td>&lt;div&gt;&lt;/div&gt;\\n&lt;div&gt;\\n &lt;div&gt;\\n  &lt;div&gt;\\n   &lt;b&gt;ACC...</td>\n",
       "      <td>ACCENTURE's Flexible Workforce solves clients’...</td>\n",
       "      <td>www.indeed.com</td>\n",
       "      <td>Cloud Architect</td>\n",
       "      <td>United States</td>\n",
       "      <td>NaN</td>\n",
       "      <td>https://www.indeed.com/cmp/Accenture?campaigni...</td>\n",
       "      <td>Accenture</td>\n",
       "      <td>Contract</td>\n",
       "      <td>4.0</td>\n",
       "      <td>21827.0</td>\n",
       "      <td>https://www.indeed.com/applystart?jk=00027f45e...</td>\n",
       "      <td>NaN</td>\n",
       "      <td>null</td>\n",
       "    </tr>\n",
       "    <tr>\n",
       "      <th>3</th>\n",
       "      <td>4</td>\n",
       "      <td>00028cda307fcffa</td>\n",
       "      <td>US</td>\n",
       "      <td>AO</td>\n",
       "      <td>https://www.indeed.com/viewjob?jk=00028cda307f...</td>\n",
       "      <td>30+ days ago</td>\n",
       "      <td>&lt;div&gt;\\n Company Description\\n &lt;p&gt;&lt;b&gt;&lt;br&gt; Why W...</td>\n",
       "      <td>Company Description\\n  Why We Want You:  Multi...</td>\n",
       "      <td>www.indeed.com</td>\n",
       "      <td>Maintenance Technician - $30+/hr Day Shift (El...</td>\n",
       "      <td>Angola, IN 46703</td>\n",
       "      <td>AF</td>\n",
       "      <td>https://www.indeed.com/cmp/Techo--bloc?campaig...</td>\n",
       "      <td>Techo-Bloc</td>\n",
       "      <td>Full-time</td>\n",
       "      <td>3.1</td>\n",
       "      <td>114.0</td>\n",
       "      <td>NaN</td>\n",
       "      <td>NaN</td>\n",
       "      <td>From $30 an hour</td>\n",
       "    </tr>\n",
       "    <tr>\n",
       "      <th>4</th>\n",
       "      <td>5</td>\n",
       "      <td>000002c948819e54</td>\n",
       "      <td>US</td>\n",
       "      <td>AU</td>\n",
       "      <td>https://www.indeed.com/viewjob?jk=000002c94881...</td>\n",
       "      <td>30+ days ago</td>\n",
       "      <td>&lt;div&gt;\\n &lt;p&gt;Working within the New York office ...</td>\n",
       "      <td>Working within the New York office the individ...</td>\n",
       "      <td>www.indeed.com</td>\n",
       "      <td>IT Senior Support Manager</td>\n",
       "      <td>Brooklyn, NY</td>\n",
       "      <td>OC</td>\n",
       "      <td>https://www.indeed.com/cmp/Michael-Page?campai...</td>\n",
       "      <td>Michael Page</td>\n",
       "      <td>NaN</td>\n",
       "      <td>3.5</td>\n",
       "      <td>354.0</td>\n",
       "      <td>https://www.indeed.com/applystart?jk=000002c94...</td>\n",
       "      <td>NaN</td>\n",
       "      <td>null</td>\n",
       "    </tr>\n",
       "  </tbody>\n",
       "</table>\n",
       "</div>"
      ],
      "text/plain": [
       "   #             jobid country country_code  \\\n",
       "0  1  00009f127a9e34a7      US           US   \n",
       "1  2  0001783849fce183      US           LB   \n",
       "2  3  00027f45e5373e13      US           US   \n",
       "3  4  00028cda307fcffa      US           AO   \n",
       "4  5  000002c948819e54      US           AU   \n",
       "\n",
       "                                         current_url   date_posted  \\\n",
       "0  https://www.indeed.com/viewjob?jk=00009f127a9e...   22 days ago   \n",
       "1  https://www.indeed.com/viewjob?jk=0001783849fc...  30+ days ago   \n",
       "2  https://www.indeed.com/viewjob?jk=00027f45e537...  30+ days ago   \n",
       "3  https://www.indeed.com/viewjob?jk=00028cda307f...  30+ days ago   \n",
       "4  https://www.indeed.com/viewjob?jk=000002c94881...  30+ days ago   \n",
       "\n",
       "                                         description  \\\n",
       "0  <div>\\n <p>The Treasury Analyst will assist th...   \n",
       "1  <p>At Harry’s the Store Associate / Foodservic...   \n",
       "2  <div></div>\\n<div>\\n <div>\\n  <div>\\n   <b>ACC...   \n",
       "3  <div>\\n Company Description\\n <p><b><br> Why W...   \n",
       "4  <div>\\n <p>Working within the New York office ...   \n",
       "\n",
       "                                    description_text          domain  \\\n",
       "0  The Treasury Analyst will assist the Treasury ...  www.indeed.com   \n",
       "1  At Harry’s the Store Associate / Foodservice A...  www.indeed.com   \n",
       "2  ACCENTURE's Flexible Workforce solves clients’...  www.indeed.com   \n",
       "3  Company Description\\n  Why We Want You:  Multi...  www.indeed.com   \n",
       "4  Working within the New York office the individ...  www.indeed.com   \n",
       "\n",
       "                                           job_title          location region  \\\n",
       "0                 Analyst, Treasury – Banking Retail     United States    NaN   \n",
       "1  Store Associate/ Food Service Associate - Saco...       Lebanon, ME     AS   \n",
       "2                                    Cloud Architect     United States    NaN   \n",
       "3  Maintenance Technician - $30+/hr Day Shift (El...  Angola, IN 46703     AF   \n",
       "4                          IT Senior Support Manager      Brooklyn, NY     OC   \n",
       "\n",
       "                                        company_link  \\\n",
       "0  https://www.indeed.com/cmp/The-Est%C3%A9e-Laud...   \n",
       "1  https://www.indeed.com/cmp/H-A-Mapes,-Inc?camp...   \n",
       "2  https://www.indeed.com/cmp/Accenture?campaigni...   \n",
       "3  https://www.indeed.com/cmp/Techo--bloc?campaig...   \n",
       "4  https://www.indeed.com/cmp/Michael-Page?campai...   \n",
       "\n",
       "                 company_name   job_type  company_rating  \\\n",
       "0  The Estée Lauder Companies  Full-time             4.0   \n",
       "1  Harry's Convenience Stores  Part-time             NaN   \n",
       "2                   Accenture   Contract             4.0   \n",
       "3                  Techo-Bloc  Full-time             3.1   \n",
       "4                Michael Page        NaN             3.5   \n",
       "\n",
       "   company_reviews_count                                         apply_link  \\\n",
       "0                 2214.0  https://www.indeed.com/applystart?jk=00009f127...   \n",
       "1                    NaN                                                NaN   \n",
       "2                21827.0  https://www.indeed.com/applystart?jk=00027f45e...   \n",
       "3                  114.0                                                NaN   \n",
       "4                  354.0  https://www.indeed.com/applystart?jk=000002c94...   \n",
       "\n",
       "         date_posted_parsed  salary_formatted  \n",
       "0  2022-05-18T14:09:47.585Z              null  \n",
       "1                       NaN  From $14 an hour  \n",
       "2                       NaN              null  \n",
       "3                       NaN  From $30 an hour  \n",
       "4                       NaN              null  "
      ]
     },
     "execution_count": 4,
     "metadata": {},
     "output_type": "execute_result"
    }
   ],
   "source": [
    "df.head()"
   ]
  },
  {
   "cell_type": "markdown",
   "metadata": {},
   "source": [
    "## 3. Check Missing Values"
   ]
  },
  {
   "cell_type": "code",
   "execution_count": 5,
   "metadata": {
    "collapsed": true
   },
   "outputs": [],
   "source": [
    "# Set figure size\n",
    "plt.rcParams[\"figure.figsize\"]=13,11\n",
    "sns.set(style='darkgrid')"
   ]
  },
  {
   "cell_type": "code",
   "execution_count": 6,
   "metadata": {},
   "outputs": [
    {
     "ename": "AttributeError",
     "evalue": "'DataFrame' object has no attribute 'isna'",
     "output_type": "error",
     "traceback": [
      "\u001b[1;31m---------------------------------------------------------------------------\u001b[0m",
      "\u001b[1;31mAttributeError\u001b[0m                            Traceback (most recent call last)",
      "\u001b[1;32m<ipython-input-6-51c0789c3380>\u001b[0m in \u001b[0;36m<module>\u001b[1;34m()\u001b[0m\n\u001b[0;32m      1\u001b[0m \u001b[1;31m# Check out the missing values in percentage\u001b[0m\u001b[1;33m\u001b[0m\u001b[1;33m\u001b[0m\u001b[0m\n\u001b[1;32m----> 2\u001b[1;33m \u001b[0mmissing_percentage\u001b[0m \u001b[1;33m=\u001b[0m \u001b[0mdf\u001b[0m\u001b[1;33m.\u001b[0m\u001b[0misna\u001b[0m\u001b[1;33m(\u001b[0m\u001b[1;33m)\u001b[0m\u001b[1;33m.\u001b[0m\u001b[0msum\u001b[0m\u001b[1;33m(\u001b[0m\u001b[1;33m)\u001b[0m\u001b[1;33m.\u001b[0m\u001b[0msort_values\u001b[0m\u001b[1;33m(\u001b[0m\u001b[0mascending\u001b[0m\u001b[1;33m=\u001b[0m\u001b[1;32mFalse\u001b[0m\u001b[1;33m)\u001b[0m\u001b[1;33m/\u001b[0m\u001b[0mlen\u001b[0m\u001b[1;33m(\u001b[0m\u001b[0mdf\u001b[0m\u001b[1;33m)\u001b[0m\u001b[1;33m\u001b[0m\u001b[0m\n\u001b[0m\u001b[0;32m      3\u001b[0m \u001b[1;33m\u001b[0m\u001b[0m\n\u001b[0;32m      4\u001b[0m \u001b[0mmissing_percentage\u001b[0m\u001b[1;33m[\u001b[0m\u001b[0mmissing_percentage\u001b[0m\u001b[1;33m!=\u001b[0m\u001b[1;36m0\u001b[0m\u001b[1;33m]\u001b[0m\u001b[1;33m.\u001b[0m\u001b[0mplot\u001b[0m\u001b[1;33m(\u001b[0m\u001b[0mkind\u001b[0m\u001b[1;33m=\u001b[0m\u001b[1;34m'barh'\u001b[0m\u001b[1;33m)\u001b[0m\u001b[1;33m\u001b[0m\u001b[0m\n",
      "\u001b[1;32mC:\\Users\\jacky\\Anaconda3\\lib\\site-packages\\pandas\\core\\generic.py\u001b[0m in \u001b[0;36m__getattr__\u001b[1;34m(self, name)\u001b[0m\n\u001b[0;32m   2968\u001b[0m             \u001b[1;32mif\u001b[0m \u001b[0mname\u001b[0m \u001b[1;32min\u001b[0m \u001b[0mself\u001b[0m\u001b[1;33m.\u001b[0m\u001b[0m_info_axis\u001b[0m\u001b[1;33m:\u001b[0m\u001b[1;33m\u001b[0m\u001b[0m\n\u001b[0;32m   2969\u001b[0m                 \u001b[1;32mreturn\u001b[0m \u001b[0mself\u001b[0m\u001b[1;33m[\u001b[0m\u001b[0mname\u001b[0m\u001b[1;33m]\u001b[0m\u001b[1;33m\u001b[0m\u001b[0m\n\u001b[1;32m-> 2970\u001b[1;33m             \u001b[1;32mreturn\u001b[0m \u001b[0mobject\u001b[0m\u001b[1;33m.\u001b[0m\u001b[0m__getattribute__\u001b[0m\u001b[1;33m(\u001b[0m\u001b[0mself\u001b[0m\u001b[1;33m,\u001b[0m \u001b[0mname\u001b[0m\u001b[1;33m)\u001b[0m\u001b[1;33m\u001b[0m\u001b[0m\n\u001b[0m\u001b[0;32m   2971\u001b[0m \u001b[1;33m\u001b[0m\u001b[0m\n\u001b[0;32m   2972\u001b[0m     \u001b[1;32mdef\u001b[0m \u001b[0m__setattr__\u001b[0m\u001b[1;33m(\u001b[0m\u001b[0mself\u001b[0m\u001b[1;33m,\u001b[0m \u001b[0mname\u001b[0m\u001b[1;33m,\u001b[0m \u001b[0mvalue\u001b[0m\u001b[1;33m)\u001b[0m\u001b[1;33m:\u001b[0m\u001b[1;33m\u001b[0m\u001b[0m\n",
      "\u001b[1;31mAttributeError\u001b[0m: 'DataFrame' object has no attribute 'isna'"
     ]
    }
   ],
   "source": [
    "# Check out the missing values in percentage\n",
    "missing_percentage = df.isna().sum().sort_values(ascending=False)/len(df)\n",
    "\n",
    "missing_percentage[missing_percentage!=0].plot(kind='barh')\n"
   ]
  }
 ],
 "metadata": {
  "kernelspec": {
   "display_name": "Python 3",
   "language": "python",
   "name": "python3"
  },
  "language_info": {
   "codemirror_mode": {
    "name": "ipython",
    "version": 3
   },
   "file_extension": ".py",
   "mimetype": "text/x-python",
   "name": "python",
   "nbconvert_exporter": "python",
   "pygments_lexer": "ipython3",
   "version": "3.6.1"
  }
 },
 "nbformat": 4,
 "nbformat_minor": 5
}
