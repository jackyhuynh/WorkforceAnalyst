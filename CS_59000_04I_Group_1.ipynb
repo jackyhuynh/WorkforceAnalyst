{
  "nbformat": 4,
  "nbformat_minor": 0,
  "metadata": {
    "colab": {
      "name": "CS 59000-04I-Group 1.ipynb",
      "provenance": [],
      "collapsed_sections": [],
      "include_colab_link": true
    },
    "kernelspec": {
      "name": "python3",
      "display_name": "Python 3"
    },
    "language_info": {
      "name": "python"
    }
  },
  "cells": [
    {
      "cell_type": "markdown",
      "metadata": {
        "id": "view-in-github",
        "colab_type": "text"
      },
      "source": [
        "<a href=\"https://colab.research.google.com/github/jackyhuynh/data_mining_using_python/blob/main/CS_59000_04I_Group_1.ipynb\" target=\"_parent\"><img src=\"https://colab.research.google.com/assets/colab-badge.svg\" alt=\"Open In Colab\"/></a>"
      ]
    },
    {
      "cell_type": "markdown",
      "source": [
        "# Summer 2022 CS 59000-04I AI Software Engr & Application DIS\n",
        "Welcome Students from **Group 1**\n",
        "\n",
        "The dataset to be used at the tasks should be mounted from Google Drive for each student.\n",
        "\n",
        "The datasets are provided as a shared Google Drive folder, if you have not received the link, please inform us.\n",
        "\n",
        "The instructions for mount the Google Drive folder at the Google Colab and to access the data is:\n",
        "\n",
        "https://colab.research.google.com/notebooks/io.ipynb\n",
        "\n",
        "---\n",
        "\n",
        "The dataset available are:\n",
        "\n",
        "\n",
        "*   Job postings\n",
        "*   Resumes\n",
        "\n",
        "---\n",
        "\n",
        "If the share \"datasets\" folder is not showing in Google Colab, follow these instructions to add a shortcut to your drive:\n",
        "\n",
        "https://support.google.com/drive/answer/2375057\n",
        "\n",
        "---\n",
        "\n",
        "**For any follow-up questions/queries:**\n",
        "\n",
        "*   Venkata Inukollu <inukollv@pfw.edu>\n",
        "*   Leandro de Almeida <almel01@pfw.edu>\n",
        "\n",
        "---\n",
        "\n",
        "*Disclaimer: The provided datasets are restrict to be used only during the academic tasks*\n",
        "\n"
      ],
      "metadata": {
        "id": "4uBfhbfsM0D_"
      }
    },
    {
      "cell_type": "markdown",
      "source": [
        "## References:\n",
        "- [Pandas Caculate Statistics/ Summary/ Columns](https://pandas.pydata.org/docs/getting_started/intro_tutorials/06_calculate_statistics.html)"
      ],
      "metadata": {
        "id": "qMLc1iuKUpiR"
      }
    },
    {
      "cell_type": "code",
      "source": [
        "from google.colab import drive\n",
        "drive.mount('/content/drive')"
      ],
      "metadata": {
        "id": "c1CMe0Vb5E1c",
        "colab": {
          "base_uri": "https://localhost:8080/"
        },
        "outputId": "5185f3ca-c3bd-474b-d3f4-f179e7db9db0"
      },
      "execution_count": 6,
      "outputs": [
        {
          "output_type": "stream",
          "name": "stdout",
          "text": [
            "Drive already mounted at /content/drive; to attempt to forcibly remount, call drive.mount(\"/content/drive\", force_remount=True).\n"
          ]
        }
      ]
    },
    {
      "cell_type": "markdown",
      "source": [
        "## Material/References:\n",
        "- [Pandas - Filter row and columns](https://python.plainenglish.io/filtering-rows-and-columns-in-pandas-python-techniques-you-must-know-6cdfc32c614c)\n",
        "- [Pandas - Drop multiple columns](https://pythonexamples.org/pandas-dataframe-delete-column/#5)\n",
        "- [Pandas - Check Pandas data type](https://datascientyst.com/check-dtype-column-columns-pandas-dataframe/#:~:text=%20How%20to%20Check%20the%20Dtype%20of%20Column,Check%20if%20column%20is%20numeric%2C%20dateti...%20More%20)\n",
        "- [Data - Columns Views - Original Data](https://www.kaggle.com/datasets/sobhanmoosavi/us-accidents)\n",
        "- [Pandas - Convert value in columns](https://stackoverflow.com/questions/52317459/python-pandas-convert-single-value-in-object-column)\n",
        "- [Time Ranges/ Time Comparision](https://pythonawesome.com/time-ranges-with-python/)\n",
        "- [Remove columns or Rows in Pandas](https://www.bing.com/search?q=remove+column+from+pandas&cvid=0b68a851c23b4a55abbb755ec28ca2f6&aqs=edge..69i57j0l7j69i64.8187j0j1&pglt=931&FORM=ANNTA1&PC=U531)\n",
        "- [Remove rows with certain citeria in Python Pandas](https://stackoverflow.com/questions/42125131/delete-row-based-on-nulls-in-certain-columns-pandas)\n",
        "- [AI BOOKS](http://aima.cs.berkeley.edu/)\n",
        "- https://towardsdatascience.com/gentle-start-to-natural-language-processing-using-python-6e46c07addf3\n",
        "- https://monkeylearn.com/keyword-extraction/\n",
        "- https://www.justintodata.com/use-nlp-in-python-practical-step-by-step-example/\n",
        "- https://mathdatasimplified.com/"
      ],
      "metadata": {
        "id": "fkBLmYgVouU6"
      }
    },
    {
      "cell_type": "code",
      "execution_count": 7,
      "metadata": {
        "id": "ZQpM5SHNYzFN"
      },
      "outputs": [],
      "source": [
        "# Data Pre-Processing - Job listing Dataset \n",
        "# Import necessary packages\n",
        "import pandas as pd\n",
        "import numpy as np\n",
        "import seaborn as sns\n",
        "import matplotlib.pyplot as plt\n",
        "import sklearn\n",
        "import json\n",
        "import os\n",
        "import gc # For garbage collection when deal with memory\n"
      ]
    },
    {
      "cell_type": "code",
      "source": [
        "from google.colab import drive\n",
        "drive.mount('/content/drive')"
      ],
      "metadata": {
        "colab": {
          "base_uri": "https://localhost:8080/"
        },
        "id": "JmpLWWDtY8LW",
        "outputId": "e9c684f5-39f8-4e9d-8689-3d3ae377f15c"
      },
      "execution_count": 8,
      "outputs": [
        {
          "output_type": "stream",
          "name": "stdout",
          "text": [
            "Drive already mounted at /content/drive; to attempt to forcibly remount, call drive.mount(\"/content/drive\", force_remount=True).\n"
          ]
        }
      ]
    },
    {
      "cell_type": "code",
      "source": [
        "os.getcwd()"
      ],
      "metadata": {
        "colab": {
          "base_uri": "https://localhost:8080/",
          "height": 36
        },
        "id": "AUQv45vigQmv",
        "outputId": "838c364d-6ec5-4570-a0dd-58a1c0968af4"
      },
      "execution_count": 9,
      "outputs": [
        {
          "output_type": "execute_result",
          "data": {
            "text/plain": [
              "'/content'"
            ],
            "application/vnd.google.colaboratory.intrinsic+json": {
              "type": "string"
            }
          },
          "metadata": {},
          "execution_count": 9
        }
      ]
    },
    {
      "cell_type": "markdown",
      "source": [
        ""
      ],
      "metadata": {
        "id": "07SGj4Y3Ndxh"
      }
    },
    {
      "cell_type": "markdown",
      "source": [
        "## Job Data Analyst\n",
        "\n",
        "- Goal: Top 3 Career choices, success factor (example Salaries growth, location, etc as per AI Attributes)"
      ],
      "metadata": {
        "id": "ZnWenXtoa8wf"
      }
    },
    {
      "cell_type": "markdown",
      "source": [
        "### Read Data:"
      ],
      "metadata": {
        "id": "mFGkPvVTbO3J"
      }
    },
    {
      "cell_type": "code",
      "source": [
        "# FileNames is a list with the names of the csv files contained in the 'dataset' path\n",
        "def get_file_names(path):\n",
        "  filenames = []\n",
        "  for file in os.listdir(path):\n",
        "    if file.endswith('.csv'):\n",
        "      filenames.append(file)\n",
        "  return filenames\n",
        "\n",
        "# function that reads the file from the FileNames list and makes it become a dataFrame\n",
        "def GetFile(fnombre, path):\n",
        "  location = path + fnombre\n",
        "  df = pd.read_csv(location)\n",
        "  return df\n",
        "\n",
        "file_path_job = './drive/MyDrive/datasets/jobposting/'\n",
        "# combine all the data frame as one using list complehesion\n",
        "dfjob = pd.concat([GetFile(file, file_path_job) for file in get_file_names(file_path_job)])"
      ],
      "metadata": {
        "id": "hzAVgrdK6Bzr"
      },
      "execution_count": 10,
      "outputs": []
    },
    {
      "cell_type": "code",
      "source": [
        "dfjob.shape"
      ],
      "metadata": {
        "colab": {
          "base_uri": "https://localhost:8080/"
        },
        "id": "r2ByudorDBNN",
        "outputId": "a3349645-cbf0-46f3-9590-a8a67b661e49"
      },
      "execution_count": 11,
      "outputs": [
        {
          "output_type": "execute_result",
          "data": {
            "text/plain": [
              "(300000, 22)"
            ]
          },
          "metadata": {},
          "execution_count": 11
        }
      ]
    },
    {
      "cell_type": "markdown",
      "source": [
        "### Attributes Validation:"
      ],
      "metadata": {
        "id": "RQYyn_QEGs0Z"
      }
    },
    {
      "cell_type": "code",
      "source": [
        "dfjob['salary_formatted'].value_counts()"
      ],
      "metadata": {
        "colab": {
          "base_uri": "https://localhost:8080/"
        },
        "id": "h34fF5qQGF8L",
        "outputId": "d9566ccb-8e2a-42d4-e7c5-d0fb72dafbee"
      },
      "execution_count": 12,
      "outputs": [
        {
          "output_type": "execute_result",
          "data": {
            "text/plain": [
              "$15 an hour                 2136\n",
              "From $15 an hour            1441\n",
              "$15 - $20 an hour           1273\n",
              "$17 an hour                 1246\n",
              "$16 an hour                 1188\n",
              "                            ... \n",
              "$64,000 - $80,000 a year       1\n",
              "$15.00 - $17.64 an hour        1\n",
              "$40 - $75 a day                1\n",
              "$3,092 - $3,762 a month        1\n",
              "$32,176 - $47,316 a year       1\n",
              "Name: salary_formatted, Length: 20577, dtype: int64"
            ]
          },
          "metadata": {},
          "execution_count": 12
        }
      ]
    },
    {
      "cell_type": "code",
      "source": [
        "dfjob['region'].value_counts()\n",
        "# Remove because there are all missing value here"
      ],
      "metadata": {
        "colab": {
          "base_uri": "https://localhost:8080/"
        },
        "id": "jp4a2U44ew43",
        "outputId": "021c49dc-ccad-4b24-8fd9-507b93470ce5"
      },
      "execution_count": 13,
      "outputs": [
        {
          "output_type": "execute_result",
          "data": {
            "text/plain": [
              "EU          3510\n",
              "AS          2761\n",
              "SA          1863\n",
              "AF           900\n",
              "OC           505\n",
              "Americas      54\n",
              "Name: region, dtype: int64"
            ]
          },
          "metadata": {},
          "execution_count": 13
        }
      ]
    },
    {
      "cell_type": "code",
      "source": [
        "dfjob['qualifications'].value_counts()\n",
        "# Can't remove because need this for further basic qualification\n",
        "# Convert the NAN to 'No requirement'"
      ],
      "metadata": {
        "colab": {
          "base_uri": "https://localhost:8080/"
        },
        "id": "9DlPbx9Be9T6",
        "outputId": "5548cea7-6084-45b3-af67-acdb829ec1c9"
      },
      "execution_count": 14,
      "outputs": [
        {
          "output_type": "execute_result",
          "data": {
            "text/plain": [
              "[\"US work authorization (Required)\"]                                                                                                                2930\n",
              "[\"US work authorization (Preferred)\"]                                                                                                               2089\n",
              "[\"High school or equivalent (Preferred)\"]                                                                                                           2001\n",
              "[\"Driver's License (Required)\"]                                                                                                                      973\n",
              "[\"Bachelor's (Preferred)\"]                                                                                                                           960\n",
              "                                                                                                                                                    ... \n",
              "[\"HVAC Certification (Required)\",\"US work authorization (Required)\",\"Secret (Required)\",\"Associate (Preferred)\"]                                       1\n",
              "[\"Restaurant experience: 4 years (Required)\",\"Day Shift (Preferred)\",\"Night Shift (Preferred)\"]                                                        1\n",
              "[\"IT support: 5 years (Required)\"]                                                                                                                     1\n",
              "[\"Microsoft Excel: 4 years (Preferred)\",\"Tableau: 1 year (Preferred)\",\"Data analytics: 4 years (Preferred)\",\"US work authorization (Preferred)\"]       1\n",
              "[\"UI: 7 years (Preferred)\",\"React: 7 years (Preferred)\",\"Angular: 7 years (Preferred)\",\"JavaScript: 7 years (Preferred)\"]                              1\n",
              "Name: qualifications, Length: 20165, dtype: int64"
            ]
          },
          "metadata": {},
          "execution_count": 14
        }
      ]
    },
    {
      "cell_type": "code",
      "source": [
        "dfjob['benefits'].value_counts()"
      ],
      "metadata": {
        "colab": {
          "base_uri": "https://localhost:8080/"
        },
        "id": "Fw5VgcT0gSaI",
        "outputId": "eb5b121b-4e97-42ec-82ed-c1e238fb74a1"
      },
      "execution_count": 15,
      "outputs": [
        {
          "output_type": "execute_result",
          "data": {
            "text/plain": [
              "[\"Health insurance\"]                                                                                                                                                                                                                                                                5325\n",
              "[\"Flexible schedule\"]                                                                                                                                                                                                                                                               2717\n",
              "[\"401(k)\",\"Dental insurance\",\"Health insurance\",\"Paid time off\",\"Vision insurance\"]                                                                                                                                                                                                 1873\n",
              "[\"Paid time off\"]                                                                                                                                                                                                                                                                    908\n",
              "[\"Dental insurance\",\"Health insurance\",\"Paid time off\",\"Vision insurance\"]                                                                                                                                                                                                           855\n",
              "                                                                                                                                                                                                                                                                                    ... \n",
              "[\"403(b)\",\"403(b) matching\",\"Dental insurance\",\"Flexible spending account\",\"Health insurance\",\"Paid time off\",\"Parental leave\",\"Vision insurance\"]                                                                                                                                     1\n",
              "[\"401(k)\",\"AD&D insurance\",\"Dental insurance\",\"Disability insurance\",\"Employee assistance program\",\"Employee discount\",\"Flexible schedule\",\"Health insurance\",\"Life insurance\",\"Paid time off\",\"Referral program\",\"Tuition reimbursement\",\"Vision insurance\",\"Wellness program\"]       1\n",
              "[\"401(k)\",\"401(k) matching\",\"Flexible schedule\",\"Health insurance\",\"Health savings account\",\"Life insurance\",\"Paid time off\",\"Professional development assistance\",\"Safety equipment provided\",\"Tuition reimbursement\"]                                                                1\n",
              "[\"On-the-job training\",\"Pet insurance\",\"Tools provided\",\"Tuition reimbursement\"]                                                                                                                                                                                                       1\n",
              "[\"401(k)\",\"AD&D insurance\",\"Commuter assistance\",\"Dental insurance\",\"Disability insurance\",\"Employee assistance program\",\"Flexible spending account\",\"Health insurance\",\"Health savings account\",\"Paid time off\",\"Parental leave\",\"Tuition reimbursement\",\"Vision insurance\"]          1\n",
              "Name: benefits, Length: 19372, dtype: int64"
            ]
          },
          "metadata": {},
          "execution_count": 15
        }
      ]
    },
    {
      "cell_type": "code",
      "source": [
        "# Remove src name\n",
        "dfjob['srcname'].isnull().sum()"
      ],
      "metadata": {
        "colab": {
          "base_uri": "https://localhost:8080/"
        },
        "id": "4AlxI9sugxfx",
        "outputId": "75ad20d9-d7f1-4a2a-b41f-86dc36ed1926"
      },
      "execution_count": 16,
      "outputs": [
        {
          "output_type": "execute_result",
          "data": {
            "text/plain": [
              "193418"
            ]
          },
          "metadata": {},
          "execution_count": 16
        }
      ]
    },
    {
      "cell_type": "code",
      "source": [
        "dfjob['country'].value_counts()"
      ],
      "metadata": {
        "colab": {
          "base_uri": "https://localhost:8080/"
        },
        "id": "ZmKUraMtDE8U",
        "outputId": "065b686a-ea4a-4840-833a-8d431a86317d"
      },
      "execution_count": 17,
      "outputs": [
        {
          "output_type": "execute_result",
          "data": {
            "text/plain": [
              "US    300000\n",
              "Name: country, dtype: int64"
            ]
          },
          "metadata": {},
          "execution_count": 17
        }
      ]
    },
    {
      "cell_type": "code",
      "source": [
        "dfjob['country_code'].value_counts()"
      ],
      "metadata": {
        "colab": {
          "base_uri": "https://localhost:8080/"
        },
        "id": "VkiUJVtwdVBi",
        "outputId": "9f7d2112-d1be-4a47-bae9-567945e9c6ca"
      },
      "execution_count": 18,
      "outputs": [
        {
          "output_type": "execute_result",
          "data": {
            "text/plain": [
              "US    282417\n",
              "BR       800\n",
              "GB       681\n",
              "CO       668\n",
              "CA       612\n",
              "       ...  \n",
              "CF         1\n",
              "BY         1\n",
              "ZM         1\n",
              "MD         1\n",
              "UG         1\n",
              "Name: country_code, Length: 166, dtype: int64"
            ]
          },
          "metadata": {},
          "execution_count": 18
        }
      ]
    },
    {
      "cell_type": "code",
      "source": [
        "dfjob['company_name'].value_counts()"
      ],
      "metadata": {
        "colab": {
          "base_uri": "https://localhost:8080/"
        },
        "id": "EMw8WOOITyxP",
        "outputId": "ef74772c-2d1a-4b72-afa7-b251cc0a8bf9"
      },
      "execution_count": 19,
      "outputs": [
        {
          "output_type": "execute_result",
          "data": {
            "text/plain": [
              "Deloitte                                 3804\n",
              "ASSURANCE Independent Agents             1774\n",
              "Amazon.com Services LLC                  1401\n",
              "Aya Healthcare                           1224\n",
              "Soliant                                  1075\n",
              "                                         ... \n",
              "Ardent Counseling Center                    1\n",
              "Mobile Management llc                       1\n",
              "Duro Electric                               1\n",
              "CareerStaff Unlimited - Nashville, TN       1\n",
              "Sanel Corp                                  1\n",
              "Name: company_name, Length: 97715, dtype: int64"
            ]
          },
          "metadata": {},
          "execution_count": 19
        }
      ]
    },
    {
      "cell_type": "code",
      "source": [
        "dfjob['company_link'].value_counts()"
      ],
      "metadata": {
        "colab": {
          "base_uri": "https://localhost:8080/"
        },
        "id": "z0VKYozlUA9a",
        "outputId": "5e4382d6-02ed-4082-f441-dde04037684f"
      },
      "execution_count": 20,
      "outputs": [
        {
          "output_type": "execute_result",
          "data": {
            "text/plain": [
              "https://www.indeed.com/cmp/The-Est%C3%A9e-Lauder-Companies-1?campaignid=vjcmpinfo&from=vjcmpinfo&tk=1g54cpcg728qo000&fromjk=00009f127a9e34a7              1\n",
              "https://www.indeed.com/cmp/Holistic-Healing-Collective?campaignid=vjcmpinfo&from=vjcmpinfo&tk=1g54t7pg6pkej800&fromjk=96522f26f3a8fcba                    1\n",
              "https://www.indeed.com/cmp/United-Premier?campaignid=vjcmpinfo&from=vjcmpinfo&tk=1g54t62jeq072800&fromjk=96524389f8fbf9ac                                 1\n",
              "https://www.indeed.com/cmp/Temp-Experts?campaignid=vjcmpinfo&from=vjcmpinfo&tk=1g54t5uj7t48o800&fromjk=965241afe500d938                                   1\n",
              "https://www.indeed.com/cmp/Kum-&-Go?campaignid=vjcmpinfo&from=vjcmpinfo&tk=1g54t6r8lq051800&fromjk=96523fc6ef1ed652                                       1\n",
              "                                                                                                                                                         ..\n",
              "https://www.indeed.com/cmp/Trugreen?campaignid=vjcmpinfo&from=vjcmpinfo&tk=1g54t4ctsj3vu800&fromjk=94750524588fee11                                       1\n",
              "https://www.indeed.com/cmp/Red-Knight-Solutions,-LLC?campaignid=vjcmpinfo&from=vjcmpinfo&tk=1g54t48h6isah800&fromjk=9475094e35b7bc1f                      1\n",
              "https://www.indeed.com/cmp/Bon-Secours?campaignid=vjcmpinfo&from=vjcmpinfo&tk=1g54t48k5i7kk800&fromjk=947510b2566d0887                                    1\n",
              "https://www.indeed.com/cmp/Beaumont-Health?campaignid=vjcmpinfo&from=vjcmpinfo&tk=1g54t4aq5h5i1800&fromjk=947512447005a768                                1\n",
              "https://www.indeed.com/cmp/Disney-Media-and-Entertainment-Distribution?campaignid=vjcmpinfo&from=vjcmpinfo&tk=1g54fb8l5lekk800&fromjk=0710b77c13b3dd2e    1\n",
              "Name: company_link, Length: 286348, dtype: int64"
            ]
          },
          "metadata": {},
          "execution_count": 20
        }
      ]
    },
    {
      "cell_type": "code",
      "source": [
        "dfjob.head()"
      ],
      "metadata": {
        "id": "sLp3DvqpcXH1",
        "colab": {
          "base_uri": "https://localhost:8080/",
          "height": 560
        },
        "outputId": "d97faea6-f6ef-484f-cb14-c0237bbb87b7"
      },
      "execution_count": 21,
      "outputs": [
        {
          "output_type": "execute_result",
          "data": {
            "text/plain": [
              "              jobid                                         apply_link  \\\n",
              "0  00009f127a9e34a7  https://www.indeed.com/applystart?jk=00009f127...   \n",
              "1  0001783849fce183                                                NaN   \n",
              "2  00027f45e5373e13  https://www.indeed.com/applystart?jk=00027f45e...   \n",
              "3  00028cda307fcffa                                                NaN   \n",
              "4  000002c948819e54  https://www.indeed.com/applystart?jk=000002c94...   \n",
              "\n",
              "                                        company_link  \\\n",
              "0  https://www.indeed.com/cmp/The-Est%C3%A9e-Laud...   \n",
              "1  https://www.indeed.com/cmp/H-A-Mapes,-Inc?camp...   \n",
              "2  https://www.indeed.com/cmp/Accenture?campaigni...   \n",
              "3  https://www.indeed.com/cmp/Techo--bloc?campaig...   \n",
              "4  https://www.indeed.com/cmp/Michael-Page?campai...   \n",
              "\n",
              "                 company_name  company_rating  company_reviews_count country  \\\n",
              "0  The Estée Lauder Companies             4.0                 2214.0      US   \n",
              "1  Harry's Convenience Stores             NaN                    NaN      US   \n",
              "2                   Accenture             4.0                21827.0      US   \n",
              "3                  Techo-Bloc             3.1                  114.0      US   \n",
              "4                Michael Page             3.5                  354.0      US   \n",
              "\n",
              "  country_code                                        current_url  \\\n",
              "0           US  https://www.indeed.com/viewjob?jk=00009f127a9e...   \n",
              "1           LB  https://www.indeed.com/viewjob?jk=0001783849fc...   \n",
              "2           US  https://www.indeed.com/viewjob?jk=00027f45e537...   \n",
              "3           AO  https://www.indeed.com/viewjob?jk=00028cda307f...   \n",
              "4           AU  https://www.indeed.com/viewjob?jk=000002c94881...   \n",
              "\n",
              "    date_posted  ...                                   description_text  \\\n",
              "0   22 days ago  ...  The Treasury Analyst will assist the Treasury ...   \n",
              "1  30+ days ago  ...  At Harry’s the Store Associate / Foodservice A...   \n",
              "2  30+ days ago  ...  ACCENTURE's Flexible Workforce solves clients’...   \n",
              "3  30+ days ago  ...  Company Description\\n  Why We Want You:  Multi...   \n",
              "4  30+ days ago  ...  Working within the New York office the individ...   \n",
              "\n",
              "           domain                                          job_title  \\\n",
              "0  www.indeed.com                 Analyst, Treasury – Banking Retail   \n",
              "1  www.indeed.com  Store Associate/ Food Service Associate - Saco...   \n",
              "2  www.indeed.com                                    Cloud Architect   \n",
              "3  www.indeed.com  Maintenance Technician - $30+/hr Day Shift (El...   \n",
              "4  www.indeed.com                          IT Senior Support Manager   \n",
              "\n",
              "        job_type          location region  salary_formatted  \\\n",
              "0  [\"Full-time\"]     United States    NaN               NaN   \n",
              "1  [\"Part-time\"]       Lebanon, ME     AS  From $14 an hour   \n",
              "2   [\"Contract\"]     United States    NaN               NaN   \n",
              "3  [\"Full-time\"]  Angola, IN 46703     AF  From $30 an hour   \n",
              "4            NaN      Brooklyn, NY     OC               NaN   \n",
              "\n",
              "                                            benefits  \\\n",
              "0                                                NaN   \n",
              "1  [\"401(k)\",\"401(k) matching\",\"Dental insurance\"...   \n",
              "2                                                NaN   \n",
              "3  [\"401(k)\",\"Dental insurance\",\"Disability insur...   \n",
              "4                                                NaN   \n",
              "\n",
              "                                      qualifications  \\\n",
              "0                                                NaN   \n",
              "1  [\"High school or equivalent (Preferred)\",\"US w...   \n",
              "2                                                NaN   \n",
              "3                                                NaN   \n",
              "4                                                NaN   \n",
              "\n",
              "                         srcname  \n",
              "0                            NaN  \n",
              "1                            NaN  \n",
              "2  globalcxaccenture.avature.net  \n",
              "3                            NaN  \n",
              "4            www.michaelpage.com  \n",
              "\n",
              "[5 rows x 22 columns]"
            ],
            "text/html": [
              "\n",
              "  <div id=\"df-5b0d62af-9b71-45d7-9b66-34ab7fcc0f4d\">\n",
              "    <div class=\"colab-df-container\">\n",
              "      <div>\n",
              "<style scoped>\n",
              "    .dataframe tbody tr th:only-of-type {\n",
              "        vertical-align: middle;\n",
              "    }\n",
              "\n",
              "    .dataframe tbody tr th {\n",
              "        vertical-align: top;\n",
              "    }\n",
              "\n",
              "    .dataframe thead th {\n",
              "        text-align: right;\n",
              "    }\n",
              "</style>\n",
              "<table border=\"1\" class=\"dataframe\">\n",
              "  <thead>\n",
              "    <tr style=\"text-align: right;\">\n",
              "      <th></th>\n",
              "      <th>jobid</th>\n",
              "      <th>apply_link</th>\n",
              "      <th>company_link</th>\n",
              "      <th>company_name</th>\n",
              "      <th>company_rating</th>\n",
              "      <th>company_reviews_count</th>\n",
              "      <th>country</th>\n",
              "      <th>country_code</th>\n",
              "      <th>current_url</th>\n",
              "      <th>date_posted</th>\n",
              "      <th>...</th>\n",
              "      <th>description_text</th>\n",
              "      <th>domain</th>\n",
              "      <th>job_title</th>\n",
              "      <th>job_type</th>\n",
              "      <th>location</th>\n",
              "      <th>region</th>\n",
              "      <th>salary_formatted</th>\n",
              "      <th>benefits</th>\n",
              "      <th>qualifications</th>\n",
              "      <th>srcname</th>\n",
              "    </tr>\n",
              "  </thead>\n",
              "  <tbody>\n",
              "    <tr>\n",
              "      <th>0</th>\n",
              "      <td>00009f127a9e34a7</td>\n",
              "      <td>https://www.indeed.com/applystart?jk=00009f127...</td>\n",
              "      <td>https://www.indeed.com/cmp/The-Est%C3%A9e-Laud...</td>\n",
              "      <td>The Estée Lauder Companies</td>\n",
              "      <td>4.0</td>\n",
              "      <td>2214.0</td>\n",
              "      <td>US</td>\n",
              "      <td>US</td>\n",
              "      <td>https://www.indeed.com/viewjob?jk=00009f127a9e...</td>\n",
              "      <td>22 days ago</td>\n",
              "      <td>...</td>\n",
              "      <td>The Treasury Analyst will assist the Treasury ...</td>\n",
              "      <td>www.indeed.com</td>\n",
              "      <td>Analyst, Treasury – Banking Retail</td>\n",
              "      <td>[\"Full-time\"]</td>\n",
              "      <td>United States</td>\n",
              "      <td>NaN</td>\n",
              "      <td>NaN</td>\n",
              "      <td>NaN</td>\n",
              "      <td>NaN</td>\n",
              "      <td>NaN</td>\n",
              "    </tr>\n",
              "    <tr>\n",
              "      <th>1</th>\n",
              "      <td>0001783849fce183</td>\n",
              "      <td>NaN</td>\n",
              "      <td>https://www.indeed.com/cmp/H-A-Mapes,-Inc?camp...</td>\n",
              "      <td>Harry's Convenience Stores</td>\n",
              "      <td>NaN</td>\n",
              "      <td>NaN</td>\n",
              "      <td>US</td>\n",
              "      <td>LB</td>\n",
              "      <td>https://www.indeed.com/viewjob?jk=0001783849fc...</td>\n",
              "      <td>30+ days ago</td>\n",
              "      <td>...</td>\n",
              "      <td>At Harry’s the Store Associate / Foodservice A...</td>\n",
              "      <td>www.indeed.com</td>\n",
              "      <td>Store Associate/ Food Service Associate - Saco...</td>\n",
              "      <td>[\"Part-time\"]</td>\n",
              "      <td>Lebanon, ME</td>\n",
              "      <td>AS</td>\n",
              "      <td>From $14 an hour</td>\n",
              "      <td>[\"401(k)\",\"401(k) matching\",\"Dental insurance\"...</td>\n",
              "      <td>[\"High school or equivalent (Preferred)\",\"US w...</td>\n",
              "      <td>NaN</td>\n",
              "    </tr>\n",
              "    <tr>\n",
              "      <th>2</th>\n",
              "      <td>00027f45e5373e13</td>\n",
              "      <td>https://www.indeed.com/applystart?jk=00027f45e...</td>\n",
              "      <td>https://www.indeed.com/cmp/Accenture?campaigni...</td>\n",
              "      <td>Accenture</td>\n",
              "      <td>4.0</td>\n",
              "      <td>21827.0</td>\n",
              "      <td>US</td>\n",
              "      <td>US</td>\n",
              "      <td>https://www.indeed.com/viewjob?jk=00027f45e537...</td>\n",
              "      <td>30+ days ago</td>\n",
              "      <td>...</td>\n",
              "      <td>ACCENTURE's Flexible Workforce solves clients’...</td>\n",
              "      <td>www.indeed.com</td>\n",
              "      <td>Cloud Architect</td>\n",
              "      <td>[\"Contract\"]</td>\n",
              "      <td>United States</td>\n",
              "      <td>NaN</td>\n",
              "      <td>NaN</td>\n",
              "      <td>NaN</td>\n",
              "      <td>NaN</td>\n",
              "      <td>globalcxaccenture.avature.net</td>\n",
              "    </tr>\n",
              "    <tr>\n",
              "      <th>3</th>\n",
              "      <td>00028cda307fcffa</td>\n",
              "      <td>NaN</td>\n",
              "      <td>https://www.indeed.com/cmp/Techo--bloc?campaig...</td>\n",
              "      <td>Techo-Bloc</td>\n",
              "      <td>3.1</td>\n",
              "      <td>114.0</td>\n",
              "      <td>US</td>\n",
              "      <td>AO</td>\n",
              "      <td>https://www.indeed.com/viewjob?jk=00028cda307f...</td>\n",
              "      <td>30+ days ago</td>\n",
              "      <td>...</td>\n",
              "      <td>Company Description\\n  Why We Want You:  Multi...</td>\n",
              "      <td>www.indeed.com</td>\n",
              "      <td>Maintenance Technician - $30+/hr Day Shift (El...</td>\n",
              "      <td>[\"Full-time\"]</td>\n",
              "      <td>Angola, IN 46703</td>\n",
              "      <td>AF</td>\n",
              "      <td>From $30 an hour</td>\n",
              "      <td>[\"401(k)\",\"Dental insurance\",\"Disability insur...</td>\n",
              "      <td>NaN</td>\n",
              "      <td>NaN</td>\n",
              "    </tr>\n",
              "    <tr>\n",
              "      <th>4</th>\n",
              "      <td>000002c948819e54</td>\n",
              "      <td>https://www.indeed.com/applystart?jk=000002c94...</td>\n",
              "      <td>https://www.indeed.com/cmp/Michael-Page?campai...</td>\n",
              "      <td>Michael Page</td>\n",
              "      <td>3.5</td>\n",
              "      <td>354.0</td>\n",
              "      <td>US</td>\n",
              "      <td>AU</td>\n",
              "      <td>https://www.indeed.com/viewjob?jk=000002c94881...</td>\n",
              "      <td>30+ days ago</td>\n",
              "      <td>...</td>\n",
              "      <td>Working within the New York office the individ...</td>\n",
              "      <td>www.indeed.com</td>\n",
              "      <td>IT Senior Support Manager</td>\n",
              "      <td>NaN</td>\n",
              "      <td>Brooklyn, NY</td>\n",
              "      <td>OC</td>\n",
              "      <td>NaN</td>\n",
              "      <td>NaN</td>\n",
              "      <td>NaN</td>\n",
              "      <td>www.michaelpage.com</td>\n",
              "    </tr>\n",
              "  </tbody>\n",
              "</table>\n",
              "<p>5 rows × 22 columns</p>\n",
              "</div>\n",
              "      <button class=\"colab-df-convert\" onclick=\"convertToInteractive('df-5b0d62af-9b71-45d7-9b66-34ab7fcc0f4d')\"\n",
              "              title=\"Convert this dataframe to an interactive table.\"\n",
              "              style=\"display:none;\">\n",
              "        \n",
              "  <svg xmlns=\"http://www.w3.org/2000/svg\" height=\"24px\"viewBox=\"0 0 24 24\"\n",
              "       width=\"24px\">\n",
              "    <path d=\"M0 0h24v24H0V0z\" fill=\"none\"/>\n",
              "    <path d=\"M18.56 5.44l.94 2.06.94-2.06 2.06-.94-2.06-.94-.94-2.06-.94 2.06-2.06.94zm-11 1L8.5 8.5l.94-2.06 2.06-.94-2.06-.94L8.5 2.5l-.94 2.06-2.06.94zm10 10l.94 2.06.94-2.06 2.06-.94-2.06-.94-.94-2.06-.94 2.06-2.06.94z\"/><path d=\"M17.41 7.96l-1.37-1.37c-.4-.4-.92-.59-1.43-.59-.52 0-1.04.2-1.43.59L10.3 9.45l-7.72 7.72c-.78.78-.78 2.05 0 2.83L4 21.41c.39.39.9.59 1.41.59.51 0 1.02-.2 1.41-.59l7.78-7.78 2.81-2.81c.8-.78.8-2.07 0-2.86zM5.41 20L4 18.59l7.72-7.72 1.47 1.35L5.41 20z\"/>\n",
              "  </svg>\n",
              "      </button>\n",
              "      \n",
              "  <style>\n",
              "    .colab-df-container {\n",
              "      display:flex;\n",
              "      flex-wrap:wrap;\n",
              "      gap: 12px;\n",
              "    }\n",
              "\n",
              "    .colab-df-convert {\n",
              "      background-color: #E8F0FE;\n",
              "      border: none;\n",
              "      border-radius: 50%;\n",
              "      cursor: pointer;\n",
              "      display: none;\n",
              "      fill: #1967D2;\n",
              "      height: 32px;\n",
              "      padding: 0 0 0 0;\n",
              "      width: 32px;\n",
              "    }\n",
              "\n",
              "    .colab-df-convert:hover {\n",
              "      background-color: #E2EBFA;\n",
              "      box-shadow: 0px 1px 2px rgba(60, 64, 67, 0.3), 0px 1px 3px 1px rgba(60, 64, 67, 0.15);\n",
              "      fill: #174EA6;\n",
              "    }\n",
              "\n",
              "    [theme=dark] .colab-df-convert {\n",
              "      background-color: #3B4455;\n",
              "      fill: #D2E3FC;\n",
              "    }\n",
              "\n",
              "    [theme=dark] .colab-df-convert:hover {\n",
              "      background-color: #434B5C;\n",
              "      box-shadow: 0px 1px 3px 1px rgba(0, 0, 0, 0.15);\n",
              "      filter: drop-shadow(0px 1px 2px rgba(0, 0, 0, 0.3));\n",
              "      fill: #FFFFFF;\n",
              "    }\n",
              "  </style>\n",
              "\n",
              "      <script>\n",
              "        const buttonEl =\n",
              "          document.querySelector('#df-5b0d62af-9b71-45d7-9b66-34ab7fcc0f4d button.colab-df-convert');\n",
              "        buttonEl.style.display =\n",
              "          google.colab.kernel.accessAllowed ? 'block' : 'none';\n",
              "\n",
              "        async function convertToInteractive(key) {\n",
              "          const element = document.querySelector('#df-5b0d62af-9b71-45d7-9b66-34ab7fcc0f4d');\n",
              "          const dataTable =\n",
              "            await google.colab.kernel.invokeFunction('convertToInteractive',\n",
              "                                                     [key], {});\n",
              "          if (!dataTable) return;\n",
              "\n",
              "          const docLinkHtml = 'Like what you see? Visit the ' +\n",
              "            '<a target=\"_blank\" href=https://colab.research.google.com/notebooks/data_table.ipynb>data table notebook</a>'\n",
              "            + ' to learn more about interactive tables.';\n",
              "          element.innerHTML = '';\n",
              "          dataTable['output_type'] = 'display_data';\n",
              "          await google.colab.output.renderOutput(dataTable, element);\n",
              "          const docLink = document.createElement('div');\n",
              "          docLink.innerHTML = docLinkHtml;\n",
              "          element.appendChild(docLink);\n",
              "        }\n",
              "      </script>\n",
              "    </div>\n",
              "  </div>\n",
              "  "
            ]
          },
          "metadata": {},
          "execution_count": 21
        }
      ]
    },
    {
      "cell_type": "markdown",
      "source": [
        "### Check Missing Values and Clean Up\n",
        "Truc Report:\n",
        "- Data cleaning took me a total of more than 8hrs to looks for the approriate data that need to keep or drop.\n",
        "- All the attributes need to make sense and support the machine learning model\n",
        "- Data that consider biased will be drop\n",
        "- Data that is missing need to fix and transform to meaningful data"
      ],
      "metadata": {
        "id": "ZiJ-TEkOb15m"
      }
    },
    {
      "cell_type": "code",
      "source": [
        "# Set figure size\n",
        "plt.rcParams[\"figure.figsize\"]=13,11\n",
        "sns.set(style='darkgrid')\n",
        "\n",
        "missing_percentage = dfjob.isna().sum().sort_values(ascending=False)/len(dfjob)\n",
        "missing_percentage[missing_percentage!=0].plot(kind='barh')"
      ],
      "metadata": {
        "id": "EbpttxnvP8H6",
        "colab": {
          "base_uri": "https://localhost:8080/",
          "height": 665
        },
        "outputId": "737d0bf0-725c-4310-ecf5-fcc6ff15bfe3"
      },
      "execution_count": 22,
      "outputs": [
        {
          "output_type": "execute_result",
          "data": {
            "text/plain": [
              "<matplotlib.axes._subplots.AxesSubplot at 0x7f19c1b3bf90>"
            ]
          },
          "metadata": {},
          "execution_count": 22
        },
        {
          "output_type": "display_data",
          "data": {
            "text/plain": [
              "<Figure size 936x792 with 1 Axes>"
            ],
            "image/png": "[encoded data removed]"
          },
          "metadata": {}
        }
      ]
    },
    {
      "cell_type": "code",
      "source": [
        "list(dfjob.columns)"
      ],
      "metadata": {
        "colab": {
          "base_uri": "https://localhost:8080/"
        },
        "id": "NW6yXeIozPau",
        "outputId": "83124983-e52d-4919-80a4-dc2994936442"
      },
      "execution_count": 23,
      "outputs": [
        {
          "output_type": "execute_result",
          "data": {
            "text/plain": [
              "['jobid',\n",
              " 'apply_link',\n",
              " 'company_link',\n",
              " 'company_name',\n",
              " 'company_rating',\n",
              " 'company_reviews_count',\n",
              " 'country',\n",
              " 'country_code',\n",
              " 'current_url',\n",
              " 'date_posted',\n",
              " 'date_posted_parsed',\n",
              " 'description',\n",
              " 'description_text',\n",
              " 'domain',\n",
              " 'job_title',\n",
              " 'job_type',\n",
              " 'location',\n",
              " 'region',\n",
              " 'salary_formatted',\n",
              " 'benefits',\n",
              " 'qualifications',\n",
              " 'srcname']"
            ]
          },
          "metadata": {},
          "execution_count": 23
        }
      ]
    },
    {
      "cell_type": "code",
      "source": [
        "dfjob.drop(['jobid','apply_link','company_link','country','current_url','date_posted','date_posted_parsed','domain','region','srcname'],axis=1,inplace=True)\n",
        "\n",
        "# Out put will be company name and job title\n",
        "# Remove apply_link because it will not be necessary to have it (we want to analyze the sucessful candidates as well as the current one)\n",
        "# Apply_link can be removed when the job is filled which is a good sign to analyze these job description (apply_link hold no value)\n",
        "\n",
        "# Drop the row where the company name or link is blank:\n",
        "dfjob.dropna(axis=0, how='all',subset=['company_name', 'job_type'], thresh=2, inplace=True) \n",
        "\n",
        "# Change null in qualification to no requirement\n",
        "dfjob['qualifications'] = dfjob['qualifications'].fillna('[\"No requirement\"]')\n",
        "\n",
        "# Change null in benefits to no benefits \n",
        "dfjob['benefits'] = dfjob['benefits'].fillna('[\"No benefits\"]')\n",
        "\n",
        "# Assume all the mssing value in salary_formated is negotiable (50% of the dataset)\n",
        "dfjob['salary_formatted'] = dfjob['salary_formatted'].fillna('Negotiable')\n",
        "\n",
        "# Assume all the missing country is Others\n",
        "dfjob['country_code']=dfjob['country_code'].fillna('Other')\n",
        "\n",
        "# Fill in the rating with 0\n",
        "dfjob['company_rating']=dfjob['company_rating'].fillna(0.0)\n",
        "dfjob['company_reviews_count']=dfjob['company_reviews_count'].fillna(0.0)"
      ],
      "metadata": {
        "id": "9xJVOlVvcxib"
      },
      "execution_count": 24,
      "outputs": []
    },
    {
      "cell_type": "code",
      "source": [
        "dfjob.shape\n",
        "\n",
        "# After clean up and drop, we have a new data set of 265633 row and 12attributes"
      ],
      "metadata": {
        "colab": {
          "base_uri": "https://localhost:8080/"
        },
        "id": "DImuxEgVJ_1T",
        "outputId": "065d2f1b-c0c3-4c64-8d23-ad24583d1462"
      },
      "execution_count": 25,
      "outputs": [
        {
          "output_type": "execute_result",
          "data": {
            "text/plain": [
              "(265633, 12)"
            ]
          },
          "metadata": {},
          "execution_count": 25
        }
      ]
    },
    {
      "cell_type": "markdown",
      "source": [
        "### Extended Analyst on the company rating and company review"
      ],
      "metadata": {
        "id": "Z7tItpWiMtKF"
      }
    },
    {
      "cell_type": "code",
      "source": [
        "# Create norating subset that hold the company doesn't has rating\n",
        "norating = dfjob.loc[dfjob['company_rating']==0]"
      ],
      "metadata": {
        "id": "e2mpcTqfLSWQ"
      },
      "execution_count": 26,
      "outputs": []
    },
    {
      "cell_type": "code",
      "source": [
        "# Validate the result\n",
        "norating.head()"
      ],
      "metadata": {
        "colab": {
          "base_uri": "https://localhost:8080/",
          "height": 617
        },
        "id": "FqpwWvazM8pb",
        "outputId": "d9c8a79b-d2df-4e70-cbfb-d3864c88e896"
      },
      "execution_count": 27,
      "outputs": [
        {
          "output_type": "execute_result",
          "data": {
            "text/plain": [
              "                           company_name  company_rating  \\\n",
              "1            Harry's Convenience Stores             0.0   \n",
              "6       The Michigan Theater Foundation             0.0   \n",
              "11    Facing History and Ourselves, Inc             0.0   \n",
              "16               The Eye Care Institute             0.0   \n",
              "22  Copper Whiskey Bar & Grill, Bozeman             0.0   \n",
              "\n",
              "    company_reviews_count country_code  \\\n",
              "1                     0.0           LB   \n",
              "6                     0.0           US   \n",
              "11                    0.0           US   \n",
              "16                    0.0           US   \n",
              "22                    0.0           US   \n",
              "\n",
              "                                          description  \\\n",
              "1   <p>At Harry’s the Store Associate / Foodservic...   \n",
              "6   <p>The historic Michigan Theater, located in t...   \n",
              "11  <div>\\n <p><b>Position: Director of Developmen...   \n",
              "16  <p><b>Education and Experience: </b></p>\\n<p><...   \n",
              "22  <p><b>Bar Manager: Copper Whiskey Bar & Grill,...   \n",
              "\n",
              "                                     description_text  \\\n",
              "1   At Harry’s the Store Associate / Foodservice A...   \n",
              "6   The historic Michigan Theater, located in the ...   \n",
              "11  Position: Director of Development, Cleveland \\...   \n",
              "16  Education and Experience: Required· Ophthalmic...   \n",
              "22  Bar Manager: Copper Whiskey Bar & Grill, Big S...   \n",
              "\n",
              "                                            job_title       job_type  \\\n",
              "1   Store Associate/ Food Service Associate - Saco...  [\"Part-time\"]   \n",
              "6   Major Gift Officer, The Michigan Theater Found...  [\"Full-time\"]   \n",
              "11                 Director of Development, Cleveland  [\"Full-time\"]   \n",
              "16                              Ophthalmic Technician  [\"Full-time\"]   \n",
              "22                       Bar Manager: Copper, Big Sky  [\"Full-time\"]   \n",
              "\n",
              "                       location          salary_formatted  \\\n",
              "1                   Lebanon, ME          From $14 an hour   \n",
              "6           Ann Arbor, MI 48104  $68,000 - $80,000 a year   \n",
              "11  Cleveland Heights, OH 44118                Negotiable   \n",
              "16         Louisville, KY 40206         $16 - $18 an hour   \n",
              "22              Tahoe Vista, CA       From $60,000 a year   \n",
              "\n",
              "                                             benefits  \\\n",
              "1   [\"401(k)\",\"401(k) matching\",\"Dental insurance\"...   \n",
              "6                                     [\"No benefits\"]   \n",
              "11                                    [\"No benefits\"]   \n",
              "16  [\"Dental insurance\",\"Health insurance\",\"On-the...   \n",
              "22  [\"401(k)\",\"401(k) matching\",\"Dental insurance\"...   \n",
              "\n",
              "                                       qualifications  \n",
              "1   [\"High school or equivalent (Preferred)\",\"US w...  \n",
              "6                           [\"Bachelor's (Required)\"]  \n",
              "11                                 [\"No requirement\"]  \n",
              "16  [\"Ophthalmology: 1 year (Required)\",\"US work a...  \n",
              "22                                 [\"No requirement\"]  "
            ],
            "text/html": [
              "\n",
              "  <div id=\"df-dbb496ec-e93b-4c3a-9434-253f5807057f\">\n",
              "    <div class=\"colab-df-container\">\n",
              "      <div>\n",
              "<style scoped>\n",
              "    .dataframe tbody tr th:only-of-type {\n",
              "        vertical-align: middle;\n",
              "    }\n",
              "\n",
              "    .dataframe tbody tr th {\n",
              "        vertical-align: top;\n",
              "    }\n",
              "\n",
              "    .dataframe thead th {\n",
              "        text-align: right;\n",
              "    }\n",
              "</style>\n",
              "<table border=\"1\" class=\"dataframe\">\n",
              "  <thead>\n",
              "    <tr style=\"text-align: right;\">\n",
              "      <th></th>\n",
              "      <th>company_name</th>\n",
              "      <th>company_rating</th>\n",
              "      <th>company_reviews_count</th>\n",
              "      <th>country_code</th>\n",
              "      <th>description</th>\n",
              "      <th>description_text</th>\n",
              "      <th>job_title</th>\n",
              "      <th>job_type</th>\n",
              "      <th>location</th>\n",
              "      <th>salary_formatted</th>\n",
              "      <th>benefits</th>\n",
              "      <th>qualifications</th>\n",
              "    </tr>\n",
              "  </thead>\n",
              "  <tbody>\n",
              "    <tr>\n",
              "      <th>1</th>\n",
              "      <td>Harry's Convenience Stores</td>\n",
              "      <td>0.0</td>\n",
              "      <td>0.0</td>\n",
              "      <td>LB</td>\n",
              "      <td>&lt;p&gt;At Harry’s the Store Associate / Foodservic...</td>\n",
              "      <td>At Harry’s the Store Associate / Foodservice A...</td>\n",
              "      <td>Store Associate/ Food Service Associate - Saco...</td>\n",
              "      <td>[\"Part-time\"]</td>\n",
              "      <td>Lebanon, ME</td>\n",
              "      <td>From $14 an hour</td>\n",
              "      <td>[\"401(k)\",\"401(k) matching\",\"Dental insurance\"...</td>\n",
              "      <td>[\"High school or equivalent (Preferred)\",\"US w...</td>\n",
              "    </tr>\n",
              "    <tr>\n",
              "      <th>6</th>\n",
              "      <td>The Michigan Theater Foundation</td>\n",
              "      <td>0.0</td>\n",
              "      <td>0.0</td>\n",
              "      <td>US</td>\n",
              "      <td>&lt;p&gt;The historic Michigan Theater, located in t...</td>\n",
              "      <td>The historic Michigan Theater, located in the ...</td>\n",
              "      <td>Major Gift Officer, The Michigan Theater Found...</td>\n",
              "      <td>[\"Full-time\"]</td>\n",
              "      <td>Ann Arbor, MI 48104</td>\n",
              "      <td>$68,000 - $80,000 a year</td>\n",
              "      <td>[\"No benefits\"]</td>\n",
              "      <td>[\"Bachelor's (Required)\"]</td>\n",
              "    </tr>\n",
              "    <tr>\n",
              "      <th>11</th>\n",
              "      <td>Facing History and Ourselves, Inc</td>\n",
              "      <td>0.0</td>\n",
              "      <td>0.0</td>\n",
              "      <td>US</td>\n",
              "      <td>&lt;div&gt;\\n &lt;p&gt;&lt;b&gt;Position: Director of Developmen...</td>\n",
              "      <td>Position: Director of Development, Cleveland \\...</td>\n",
              "      <td>Director of Development, Cleveland</td>\n",
              "      <td>[\"Full-time\"]</td>\n",
              "      <td>Cleveland Heights, OH 44118</td>\n",
              "      <td>Negotiable</td>\n",
              "      <td>[\"No benefits\"]</td>\n",
              "      <td>[\"No requirement\"]</td>\n",
              "    </tr>\n",
              "    <tr>\n",
              "      <th>16</th>\n",
              "      <td>The Eye Care Institute</td>\n",
              "      <td>0.0</td>\n",
              "      <td>0.0</td>\n",
              "      <td>US</td>\n",
              "      <td>&lt;p&gt;&lt;b&gt;Education and Experience: &lt;/b&gt;&lt;/p&gt;\\n&lt;p&gt;&lt;...</td>\n",
              "      <td>Education and Experience: Required· Ophthalmic...</td>\n",
              "      <td>Ophthalmic Technician</td>\n",
              "      <td>[\"Full-time\"]</td>\n",
              "      <td>Louisville, KY 40206</td>\n",
              "      <td>$16 - $18 an hour</td>\n",
              "      <td>[\"Dental insurance\",\"Health insurance\",\"On-the...</td>\n",
              "      <td>[\"Ophthalmology: 1 year (Required)\",\"US work a...</td>\n",
              "    </tr>\n",
              "    <tr>\n",
              "      <th>22</th>\n",
              "      <td>Copper Whiskey Bar &amp; Grill, Bozeman</td>\n",
              "      <td>0.0</td>\n",
              "      <td>0.0</td>\n",
              "      <td>US</td>\n",
              "      <td>&lt;p&gt;&lt;b&gt;Bar Manager: Copper Whiskey Bar &amp; Grill,...</td>\n",
              "      <td>Bar Manager: Copper Whiskey Bar &amp; Grill, Big S...</td>\n",
              "      <td>Bar Manager: Copper, Big Sky</td>\n",
              "      <td>[\"Full-time\"]</td>\n",
              "      <td>Tahoe Vista, CA</td>\n",
              "      <td>From $60,000 a year</td>\n",
              "      <td>[\"401(k)\",\"401(k) matching\",\"Dental insurance\"...</td>\n",
              "      <td>[\"No requirement\"]</td>\n",
              "    </tr>\n",
              "  </tbody>\n",
              "</table>\n",
              "</div>\n",
              "      <button class=\"colab-df-convert\" onclick=\"convertToInteractive('df-dbb496ec-e93b-4c3a-9434-253f5807057f')\"\n",
              "              title=\"Convert this dataframe to an interactive table.\"\n",
              "              style=\"display:none;\">\n",
              "        \n",
              "  <svg xmlns=\"http://www.w3.org/2000/svg\" height=\"24px\"viewBox=\"0 0 24 24\"\n",
              "       width=\"24px\">\n",
              "    <path d=\"M0 0h24v24H0V0z\" fill=\"none\"/>\n",
              "    <path d=\"M18.56 5.44l.94 2.06.94-2.06 2.06-.94-2.06-.94-.94-2.06-.94 2.06-2.06.94zm-11 1L8.5 8.5l.94-2.06 2.06-.94-2.06-.94L8.5 2.5l-.94 2.06-2.06.94zm10 10l.94 2.06.94-2.06 2.06-.94-2.06-.94-.94-2.06-.94 2.06-2.06.94z\"/><path d=\"M17.41 7.96l-1.37-1.37c-.4-.4-.92-.59-1.43-.59-.52 0-1.04.2-1.43.59L10.3 9.45l-7.72 7.72c-.78.78-.78 2.05 0 2.83L4 21.41c.39.39.9.59 1.41.59.51 0 1.02-.2 1.41-.59l7.78-7.78 2.81-2.81c.8-.78.8-2.07 0-2.86zM5.41 20L4 18.59l7.72-7.72 1.47 1.35L5.41 20z\"/>\n",
              "  </svg>\n",
              "      </button>\n",
              "      \n",
              "  <style>\n",
              "    .colab-df-container {\n",
              "      display:flex;\n",
              "      flex-wrap:wrap;\n",
              "      gap: 12px;\n",
              "    }\n",
              "\n",
              "    .colab-df-convert {\n",
              "      background-color: #E8F0FE;\n",
              "      border: none;\n",
              "      border-radius: 50%;\n",
              "      cursor: pointer;\n",
              "      display: none;\n",
              "      fill: #1967D2;\n",
              "      height: 32px;\n",
              "      padding: 0 0 0 0;\n",
              "      width: 32px;\n",
              "    }\n",
              "\n",
              "    .colab-df-convert:hover {\n",
              "      background-color: #E2EBFA;\n",
              "      box-shadow: 0px 1px 2px rgba(60, 64, 67, 0.3), 0px 1px 3px 1px rgba(60, 64, 67, 0.15);\n",
              "      fill: #174EA6;\n",
              "    }\n",
              "\n",
              "    [theme=dark] .colab-df-convert {\n",
              "      background-color: #3B4455;\n",
              "      fill: #D2E3FC;\n",
              "    }\n",
              "\n",
              "    [theme=dark] .colab-df-convert:hover {\n",
              "      background-color: #434B5C;\n",
              "      box-shadow: 0px 1px 3px 1px rgba(0, 0, 0, 0.15);\n",
              "      filter: drop-shadow(0px 1px 2px rgba(0, 0, 0, 0.3));\n",
              "      fill: #FFFFFF;\n",
              "    }\n",
              "  </style>\n",
              "\n",
              "      <script>\n",
              "        const buttonEl =\n",
              "          document.querySelector('#df-dbb496ec-e93b-4c3a-9434-253f5807057f button.colab-df-convert');\n",
              "        buttonEl.style.display =\n",
              "          google.colab.kernel.accessAllowed ? 'block' : 'none';\n",
              "\n",
              "        async function convertToInteractive(key) {\n",
              "          const element = document.querySelector('#df-dbb496ec-e93b-4c3a-9434-253f5807057f');\n",
              "          const dataTable =\n",
              "            await google.colab.kernel.invokeFunction('convertToInteractive',\n",
              "                                                     [key], {});\n",
              "          if (!dataTable) return;\n",
              "\n",
              "          const docLinkHtml = 'Like what you see? Visit the ' +\n",
              "            '<a target=\"_blank\" href=https://colab.research.google.com/notebooks/data_table.ipynb>data table notebook</a>'\n",
              "            + ' to learn more about interactive tables.';\n",
              "          element.innerHTML = '';\n",
              "          dataTable['output_type'] = 'display_data';\n",
              "          await google.colab.output.renderOutput(dataTable, element);\n",
              "          const docLink = document.createElement('div');\n",
              "          docLink.innerHTML = docLinkHtml;\n",
              "          element.appendChild(docLink);\n",
              "        }\n",
              "      </script>\n",
              "    </div>\n",
              "  </div>\n",
              "  "
            ]
          },
          "metadata": {},
          "execution_count": 27
        }
      ]
    },
    {
      "cell_type": "code",
      "source": [
        "# Use value counts to check the name of the company\n",
        "norating['company_name'].value_counts\n",
        "\n",
        "# Turn out all the company in this section only post their job one time"
      ],
      "metadata": {
        "colab": {
          "base_uri": "https://localhost:8080/"
        },
        "id": "Xyzv49aTMVqK",
        "outputId": "21bbc90f-bcc1-409b-e4fb-8631e02300a3"
      },
      "execution_count": 28,
      "outputs": [
        {
          "output_type": "execute_result",
          "data": {
            "text/plain": [
              "<bound method IndexOpsMixin.value_counts of 1                    Harry's Convenience Stores\n",
              "6               The Michigan Theater Foundation\n",
              "11            Facing History and Ourselves, Inc\n",
              "16                       The Eye Care Institute\n",
              "22          Copper Whiskey Bar & Grill, Bozeman\n",
              "                          ...                  \n",
              "29981                                   SunStop\n",
              "29982    Ford - Lincoln Veteran Careers Program\n",
              "29988                   Acro Metal Stamping Co.\n",
              "29992                          Messick and Gray\n",
              "29997                                Sanel Corp\n",
              "Name: company_name, Length: 66460, dtype: object>"
            ]
          },
          "metadata": {},
          "execution_count": 28
        }
      ]
    },
    {
      "cell_type": "code",
      "source": [
        "# Validate if there is any rating associate with the number of user\n",
        "sum(norating['company_rating']==norating['company_reviews_count'])"
      ],
      "metadata": {
        "colab": {
          "base_uri": "https://localhost:8080/"
        },
        "id": "JPqYsMtlMCBq",
        "outputId": "4dbf8fac-537b-48be-d062-ebd3c35212ea"
      },
      "execution_count": 29,
      "outputs": [
        {
          "output_type": "execute_result",
          "data": {
            "text/plain": [
              "66460"
            ]
          },
          "metadata": {},
          "execution_count": 29
        }
      ]
    },
    {
      "cell_type": "code",
      "source": [
        "# Check the shape of the dataset\n",
        "norating.shape"
      ],
      "metadata": {
        "colab": {
          "base_uri": "https://localhost:8080/"
        },
        "id": "P1jJgi1CMNny",
        "outputId": "b72670ac-727d-44c0-d195-998187ed4f9e"
      },
      "execution_count": 30,
      "outputs": [
        {
          "output_type": "execute_result",
          "data": {
            "text/plain": [
              "(66460, 12)"
            ]
          },
          "metadata": {},
          "execution_count": 30
        }
      ]
    },
    {
      "cell_type": "markdown",
      "source": [
        "**Result: **\n",
        "- Due to all the above analyst, I can conclude the norating consist of the company who only post their job one time. So the change to promote in these company is small due to the amount of jobs posted and rating. There for I will remove the row associate with these company where the change is small and the review is none."
      ],
      "metadata": {
        "id": "e9xSy8QmMR2r"
      }
    },
    {
      "cell_type": "code",
      "source": [
        "## Delete norating since we do not need it\n",
        "del norating\n"
      ],
      "metadata": {
        "id": "JRv9yC4UO0r3"
      },
      "execution_count": 31,
      "outputs": []
    },
    {
      "cell_type": "code",
      "source": [
        "# Drop the row where the company name or link is blank:\n",
        "dfjob = dfjob[(dfjob.company_rating != 0) & (dfjob.company_reviews_count != 0)]"
      ],
      "metadata": {
        "id": "j3bCzn4TPtB0"
      },
      "execution_count": 32,
      "outputs": []
    },
    {
      "cell_type": "markdown",
      "source": [
        ""
      ],
      "metadata": {
        "id": "vWv3QLZA13-0"
      }
    },
    {
      "cell_type": "code",
      "source": [
        "dfjob.head()"
      ],
      "metadata": {
        "colab": {
          "base_uri": "https://localhost:8080/",
          "height": 582
        },
        "id": "sOpvOrblHGAo",
        "outputId": "4f87a6b9-cf08-4242-c043-bdd59b207baa"
      },
      "execution_count": 33,
      "outputs": [
        {
          "output_type": "execute_result",
          "data": {
            "text/plain": [
              "                  company_name  company_rating  company_reviews_count  \\\n",
              "0   The Estée Lauder Companies             4.0                 2214.0   \n",
              "2                    Accenture             4.0                21827.0   \n",
              "3                   Techo-Bloc             3.1                  114.0   \n",
              "7           McMahon Associates             3.8                    8.0   \n",
              "8  Amazon Kuiper Manufacturing             3.5                82832.0   \n",
              "\n",
              "  country_code                                        description  \\\n",
              "0           US  <div>\\n <p>The Treasury Analyst will assist th...   \n",
              "2           US  <div></div>\\n<div>\\n <div>\\n  <div>\\n   <b>ACC...   \n",
              "3           AO  <div>\\n Company Description\\n <p><b><br> Why W...   \n",
              "7           US  <div>\\n <p><b>POSITION SUMMARY:</b></p> \\n <p>...   \n",
              "8           US  <div>\\n <ul>\\n  <li>BS degree or higher in Ele...   \n",
              "\n",
              "                                    description_text  \\\n",
              "0  The Treasury Analyst will assist the Treasury ...   \n",
              "2  ACCENTURE's Flexible Workforce solves clients’...   \n",
              "3  Company Description\\n  Why We Want You:  Multi...   \n",
              "7  POSITION SUMMARY: \\n The Senior Project Engine...   \n",
              "8  BS degree or higher in Electrical or Computer ...   \n",
              "\n",
              "                                           job_title       job_type  \\\n",
              "0                 Analyst, Treasury – Banking Retail  [\"Full-time\"]   \n",
              "2                                    Cloud Architect   [\"Contract\"]   \n",
              "3  Maintenance Technician - $30+/hr Day Shift (El...  [\"Full-time\"]   \n",
              "7  Senior Project Engineer (Transportation - Design)  [\"Full-time\"]   \n",
              "8                        Design Verification Manager  [\"Full-time\"]   \n",
              "\n",
              "              location  salary_formatted  \\\n",
              "0        United States        Negotiable   \n",
              "2        United States        Negotiable   \n",
              "3     Angola, IN 46703  From $30 an hour   \n",
              "7  Camp Hill, PA 17011        Negotiable   \n",
              "8           Austin, TX        Negotiable   \n",
              "\n",
              "                                            benefits      qualifications  \n",
              "0                                    [\"No benefits\"]  [\"No requirement\"]  \n",
              "2                                    [\"No benefits\"]  [\"No requirement\"]  \n",
              "3  [\"401(k)\",\"Dental insurance\",\"Disability insur...  [\"No requirement\"]  \n",
              "7                                    [\"No benefits\"]  [\"No requirement\"]  \n",
              "8                                    [\"No benefits\"]  [\"No requirement\"]  "
            ],
            "text/html": [
              "\n",
              "  <div id=\"df-5ed6ff3b-897d-4259-af49-f1f088a76b98\">\n",
              "    <div class=\"colab-df-container\">\n",
              "      <div>\n",
              "<style scoped>\n",
              "    .dataframe tbody tr th:only-of-type {\n",
              "        vertical-align: middle;\n",
              "    }\n",
              "\n",
              "    .dataframe tbody tr th {\n",
              "        vertical-align: top;\n",
              "    }\n",
              "\n",
              "    .dataframe thead th {\n",
              "        text-align: right;\n",
              "    }\n",
              "</style>\n",
              "<table border=\"1\" class=\"dataframe\">\n",
              "  <thead>\n",
              "    <tr style=\"text-align: right;\">\n",
              "      <th></th>\n",
              "      <th>company_name</th>\n",
              "      <th>company_rating</th>\n",
              "      <th>company_reviews_count</th>\n",
              "      <th>country_code</th>\n",
              "      <th>description</th>\n",
              "      <th>description_text</th>\n",
              "      <th>job_title</th>\n",
              "      <th>job_type</th>\n",
              "      <th>location</th>\n",
              "      <th>salary_formatted</th>\n",
              "      <th>benefits</th>\n",
              "      <th>qualifications</th>\n",
              "    </tr>\n",
              "  </thead>\n",
              "  <tbody>\n",
              "    <tr>\n",
              "      <th>0</th>\n",
              "      <td>The Estée Lauder Companies</td>\n",
              "      <td>4.0</td>\n",
              "      <td>2214.0</td>\n",
              "      <td>US</td>\n",
              "      <td>&lt;div&gt;\\n &lt;p&gt;The Treasury Analyst will assist th...</td>\n",
              "      <td>The Treasury Analyst will assist the Treasury ...</td>\n",
              "      <td>Analyst, Treasury – Banking Retail</td>\n",
              "      <td>[\"Full-time\"]</td>\n",
              "      <td>United States</td>\n",
              "      <td>Negotiable</td>\n",
              "      <td>[\"No benefits\"]</td>\n",
              "      <td>[\"No requirement\"]</td>\n",
              "    </tr>\n",
              "    <tr>\n",
              "      <th>2</th>\n",
              "      <td>Accenture</td>\n",
              "      <td>4.0</td>\n",
              "      <td>21827.0</td>\n",
              "      <td>US</td>\n",
              "      <td>&lt;div&gt;&lt;/div&gt;\\n&lt;div&gt;\\n &lt;div&gt;\\n  &lt;div&gt;\\n   &lt;b&gt;ACC...</td>\n",
              "      <td>ACCENTURE's Flexible Workforce solves clients’...</td>\n",
              "      <td>Cloud Architect</td>\n",
              "      <td>[\"Contract\"]</td>\n",
              "      <td>United States</td>\n",
              "      <td>Negotiable</td>\n",
              "      <td>[\"No benefits\"]</td>\n",
              "      <td>[\"No requirement\"]</td>\n",
              "    </tr>\n",
              "    <tr>\n",
              "      <th>3</th>\n",
              "      <td>Techo-Bloc</td>\n",
              "      <td>3.1</td>\n",
              "      <td>114.0</td>\n",
              "      <td>AO</td>\n",
              "      <td>&lt;div&gt;\\n Company Description\\n &lt;p&gt;&lt;b&gt;&lt;br&gt; Why W...</td>\n",
              "      <td>Company Description\\n  Why We Want You:  Multi...</td>\n",
              "      <td>Maintenance Technician - $30+/hr Day Shift (El...</td>\n",
              "      <td>[\"Full-time\"]</td>\n",
              "      <td>Angola, IN 46703</td>\n",
              "      <td>From $30 an hour</td>\n",
              "      <td>[\"401(k)\",\"Dental insurance\",\"Disability insur...</td>\n",
              "      <td>[\"No requirement\"]</td>\n",
              "    </tr>\n",
              "    <tr>\n",
              "      <th>7</th>\n",
              "      <td>McMahon Associates</td>\n",
              "      <td>3.8</td>\n",
              "      <td>8.0</td>\n",
              "      <td>US</td>\n",
              "      <td>&lt;div&gt;\\n &lt;p&gt;&lt;b&gt;POSITION SUMMARY:&lt;/b&gt;&lt;/p&gt; \\n &lt;p&gt;...</td>\n",
              "      <td>POSITION SUMMARY: \\n The Senior Project Engine...</td>\n",
              "      <td>Senior Project Engineer (Transportation - Design)</td>\n",
              "      <td>[\"Full-time\"]</td>\n",
              "      <td>Camp Hill, PA 17011</td>\n",
              "      <td>Negotiable</td>\n",
              "      <td>[\"No benefits\"]</td>\n",
              "      <td>[\"No requirement\"]</td>\n",
              "    </tr>\n",
              "    <tr>\n",
              "      <th>8</th>\n",
              "      <td>Amazon Kuiper Manufacturing</td>\n",
              "      <td>3.5</td>\n",
              "      <td>82832.0</td>\n",
              "      <td>US</td>\n",
              "      <td>&lt;div&gt;\\n &lt;ul&gt;\\n  &lt;li&gt;BS degree or higher in Ele...</td>\n",
              "      <td>BS degree or higher in Electrical or Computer ...</td>\n",
              "      <td>Design Verification Manager</td>\n",
              "      <td>[\"Full-time\"]</td>\n",
              "      <td>Austin, TX</td>\n",
              "      <td>Negotiable</td>\n",
              "      <td>[\"No benefits\"]</td>\n",
              "      <td>[\"No requirement\"]</td>\n",
              "    </tr>\n",
              "  </tbody>\n",
              "</table>\n",
              "</div>\n",
              "      <button class=\"colab-df-convert\" onclick=\"convertToInteractive('df-5ed6ff3b-897d-4259-af49-f1f088a76b98')\"\n",
              "              title=\"Convert this dataframe to an interactive table.\"\n",
              "              style=\"display:none;\">\n",
              "        \n",
              "  <svg xmlns=\"http://www.w3.org/2000/svg\" height=\"24px\"viewBox=\"0 0 24 24\"\n",
              "       width=\"24px\">\n",
              "    <path d=\"M0 0h24v24H0V0z\" fill=\"none\"/>\n",
              "    <path d=\"M18.56 5.44l.94 2.06.94-2.06 2.06-.94-2.06-.94-.94-2.06-.94 2.06-2.06.94zm-11 1L8.5 8.5l.94-2.06 2.06-.94-2.06-.94L8.5 2.5l-.94 2.06-2.06.94zm10 10l.94 2.06.94-2.06 2.06-.94-2.06-.94-.94-2.06-.94 2.06-2.06.94z\"/><path d=\"M17.41 7.96l-1.37-1.37c-.4-.4-.92-.59-1.43-.59-.52 0-1.04.2-1.43.59L10.3 9.45l-7.72 7.72c-.78.78-.78 2.05 0 2.83L4 21.41c.39.39.9.59 1.41.59.51 0 1.02-.2 1.41-.59l7.78-7.78 2.81-2.81c.8-.78.8-2.07 0-2.86zM5.41 20L4 18.59l7.72-7.72 1.47 1.35L5.41 20z\"/>\n",
              "  </svg>\n",
              "      </button>\n",
              "      \n",
              "  <style>\n",
              "    .colab-df-container {\n",
              "      display:flex;\n",
              "      flex-wrap:wrap;\n",
              "      gap: 12px;\n",
              "    }\n",
              "\n",
              "    .colab-df-convert {\n",
              "      background-color: #E8F0FE;\n",
              "      border: none;\n",
              "      border-radius: 50%;\n",
              "      cursor: pointer;\n",
              "      display: none;\n",
              "      fill: #1967D2;\n",
              "      height: 32px;\n",
              "      padding: 0 0 0 0;\n",
              "      width: 32px;\n",
              "    }\n",
              "\n",
              "    .colab-df-convert:hover {\n",
              "      background-color: #E2EBFA;\n",
              "      box-shadow: 0px 1px 2px rgba(60, 64, 67, 0.3), 0px 1px 3px 1px rgba(60, 64, 67, 0.15);\n",
              "      fill: #174EA6;\n",
              "    }\n",
              "\n",
              "    [theme=dark] .colab-df-convert {\n",
              "      background-color: #3B4455;\n",
              "      fill: #D2E3FC;\n",
              "    }\n",
              "\n",
              "    [theme=dark] .colab-df-convert:hover {\n",
              "      background-color: #434B5C;\n",
              "      box-shadow: 0px 1px 3px 1px rgba(0, 0, 0, 0.15);\n",
              "      filter: drop-shadow(0px 1px 2px rgba(0, 0, 0, 0.3));\n",
              "      fill: #FFFFFF;\n",
              "    }\n",
              "  </style>\n",
              "\n",
              "      <script>\n",
              "        const buttonEl =\n",
              "          document.querySelector('#df-5ed6ff3b-897d-4259-af49-f1f088a76b98 button.colab-df-convert');\n",
              "        buttonEl.style.display =\n",
              "          google.colab.kernel.accessAllowed ? 'block' : 'none';\n",
              "\n",
              "        async function convertToInteractive(key) {\n",
              "          const element = document.querySelector('#df-5ed6ff3b-897d-4259-af49-f1f088a76b98');\n",
              "          const dataTable =\n",
              "            await google.colab.kernel.invokeFunction('convertToInteractive',\n",
              "                                                     [key], {});\n",
              "          if (!dataTable) return;\n",
              "\n",
              "          const docLinkHtml = 'Like what you see? Visit the ' +\n",
              "            '<a target=\"_blank\" href=https://colab.research.google.com/notebooks/data_table.ipynb>data table notebook</a>'\n",
              "            + ' to learn more about interactive tables.';\n",
              "          element.innerHTML = '';\n",
              "          dataTable['output_type'] = 'display_data';\n",
              "          await google.colab.output.renderOutput(dataTable, element);\n",
              "          const docLink = document.createElement('div');\n",
              "          docLink.innerHTML = docLinkHtml;\n",
              "          element.appendChild(docLink);\n",
              "        }\n",
              "      </script>\n",
              "    </div>\n",
              "  </div>\n",
              "  "
            ]
          },
          "metadata": {},
          "execution_count": 33
        }
      ]
    },
    {
      "cell_type": "code",
      "source": [
        "dfjob.shape"
      ],
      "metadata": {
        "colab": {
          "base_uri": "https://localhost:8080/"
        },
        "id": "3B0QnAhqRrDq",
        "outputId": "90f40fe5-b279-406a-baff-2268059c9f01"
      },
      "execution_count": 34,
      "outputs": [
        {
          "output_type": "execute_result",
          "data": {
            "text/plain": [
              "(199173, 12)"
            ]
          },
          "metadata": {},
          "execution_count": 34
        }
      ]
    },
    {
      "cell_type": "markdown",
      "source": [
        ""
      ],
      "metadata": {
        "id": "WVA9DhyH7srm"
      }
    },
    {
      "cell_type": "code",
      "source": [
        "# Open text file resume\n",
        "file1 = open('./drive/MyDrive/resume.txt', 'r')\n",
        "resume_data = []  \n",
        "\n",
        "while True:\n",
        "    # Get next line from file\n",
        "    line = file1.readline()\n",
        "    resume_data.append(line)\n",
        "\n",
        "    # if line is empty or end of file is reached\n",
        "    if not line:\n",
        "        break\n",
        "    \n",
        "file1.close()"
      ],
      "metadata": {
        "id": "xoADzysWSnE9"
      },
      "execution_count": 35,
      "outputs": []
    },
    {
      "cell_type": "code",
      "source": [
        "# Clean up the resume\n",
        "import re\n",
        "\n",
        "# Clean up address, school, name, number, take only character in to the new string list\n",
        "for i in range(0,len(resume_data)):\n",
        "    resume_data[i] = re.sub(r'\\[.*?\\]', '', resume_data[i])\n",
        "    word1 = \" \".join(re.findall(\"[a-zA-Z]+\", resume_data[i]))\n",
        "    resume_data[i] = word1\n",
        "\n",
        "# Using the keywords dictionary to hold all the keyword\n",
        "keyword_dict = []\n",
        "\n",
        "for line in resume_data:\n",
        "    li = list(line.split(\" \"))\n",
        "    for string_ in li:\n",
        "        keyword_dict.append(string_.lower()) # Convert the string to lower\n",
        "\n",
        "# Character that does not necessary to the search can be removed\n",
        "remove_characters = ['','a','truc','huynh','through','self','classroom','ide','concepts','founder','manager','online','first','second','are','was','unsatisfied',\n",
        "                     'an','to','on','and','that','this','the','by','in','with','s','of','non','co','my','your','his','her','they','their','he','she','it','under',\n",
        "                     'may','guided','submit','vietnam','cis','any','unsatisfied','services','for','watercraft','specialist','us','recomendation','years','work','team',\n",
        "                     'customer','ensure','supply','work','year','plans','customer','developing','records','technologies','computer','monitoring','building','market',\n",
        "                     'ensures','supply','options','learn','master','recommendation','science','risk','strategize','experienced','create','tracking','stock','students',\n",
        "                     'previous','concerns','structures','budget','next','methods','stakeholders','define','making','profits','achievement','address','routine','installed',\n",
        "                     'visual','higher','coming','teaching','letters','chain','content','trading','cross','headquarters','audiences','increase','warehouse','loss','car',\n",
        "                     'advice','highly','shows','toward','commander','compare','fiscal','directly','instructor','reduced','working','project','monitor','learning',\n",
        "                     'ethical','teach','trade']\n",
        "\n",
        "soft_skill_remove = [\"structure\", \"experience\", \"requirements\", \"worked\", \"years\", \"others\", \"skills\", \"communication\", \"ability\", \"application\", \"program\", \"customers\",\n",
        "                     \"company\", \"information\", \"plan\", \"knowledge\", \"benefit\", \"process\", \"training\", \"developed\", \"assistant\", \"support\", \"schedules\", \"education\", \n",
        "                     \"provided\", \"business\", \"operation\", \"systems\", \"oriented\", \"level\", \"base\", \"strong\", \"procedures\", \"organization\", \"functional\", \"practices\", \n",
        "                     \"reports\", \"office\", \"people\", \"certificate\", \"pay\", \"industries\", \"accountable\", \"staff\", \"associate\", \"full\", \"equipment\", \"technology\", \n",
        "                     \"maintaining\", \"design\", \"record\", \"clients\", \"bachelor\", \"projects\", \"issues\", \"using\", \"relationship\", \"internal\", \"technical\", \"collaborative\", \n",
        "                     \"meet\", \"implementation\", \"sales\", \"background\", \"detail\", \"preparing\", \"lead\", \"build\", \"coordination\", \"monitored\", \"different\", \"software\", \n",
        "                     \"marketing\", \"result\", \"weeks\", \"testing\", \"financial\", \"security\", \"proficient\", \"ensure\", \"decision\", \"improve\", \"engineer\", \"efficiency\", \n",
        "                     \"driving\", \"first\", \"futures\", \"instruction\", \"contracts\", \"strategies\", \"conducted\", \"attention\", \"identified\", \"analytics\", \"evaluated\"]\n",
        "\n",
        "for char in remove_characters:\n",
        "    while(char in keyword_dict) :\n",
        "        keyword_dict.remove(char)\n",
        "\n",
        "for char in soft_skill_remove:\n",
        "    while(char in keyword_dict) :\n",
        "        keyword_dict.remove(char)\n",
        "\n",
        "# remove the repeated word in the dictionary\n",
        "keyword_dict = list(dict.fromkeys(keyword_dict))\n",
        "\n",
        "# Figure out the length of the keyword dictionaries\n",
        "len(keyword_dict)"
      ],
      "metadata": {
        "colab": {
          "base_uri": "https://localhost:8080/"
        },
        "id": "cHRSmsYm7GBC",
        "outputId": "7127305a-18a2-4d81-bff2-921cedc04101"
      },
      "execution_count": 36,
      "outputs": [
        {
          "output_type": "execute_result",
          "data": {
            "text/plain": [
              "102"
            ]
          },
          "metadata": {},
          "execution_count": 36
        }
      ]
    },
    {
      "cell_type": "code",
      "source": [
        "def pretty_print(word_list):\n",
        "  index = 1\n",
        "  for word in word_list:\n",
        "    print(word, end=', ')\n",
        "    if index % 10 == 0:\n",
        "      print('')\n",
        "    index += 1"
      ],
      "metadata": {
        "id": "UAOpQ5yMjKxy"
      },
      "execution_count": 37,
      "outputs": []
    },
    {
      "cell_type": "code",
      "source": [
        "# Display list of dictionary\n",
        "pretty_print(keyword_dict)"
      ],
      "metadata": {
        "colab": {
          "base_uri": "https://localhost:8080/"
        },
        "id": "2IxuCUZd8D7c",
        "outputId": "b284e0c5-5ea3-4e07-9076-5f6f2387b6eb"
      },
      "execution_count": 38,
      "outputs": [
        {
          "output_type": "stream",
          "name": "stdout",
          "text": [
            "stack, developer, management, analyzing, data, scientist, machine, cyber, introduce, python, \n",
            "react, git, docker, web, development, ms, visio, jira, github, slack, \n",
            "html, css, json, bootstrap, r, shiny, server, framework, flask, restful, \n",
            "api, javascript, heroku, paas, lifecycle, agile, methodologies, visualization, dashboard, bi, \n",
            "mining, ml, ai, database, sql, mysql, algorithms, c, java, spring, \n",
            "mvc, net, eclipse, studio, vs, code, anaconda, pycharm, jupiter, notebook, \n",
            "servlet, apache, tomcat, automation, bot, script, hacking, ui, ux, explaining, \n",
            "multitask, virtual, machines, windows, linux, mac, osx, autocad, d, modelling, \n",
            "inventory, planning, forecasting, optimization, logistics, teams, prototype, predict, volatility, analyst, \n",
            "infrastructure, social, media, compared, logistic, vso, army, medals, vessel, lab, \n",
            "coding, research, "
          ]
        }
      ]
    },
    {
      "cell_type": "markdown",
      "source": [
        "### Other dictionary for references"
      ],
      "metadata": {
        "id": "4tXHSjo5q8Up"
      }
    },
    {
      "cell_type": "code",
      "source": [
        "# # got these keywords by looking at some examples and using existing knowledge.\n",
        "# tool_keywords1 = ['python', 'pytorch', 'sql', 'mxnet', 'mlflow', 'einstein', 'theano', 'pyspark', 'solr', 'mahout', \n",
        "#  'cassandra', 'aws', 'powerpoint', 'spark', 'pig', 'sas', 'java', 'nosql', 'docker', 'salesforce', 'scala', 'r',\n",
        "#  'c', 'c++', 'net', 'tableau', 'pandas', 'scikitlearn', 'sklearn', 'matlab', 'scala', 'keras', 'tensorflow', 'clojure',\n",
        "#  'caffe', 'scipy', 'numpy', 'matplotlib', 'vba', 'spss', 'linux', 'azure', 'cloud', 'gcp', 'mongodb', 'mysql', 'oracle', \n",
        "#  'redshift', 'snowflake', 'kafka', 'javascript', 'qlik', 'jupyter', 'perl', 'bigquery', 'unix', 'react',\n",
        "#  'scikit', 'powerbi', 's3', 'ec2', 'lambda', 'ssrs', 'kubernetes', 'hana', 'spacy', 'tf', 'django', 'sagemaker',\n",
        "#  'seaborn', 'mllib', 'github', 'git', 'elasticsearch', 'splunk', 'airflow', 'looker', 'rapidminer', 'birt', 'pentaho', \n",
        "#  'jquery', 'nodejs', 'd3', 'plotly', 'bokeh', 'xgboost', 'rstudio', 'shiny', 'dash', 'h20', 'h2o', 'hadoop', 'mapreduce', \n",
        "#  'hive', 'cognos', 'angular', 'nltk', 'flask', 'node', 'firebase', 'bigtable', 'rust', 'php', 'cntk', 'lightgbm', \n",
        "#  'kubeflow', 'rpython', 'unixlinux', 'postgressql', 'postgresql', 'postgres', 'hbase', 'dask', 'ruby', 'julia', 'tensor',\n",
        "# # added r packages doesn't seem to impact the result\n",
        "#  'dplyr','ggplot2','esquisse','bioconductor','shiny','lubridate','knitr','mlr','quanteda','dt','rcrawler','caret','rmarkdown',\n",
        "#  'leaflet','janitor','ggvis','plotly','rcharts','rbokeh','broom','stringr','magrittr','slidify','rvest',\n",
        "#  'rmysql','rsqlite','prophet','glmnet','text2vec','snowballc','quantmod','rstan','swirl','datasciencer']\n",
        "\n",
        "# # another set of keywords that are longer than one word.\n",
        "# tool_keywords2 = set(['amazon web services', 'google cloud', 'sql server'])\n",
        "\n",
        "# # hard skills/knowledge required.\n",
        "# skill_keywords1 = set(['statistics', 'cleansing', 'chatbot', 'cleaning', 'blockchain', 'causality', 'correlation', 'bandit', 'anomaly', 'kpi',\n",
        "#  'dashboard', 'geospatial', 'ocr', 'econometrics', 'pca', 'gis', 'svm', 'svd', 'tuning', 'hyperparameter', 'hypothesis',\n",
        "#  'salesforcecom', 'segmentation', 'biostatistics', 'unsupervised', 'supervised', 'exploratory',\n",
        "#  'recommender', 'recommendations', 'research', 'sequencing', 'probability', 'reinforcement', 'graph', 'bioinformatics',\n",
        "#  'chi', 'knn', 'outlier', 'etl', 'normalization', 'classification', 'optimizing', 'prediction', 'forecasting',\n",
        "#  'clustering', 'cluster', 'optimization', 'visualization', 'nlp', 'c#',\n",
        "#  'regression', 'logistic', 'nn', 'cnn', 'glm',\n",
        "#  'rnn', 'lstm', 'gbm', 'boosting', 'recurrent', 'convolutional', 'bayesian',\n",
        "#  'bayes'])\n",
        "\n",
        "# # another set of keywords that are longer than one word.\n",
        "# skill_keywords2 = set(['random forest', 'natural language processing', 'machine learning', 'decision tree', 'deep learning', 'experimental design',\n",
        "#  'time series', 'nearest neighbors', 'neural network', 'support vector machine', 'computer vision', 'machine vision', 'dimensionality reduction', \n",
        "#  'text analytics', 'power bi', 'a/b testing', 'ab testing', 'chat bot', 'data mining'])\n",
        "\n",
        "# degree_dict = {'bs': 1, 'bachelor': 1, 'undergraduate': 1, \n",
        "#                'master': 2, 'graduate': 2, 'mba': 2.5, \n",
        "#                'phd': 3, 'ph.d': 3, 'ba': 1, 'ma': 2,\n",
        "#                'postdoctoral': 4, 'postdoc': 4, 'doctorate': 3}\n",
        "\n",
        "\n",
        "# degree_dict2 = {'advanced degree': 2, 'ms or': 2, 'ms degree': 2, '4 year degree': 1, 'bs/': 1, 'ba/': 1,\n",
        "#                 '4-year degree': 1, 'b.s.': 1, 'm.s.': 2, 'm.s': 2, 'b.s': 1, 'phd/': 3, 'ph.d.': 3, 'ms/': 2,\n",
        "#                 'm.s/': 2, 'm.s./': 2, 'msc/': 2, 'master/': 2, 'master\\'s/': 2, 'bachelor\\s/': 1}\n",
        "# degree_keywords2 = set(degree_dict2.keys())"
      ],
      "metadata": {
        "id": "C3DXYX0o7Nh8"
      },
      "execution_count": 39,
      "outputs": []
    },
    {
      "cell_type": "markdown",
      "source": [
        "### Sampling\n",
        "\n",
        "The amount of words is too large, I will reduce the data to 10,000 row so that we can see how our model works on the smaller scale (sample is 5% of the data)"
      ],
      "metadata": {
        "id": "aEyAqQ_XG0-I"
      }
    },
    {
      "cell_type": "code",
      "source": [
        "sample_size=10000\n",
        "\n",
        "# Create a sample of 10,000 rows\n",
        "dfjob_s = dfjob.sample(n=sample_size)\n",
        "\n",
        "# Validate the transactions\n",
        "dfjob_s.head()"
      ],
      "metadata": {
        "colab": {
          "base_uri": "https://localhost:8080/",
          "height": 530
        },
        "id": "OgDzwFq36TSd",
        "outputId": "ada2ee96-3668-4be6-cebb-5cd7228ecb98"
      },
      "execution_count": 40,
      "outputs": [
        {
          "output_type": "execute_result",
          "data": {
            "text/plain": [
              "                            company_name  company_rating  \\\n",
              "21931                         Applebee's             3.5   \n",
              "15884          Papa John's Pizza | SARPJ             3.5   \n",
              "2450                     Sunriver Resort             4.0   \n",
              "5510   Delaware County Intermediate Unit             3.3   \n",
              "14552   Glenwood Regional Medical Center             2.7   \n",
              "\n",
              "       company_reviews_count country_code  \\\n",
              "21931                17274.0           US   \n",
              "15884                13133.0           US   \n",
              "2450                    68.0           US   \n",
              "5510                    41.0           US   \n",
              "14552                  716.0           US   \n",
              "\n",
              "                                             description  \\\n",
              "21931  <div>\\n <p><b>*** Turn every work day into PAY...   \n",
              "15884  <div>\\n <b>SUMMARY</b>\\n <br> Checks all produ...   \n",
              "2450   <div>\\n <div>\\n  <div>\\n   <div>\\n    Sunriver...   \n",
              "5510   <p>The DCIU seeks a reading specialist.</p>\\n<...   \n",
              "14552  <p></p>\\n<div>\\n <div>\\n  <p>POSITION SUMMARY<...   \n",
              "\n",
              "                                        description_text  \\\n",
              "21931  *** Turn every work day into PAYDAY! *** \\n  O...   \n",
              "15884  SUMMARY  Checks all products for accuracy agai...   \n",
              "2450   Sunriver Resort\\n    \\n           Sunriver\\n  ...   \n",
              "5510   The DCIU seeks a reading specialist.Essential ...   \n",
              "14552  POSITION SUMMARY \\n  The Patient Access Clerk ...   \n",
              "\n",
              "                                        job_title                   job_type  \\\n",
              "21931                                     Kitchen  [\"Full-time\",\"Part-time\"]   \n",
              "15884                        Delivery Driver (PT)              [\"Part-time\"]   \n",
              "2450   Cook I at Zeppa Bistro, Sunriver $18.75/hr   [\"Full-time\",\"Seasonal\"]   \n",
              "5510                           Reading Specialist              [\"Full-time\"]   \n",
              "14552                  Admitting Registrar II PDM               [\"Per diem\"]   \n",
              "\n",
              "                    location        salary_formatted         benefits  \\\n",
              "21931    Goldsboro, NC 27534  $7.25 - $14.00 an hour  [\"No benefits\"]   \n",
              "15884       Tifton, GA 31794              Negotiable  [\"No benefits\"]   \n",
              "2450      Sunriver, OR 97707          $18.75 an hour  [\"No benefits\"]   \n",
              "5510            Broomall, PA     From $47,392 a year  [\"No benefits\"]   \n",
              "14552  West Monroe, LA 71291              Negotiable  [\"No benefits\"]   \n",
              "\n",
              "           qualifications  \n",
              "21931  [\"No requirement\"]  \n",
              "15884  [\"No requirement\"]  \n",
              "2450   [\"No requirement\"]  \n",
              "5510   [\"No requirement\"]  \n",
              "14552  [\"No requirement\"]  "
            ],
            "text/html": [
              "\n",
              "  <div id=\"df-79c833fe-7824-463d-b1eb-d4117155d827\">\n",
              "    <div class=\"colab-df-container\">\n",
              "      <div>\n",
              "<style scoped>\n",
              "    .dataframe tbody tr th:only-of-type {\n",
              "        vertical-align: middle;\n",
              "    }\n",
              "\n",
              "    .dataframe tbody tr th {\n",
              "        vertical-align: top;\n",
              "    }\n",
              "\n",
              "    .dataframe thead th {\n",
              "        text-align: right;\n",
              "    }\n",
              "</style>\n",
              "<table border=\"1\" class=\"dataframe\">\n",
              "  <thead>\n",
              "    <tr style=\"text-align: right;\">\n",
              "      <th></th>\n",
              "      <th>company_name</th>\n",
              "      <th>company_rating</th>\n",
              "      <th>company_reviews_count</th>\n",
              "      <th>country_code</th>\n",
              "      <th>description</th>\n",
              "      <th>description_text</th>\n",
              "      <th>job_title</th>\n",
              "      <th>job_type</th>\n",
              "      <th>location</th>\n",
              "      <th>salary_formatted</th>\n",
              "      <th>benefits</th>\n",
              "      <th>qualifications</th>\n",
              "    </tr>\n",
              "  </thead>\n",
              "  <tbody>\n",
              "    <tr>\n",
              "      <th>21931</th>\n",
              "      <td>Applebee's</td>\n",
              "      <td>3.5</td>\n",
              "      <td>17274.0</td>\n",
              "      <td>US</td>\n",
              "      <td>&lt;div&gt;\\n &lt;p&gt;&lt;b&gt;*** Turn every work day into PAY...</td>\n",
              "      <td>*** Turn every work day into PAYDAY! *** \\n  O...</td>\n",
              "      <td>Kitchen</td>\n",
              "      <td>[\"Full-time\",\"Part-time\"]</td>\n",
              "      <td>Goldsboro, NC 27534</td>\n",
              "      <td>$7.25 - $14.00 an hour</td>\n",
              "      <td>[\"No benefits\"]</td>\n",
              "      <td>[\"No requirement\"]</td>\n",
              "    </tr>\n",
              "    <tr>\n",
              "      <th>15884</th>\n",
              "      <td>Papa John's Pizza | SARPJ</td>\n",
              "      <td>3.5</td>\n",
              "      <td>13133.0</td>\n",
              "      <td>US</td>\n",
              "      <td>&lt;div&gt;\\n &lt;b&gt;SUMMARY&lt;/b&gt;\\n &lt;br&gt; Checks all produ...</td>\n",
              "      <td>SUMMARY  Checks all products for accuracy agai...</td>\n",
              "      <td>Delivery Driver (PT)</td>\n",
              "      <td>[\"Part-time\"]</td>\n",
              "      <td>Tifton, GA 31794</td>\n",
              "      <td>Negotiable</td>\n",
              "      <td>[\"No benefits\"]</td>\n",
              "      <td>[\"No requirement\"]</td>\n",
              "    </tr>\n",
              "    <tr>\n",
              "      <th>2450</th>\n",
              "      <td>Sunriver Resort</td>\n",
              "      <td>4.0</td>\n",
              "      <td>68.0</td>\n",
              "      <td>US</td>\n",
              "      <td>&lt;div&gt;\\n &lt;div&gt;\\n  &lt;div&gt;\\n   &lt;div&gt;\\n    Sunriver...</td>\n",
              "      <td>Sunriver Resort\\n    \\n           Sunriver\\n  ...</td>\n",
              "      <td>Cook I at Zeppa Bistro, Sunriver $18.75/hr</td>\n",
              "      <td>[\"Full-time\",\"Seasonal\"]</td>\n",
              "      <td>Sunriver, OR 97707</td>\n",
              "      <td>$18.75 an hour</td>\n",
              "      <td>[\"No benefits\"]</td>\n",
              "      <td>[\"No requirement\"]</td>\n",
              "    </tr>\n",
              "    <tr>\n",
              "      <th>5510</th>\n",
              "      <td>Delaware County Intermediate Unit</td>\n",
              "      <td>3.3</td>\n",
              "      <td>41.0</td>\n",
              "      <td>US</td>\n",
              "      <td>&lt;p&gt;The DCIU seeks a reading specialist.&lt;/p&gt;\\n&lt;...</td>\n",
              "      <td>The DCIU seeks a reading specialist.Essential ...</td>\n",
              "      <td>Reading Specialist</td>\n",
              "      <td>[\"Full-time\"]</td>\n",
              "      <td>Broomall, PA</td>\n",
              "      <td>From $47,392 a year</td>\n",
              "      <td>[\"No benefits\"]</td>\n",
              "      <td>[\"No requirement\"]</td>\n",
              "    </tr>\n",
              "    <tr>\n",
              "      <th>14552</th>\n",
              "      <td>Glenwood Regional Medical Center</td>\n",
              "      <td>2.7</td>\n",
              "      <td>716.0</td>\n",
              "      <td>US</td>\n",
              "      <td>&lt;p&gt;&lt;/p&gt;\\n&lt;div&gt;\\n &lt;div&gt;\\n  &lt;p&gt;POSITION SUMMARY&lt;...</td>\n",
              "      <td>POSITION SUMMARY \\n  The Patient Access Clerk ...</td>\n",
              "      <td>Admitting Registrar II PDM</td>\n",
              "      <td>[\"Per diem\"]</td>\n",
              "      <td>West Monroe, LA 71291</td>\n",
              "      <td>Negotiable</td>\n",
              "      <td>[\"No benefits\"]</td>\n",
              "      <td>[\"No requirement\"]</td>\n",
              "    </tr>\n",
              "  </tbody>\n",
              "</table>\n",
              "</div>\n",
              "      <button class=\"colab-df-convert\" onclick=\"convertToInteractive('df-79c833fe-7824-463d-b1eb-d4117155d827')\"\n",
              "              title=\"Convert this dataframe to an interactive table.\"\n",
              "              style=\"display:none;\">\n",
              "        \n",
              "  <svg xmlns=\"http://www.w3.org/2000/svg\" height=\"24px\"viewBox=\"0 0 24 24\"\n",
              "       width=\"24px\">\n",
              "    <path d=\"M0 0h24v24H0V0z\" fill=\"none\"/>\n",
              "    <path d=\"M18.56 5.44l.94 2.06.94-2.06 2.06-.94-2.06-.94-.94-2.06-.94 2.06-2.06.94zm-11 1L8.5 8.5l.94-2.06 2.06-.94-2.06-.94L8.5 2.5l-.94 2.06-2.06.94zm10 10l.94 2.06.94-2.06 2.06-.94-2.06-.94-.94-2.06-.94 2.06-2.06.94z\"/><path d=\"M17.41 7.96l-1.37-1.37c-.4-.4-.92-.59-1.43-.59-.52 0-1.04.2-1.43.59L10.3 9.45l-7.72 7.72c-.78.78-.78 2.05 0 2.83L4 21.41c.39.39.9.59 1.41.59.51 0 1.02-.2 1.41-.59l7.78-7.78 2.81-2.81c.8-.78.8-2.07 0-2.86zM5.41 20L4 18.59l7.72-7.72 1.47 1.35L5.41 20z\"/>\n",
              "  </svg>\n",
              "      </button>\n",
              "      \n",
              "  <style>\n",
              "    .colab-df-container {\n",
              "      display:flex;\n",
              "      flex-wrap:wrap;\n",
              "      gap: 12px;\n",
              "    }\n",
              "\n",
              "    .colab-df-convert {\n",
              "      background-color: #E8F0FE;\n",
              "      border: none;\n",
              "      border-radius: 50%;\n",
              "      cursor: pointer;\n",
              "      display: none;\n",
              "      fill: #1967D2;\n",
              "      height: 32px;\n",
              "      padding: 0 0 0 0;\n",
              "      width: 32px;\n",
              "    }\n",
              "\n",
              "    .colab-df-convert:hover {\n",
              "      background-color: #E2EBFA;\n",
              "      box-shadow: 0px 1px 2px rgba(60, 64, 67, 0.3), 0px 1px 3px 1px rgba(60, 64, 67, 0.15);\n",
              "      fill: #174EA6;\n",
              "    }\n",
              "\n",
              "    [theme=dark] .colab-df-convert {\n",
              "      background-color: #3B4455;\n",
              "      fill: #D2E3FC;\n",
              "    }\n",
              "\n",
              "    [theme=dark] .colab-df-convert:hover {\n",
              "      background-color: #434B5C;\n",
              "      box-shadow: 0px 1px 3px 1px rgba(0, 0, 0, 0.15);\n",
              "      filter: drop-shadow(0px 1px 2px rgba(0, 0, 0, 0.3));\n",
              "      fill: #FFFFFF;\n",
              "    }\n",
              "  </style>\n",
              "\n",
              "      <script>\n",
              "        const buttonEl =\n",
              "          document.querySelector('#df-79c833fe-7824-463d-b1eb-d4117155d827 button.colab-df-convert');\n",
              "        buttonEl.style.display =\n",
              "          google.colab.kernel.accessAllowed ? 'block' : 'none';\n",
              "\n",
              "        async function convertToInteractive(key) {\n",
              "          const element = document.querySelector('#df-79c833fe-7824-463d-b1eb-d4117155d827');\n",
              "          const dataTable =\n",
              "            await google.colab.kernel.invokeFunction('convertToInteractive',\n",
              "                                                     [key], {});\n",
              "          if (!dataTable) return;\n",
              "\n",
              "          const docLinkHtml = 'Like what you see? Visit the ' +\n",
              "            '<a target=\"_blank\" href=https://colab.research.google.com/notebooks/data_table.ipynb>data table notebook</a>'\n",
              "            + ' to learn more about interactive tables.';\n",
              "          element.innerHTML = '';\n",
              "          dataTable['output_type'] = 'display_data';\n",
              "          await google.colab.output.renderOutput(dataTable, element);\n",
              "          const docLink = document.createElement('div');\n",
              "          docLink.innerHTML = docLinkHtml;\n",
              "          element.appendChild(docLink);\n",
              "        }\n",
              "      </script>\n",
              "    </div>\n",
              "  </div>\n",
              "  "
            ]
          },
          "metadata": {},
          "execution_count": 40
        }
      ]
    },
    {
      "cell_type": "code",
      "source": [
        ""
      ],
      "metadata": {
        "id": "v40BPT-zBmT4"
      },
      "execution_count": 40,
      "outputs": []
    },
    {
      "cell_type": "code",
      "source": [
        "# Has to import NLTK and download averaged_perceptron_tagger\n",
        "import nltk\n",
        "from nltk import pos_tag\n",
        "from nltk.stem import PorterStemmer\n",
        "from nltk.tokenize import word_tokenize\n",
        "\n",
        "nltk.download('averaged_perceptron_tagger')\n",
        "nltk.download('punkt')"
      ],
      "metadata": {
        "colab": {
          "base_uri": "https://localhost:8080/"
        },
        "id": "EBXwMgqi_Y-Q",
        "outputId": "3daec186-0cad-4793-ff66-ba0770bc1b10"
      },
      "execution_count": 41,
      "outputs": [
        {
          "output_type": "stream",
          "name": "stderr",
          "text": [
            "[nltk_data] Downloading package averaged_perceptron_tagger to\n",
            "[nltk_data]     /root/nltk_data...\n",
            "[nltk_data]   Unzipping taggers/averaged_perceptron_tagger.zip.\n",
            "[nltk_data] Downloading package punkt to /root/nltk_data...\n",
            "[nltk_data]   Unzipping tokenizers/punkt.zip.\n"
          ]
        },
        {
          "output_type": "execute_result",
          "data": {
            "text/plain": [
              "True"
            ]
          },
          "metadata": {},
          "execution_count": 41
        }
      ]
    },
    {
      "cell_type": "code",
      "source": [
        "tags = pos_tag(keyword_dict)"
      ],
      "metadata": {
        "id": "EDS5Klb4-esj"
      },
      "execution_count": 42,
      "outputs": []
    },
    {
      "cell_type": "code",
      "source": [
        "tags_list = []\n",
        "for tag in tags:\n",
        "  tags_list.append(tag[1])\n",
        "\n",
        "tags_list = list(dict.fromkeys(tags_list))\n",
        "\n",
        "# Figure out the length of the keyword dictionaries\n",
        "len(tags_list)"
      ],
      "metadata": {
        "colab": {
          "base_uri": "https://localhost:8080/"
        },
        "id": "lge-Kjgqj4V7",
        "outputId": "2379e60a-0351-4007-c231-fde9e61ea99f"
      },
      "execution_count": 43,
      "outputs": [
        {
          "output_type": "execute_result",
          "data": {
            "text/plain": [
              "8"
            ]
          },
          "metadata": {},
          "execution_count": 43
        }
      ]
    },
    {
      "cell_type": "code",
      "source": [
        "tags_list"
      ],
      "metadata": {
        "colab": {
          "base_uri": "https://localhost:8080/"
        },
        "id": "RsO5AwYslbaY",
        "outputId": "5d822772-94b4-4f19-83a1-6cfca322f4cd"
      },
      "execution_count": 44,
      "outputs": [
        {
          "output_type": "execute_result",
          "data": {
            "text/plain": [
              "['NN', 'VBG', 'NNS', 'JJ', 'IN', 'VBP', 'RB', 'VBN']"
            ]
          },
          "metadata": {},
          "execution_count": 44
        }
      ]
    },
    {
      "cell_type": "code",
      "source": [
        "dfjob_s.shape"
      ],
      "metadata": {
        "colab": {
          "base_uri": "https://localhost:8080/"
        },
        "id": "h1aLoKSDoAtR",
        "outputId": "62115683-88ae-473d-8399-a75315408453"
      },
      "execution_count": 45,
      "outputs": [
        {
          "output_type": "execute_result",
          "data": {
            "text/plain": [
              "(10000, 12)"
            ]
          },
          "metadata": {},
          "execution_count": 45
        }
      ]
    },
    {
      "cell_type": "markdown",
      "source": [
        "### Apply POS tagging"
      ],
      "metadata": {
        "id": "z_amMclQoOvV"
      }
    },
    {
      "cell_type": "code",
      "source": [
        "ps = PorterStemmer()\n",
        "\n",
        "\n",
        "# process the job description.\n",
        "def prepare_job_desc(desc):\n",
        "    # tokenize description.\n",
        "    tokens = word_tokenize(desc)\n",
        "        \n",
        "    # Parts of speech (POS) tag tokens.\n",
        "    token_tag = pos_tag(tokens)\n",
        "    \n",
        "    # Only include some of the POS tags.\n",
        "    include_tags = ['VBN', 'VBD', 'JJ', 'JJS', 'JJR', 'CD', 'NN', 'NNS', 'NNP', 'NNPS']\n",
        "    filtered_tokens = [tok for tok, tag in token_tag if tag in include_tags]\n",
        "    \n",
        "    # stem words.\n",
        "    stemmed_tokens = [ps.stem(tok).lower() for tok in filtered_tokens]\n",
        "    return set(stemmed_tokens)\n",
        "\n",
        "\n",
        "dfjob_s['job_description_word_set'] = dfjob_s['description_text'].map(prepare_job_desc)\n",
        "\n",
        "# process the keywords\n",
        "tool_keywords_set = set([ps.stem(tok) for tok in keyword_dict]) # stem the keywords (since the job description is also stemmed.)\n",
        "tool_keywords_dict = {ps.stem(tok):tok for tok in keyword_dict} # use this dictionary to revert the stemmed words back to the original."
      ],
      "metadata": {
        "id": "Qhuu9EHJ_8YV"
      },
      "execution_count": 65,
      "outputs": []
    },
    {
      "cell_type": "code",
      "source": [
        "pretty_print(tool_keywords_set)"
      ],
      "metadata": {
        "colab": {
          "base_uri": "https://localhost:8080/"
        },
        "id": "tfF88TUFGcme",
        "outputId": "1ea01449-01ec-4bca-f48e-27382419baf2"
      },
      "execution_count": 66,
      "outputs": [
        {
          "output_type": "stream",
          "name": "stdout",
          "text": [
            "net, lifecycl, react, flask, visual, json, virtual, server, paa, plan, \n",
            "autom, ms, window, code, github, c, bootstrap, armi, mine, introduc, \n",
            "osx, mysql, python, git, studio, lab, model, team, html, logist, \n",
            "spring, ux, analyz, d, predict, notebook, ai, agil, data, css, \n",
            "script, mvc, mac, develop, ui, infrastructur, multitask, explain, volatil, compar, \n",
            "stack, scientist, algorithm, sql, ml, analyst, api, social, javascript, machin, \n",
            "rest, inventori, heroku, forecast, linux, vso, medal, web, prototyp, docker, \n",
            "vs, vessel, framework, hack, slack, bi, apach, databas, pycharm, tomcat, \n",
            "eclips, shini, visio, manag, anaconda, jupit, methodolog, r, servlet, jira, \n",
            "cyber, dashboard, java, bot, autocad, optim, media, research, "
          ]
        }
      ]
    },
    {
      "cell_type": "code",
      "source": [
        "tool_list = []\n",
        "\n",
        "msk = dfjob_s['country_code'] != '' # just in case you want to filter the data.\n",
        "\n",
        "num_postings = len(dfjob_s[msk].index)\n",
        "for i in range(num_postings):\n",
        "    job_desc = dfjob_s[msk].iloc[i]['description_text'].lower()\n",
        "    job_desc_set = dfjob_s[msk].iloc[i]['job_description_word_set']\n",
        "    \n",
        "    # check if the keywords are in the job description. Look for exact match by token.\n",
        "    tool_words = tool_keywords_set.intersection(job_desc_set)\n",
        "    \n",
        "    # label the job descriptions without any tool keywords.\n",
        "    if len(tool_words) == 0:\n",
        "        tool_list.append('nothing specified')\n",
        "    \n",
        "    tool_list += list(tool_words)"
      ],
      "metadata": {
        "id": "huG4VKdkCQQZ"
      },
      "execution_count": 67,
      "outputs": []
    },
    {
      "cell_type": "code",
      "source": [
        "# create the list of tools.\n",
        "df_tool = pd.DataFrame(data={'cnt': tool_list})\n",
        "df_tool = df_tool.replace(tool_keywords_dict)\n",
        "\n",
        "df_tool_top = df_tool['cnt'].value_counts().reset_index().rename(columns={'index': 'tool'}).iloc[:60]\n"
      ],
      "metadata": {
        "id": "SvU7D3WP4Pqk"
      },
      "execution_count": 68,
      "outputs": []
    },
    {
      "cell_type": "code",
      "source": [
        "from plotly import __version__\n",
        "from plotly.offline import download_plotlyjs, init_notebook_mode, plot, iplot\n",
        "import plotly.graph_objs as go\n",
        "\n",
        "# visualize the tools.\n",
        "layout = dict(\n",
        "    title='Top Skill base on Resume',\n",
        "    yaxis=dict(\n",
        "        title='% of job postings',\n",
        "        tickformat=',.0%',\n",
        "    )\n",
        ")\n",
        "\n",
        "fig = go.Figure(layout=layout)\n",
        "fig.add_trace(go.Bar(\n",
        "    x=df_tool_top['tool'],\n",
        "    y=df_tool_top['cnt']/num_postings\n",
        "))\n",
        "\n",
        "iplot(fig)"
      ],
      "metadata": {
        "colab": {
          "base_uri": "https://localhost:8080/",
          "height": 542
        },
        "id": "WpiSKQxl4tJS",
        "outputId": "d0b6d5c9-dbb5-4ebb-c012-67383ef33249"
      },
      "execution_count": 69,
      "outputs": [
        {
          "output_type": "display_data",
          "data": {
            "text/html": [
              "<html>\n",
              "<head><meta charset=\"utf-8\" /></head>\n",
              "<body>\n",
              "    <div>            <script src=\"https://cdnjs.cloudflare.com/ajax/libs/mathjax/2.7.5/MathJax.js?config=TeX-AMS-MML_SVG\"></script><script type=\"text/javascript\">if (window.MathJax) {MathJax.Hub.Config({SVG: {font: \"STIX-Web\"}});}</script>                <script type=\"text/javascript\">window.PlotlyConfig = {MathJaxConfig: 'local'};</script>\n",
              "        <script src=\"https://cdn.plot.ly/plotly-2.8.3.min.js\"></script>                <div id=\"db8f14a3-9da7-4dbd-92f2-aab6f9a1ca83\" class=\"plotly-graph-div\" style=\"height:525px; width:100%;\"></div>            <script type=\"text/javascript\">                                    window.PLOTLYENV=window.PLOTLYENV || {};                                    if (document.getElementById(\"db8f14a3-9da7-4dbd-92f2-aab6f9a1ca83\")) {                    Plotly.newPlot(                        \"db8f14a3-9da7-4dbd-92f2-aab6f9a1ca83\",                        [{\"x\":[\"teams\",\"management\",\"planning\",\"development\",\"data\",\"social\",\"research\",\"modelling\",\"inventory\",\"coding\",\"machines\",\"analyzing\",\"database\",\"nothing specified\",\"automation\",\"ms\",\"visualization\",\"optimization\",\"d\",\"methodologies\",\"infrastructure\",\"agile\",\"c\",\"lab\",\"web\",\"media\",\"virtual\",\"framework\",\"analyst\",\"server\",\"windows\",\"sql\",\"logistic\",\"script\",\"lifecycle\",\"forecasting\",\"python\",\"java\",\"r\",\"restful\",\"stack\",\"api\",\"predict\",\"spring\",\"javascript\",\"scientist\",\"compared\",\"studio\",\"linux\",\"dashboard\",\"bi\",\"jira\",\"prototype\",\"algorithms\",\"ai\",\"react\",\"net\",\"cyber\",\"explaining\",\"visio\"],\"y\":[0.7004,0.5823,0.4875,0.4326,0.2497,0.1201,0.1197,0.1158,0.1113,0.1095,0.0633,0.0606,0.0601,0.0552,0.0537,0.0536,0.0524,0.0511,0.0489,0.0483,0.0477,0.0454,0.045,0.0438,0.0431,0.0408,0.0399,0.0366,0.0354,0.0347,0.0334,0.0286,0.0267,0.0259,0.0243,0.0243,0.0239,0.0236,0.0209,0.0199,0.0167,0.0164,0.0146,0.0144,0.0142,0.0123,0.0123,0.0119,0.0113,0.0107,0.0102,0.0089,0.0087,0.0087,0.0083,0.0078,0.0076,0.0073,0.0072,0.007],\"type\":\"bar\"}],                        {\"template\":{\"data\":{\"barpolar\":[{\"marker\":{\"line\":{\"color\":\"#E5ECF6\",\"width\":0.5},\"pattern\":{\"fillmode\":\"overlay\",\"size\":10,\"solidity\":0.2}},\"type\":\"barpolar\"}],\"bar\":[{\"error_x\":{\"color\":\"#2a3f5f\"},\"error_y\":{\"color\":\"#2a3f5f\"},\"marker\":{\"line\":{\"color\":\"#E5ECF6\",\"width\":0.5},\"pattern\":{\"fillmode\":\"overlay\",\"size\":10,\"solidity\":0.2}},\"type\":\"bar\"}],\"carpet\":[{\"aaxis\":{\"endlinecolor\":\"#2a3f5f\",\"gridcolor\":\"white\",\"linecolor\":\"white\",\"minorgridcolor\":\"white\",\"startlinecolor\":\"#2a3f5f\"},\"baxis\":{\"endlinecolor\":\"#2a3f5f\",\"gridcolor\":\"white\",\"linecolor\":\"white\",\"minorgridcolor\":\"white\",\"startlinecolor\":\"#2a3f5f\"},\"type\":\"carpet\"}],\"choropleth\":[{\"colorbar\":{\"outlinewidth\":0,\"ticks\":\"\"},\"type\":\"choropleth\"}],\"contourcarpet\":[{\"colorbar\":{\"outlinewidth\":0,\"ticks\":\"\"},\"type\":\"contourcarpet\"}],\"contour\":[{\"colorbar\":{\"outlinewidth\":0,\"ticks\":\"\"},\"colorscale\":[[0.0,\"#0d0887\"],[0.1111111111111111,\"#46039f\"],[0.2222222222222222,\"#7201a8\"],[0.3333333333333333,\"#9c179e\"],[0.4444444444444444,\"#bd3786\"],[0.5555555555555556,\"#d8576b\"],[0.6666666666666666,\"#ed7953\"],[0.7777777777777778,\"#fb9f3a\"],[0.8888888888888888,\"#fdca26\"],[1.0,\"#f0f921\"]],\"type\":\"contour\"}],\"heatmapgl\":[{\"colorbar\":{\"outlinewidth\":0,\"ticks\":\"\"},\"colorscale\":[[0.0,\"#0d0887\"],[0.1111111111111111,\"#46039f\"],[0.2222222222222222,\"#7201a8\"],[0.3333333333333333,\"#9c179e\"],[0.4444444444444444,\"#bd3786\"],[0.5555555555555556,\"#d8576b\"],[0.6666666666666666,\"#ed7953\"],[0.7777777777777778,\"#fb9f3a\"],[0.8888888888888888,\"#fdca26\"],[1.0,\"#f0f921\"]],\"type\":\"heatmapgl\"}],\"heatmap\":[{\"colorbar\":{\"outlinewidth\":0,\"ticks\":\"\"},\"colorscale\":[[0.0,\"#0d0887\"],[0.1111111111111111,\"#46039f\"],[0.2222222222222222,\"#7201a8\"],[0.3333333333333333,\"#9c179e\"],[0.4444444444444444,\"#bd3786\"],[0.5555555555555556,\"#d8576b\"],[0.6666666666666666,\"#ed7953\"],[0.7777777777777778,\"#fb9f3a\"],[0.8888888888888888,\"#fdca26\"],[1.0,\"#f0f921\"]],\"type\":\"heatmap\"}],\"histogram2dcontour\":[{\"colorbar\":{\"outlinewidth\":0,\"ticks\":\"\"},\"colorscale\":[[0.0,\"#0d0887\"],[0.1111111111111111,\"#46039f\"],[0.2222222222222222,\"#7201a8\"],[0.3333333333333333,\"#9c179e\"],[0.4444444444444444,\"#bd3786\"],[0.5555555555555556,\"#d8576b\"],[0.6666666666666666,\"#ed7953\"],[0.7777777777777778,\"#fb9f3a\"],[0.8888888888888888,\"#fdca26\"],[1.0,\"#f0f921\"]],\"type\":\"histogram2dcontour\"}],\"histogram2d\":[{\"colorbar\":{\"outlinewidth\":0,\"ticks\":\"\"},\"colorscale\":[[0.0,\"#0d0887\"],[0.1111111111111111,\"#46039f\"],[0.2222222222222222,\"#7201a8\"],[0.3333333333333333,\"#9c179e\"],[0.4444444444444444,\"#bd3786\"],[0.5555555555555556,\"#d8576b\"],[0.6666666666666666,\"#ed7953\"],[0.7777777777777778,\"#fb9f3a\"],[0.8888888888888888,\"#fdca26\"],[1.0,\"#f0f921\"]],\"type\":\"histogram2d\"}],\"histogram\":[{\"marker\":{\"pattern\":{\"fillmode\":\"overlay\",\"size\":10,\"solidity\":0.2}},\"type\":\"histogram\"}],\"mesh3d\":[{\"colorbar\":{\"outlinewidth\":0,\"ticks\":\"\"},\"type\":\"mesh3d\"}],\"parcoords\":[{\"line\":{\"colorbar\":{\"outlinewidth\":0,\"ticks\":\"\"}},\"type\":\"parcoords\"}],\"pie\":[{\"automargin\":true,\"type\":\"pie\"}],\"scatter3d\":[{\"line\":{\"colorbar\":{\"outlinewidth\":0,\"ticks\":\"\"}},\"marker\":{\"colorbar\":{\"outlinewidth\":0,\"ticks\":\"\"}},\"type\":\"scatter3d\"}],\"scattercarpet\":[{\"marker\":{\"colorbar\":{\"outlinewidth\":0,\"ticks\":\"\"}},\"type\":\"scattercarpet\"}],\"scattergeo\":[{\"marker\":{\"colorbar\":{\"outlinewidth\":0,\"ticks\":\"\"}},\"type\":\"scattergeo\"}],\"scattergl\":[{\"marker\":{\"colorbar\":{\"outlinewidth\":0,\"ticks\":\"\"}},\"type\":\"scattergl\"}],\"scattermapbox\":[{\"marker\":{\"colorbar\":{\"outlinewidth\":0,\"ticks\":\"\"}},\"type\":\"scattermapbox\"}],\"scatterpolargl\":[{\"marker\":{\"colorbar\":{\"outlinewidth\":0,\"ticks\":\"\"}},\"type\":\"scatterpolargl\"}],\"scatterpolar\":[{\"marker\":{\"colorbar\":{\"outlinewidth\":0,\"ticks\":\"\"}},\"type\":\"scatterpolar\"}],\"scatter\":[{\"marker\":{\"colorbar\":{\"outlinewidth\":0,\"ticks\":\"\"}},\"type\":\"scatter\"}],\"scatterternary\":[{\"marker\":{\"colorbar\":{\"outlinewidth\":0,\"ticks\":\"\"}},\"type\":\"scatterternary\"}],\"surface\":[{\"colorbar\":{\"outlinewidth\":0,\"ticks\":\"\"},\"colorscale\":[[0.0,\"#0d0887\"],[0.1111111111111111,\"#46039f\"],[0.2222222222222222,\"#7201a8\"],[0.3333333333333333,\"#9c179e\"],[0.4444444444444444,\"#bd3786\"],[0.5555555555555556,\"#d8576b\"],[0.6666666666666666,\"#ed7953\"],[0.7777777777777778,\"#fb9f3a\"],[0.8888888888888888,\"#fdca26\"],[1.0,\"#f0f921\"]],\"type\":\"surface\"}],\"table\":[{\"cells\":{\"fill\":{\"color\":\"#EBF0F8\"},\"line\":{\"color\":\"white\"}},\"header\":{\"fill\":{\"color\":\"#C8D4E3\"},\"line\":{\"color\":\"white\"}},\"type\":\"table\"}]},\"layout\":{\"annotationdefaults\":{\"arrowcolor\":\"#2a3f5f\",\"arrowhead\":0,\"arrowwidth\":1},\"autotypenumbers\":\"strict\",\"coloraxis\":{\"colorbar\":{\"outlinewidth\":0,\"ticks\":\"\"}},\"colorscale\":{\"diverging\":[[0,\"#8e0152\"],[0.1,\"#c51b7d\"],[0.2,\"#de77ae\"],[0.3,\"#f1b6da\"],[0.4,\"#fde0ef\"],[0.5,\"#f7f7f7\"],[0.6,\"#e6f5d0\"],[0.7,\"#b8e186\"],[0.8,\"#7fbc41\"],[0.9,\"#4d9221\"],[1,\"#276419\"]],\"sequential\":[[0.0,\"#0d0887\"],[0.1111111111111111,\"#46039f\"],[0.2222222222222222,\"#7201a8\"],[0.3333333333333333,\"#9c179e\"],[0.4444444444444444,\"#bd3786\"],[0.5555555555555556,\"#d8576b\"],[0.6666666666666666,\"#ed7953\"],[0.7777777777777778,\"#fb9f3a\"],[0.8888888888888888,\"#fdca26\"],[1.0,\"#f0f921\"]],\"sequentialminus\":[[0.0,\"#0d0887\"],[0.1111111111111111,\"#46039f\"],[0.2222222222222222,\"#7201a8\"],[0.3333333333333333,\"#9c179e\"],[0.4444444444444444,\"#bd3786\"],[0.5555555555555556,\"#d8576b\"],[0.6666666666666666,\"#ed7953\"],[0.7777777777777778,\"#fb9f3a\"],[0.8888888888888888,\"#fdca26\"],[1.0,\"#f0f921\"]]},\"colorway\":[\"#636efa\",\"#EF553B\",\"#00cc96\",\"#ab63fa\",\"#FFA15A\",\"#19d3f3\",\"#FF6692\",\"#B6E880\",\"#FF97FF\",\"#FECB52\"],\"font\":{\"color\":\"#2a3f5f\"},\"geo\":{\"bgcolor\":\"white\",\"lakecolor\":\"white\",\"landcolor\":\"#E5ECF6\",\"showlakes\":true,\"showland\":true,\"subunitcolor\":\"white\"},\"hoverlabel\":{\"align\":\"left\"},\"hovermode\":\"closest\",\"mapbox\":{\"style\":\"light\"},\"paper_bgcolor\":\"white\",\"plot_bgcolor\":\"#E5ECF6\",\"polar\":{\"angularaxis\":{\"gridcolor\":\"white\",\"linecolor\":\"white\",\"ticks\":\"\"},\"bgcolor\":\"#E5ECF6\",\"radialaxis\":{\"gridcolor\":\"white\",\"linecolor\":\"white\",\"ticks\":\"\"}},\"scene\":{\"xaxis\":{\"backgroundcolor\":\"#E5ECF6\",\"gridcolor\":\"white\",\"gridwidth\":2,\"linecolor\":\"white\",\"showbackground\":true,\"ticks\":\"\",\"zerolinecolor\":\"white\"},\"yaxis\":{\"backgroundcolor\":\"#E5ECF6\",\"gridcolor\":\"white\",\"gridwidth\":2,\"linecolor\":\"white\",\"showbackground\":true,\"ticks\":\"\",\"zerolinecolor\":\"white\"},\"zaxis\":{\"backgroundcolor\":\"#E5ECF6\",\"gridcolor\":\"white\",\"gridwidth\":2,\"linecolor\":\"white\",\"showbackground\":true,\"ticks\":\"\",\"zerolinecolor\":\"white\"}},\"shapedefaults\":{\"line\":{\"color\":\"#2a3f5f\"}},\"ternary\":{\"aaxis\":{\"gridcolor\":\"white\",\"linecolor\":\"white\",\"ticks\":\"\"},\"baxis\":{\"gridcolor\":\"white\",\"linecolor\":\"white\",\"ticks\":\"\"},\"bgcolor\":\"#E5ECF6\",\"caxis\":{\"gridcolor\":\"white\",\"linecolor\":\"white\",\"ticks\":\"\"}},\"title\":{\"x\":0.05},\"xaxis\":{\"automargin\":true,\"gridcolor\":\"white\",\"linecolor\":\"white\",\"ticks\":\"\",\"title\":{\"standoff\":15},\"zerolinecolor\":\"white\",\"zerolinewidth\":2},\"yaxis\":{\"automargin\":true,\"gridcolor\":\"white\",\"linecolor\":\"white\",\"ticks\":\"\",\"title\":{\"standoff\":15},\"zerolinecolor\":\"white\",\"zerolinewidth\":2}}},\"title\":{\"text\":\"Top Skill base on Resume\"},\"yaxis\":{\"tickformat\":\",.0%\",\"title\":{\"text\":\"% of job postings\"}}},                        {\"responsive\": true}                    ).then(function(){\n",
              "                            \n",
              "var gd = document.getElementById('db8f14a3-9da7-4dbd-92f2-aab6f9a1ca83');\n",
              "var x = new MutationObserver(function (mutations, observer) {{\n",
              "        var display = window.getComputedStyle(gd).display;\n",
              "        if (!display || display === 'none') {{\n",
              "            console.log([gd, 'removed!']);\n",
              "            Plotly.purge(gd);\n",
              "            observer.disconnect();\n",
              "        }}\n",
              "}});\n",
              "\n",
              "// Listen for the removal of the full notebook cells\n",
              "var notebookContainer = gd.closest('#notebook-container');\n",
              "if (notebookContainer) {{\n",
              "    x.observe(notebookContainer, {childList: true});\n",
              "}}\n",
              "\n",
              "// Listen for the clearing of the current output cell\n",
              "var outputEl = gd.closest('.output');\n",
              "if (outputEl) {{\n",
              "    x.observe(outputEl, {childList: true});\n",
              "}}\n",
              "\n",
              "                        })                };                            </script>        </div>\n",
              "</body>\n",
              "</html>"
            ]
          },
          "metadata": {}
        }
      ]
    },
    {
      "cell_type": "code",
      "source": [
        ""
      ],
      "metadata": {
        "id": "jIAlr-mO4RMI"
      },
      "execution_count": null,
      "outputs": []
    },
    {
      "cell_type": "markdown",
      "source": [
        "### Find most align \n",
        "Using the list just found and find the most "
      ],
      "metadata": {
        "id": "AE93l63Ynepz"
      }
    },
    {
      "cell_type": "code",
      "source": [
        "pretty_print(df_tool_top['tool'])"
      ],
      "metadata": {
        "colab": {
          "base_uri": "https://localhost:8080/"
        },
        "id": "uQPv_yRMXrQK",
        "outputId": "f6264c34-d1b9-4c9e-d29c-ca9775206801"
      },
      "execution_count": 70,
      "outputs": [
        {
          "output_type": "stream",
          "name": "stdout",
          "text": [
            "teams, management, planning, development, data, social, research, modelling, inventory, coding, \n",
            "machines, analyzing, database, nothing specified, automation, ms, visualization, optimization, d, methodologies, \n",
            "infrastructure, agile, c, lab, web, media, virtual, framework, analyst, server, \n",
            "windows, sql, logistic, script, lifecycle, forecasting, python, java, r, restful, \n",
            "stack, api, predict, spring, javascript, scientist, compared, studio, linux, dashboard, \n",
            "bi, jira, prototype, algorithms, ai, react, net, cyber, explaining, visio, \n"
          ]
        }
      ]
    },
    {
      "cell_type": "code",
      "source": [
        "df_tool_top['grow_percentage'] = df_tool_top['cnt']/sample_size"
      ],
      "metadata": {
        "id": "_4IFVle7YNdL"
      },
      "execution_count": 71,
      "outputs": []
    },
    {
      "cell_type": "code",
      "source": [
        "df_tool_top"
      ],
      "metadata": {
        "colab": {
          "base_uri": "https://localhost:8080/",
          "height": 1000
        },
        "id": "L_QuF7G4ZHIc",
        "outputId": "f41336f1-b038-4e3c-eba4-e21a1d647b7e"
      },
      "execution_count": 72,
      "outputs": [
        {
          "output_type": "execute_result",
          "data": {
            "text/plain": [
              "                 tool   cnt  grow_percentage\n",
              "0               teams  7004           0.7004\n",
              "1          management  5823           0.5823\n",
              "2            planning  4875           0.4875\n",
              "3         development  4326           0.4326\n",
              "4                data  2497           0.2497\n",
              "5              social  1201           0.1201\n",
              "6            research  1197           0.1197\n",
              "7           modelling  1158           0.1158\n",
              "8           inventory  1113           0.1113\n",
              "9              coding  1095           0.1095\n",
              "10           machines   633           0.0633\n",
              "11          analyzing   606           0.0606\n",
              "12           database   601           0.0601\n",
              "13  nothing specified   552           0.0552\n",
              "14         automation   537           0.0537\n",
              "15                 ms   536           0.0536\n",
              "16      visualization   524           0.0524\n",
              "17       optimization   511           0.0511\n",
              "18                  d   489           0.0489\n",
              "19      methodologies   483           0.0483\n",
              "20     infrastructure   477           0.0477\n",
              "21              agile   454           0.0454\n",
              "22                  c   450           0.0450\n",
              "23                lab   438           0.0438\n",
              "24                web   431           0.0431\n",
              "25              media   408           0.0408\n",
              "26            virtual   399           0.0399\n",
              "27          framework   366           0.0366\n",
              "28            analyst   354           0.0354\n",
              "29             server   347           0.0347\n",
              "30            windows   334           0.0334\n",
              "31                sql   286           0.0286\n",
              "32           logistic   267           0.0267\n",
              "33             script   259           0.0259\n",
              "34          lifecycle   243           0.0243\n",
              "35        forecasting   243           0.0243\n",
              "36             python   239           0.0239\n",
              "37               java   236           0.0236\n",
              "38                  r   209           0.0209\n",
              "39            restful   199           0.0199\n",
              "40              stack   167           0.0167\n",
              "41                api   164           0.0164\n",
              "42            predict   146           0.0146\n",
              "43             spring   144           0.0144\n",
              "44         javascript   142           0.0142\n",
              "45          scientist   123           0.0123\n",
              "46           compared   123           0.0123\n",
              "47             studio   119           0.0119\n",
              "48              linux   113           0.0113\n",
              "49          dashboard   107           0.0107\n",
              "50                 bi   102           0.0102\n",
              "51               jira    89           0.0089\n",
              "52          prototype    87           0.0087\n",
              "53         algorithms    87           0.0087\n",
              "54                 ai    83           0.0083\n",
              "55              react    78           0.0078\n",
              "56                net    76           0.0076\n",
              "57              cyber    73           0.0073\n",
              "58         explaining    72           0.0072\n",
              "59              visio    70           0.0070"
            ],
            "text/html": [
              "\n",
              "  <div id=\"df-73118b5b-b7df-424d-8056-e757f80658c5\">\n",
              "    <div class=\"colab-df-container\">\n",
              "      <div>\n",
              "<style scoped>\n",
              "    .dataframe tbody tr th:only-of-type {\n",
              "        vertical-align: middle;\n",
              "    }\n",
              "\n",
              "    .dataframe tbody tr th {\n",
              "        vertical-align: top;\n",
              "    }\n",
              "\n",
              "    .dataframe thead th {\n",
              "        text-align: right;\n",
              "    }\n",
              "</style>\n",
              "<table border=\"1\" class=\"dataframe\">\n",
              "  <thead>\n",
              "    <tr style=\"text-align: right;\">\n",
              "      <th></th>\n",
              "      <th>tool</th>\n",
              "      <th>cnt</th>\n",
              "      <th>grow_percentage</th>\n",
              "    </tr>\n",
              "  </thead>\n",
              "  <tbody>\n",
              "    <tr>\n",
              "      <th>0</th>\n",
              "      <td>teams</td>\n",
              "      <td>7004</td>\n",
              "      <td>0.7004</td>\n",
              "    </tr>\n",
              "    <tr>\n",
              "      <th>1</th>\n",
              "      <td>management</td>\n",
              "      <td>5823</td>\n",
              "      <td>0.5823</td>\n",
              "    </tr>\n",
              "    <tr>\n",
              "      <th>2</th>\n",
              "      <td>planning</td>\n",
              "      <td>4875</td>\n",
              "      <td>0.4875</td>\n",
              "    </tr>\n",
              "    <tr>\n",
              "      <th>3</th>\n",
              "      <td>development</td>\n",
              "      <td>4326</td>\n",
              "      <td>0.4326</td>\n",
              "    </tr>\n",
              "    <tr>\n",
              "      <th>4</th>\n",
              "      <td>data</td>\n",
              "      <td>2497</td>\n",
              "      <td>0.2497</td>\n",
              "    </tr>\n",
              "    <tr>\n",
              "      <th>5</th>\n",
              "      <td>social</td>\n",
              "      <td>1201</td>\n",
              "      <td>0.1201</td>\n",
              "    </tr>\n",
              "    <tr>\n",
              "      <th>6</th>\n",
              "      <td>research</td>\n",
              "      <td>1197</td>\n",
              "      <td>0.1197</td>\n",
              "    </tr>\n",
              "    <tr>\n",
              "      <th>7</th>\n",
              "      <td>modelling</td>\n",
              "      <td>1158</td>\n",
              "      <td>0.1158</td>\n",
              "    </tr>\n",
              "    <tr>\n",
              "      <th>8</th>\n",
              "      <td>inventory</td>\n",
              "      <td>1113</td>\n",
              "      <td>0.1113</td>\n",
              "    </tr>\n",
              "    <tr>\n",
              "      <th>9</th>\n",
              "      <td>coding</td>\n",
              "      <td>1095</td>\n",
              "      <td>0.1095</td>\n",
              "    </tr>\n",
              "    <tr>\n",
              "      <th>10</th>\n",
              "      <td>machines</td>\n",
              "      <td>633</td>\n",
              "      <td>0.0633</td>\n",
              "    </tr>\n",
              "    <tr>\n",
              "      <th>11</th>\n",
              "      <td>analyzing</td>\n",
              "      <td>606</td>\n",
              "      <td>0.0606</td>\n",
              "    </tr>\n",
              "    <tr>\n",
              "      <th>12</th>\n",
              "      <td>database</td>\n",
              "      <td>601</td>\n",
              "      <td>0.0601</td>\n",
              "    </tr>\n",
              "    <tr>\n",
              "      <th>13</th>\n",
              "      <td>nothing specified</td>\n",
              "      <td>552</td>\n",
              "      <td>0.0552</td>\n",
              "    </tr>\n",
              "    <tr>\n",
              "      <th>14</th>\n",
              "      <td>automation</td>\n",
              "      <td>537</td>\n",
              "      <td>0.0537</td>\n",
              "    </tr>\n",
              "    <tr>\n",
              "      <th>15</th>\n",
              "      <td>ms</td>\n",
              "      <td>536</td>\n",
              "      <td>0.0536</td>\n",
              "    </tr>\n",
              "    <tr>\n",
              "      <th>16</th>\n",
              "      <td>visualization</td>\n",
              "      <td>524</td>\n",
              "      <td>0.0524</td>\n",
              "    </tr>\n",
              "    <tr>\n",
              "      <th>17</th>\n",
              "      <td>optimization</td>\n",
              "      <td>511</td>\n",
              "      <td>0.0511</td>\n",
              "    </tr>\n",
              "    <tr>\n",
              "      <th>18</th>\n",
              "      <td>d</td>\n",
              "      <td>489</td>\n",
              "      <td>0.0489</td>\n",
              "    </tr>\n",
              "    <tr>\n",
              "      <th>19</th>\n",
              "      <td>methodologies</td>\n",
              "      <td>483</td>\n",
              "      <td>0.0483</td>\n",
              "    </tr>\n",
              "    <tr>\n",
              "      <th>20</th>\n",
              "      <td>infrastructure</td>\n",
              "      <td>477</td>\n",
              "      <td>0.0477</td>\n",
              "    </tr>\n",
              "    <tr>\n",
              "      <th>21</th>\n",
              "      <td>agile</td>\n",
              "      <td>454</td>\n",
              "      <td>0.0454</td>\n",
              "    </tr>\n",
              "    <tr>\n",
              "      <th>22</th>\n",
              "      <td>c</td>\n",
              "      <td>450</td>\n",
              "      <td>0.0450</td>\n",
              "    </tr>\n",
              "    <tr>\n",
              "      <th>23</th>\n",
              "      <td>lab</td>\n",
              "      <td>438</td>\n",
              "      <td>0.0438</td>\n",
              "    </tr>\n",
              "    <tr>\n",
              "      <th>24</th>\n",
              "      <td>web</td>\n",
              "      <td>431</td>\n",
              "      <td>0.0431</td>\n",
              "    </tr>\n",
              "    <tr>\n",
              "      <th>25</th>\n",
              "      <td>media</td>\n",
              "      <td>408</td>\n",
              "      <td>0.0408</td>\n",
              "    </tr>\n",
              "    <tr>\n",
              "      <th>26</th>\n",
              "      <td>virtual</td>\n",
              "      <td>399</td>\n",
              "      <td>0.0399</td>\n",
              "    </tr>\n",
              "    <tr>\n",
              "      <th>27</th>\n",
              "      <td>framework</td>\n",
              "      <td>366</td>\n",
              "      <td>0.0366</td>\n",
              "    </tr>\n",
              "    <tr>\n",
              "      <th>28</th>\n",
              "      <td>analyst</td>\n",
              "      <td>354</td>\n",
              "      <td>0.0354</td>\n",
              "    </tr>\n",
              "    <tr>\n",
              "      <th>29</th>\n",
              "      <td>server</td>\n",
              "      <td>347</td>\n",
              "      <td>0.0347</td>\n",
              "    </tr>\n",
              "    <tr>\n",
              "      <th>30</th>\n",
              "      <td>windows</td>\n",
              "      <td>334</td>\n",
              "      <td>0.0334</td>\n",
              "    </tr>\n",
              "    <tr>\n",
              "      <th>31</th>\n",
              "      <td>sql</td>\n",
              "      <td>286</td>\n",
              "      <td>0.0286</td>\n",
              "    </tr>\n",
              "    <tr>\n",
              "      <th>32</th>\n",
              "      <td>logistic</td>\n",
              "      <td>267</td>\n",
              "      <td>0.0267</td>\n",
              "    </tr>\n",
              "    <tr>\n",
              "      <th>33</th>\n",
              "      <td>script</td>\n",
              "      <td>259</td>\n",
              "      <td>0.0259</td>\n",
              "    </tr>\n",
              "    <tr>\n",
              "      <th>34</th>\n",
              "      <td>lifecycle</td>\n",
              "      <td>243</td>\n",
              "      <td>0.0243</td>\n",
              "    </tr>\n",
              "    <tr>\n",
              "      <th>35</th>\n",
              "      <td>forecasting</td>\n",
              "      <td>243</td>\n",
              "      <td>0.0243</td>\n",
              "    </tr>\n",
              "    <tr>\n",
              "      <th>36</th>\n",
              "      <td>python</td>\n",
              "      <td>239</td>\n",
              "      <td>0.0239</td>\n",
              "    </tr>\n",
              "    <tr>\n",
              "      <th>37</th>\n",
              "      <td>java</td>\n",
              "      <td>236</td>\n",
              "      <td>0.0236</td>\n",
              "    </tr>\n",
              "    <tr>\n",
              "      <th>38</th>\n",
              "      <td>r</td>\n",
              "      <td>209</td>\n",
              "      <td>0.0209</td>\n",
              "    </tr>\n",
              "    <tr>\n",
              "      <th>39</th>\n",
              "      <td>restful</td>\n",
              "      <td>199</td>\n",
              "      <td>0.0199</td>\n",
              "    </tr>\n",
              "    <tr>\n",
              "      <th>40</th>\n",
              "      <td>stack</td>\n",
              "      <td>167</td>\n",
              "      <td>0.0167</td>\n",
              "    </tr>\n",
              "    <tr>\n",
              "      <th>41</th>\n",
              "      <td>api</td>\n",
              "      <td>164</td>\n",
              "      <td>0.0164</td>\n",
              "    </tr>\n",
              "    <tr>\n",
              "      <th>42</th>\n",
              "      <td>predict</td>\n",
              "      <td>146</td>\n",
              "      <td>0.0146</td>\n",
              "    </tr>\n",
              "    <tr>\n",
              "      <th>43</th>\n",
              "      <td>spring</td>\n",
              "      <td>144</td>\n",
              "      <td>0.0144</td>\n",
              "    </tr>\n",
              "    <tr>\n",
              "      <th>44</th>\n",
              "      <td>javascript</td>\n",
              "      <td>142</td>\n",
              "      <td>0.0142</td>\n",
              "    </tr>\n",
              "    <tr>\n",
              "      <th>45</th>\n",
              "      <td>scientist</td>\n",
              "      <td>123</td>\n",
              "      <td>0.0123</td>\n",
              "    </tr>\n",
              "    <tr>\n",
              "      <th>46</th>\n",
              "      <td>compared</td>\n",
              "      <td>123</td>\n",
              "      <td>0.0123</td>\n",
              "    </tr>\n",
              "    <tr>\n",
              "      <th>47</th>\n",
              "      <td>studio</td>\n",
              "      <td>119</td>\n",
              "      <td>0.0119</td>\n",
              "    </tr>\n",
              "    <tr>\n",
              "      <th>48</th>\n",
              "      <td>linux</td>\n",
              "      <td>113</td>\n",
              "      <td>0.0113</td>\n",
              "    </tr>\n",
              "    <tr>\n",
              "      <th>49</th>\n",
              "      <td>dashboard</td>\n",
              "      <td>107</td>\n",
              "      <td>0.0107</td>\n",
              "    </tr>\n",
              "    <tr>\n",
              "      <th>50</th>\n",
              "      <td>bi</td>\n",
              "      <td>102</td>\n",
              "      <td>0.0102</td>\n",
              "    </tr>\n",
              "    <tr>\n",
              "      <th>51</th>\n",
              "      <td>jira</td>\n",
              "      <td>89</td>\n",
              "      <td>0.0089</td>\n",
              "    </tr>\n",
              "    <tr>\n",
              "      <th>52</th>\n",
              "      <td>prototype</td>\n",
              "      <td>87</td>\n",
              "      <td>0.0087</td>\n",
              "    </tr>\n",
              "    <tr>\n",
              "      <th>53</th>\n",
              "      <td>algorithms</td>\n",
              "      <td>87</td>\n",
              "      <td>0.0087</td>\n",
              "    </tr>\n",
              "    <tr>\n",
              "      <th>54</th>\n",
              "      <td>ai</td>\n",
              "      <td>83</td>\n",
              "      <td>0.0083</td>\n",
              "    </tr>\n",
              "    <tr>\n",
              "      <th>55</th>\n",
              "      <td>react</td>\n",
              "      <td>78</td>\n",
              "      <td>0.0078</td>\n",
              "    </tr>\n",
              "    <tr>\n",
              "      <th>56</th>\n",
              "      <td>net</td>\n",
              "      <td>76</td>\n",
              "      <td>0.0076</td>\n",
              "    </tr>\n",
              "    <tr>\n",
              "      <th>57</th>\n",
              "      <td>cyber</td>\n",
              "      <td>73</td>\n",
              "      <td>0.0073</td>\n",
              "    </tr>\n",
              "    <tr>\n",
              "      <th>58</th>\n",
              "      <td>explaining</td>\n",
              "      <td>72</td>\n",
              "      <td>0.0072</td>\n",
              "    </tr>\n",
              "    <tr>\n",
              "      <th>59</th>\n",
              "      <td>visio</td>\n",
              "      <td>70</td>\n",
              "      <td>0.0070</td>\n",
              "    </tr>\n",
              "  </tbody>\n",
              "</table>\n",
              "</div>\n",
              "      <button class=\"colab-df-convert\" onclick=\"convertToInteractive('df-73118b5b-b7df-424d-8056-e757f80658c5')\"\n",
              "              title=\"Convert this dataframe to an interactive table.\"\n",
              "              style=\"display:none;\">\n",
              "        \n",
              "  <svg xmlns=\"http://www.w3.org/2000/svg\" height=\"24px\"viewBox=\"0 0 24 24\"\n",
              "       width=\"24px\">\n",
              "    <path d=\"M0 0h24v24H0V0z\" fill=\"none\"/>\n",
              "    <path d=\"M18.56 5.44l.94 2.06.94-2.06 2.06-.94-2.06-.94-.94-2.06-.94 2.06-2.06.94zm-11 1L8.5 8.5l.94-2.06 2.06-.94-2.06-.94L8.5 2.5l-.94 2.06-2.06.94zm10 10l.94 2.06.94-2.06 2.06-.94-2.06-.94-.94-2.06-.94 2.06-2.06.94z\"/><path d=\"M17.41 7.96l-1.37-1.37c-.4-.4-.92-.59-1.43-.59-.52 0-1.04.2-1.43.59L10.3 9.45l-7.72 7.72c-.78.78-.78 2.05 0 2.83L4 21.41c.39.39.9.59 1.41.59.51 0 1.02-.2 1.41-.59l7.78-7.78 2.81-2.81c.8-.78.8-2.07 0-2.86zM5.41 20L4 18.59l7.72-7.72 1.47 1.35L5.41 20z\"/>\n",
              "  </svg>\n",
              "      </button>\n",
              "      \n",
              "  <style>\n",
              "    .colab-df-container {\n",
              "      display:flex;\n",
              "      flex-wrap:wrap;\n",
              "      gap: 12px;\n",
              "    }\n",
              "\n",
              "    .colab-df-convert {\n",
              "      background-color: #E8F0FE;\n",
              "      border: none;\n",
              "      border-radius: 50%;\n",
              "      cursor: pointer;\n",
              "      display: none;\n",
              "      fill: #1967D2;\n",
              "      height: 32px;\n",
              "      padding: 0 0 0 0;\n",
              "      width: 32px;\n",
              "    }\n",
              "\n",
              "    .colab-df-convert:hover {\n",
              "      background-color: #E2EBFA;\n",
              "      box-shadow: 0px 1px 2px rgba(60, 64, 67, 0.3), 0px 1px 3px 1px rgba(60, 64, 67, 0.15);\n",
              "      fill: #174EA6;\n",
              "    }\n",
              "\n",
              "    [theme=dark] .colab-df-convert {\n",
              "      background-color: #3B4455;\n",
              "      fill: #D2E3FC;\n",
              "    }\n",
              "\n",
              "    [theme=dark] .colab-df-convert:hover {\n",
              "      background-color: #434B5C;\n",
              "      box-shadow: 0px 1px 3px 1px rgba(0, 0, 0, 0.15);\n",
              "      filter: drop-shadow(0px 1px 2px rgba(0, 0, 0, 0.3));\n",
              "      fill: #FFFFFF;\n",
              "    }\n",
              "  </style>\n",
              "\n",
              "      <script>\n",
              "        const buttonEl =\n",
              "          document.querySelector('#df-73118b5b-b7df-424d-8056-e757f80658c5 button.colab-df-convert');\n",
              "        buttonEl.style.display =\n",
              "          google.colab.kernel.accessAllowed ? 'block' : 'none';\n",
              "\n",
              "        async function convertToInteractive(key) {\n",
              "          const element = document.querySelector('#df-73118b5b-b7df-424d-8056-e757f80658c5');\n",
              "          const dataTable =\n",
              "            await google.colab.kernel.invokeFunction('convertToInteractive',\n",
              "                                                     [key], {});\n",
              "          if (!dataTable) return;\n",
              "\n",
              "          const docLinkHtml = 'Like what you see? Visit the ' +\n",
              "            '<a target=\"_blank\" href=https://colab.research.google.com/notebooks/data_table.ipynb>data table notebook</a>'\n",
              "            + ' to learn more about interactive tables.';\n",
              "          element.innerHTML = '';\n",
              "          dataTable['output_type'] = 'display_data';\n",
              "          await google.colab.output.renderOutput(dataTable, element);\n",
              "          const docLink = document.createElement('div');\n",
              "          docLink.innerHTML = docLinkHtml;\n",
              "          element.appendChild(docLink);\n",
              "        }\n",
              "      </script>\n",
              "    </div>\n",
              "  </div>\n",
              "  "
            ]
          },
          "metadata": {},
          "execution_count": 72
        }
      ]
    },
    {
      "cell_type": "code",
      "source": [
        "keyword_list_after_clean = list(df_tool_top['tool'])"
      ],
      "metadata": {
        "id": "5TBDO7QZZc5E"
      },
      "execution_count": 73,
      "outputs": []
    },
    {
      "cell_type": "code",
      "source": [
        "pretty_print(keyword_list_after_clean)"
      ],
      "metadata": {
        "colab": {
          "base_uri": "https://localhost:8080/"
        },
        "id": "hpcy_oifjFSi",
        "outputId": "36956859-ab07-4bc3-9fa8-2ba15935d60d"
      },
      "execution_count": 74,
      "outputs": [
        {
          "output_type": "stream",
          "name": "stdout",
          "text": [
            "teams, management, planning, development, data, social, research, modelling, inventory, coding, \n",
            "machines, analyzing, database, nothing specified, automation, ms, visualization, optimization, d, methodologies, \n",
            "infrastructure, agile, c, lab, web, media, virtual, framework, analyst, server, \n",
            "windows, sql, logistic, script, lifecycle, forecasting, python, java, r, restful, \n",
            "stack, api, predict, spring, javascript, scientist, compared, studio, linux, dashboard, \n",
            "bi, jira, prototype, algorithms, ai, react, net, cyber, explaining, visio, \n"
          ]
        }
      ]
    },
    {
      "cell_type": "markdown",
      "source": [
        "**Result:**\n",
        "- According to the key word list and the percentage, we can extract many information such as:\n",
        "  - Softskill: teams, management, planning, development\n",
        "  - Hardskill: data, modelling, research, inventory, social, coding, analyzing, machines, optimization, database, visualization, methodologies, automation, virtual, infrastructure, media, lab, web, framework, script, agile, forecasting, server, logistic, lifecycle\n",
        "  - Pogramming languages: Python, r, spring, javascript, scientist, compared, studio, linux, dashboard, bi, jira, prototype, algorithms, ai, react, net, cyber, explaining, visio, "
      ],
      "metadata": {
        "id": "4K1XiHZ8tpBb"
      }
    },
    {
      "cell_type": "markdown",
      "source": [
        "## Support Functions"
      ],
      "metadata": {
        "id": "wpJRfuTmPUzi"
      }
    },
    {
      "cell_type": "code",
      "source": [
        "# Garage collections\n",
        "gc.collect()"
      ],
      "metadata": {
        "colab": {
          "base_uri": "https://localhost:8080/"
        },
        "id": "gN68Wi3NPGWd",
        "outputId": "329c83f5-40f4-435c-c013-f734d676c172"
      },
      "execution_count": 75,
      "outputs": [
        {
          "output_type": "execute_result",
          "data": {
            "text/plain": [
              "1167"
            ]
          },
          "metadata": {},
          "execution_count": 75
        }
      ]
    }
  ]
}